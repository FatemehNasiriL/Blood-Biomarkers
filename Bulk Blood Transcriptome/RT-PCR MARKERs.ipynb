{
 "cells": [
  {
   "cell_type": "code",
   "execution_count": 2,
   "id": "758c78ad-60f1-4de2-99ef-7dce29502c45",
   "metadata": {
    "tags": [],
    "vscode": {
     "languageId": "r"
    }
   },
   "outputs": [
    {
     "data": {
      "text/html": [
       "<style>\n",
       ".list-inline {list-style: none; margin:0; padding: 0}\n",
       ".list-inline>li {display: inline-block}\n",
       ".list-inline>li:not(:last-child)::after {content: \"\\00b7\"; padding: 0 .5ex}\n",
       "</style>\n",
       "<ol class=list-inline><li>39663</li><li>12</li></ol>\n"
      ],
      "text/latex": [
       "\\begin{enumerate*}\n",
       "\\item 39663\n",
       "\\item 12\n",
       "\\end{enumerate*}\n"
      ],
      "text/markdown": [
       "1. 39663\n",
       "2. 12\n",
       "\n",
       "\n"
      ],
      "text/plain": [
       "[1] 39663    12"
      ]
     },
     "metadata": {},
     "output_type": "display_data"
    },
    {
     "data": {
      "text/html": [
       "<style>\n",
       ".list-inline {list-style: none; margin:0; padding: 0}\n",
       ".list-inline>li {display: inline-block}\n",
       ".list-inline>li:not(:last-child)::after {content: \"\\00b7\"; padding: 0 .5ex}\n",
       "</style>\n",
       "<ol class=list-inline><li>39663</li><li>8</li></ol>\n"
      ],
      "text/latex": [
       "\\begin{enumerate*}\n",
       "\\item 39663\n",
       "\\item 8\n",
       "\\end{enumerate*}\n"
      ],
      "text/markdown": [
       "1. 39663\n",
       "2. 8\n",
       "\n",
       "\n"
      ],
      "text/plain": [
       "[1] 39663     8"
      ]
     },
     "metadata": {},
     "output_type": "display_data"
    },
    {
     "data": {
      "text/html": [
       "<style>\n",
       ".list-inline {list-style: none; margin:0; padding: 0}\n",
       ".list-inline>li {display: inline-block}\n",
       ".list-inline>li:not(:last-child)::after {content: \"\\00b7\"; padding: 0 .5ex}\n",
       "</style>\n",
       "<ol class=list-inline><li>16581</li><li>8</li></ol>\n"
      ],
      "text/latex": [
       "\\begin{enumerate*}\n",
       "\\item 16581\n",
       "\\item 8\n",
       "\\end{enumerate*}\n"
      ],
      "text/markdown": [
       "1. 16581\n",
       "2. 8\n",
       "\n",
       "\n"
      ],
      "text/plain": [
       "[1] 16581     8"
      ]
     },
     "metadata": {},
     "output_type": "display_data"
    },
    {
     "data": {
      "text/html": [
       "<table class=\"dataframe\">\n",
       "<caption>A data.frame: 6 × 8</caption>\n",
       "<thead>\n",
       "\t<tr><th></th><th scope=col>pval641</th><th scope=col>FC641</th><th scope=col>baseMean641</th><th scope=col>lfcSE641</th><th scope=col>pval110</th><th scope=col>FC110</th><th scope=col>baseMean110</th><th scope=col>lfcSE110</th></tr>\n",
       "\t<tr><th></th><th scope=col>&lt;dbl&gt;</th><th scope=col>&lt;dbl&gt;</th><th scope=col>&lt;dbl&gt;</th><th scope=col>&lt;dbl&gt;</th><th scope=col>&lt;dbl&gt;</th><th scope=col>&lt;dbl&gt;</th><th scope=col>&lt;dbl&gt;</th><th scope=col>&lt;dbl&gt;</th></tr>\n",
       "</thead>\n",
       "<tbody>\n",
       "\t<tr><th scope=row>A1BG</th><td>0.0213434747</td><td>-0.8539164</td><td>   5.440560</td><td>0.3219830</td><td>0.178717429</td><td>-0.1839214</td><td>78.850310</td><td>0.1136161</td></tr>\n",
       "\t<tr><th scope=row>A1CF</th><td>0.0049613962</td><td> 0.9794048</td><td>  10.683128</td><td>0.3063447</td><td>0.274960101</td><td> 0.4352421</td><td> 6.380028</td><td>0.3245492</td></tr>\n",
       "\t<tr><th scope=row>A2M</th><td>0.6493664834</td><td>-0.1293646</td><td>1268.096057</td><td>0.2146932</td><td>0.146841451</td><td> 0.4157708</td><td>41.067909</td><td>0.2396970</td></tr>\n",
       "\t<tr><th scope=row>A2ML1</th><td>0.0103445995</td><td> 0.7072489</td><td>  16.479937</td><td>0.2411158</td><td>0.004946548</td><td> 0.7672777</td><td>36.093265</td><td>0.2422568</td></tr>\n",
       "\t<tr><th scope=row>A3GALT2</th><td>0.0003460403</td><td> 1.0940383</td><td>  17.347226</td><td>0.2720013</td><td>0.002882060</td><td> 2.0026141</td><td>11.245042</td><td>0.5981626</td></tr>\n",
       "\t<tr><th scope=row>A4GALT</th><td>0.0589380905</td><td>-1.0663099</td><td>   5.851756</td><td>0.4851022</td><td>0.721833019</td><td> 0.3067707</td><td> 3.921329</td><td>0.6392574</td></tr>\n",
       "</tbody>\n",
       "</table>\n"
      ],
      "text/latex": [
       "A data.frame: 6 × 8\n",
       "\\begin{tabular}{r|llllllll}\n",
       "  & pval641 & FC641 & baseMean641 & lfcSE641 & pval110 & FC110 & baseMean110 & lfcSE110\\\\\n",
       "  & <dbl> & <dbl> & <dbl> & <dbl> & <dbl> & <dbl> & <dbl> & <dbl>\\\\\n",
       "\\hline\n",
       "\tA1BG & 0.0213434747 & -0.8539164 &    5.440560 & 0.3219830 & 0.178717429 & -0.1839214 & 78.850310 & 0.1136161\\\\\n",
       "\tA1CF & 0.0049613962 &  0.9794048 &   10.683128 & 0.3063447 & 0.274960101 &  0.4352421 &  6.380028 & 0.3245492\\\\\n",
       "\tA2M & 0.6493664834 & -0.1293646 & 1268.096057 & 0.2146932 & 0.146841451 &  0.4157708 & 41.067909 & 0.2396970\\\\\n",
       "\tA2ML1 & 0.0103445995 &  0.7072489 &   16.479937 & 0.2411158 & 0.004946548 &  0.7672777 & 36.093265 & 0.2422568\\\\\n",
       "\tA3GALT2 & 0.0003460403 &  1.0940383 &   17.347226 & 0.2720013 & 0.002882060 &  2.0026141 & 11.245042 & 0.5981626\\\\\n",
       "\tA4GALT & 0.0589380905 & -1.0663099 &    5.851756 & 0.4851022 & 0.721833019 &  0.3067707 &  3.921329 & 0.6392574\\\\\n",
       "\\end{tabular}\n"
      ],
      "text/markdown": [
       "\n",
       "A data.frame: 6 × 8\n",
       "\n",
       "| <!--/--> | pval641 &lt;dbl&gt; | FC641 &lt;dbl&gt; | baseMean641 &lt;dbl&gt; | lfcSE641 &lt;dbl&gt; | pval110 &lt;dbl&gt; | FC110 &lt;dbl&gt; | baseMean110 &lt;dbl&gt; | lfcSE110 &lt;dbl&gt; |\n",
       "|---|---|---|---|---|---|---|---|---|\n",
       "| A1BG | 0.0213434747 | -0.8539164 |    5.440560 | 0.3219830 | 0.178717429 | -0.1839214 | 78.850310 | 0.1136161 |\n",
       "| A1CF | 0.0049613962 |  0.9794048 |   10.683128 | 0.3063447 | 0.274960101 |  0.4352421 |  6.380028 | 0.3245492 |\n",
       "| A2M | 0.6493664834 | -0.1293646 | 1268.096057 | 0.2146932 | 0.146841451 |  0.4157708 | 41.067909 | 0.2396970 |\n",
       "| A2ML1 | 0.0103445995 |  0.7072489 |   16.479937 | 0.2411158 | 0.004946548 |  0.7672777 | 36.093265 | 0.2422568 |\n",
       "| A3GALT2 | 0.0003460403 |  1.0940383 |   17.347226 | 0.2720013 | 0.002882060 |  2.0026141 | 11.245042 | 0.5981626 |\n",
       "| A4GALT | 0.0589380905 | -1.0663099 |    5.851756 | 0.4851022 | 0.721833019 |  0.3067707 |  3.921329 | 0.6392574 |\n",
       "\n"
      ],
      "text/plain": [
       "        pval641      FC641      baseMean641 lfcSE641  pval110     FC110     \n",
       "A1BG    0.0213434747 -0.8539164    5.440560 0.3219830 0.178717429 -0.1839214\n",
       "A1CF    0.0049613962  0.9794048   10.683128 0.3063447 0.274960101  0.4352421\n",
       "A2M     0.6493664834 -0.1293646 1268.096057 0.2146932 0.146841451  0.4157708\n",
       "A2ML1   0.0103445995  0.7072489   16.479937 0.2411158 0.004946548  0.7672777\n",
       "A3GALT2 0.0003460403  1.0940383   17.347226 0.2720013 0.002882060  2.0026141\n",
       "A4GALT  0.0589380905 -1.0663099    5.851756 0.4851022 0.721833019  0.3067707\n",
       "        baseMean110 lfcSE110 \n",
       "A1BG    78.850310   0.1136161\n",
       "A1CF     6.380028   0.3245492\n",
       "A2M     41.067909   0.2396970\n",
       "A2ML1   36.093265   0.2422568\n",
       "A3GALT2 11.245042   0.5981626\n",
       "A4GALT   3.921329   0.6392574"
      ]
     },
     "metadata": {},
     "output_type": "display_data"
    }
   ],
   "source": [
    "m.table<- read.table(file = \"dseqmerged.txt\",header=T)\n",
    "m2.table<-m.table[,c(1:4,9:12)]\n",
    "mt<-na.omit(m2.table) \n",
    "dim(m.table)\n",
    "dim(m2.table)\n",
    "dim(mt)\n",
    "head(mt)"
   ]
  },
  {
   "cell_type": "code",
   "execution_count": null,
   "id": "81780441-98a8-4d23-8e08-03a0df30bf0e",
   "metadata": {
    "tags": [],
    "vscode": {
     "languageId": "r"
    }
   },
   "outputs": [],
   "source": [
    "# Marker investigation\n",
    "library(dplyr)\n",
    "sdirection_mt <- mt %>%\n",
    "  filter(\n",
    "    (FC641 > 0 & FC110 > 0) | \n",
    "    (FC641 < 0 & FC110 < 0)\n",
    "  )\n",
    "\n",
    "sig_mt <- sdirection_mt %>%\n",
    "  filter(\n",
    "    (pval641 < 0.05 & pval110 < 0.05 )\n",
    "  )\n",
    "Filtered_mt <- sig_mt %>%\n",
    "  filter(\n",
    "    (FC641 >= 1 & FC110 >= 1 ) | \n",
    "    (FC641 <= -1 & FC110 <= -1)\n",
    "  )\n",
    "x <- Filtered_mt %>%\n",
    "  filter(\n",
    "    (pval641 < 0.01 & pval110 < 0.01),\n",
    "    (FC641 >= 2 & FC110 >= 2 ) | \n",
    "    (FC641 <= -2 & FC110 <= -2 )  )\n",
    "x2 <- Filtered_mt %>%\n",
    "  filter(\n",
    "    (pval641 < 0.01 & pval110 < 0.01),\n",
    "    (FC641 >= 2 & FC110 >= 2 ) | \n",
    "    (FC641 <= -2 & FC110 <= -2 ),\n",
    "    (baseMean641> 20 & baseMean110>20),\n",
    "    (lfcSE641<0.5 & lfcSE110<0.5)  )\n",
    "#Negative Log2 Fold Change: downregulation in the \"Severe\" condition.\n",
    "downincovidx2<- x2 %>%\n",
    "  filter(FC641 <= -2 & FC110 <= -2 )\n",
    "#Positive Log2 Fold Change: upregulation in the \"Severe\" condition.\n",
    "upincovidx2<- x2 %>%\n",
    "  filter(FC641 >= 2 & FC110 >= 2 )"
   ]
  },
  {
   "cell_type": "code",
   "execution_count": 13,
   "id": "f95c47a4-4933-47c7-aa72-138f40f916bf",
   "metadata": {
    "tags": [],
    "vscode": {
     "languageId": "r"
    }
   },
   "outputs": [
    {
     "name": "stdout",
     "output_type": "stream",
     "text": [
      "[1] \"common gene in all\"\n"
     ]
    },
    {
     "data": {
      "text/html": [
       "<style>\n",
       ".list-inline {list-style: none; margin:0; padding: 0}\n",
       ".list-inline>li {display: inline-block}\n",
       ".list-inline>li:not(:last-child)::after {content: \"\\00b7\"; padding: 0 .5ex}\n",
       "</style>\n",
       "<ol class=list-inline><li>'GPR84'</li><li>'LRRN3'</li><li>'MCEMP1'</li><li>'MMP9'</li><li>'MS4A4A'</li><li>'SERPING1'</li></ol>\n"
      ],
      "text/latex": [
       "\\begin{enumerate*}\n",
       "\\item 'GPR84'\n",
       "\\item 'LRRN3'\n",
       "\\item 'MCEMP1'\n",
       "\\item 'MMP9'\n",
       "\\item 'MS4A4A'\n",
       "\\item 'SERPING1'\n",
       "\\end{enumerate*}\n"
      ],
      "text/markdown": [
       "1. 'GPR84'\n",
       "2. 'LRRN3'\n",
       "3. 'MCEMP1'\n",
       "4. 'MMP9'\n",
       "5. 'MS4A4A'\n",
       "6. 'SERPING1'\n",
       "\n",
       "\n"
      ],
      "text/plain": [
       "[1] \"GPR84\"    \"LRRN3\"    \"MCEMP1\"   \"MMP9\"     \"MS4A4A\"   \"SERPING1\""
      ]
     },
     "metadata": {},
     "output_type": "display_data"
    },
    {
     "name": "stdout",
     "output_type": "stream",
     "text": [
      "[1] \"unique gene in COVID-19\"\n"
     ]
    },
    {
     "data": {
      "text/html": [
       "<style>\n",
       ".list-inline {list-style: none; margin:0; padding: 0}\n",
       ".list-inline>li {display: inline-block}\n",
       ".list-inline>li:not(:last-child)::after {content: \"\\00b7\"; padding: 0 .5ex}\n",
       "</style>\n",
       "<ol class=list-inline><li>'GALNT14'</li><li>'IGFBP2'</li><li>'INSC'</li><li>'ITGA7'</li><li>'MAOB'</li><li>'MZB1'</li><li>'NRN1'</li><li>'PPARG'</li><li>'PTGFR'</li><li>'SDC1'</li><li>'SPATC1'</li><li>'ZNF608'</li></ol>\n"
      ],
      "text/latex": [
       "\\begin{enumerate*}\n",
       "\\item 'GALNT14'\n",
       "\\item 'IGFBP2'\n",
       "\\item 'INSC'\n",
       "\\item 'ITGA7'\n",
       "\\item 'MAOB'\n",
       "\\item 'MZB1'\n",
       "\\item 'NRN1'\n",
       "\\item 'PPARG'\n",
       "\\item 'PTGFR'\n",
       "\\item 'SDC1'\n",
       "\\item 'SPATC1'\n",
       "\\item 'ZNF608'\n",
       "\\end{enumerate*}\n"
      ],
      "text/markdown": [
       "1. 'GALNT14'\n",
       "2. 'IGFBP2'\n",
       "3. 'INSC'\n",
       "4. 'ITGA7'\n",
       "5. 'MAOB'\n",
       "6. 'MZB1'\n",
       "7. 'NRN1'\n",
       "8. 'PPARG'\n",
       "9. 'PTGFR'\n",
       "10. 'SDC1'\n",
       "11. 'SPATC1'\n",
       "12. 'ZNF608'\n",
       "\n",
       "\n"
      ],
      "text/plain": [
       " [1] \"GALNT14\" \"IGFBP2\"  \"INSC\"    \"ITGA7\"   \"MAOB\"    \"MZB1\"    \"NRN1\"   \n",
       " [8] \"PPARG\"   \"PTGFR\"   \"SDC1\"    \"SPATC1\"  \"ZNF608\" "
      ]
     },
     "metadata": {},
     "output_type": "display_data"
    }
   ],
   "source": [
    "InfvsCon<- read.table(file = \"GSE163151/DEseq All influenza_vs_control result.txt\",header=T,row.names=1,sep=\",\")\n",
    "BacvsCon<-read.table(file = \"GSE163151/DEseq All bacterial_vs_control result.txt\",header=T,row.names=1,sep=\",\")\n",
    "\n",
    "genes_in_infDEG <- rownames(x2)[rownames(x2) %in% rownames(InfvsCon)]\n",
    "length(genes_in_infDEG)\n",
    "genes_in_bacDEG <- rownames(x2)[rownames(x2) %in% rownames(BacvsCon)]\n",
    "length(genes_in_bacDEG)\n",
    "\n",
    "inf <- InfvsCon %>%\n",
    "  filter  ((padj < 0.05 ) ,\n",
    "           (abs(log2FoldChange)>1)\n",
    "           )\n",
    "dim(inf)\n",
    "bac <- BacvsCon %>%\n",
    "  filter  ((padj < 0.05 ) ,\n",
    "           (abs(log2FoldChange)>1)\n",
    "           )\n",
    "genes_in_infDEG <- rownames(x2)[rownames(x2) %in% rownames(inf)]\n",
    "genes_in_bacDEG <- rownames(x2)[rownames(x2) %in% rownames(bac)]\n",
    "# common genes among x2, inf, and bac\n",
    "common_x2_inf <- intersect(rownames(x2), rownames(inf))\n",
    "common_all <- intersect(common_x2_inf, rownames(bac))\n",
    "print(\"common gene in all\")\n",
    "common_all\n",
    "# Genes that are in x2 and not in inf or bac\n",
    "combined_inf_bac <- union(rownames(inf), rownames(bac))\n",
    "unique_x2 <- setdiff(rownames(x2), combined_inf_bac)\n",
    "print(\"unique gene in COVID-19\")\n",
    "unique_x2"
   ]
  },
  {
   "cell_type": "code",
   "execution_count": 14,
   "id": "1a537644-765d-479a-b2d8-ac7dc3854b14",
   "metadata": {
    "tags": [],
    "vscode": {
     "languageId": "r"
    }
   },
   "outputs": [
    {
     "data": {
      "text/html": [
       "<style>\n",
       ".list-inline {list-style: none; margin:0; padding: 0}\n",
       ".list-inline>li {display: inline-block}\n",
       ".list-inline>li:not(:last-child)::after {content: \"\\00b7\"; padding: 0 .5ex}\n",
       "</style>\n",
       "<ol class=list-inline><li>3043</li><li>1</li></ol>\n"
      ],
      "text/latex": [
       "\\begin{enumerate*}\n",
       "\\item 3043\n",
       "\\item 1\n",
       "\\end{enumerate*}\n"
      ],
      "text/markdown": [
       "1. 3043\n",
       "2. 1\n",
       "\n",
       "\n"
      ],
      "text/plain": [
       "[1] 3043    1"
      ]
     },
     "metadata": {},
     "output_type": "display_data"
    },
    {
     "data": {
      "text/html": [
       "<style>\n",
       ".list-inline {list-style: none; margin:0; padding: 0}\n",
       ".list-inline>li {display: inline-block}\n",
       ".list-inline>li:not(:last-child)::after {content: \"\\00b7\"; padding: 0 .5ex}\n",
       "</style>\n",
       "<ol class=list-inline><li>'ANKRD22'</li><li>'C1QC'</li><li>'HP'</li><li>'IGFBP2'</li><li>'MAOB'</li><li>'MCEMP1'</li><li>'MMP9'</li><li>'MZB1'</li><li>'SERPING1'</li></ol>\n"
      ],
      "text/latex": [
       "\\begin{enumerate*}\n",
       "\\item 'ANKRD22'\n",
       "\\item 'C1QC'\n",
       "\\item 'HP'\n",
       "\\item 'IGFBP2'\n",
       "\\item 'MAOB'\n",
       "\\item 'MCEMP1'\n",
       "\\item 'MMP9'\n",
       "\\item 'MZB1'\n",
       "\\item 'SERPING1'\n",
       "\\end{enumerate*}\n"
      ],
      "text/markdown": [
       "1. 'ANKRD22'\n",
       "2. 'C1QC'\n",
       "3. 'HP'\n",
       "4. 'IGFBP2'\n",
       "5. 'MAOB'\n",
       "6. 'MCEMP1'\n",
       "7. 'MMP9'\n",
       "8. 'MZB1'\n",
       "9. 'SERPING1'\n",
       "\n",
       "\n"
      ],
      "text/plain": [
       "[1] \"ANKRD22\"  \"C1QC\"     \"HP\"       \"IGFBP2\"   \"MAOB\"     \"MCEMP1\"   \"MMP9\"    \n",
       "[8] \"MZB1\"     \"SERPING1\""
      ]
     },
     "metadata": {},
     "output_type": "display_data"
    },
    {
     "data": {
      "text/html": [
       "<style>\n",
       ".list-inline {list-style: none; margin:0; padding: 0}\n",
       ".list-inline>li {display: inline-block}\n",
       ".list-inline>li:not(:last-child)::after {content: \"\\00b7\"; padding: 0 .5ex}\n",
       "</style>\n",
       "<ol class=list-inline><li>'IGFBP2'</li><li>'MAOB'</li><li>'MZB1'</li></ol>\n"
      ],
      "text/latex": [
       "\\begin{enumerate*}\n",
       "\\item 'IGFBP2'\n",
       "\\item 'MAOB'\n",
       "\\item 'MZB1'\n",
       "\\end{enumerate*}\n"
      ],
      "text/markdown": [
       "1. 'IGFBP2'\n",
       "2. 'MAOB'\n",
       "3. 'MZB1'\n",
       "\n",
       "\n"
      ],
      "text/plain": [
       "[1] \"IGFBP2\" \"MAOB\"   \"MZB1\"  "
      ]
     },
     "metadata": {},
     "output_type": "display_data"
    }
   ],
   "source": [
    "# Proteomic validation\n",
    "protein_genes<- read.table(file = \"protein_genes.txt\",header=F)\n",
    "dim(protein_genes)\n",
    "validated_gene<-intersect(rownames(x2), protein_genes[,1])\n",
    "validated_gene"
   ]
  },
  {
   "cell_type": "code",
   "execution_count": 23,
   "id": "54edc6d5-2b0a-4e0c-ba8a-1177cc4240e2",
   "metadata": {
    "tags": [],
    "vscode": {
     "languageId": "r"
    }
   },
   "outputs": [
    {
     "data": {
      "text/html": [
       "<table class=\"dataframe\">\n",
       "<caption>A data.frame: 12 × 8</caption>\n",
       "<thead>\n",
       "\t<tr><th></th><th scope=col>pval641</th><th scope=col>FC641</th><th scope=col>baseMean641</th><th scope=col>lfcSE641</th><th scope=col>pval110</th><th scope=col>FC110</th><th scope=col>baseMean110</th><th scope=col>lfcSE110</th></tr>\n",
       "\t<tr><th></th><th scope=col>&lt;dbl&gt;</th><th scope=col>&lt;dbl&gt;</th><th scope=col>&lt;dbl&gt;</th><th scope=col>&lt;dbl&gt;</th><th scope=col>&lt;dbl&gt;</th><th scope=col>&lt;dbl&gt;</th><th scope=col>&lt;dbl&gt;</th><th scope=col>&lt;dbl&gt;</th></tr>\n",
       "</thead>\n",
       "<tbody>\n",
       "\t<tr><th scope=row>GALNT14</th><td>1.927596e-10</td><td>2.022375</td><td>273.68691</td><td>0.2911207</td><td>1.824760e-21</td><td>3.504879</td><td> 532.88721</td><td>0.3462060</td></tr>\n",
       "\t<tr><th scope=row>IGFBP2</th><td>1.267201e-07</td><td>2.308800</td><td> 34.17039</td><td>0.3967617</td><td>1.914795e-06</td><td>2.592249</td><td> 121.25824</td><td>0.4965969</td></tr>\n",
       "\t<tr><th scope=row>INSC</th><td>4.799610e-19</td><td>2.278782</td><td> 32.37208</td><td>0.2364258</td><td>3.768578e-12</td><td>2.464576</td><td>  65.72010</td><td>0.3296101</td></tr>\n",
       "\t<tr><th scope=row>ITGA7</th><td>9.470411e-14</td><td>2.549581</td><td> 58.86397</td><td>0.3154832</td><td>2.752413e-24</td><td>4.908586</td><td> 663.55402</td><td>0.4518599</td></tr>\n",
       "\t<tr><th scope=row>MAOB</th><td>7.672572e-07</td><td>2.164309</td><td> 23.29413</td><td>0.3960549</td><td>7.041021e-15</td><td>3.940736</td><td>  95.14941</td><td>0.4727556</td></tr>\n",
       "\t<tr><th scope=row>MZB1</th><td>7.914912e-15</td><td>2.104174</td><td>274.89580</td><td>0.2499820</td><td>6.015483e-21</td><td>3.466877</td><td>4879.44531</td><td>0.3470633</td></tr>\n",
       "\t<tr><th scope=row>NRN1</th><td>1.669486e-07</td><td>2.035167</td><td> 39.39361</td><td>0.3529286</td><td>4.424443e-09</td><td>2.484141</td><td> 118.07625</td><td>0.3896391</td></tr>\n",
       "\t<tr><th scope=row>PPARG</th><td>9.010345e-13</td><td>2.156509</td><td> 46.51096</td><td>0.2782294</td><td>8.714037e-16</td><td>3.312816</td><td> 180.77109</td><td>0.3852625</td></tr>\n",
       "\t<tr><th scope=row>PTGFR</th><td>1.234349e-14</td><td>2.391181</td><td> 39.57852</td><td>0.2860539</td><td>1.053493e-08</td><td>2.925424</td><td>  87.66007</td><td>0.4699926</td></tr>\n",
       "\t<tr><th scope=row>SDC1</th><td>1.617205e-14</td><td>3.206418</td><td> 40.08614</td><td>0.3853104</td><td>1.757104e-29</td><td>5.682110</td><td> 457.06630</td><td>0.4708769</td></tr>\n",
       "\t<tr><th scope=row>SPATC1</th><td>9.984040e-16</td><td>3.148817</td><td> 33.21894</td><td>0.3622122</td><td>6.439814e-14</td><td>3.810466</td><td>  99.55739</td><td>0.4738746</td></tr>\n",
       "\t<tr><th scope=row>ZNF608</th><td>6.182017e-10</td><td>2.081660</td><td>524.16363</td><td>0.3079757</td><td>2.996625e-16</td><td>4.344472</td><td>1192.08390</td><td>0.4974944</td></tr>\n",
       "</tbody>\n",
       "</table>\n"
      ],
      "text/latex": [
       "A data.frame: 12 × 8\n",
       "\\begin{tabular}{r|llllllll}\n",
       "  & pval641 & FC641 & baseMean641 & lfcSE641 & pval110 & FC110 & baseMean110 & lfcSE110\\\\\n",
       "  & <dbl> & <dbl> & <dbl> & <dbl> & <dbl> & <dbl> & <dbl> & <dbl>\\\\\n",
       "\\hline\n",
       "\tGALNT14 & 1.927596e-10 & 2.022375 & 273.68691 & 0.2911207 & 1.824760e-21 & 3.504879 &  532.88721 & 0.3462060\\\\\n",
       "\tIGFBP2 & 1.267201e-07 & 2.308800 &  34.17039 & 0.3967617 & 1.914795e-06 & 2.592249 &  121.25824 & 0.4965969\\\\\n",
       "\tINSC & 4.799610e-19 & 2.278782 &  32.37208 & 0.2364258 & 3.768578e-12 & 2.464576 &   65.72010 & 0.3296101\\\\\n",
       "\tITGA7 & 9.470411e-14 & 2.549581 &  58.86397 & 0.3154832 & 2.752413e-24 & 4.908586 &  663.55402 & 0.4518599\\\\\n",
       "\tMAOB & 7.672572e-07 & 2.164309 &  23.29413 & 0.3960549 & 7.041021e-15 & 3.940736 &   95.14941 & 0.4727556\\\\\n",
       "\tMZB1 & 7.914912e-15 & 2.104174 & 274.89580 & 0.2499820 & 6.015483e-21 & 3.466877 & 4879.44531 & 0.3470633\\\\\n",
       "\tNRN1 & 1.669486e-07 & 2.035167 &  39.39361 & 0.3529286 & 4.424443e-09 & 2.484141 &  118.07625 & 0.3896391\\\\\n",
       "\tPPARG & 9.010345e-13 & 2.156509 &  46.51096 & 0.2782294 & 8.714037e-16 & 3.312816 &  180.77109 & 0.3852625\\\\\n",
       "\tPTGFR & 1.234349e-14 & 2.391181 &  39.57852 & 0.2860539 & 1.053493e-08 & 2.925424 &   87.66007 & 0.4699926\\\\\n",
       "\tSDC1 & 1.617205e-14 & 3.206418 &  40.08614 & 0.3853104 & 1.757104e-29 & 5.682110 &  457.06630 & 0.4708769\\\\\n",
       "\tSPATC1 & 9.984040e-16 & 3.148817 &  33.21894 & 0.3622122 & 6.439814e-14 & 3.810466 &   99.55739 & 0.4738746\\\\\n",
       "\tZNF608 & 6.182017e-10 & 2.081660 & 524.16363 & 0.3079757 & 2.996625e-16 & 4.344472 & 1192.08390 & 0.4974944\\\\\n",
       "\\end{tabular}\n"
      ],
      "text/markdown": [
       "\n",
       "A data.frame: 12 × 8\n",
       "\n",
       "| <!--/--> | pval641 &lt;dbl&gt; | FC641 &lt;dbl&gt; | baseMean641 &lt;dbl&gt; | lfcSE641 &lt;dbl&gt; | pval110 &lt;dbl&gt; | FC110 &lt;dbl&gt; | baseMean110 &lt;dbl&gt; | lfcSE110 &lt;dbl&gt; |\n",
       "|---|---|---|---|---|---|---|---|---|\n",
       "| GALNT14 | 1.927596e-10 | 2.022375 | 273.68691 | 0.2911207 | 1.824760e-21 | 3.504879 |  532.88721 | 0.3462060 |\n",
       "| IGFBP2 | 1.267201e-07 | 2.308800 |  34.17039 | 0.3967617 | 1.914795e-06 | 2.592249 |  121.25824 | 0.4965969 |\n",
       "| INSC | 4.799610e-19 | 2.278782 |  32.37208 | 0.2364258 | 3.768578e-12 | 2.464576 |   65.72010 | 0.3296101 |\n",
       "| ITGA7 | 9.470411e-14 | 2.549581 |  58.86397 | 0.3154832 | 2.752413e-24 | 4.908586 |  663.55402 | 0.4518599 |\n",
       "| MAOB | 7.672572e-07 | 2.164309 |  23.29413 | 0.3960549 | 7.041021e-15 | 3.940736 |   95.14941 | 0.4727556 |\n",
       "| MZB1 | 7.914912e-15 | 2.104174 | 274.89580 | 0.2499820 | 6.015483e-21 | 3.466877 | 4879.44531 | 0.3470633 |\n",
       "| NRN1 | 1.669486e-07 | 2.035167 |  39.39361 | 0.3529286 | 4.424443e-09 | 2.484141 |  118.07625 | 0.3896391 |\n",
       "| PPARG | 9.010345e-13 | 2.156509 |  46.51096 | 0.2782294 | 8.714037e-16 | 3.312816 |  180.77109 | 0.3852625 |\n",
       "| PTGFR | 1.234349e-14 | 2.391181 |  39.57852 | 0.2860539 | 1.053493e-08 | 2.925424 |   87.66007 | 0.4699926 |\n",
       "| SDC1 | 1.617205e-14 | 3.206418 |  40.08614 | 0.3853104 | 1.757104e-29 | 5.682110 |  457.06630 | 0.4708769 |\n",
       "| SPATC1 | 9.984040e-16 | 3.148817 |  33.21894 | 0.3622122 | 6.439814e-14 | 3.810466 |   99.55739 | 0.4738746 |\n",
       "| ZNF608 | 6.182017e-10 | 2.081660 | 524.16363 | 0.3079757 | 2.996625e-16 | 4.344472 | 1192.08390 | 0.4974944 |\n",
       "\n"
      ],
      "text/plain": [
       "        pval641      FC641    baseMean641 lfcSE641  pval110      FC110   \n",
       "GALNT14 1.927596e-10 2.022375 273.68691   0.2911207 1.824760e-21 3.504879\n",
       "IGFBP2  1.267201e-07 2.308800  34.17039   0.3967617 1.914795e-06 2.592249\n",
       "INSC    4.799610e-19 2.278782  32.37208   0.2364258 3.768578e-12 2.464576\n",
       "ITGA7   9.470411e-14 2.549581  58.86397   0.3154832 2.752413e-24 4.908586\n",
       "MAOB    7.672572e-07 2.164309  23.29413   0.3960549 7.041021e-15 3.940736\n",
       "MZB1    7.914912e-15 2.104174 274.89580   0.2499820 6.015483e-21 3.466877\n",
       "NRN1    1.669486e-07 2.035167  39.39361   0.3529286 4.424443e-09 2.484141\n",
       "PPARG   9.010345e-13 2.156509  46.51096   0.2782294 8.714037e-16 3.312816\n",
       "PTGFR   1.234349e-14 2.391181  39.57852   0.2860539 1.053493e-08 2.925424\n",
       "SDC1    1.617205e-14 3.206418  40.08614   0.3853104 1.757104e-29 5.682110\n",
       "SPATC1  9.984040e-16 3.148817  33.21894   0.3622122 6.439814e-14 3.810466\n",
       "ZNF608  6.182017e-10 2.081660 524.16363   0.3079757 2.996625e-16 4.344472\n",
       "        baseMean110 lfcSE110 \n",
       "GALNT14  532.88721  0.3462060\n",
       "IGFBP2   121.25824  0.4965969\n",
       "INSC      65.72010  0.3296101\n",
       "ITGA7    663.55402  0.4518599\n",
       "MAOB      95.14941  0.4727556\n",
       "MZB1    4879.44531  0.3470633\n",
       "NRN1     118.07625  0.3896391\n",
       "PPARG    180.77109  0.3852625\n",
       "PTGFR     87.66007  0.4699926\n",
       "SDC1     457.06630  0.4708769\n",
       "SPATC1    99.55739  0.4738746\n",
       "ZNF608  1192.08390  0.4974944"
      ]
     },
     "metadata": {},
     "output_type": "display_data"
    }
   ],
   "source": [
    "markers <- c('GALNT14', 'IGFBP2', 'INSC', 'ITGA7', 'MAOB', 'MZB1', 'NRN1', 'PPARG', 'PTGFR', 'SDC1', 'SPATC1', 'ZNF608')\n",
    "x2[markers,]\n"
   ]
  },
  {
   "cell_type": "code",
   "execution_count": null,
   "id": "efc69404-9a5d-492e-b28c-6e0b30df7b8c",
   "metadata": {
    "vscode": {
     "languageId": "r"
    }
   },
   "outputs": [],
   "source": [
    "**Annotation**"
   ]
  },
  {
   "cell_type": "code",
   "execution_count": 18,
   "id": "320e72bd-8616-4127-a5a1-21564a5a50b5",
   "metadata": {
    "tags": [],
    "vscode": {
     "languageId": "r"
    }
   },
   "outputs": [
    {
     "name": "stderr",
     "output_type": "stream",
     "text": [
      "Warning message in .deprecatedColsMessage():\n",
      "\"Accessing gene location information via 'CHR','CHRLOC','CHRLOCEND' is\n",
      "  deprecated. Please use a range based accessor like genes(), or select()\n",
      "  with columns values like TXCHROM and TXSTART on a TxDb or OrganismDb\n",
      "  object instead.\"\n",
      "'select()' returned 1:many mapping between keys and columns\n",
      "\n"
     ]
    },
    {
     "name": "stdout",
     "output_type": "stream",
     "text": [
      "    SYMBOL                                         GENENAME    UNIPROT CHR\n",
      "1  GALNT14 polypeptide N-acetylgalactosaminyltransferase 14     Q96FL9   2\n",
      "2  GALNT14 polypeptide N-acetylgalactosaminyltransferase 14     B7Z5C5   2\n",
      "3   IGFBP2     insulin like growth factor binding protein 2     P18065   2\n",
      "4   IGFBP2     insulin like growth factor binding protein 2     C9JMY1   2\n",
      "5     INSC         INSC spindle orientation adaptor protein     Q1MX18  11\n",
      "6    ITGA7                         integrin subunit alpha 7     Q13683  12\n",
      "7    ITGA7                         integrin subunit alpha 7     Q4LE35  12\n",
      "8     MAOB                              monoamine oxidase B     P27338   X\n",
      "9     MAOB                              monoamine oxidase B     B7Z242   X\n",
      "10    MZB1     marginal zone B and B1 cell specific protein     Q8WU39   5\n",
      "11    NRN1                                       neuritin 1     Q9NPD7   6\n",
      "12    NRN1                                       neuritin 1 A0A087WWT2   6\n",
      "13   PPARG peroxisome proliferator activated receptor gamma     E9PFX5   3\n",
      "14   PPARG peroxisome proliferator activated receptor gamma     Q4W448   3\n",
      "15   PPARG peroxisome proliferator activated receptor gamma     D2KUA6   3\n",
      "16   PPARG peroxisome proliferator activated receptor gamma     P37231   3\n",
      "17   PTGFR                         prostaglandin F receptor     P43088   1\n",
      "18    SDC1                                       syndecan 1     P18827   2\n",
      "19  SPATC1       spermatogenesis and centriole associated 1 A0A140VJV4   8\n",
      "20  SPATC1       spermatogenesis and centriole associated 1     Q76KD6   8\n",
      "21  ZNF608                          zinc finger protein 608     B3KPE6   5\n",
      "22  ZNF608                          zinc finger protein 608     Q9ULD9   5\n"
     ]
    }
   ],
   "source": [
    "library(org.Hs.eg.db)\n",
    "library(AnnotationDbi)\n",
    "gene_symbols <- markers \n",
    "# Expanded annotations :\"ENTREZID\", \"SYMBOL\", \"GENENAME\", \"CHR\", \"MAP\", \"GO\", \"ENSEMBL\", \"UNIPROT\"\n",
    "result <- select(org.Hs.eg.db, \n",
    "                          keys = gene_symbols, \n",
    "                          columns = c( \"SYMBOL\", \"GENENAME\",\"UNIPROT\", \"CHR\"),\n",
    "                          keytype = \"SYMBOL\")\n",
    "print(result)\n"
   ]
  },
  {
   "cell_type": "code",
   "execution_count": null,
   "id": "be620c46-245c-4195-9e5d-f7beb96a8ff5",
   "metadata": {
    "tags": [],
    "vscode": {
     "languageId": "r"
    }
   },
   "outputs": [],
   "source": [
    "GO_result <- select(org.Hs.eg.db, \n",
    "                          keys = gene_symbols, \n",
    "                          columns = c( \"SYMBOL\", \"GO\"),\n",
    "                          keytype = \"SYMBOL\")\n",
    "print(GO_result)"
   ]
  }
 ],
 "metadata": {
  "kernelspec": {
   "display_name": "R",
   "language": "R",
   "name": "ir"
  },
  "language_info": {
   "codemirror_mode": "r",
   "file_extension": ".r",
   "mimetype": "text/x-r-source",
   "name": "R",
   "pygments_lexer": "r",
   "version": "4.3.1"
  }
 },
 "nbformat": 4,
 "nbformat_minor": 5
}
