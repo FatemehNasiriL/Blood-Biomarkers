{
 "cells": [
  {
   "cell_type": "markdown",
   "id": "0050cbb2-d4bb-4cdc-b605-fe7649949a38",
   "metadata": {},
   "source": [
    "** Differential Methylation Analysis of GSE152641 Data**"
   ]
  },
  {
   "cell_type": "code",
   "execution_count": null,
   "id": "69fb4ae2",
   "metadata": {
    "vscode": {
     "languageId": "r"
    }
   },
   "outputs": [],
   "source": [
    "#dependencies\n",
    "library(GEOquery)\n",
    "library(DESeq2)\n",
    "library(edgeR)\n",
    "library(ggplot2)"
   ]
  },
  {
   "cell_type": "code",
   "execution_count": 1,
   "id": "15fead32-3ce8-483a-b488-fd9187d91834",
   "metadata": {
    "tags": [],
    "vscode": {
     "languageId": "r"
    }
   },
   "outputs": [
    {
     "data": {
      "text/html": [
       "<table class=\"dataframe\">\n",
       "<caption>A data.frame: 6 × 86</caption>\n",
       "<thead>\n",
       "\t<tr><th></th><th scope=col>IMX_sample00001</th><th scope=col>IMX_sample00002</th><th scope=col>IMX_sample00003</th><th scope=col>IMX_sample00004</th><th scope=col>IMX_sample00005</th><th scope=col>IMX_sample00006</th><th scope=col>IMX_sample00007</th><th scope=col>IMX_sample00008</th><th scope=col>IMX_sample00009</th><th scope=col>IMX_sample00010</th><th scope=col>⋯</th><th scope=col>IMX_sample00077</th><th scope=col>IMX_sample00078</th><th scope=col>IMX_sample00079</th><th scope=col>IMX_sample00080</th><th scope=col>IMX_sample00081</th><th scope=col>IMX_sample00082</th><th scope=col>IMX_sample00083</th><th scope=col>IMX_sample00084</th><th scope=col>IMX_sample00085</th><th scope=col>IMX_sample00086</th></tr>\n",
       "\t<tr><th></th><th scope=col>&lt;int&gt;</th><th scope=col>&lt;int&gt;</th><th scope=col>&lt;int&gt;</th><th scope=col>&lt;int&gt;</th><th scope=col>&lt;int&gt;</th><th scope=col>&lt;int&gt;</th><th scope=col>&lt;int&gt;</th><th scope=col>&lt;int&gt;</th><th scope=col>&lt;int&gt;</th><th scope=col>&lt;int&gt;</th><th scope=col>⋯</th><th scope=col>&lt;int&gt;</th><th scope=col>&lt;int&gt;</th><th scope=col>&lt;int&gt;</th><th scope=col>&lt;int&gt;</th><th scope=col>&lt;int&gt;</th><th scope=col>&lt;int&gt;</th><th scope=col>&lt;int&gt;</th><th scope=col>&lt;int&gt;</th><th scope=col>&lt;int&gt;</th><th scope=col>&lt;int&gt;</th></tr>\n",
       "</thead>\n",
       "<tbody>\n",
       "\t<tr><th scope=row>1</th><td>  12</td><td>   1</td><td> 10</td><td>  12</td><td>   4</td><td>  12</td><td>   7</td><td>  14</td><td>  19</td><td>  11</td><td>⋯</td><td>  2</td><td>   0</td><td>   2</td><td>  3</td><td>  1</td><td>  4</td><td> 10</td><td>   0</td><td>  1</td><td>   4</td></tr>\n",
       "\t<tr><th scope=row>2</th><td>2670</td><td>2432</td><td>781</td><td>2381</td><td>2622</td><td>3273</td><td>3969</td><td>2597</td><td>1692</td><td>2571</td><td>⋯</td><td>351</td><td>1327</td><td>1458</td><td>557</td><td>591</td><td>824</td><td>643</td><td>1403</td><td>393</td><td>1009</td></tr>\n",
       "\t<tr><th scope=row>9</th><td>  77</td><td> 129</td><td> 87</td><td>  98</td><td>  81</td><td>  86</td><td> 124</td><td>  74</td><td>  68</td><td> 103</td><td>⋯</td><td> 59</td><td> 134</td><td>  90</td><td>141</td><td> 75</td><td> 59</td><td> 82</td><td>  91</td><td> 48</td><td>  25</td></tr>\n",
       "\t<tr><th scope=row>10</th><td>   0</td><td>   0</td><td>  0</td><td>   0</td><td>   0</td><td>   0</td><td>   9</td><td>   0</td><td>   2</td><td>   2</td><td>⋯</td><td>  1</td><td>  11</td><td>   1</td><td>  0</td><td>  0</td><td>  0</td><td>  0</td><td>   3</td><td>  0</td><td>   0</td></tr>\n",
       "\t<tr><th scope=row>12</th><td>   0</td><td>   4</td><td>  0</td><td>   0</td><td>   0</td><td>   1</td><td>   0</td><td>   6</td><td>   5</td><td>   0</td><td>⋯</td><td>  5</td><td>   0</td><td>   1</td><td>  0</td><td>  0</td><td>  3</td><td>  0</td><td>   0</td><td>  0</td><td>   0</td></tr>\n",
       "\t<tr><th scope=row>13</th><td>   0</td><td>   0</td><td>  6</td><td>   4</td><td>   1</td><td>   6</td><td>   0</td><td>   0</td><td>   0</td><td>   0</td><td>⋯</td><td>  1</td><td>  12</td><td>   0</td><td>  0</td><td> 10</td><td>  0</td><td>  0</td><td>   2</td><td>  0</td><td>   4</td></tr>\n",
       "</tbody>\n",
       "</table>\n"
      ],
      "text/latex": [
       "A data.frame: 6 × 86\n",
       "\\begin{tabular}{r|lllllllllllllllllllll}\n",
       "  & IMX\\_sample00001 & IMX\\_sample00002 & IMX\\_sample00003 & IMX\\_sample00004 & IMX\\_sample00005 & IMX\\_sample00006 & IMX\\_sample00007 & IMX\\_sample00008 & IMX\\_sample00009 & IMX\\_sample00010 & ⋯ & IMX\\_sample00077 & IMX\\_sample00078 & IMX\\_sample00079 & IMX\\_sample00080 & IMX\\_sample00081 & IMX\\_sample00082 & IMX\\_sample00083 & IMX\\_sample00084 & IMX\\_sample00085 & IMX\\_sample00086\\\\\n",
       "  & <int> & <int> & <int> & <int> & <int> & <int> & <int> & <int> & <int> & <int> & ⋯ & <int> & <int> & <int> & <int> & <int> & <int> & <int> & <int> & <int> & <int>\\\\\n",
       "\\hline\n",
       "\t1 &   12 &    1 &  10 &   12 &    4 &   12 &    7 &   14 &   19 &   11 & ⋯ &   2 &    0 &    2 &   3 &   1 &   4 &  10 &    0 &   1 &    4\\\\\n",
       "\t2 & 2670 & 2432 & 781 & 2381 & 2622 & 3273 & 3969 & 2597 & 1692 & 2571 & ⋯ & 351 & 1327 & 1458 & 557 & 591 & 824 & 643 & 1403 & 393 & 1009\\\\\n",
       "\t9 &   77 &  129 &  87 &   98 &   81 &   86 &  124 &   74 &   68 &  103 & ⋯ &  59 &  134 &   90 & 141 &  75 &  59 &  82 &   91 &  48 &   25\\\\\n",
       "\t10 &    0 &    0 &   0 &    0 &    0 &    0 &    9 &    0 &    2 &    2 & ⋯ &   1 &   11 &    1 &   0 &   0 &   0 &   0 &    3 &   0 &    0\\\\\n",
       "\t12 &    0 &    4 &   0 &    0 &    0 &    1 &    0 &    6 &    5 &    0 & ⋯ &   5 &    0 &    1 &   0 &   0 &   3 &   0 &    0 &   0 &    0\\\\\n",
       "\t13 &    0 &    0 &   6 &    4 &    1 &    6 &    0 &    0 &    0 &    0 & ⋯ &   1 &   12 &    0 &   0 &  10 &   0 &   0 &    2 &   0 &    4\\\\\n",
       "\\end{tabular}\n"
      ],
      "text/markdown": [
       "\n",
       "A data.frame: 6 × 86\n",
       "\n",
       "| <!--/--> | IMX_sample00001 &lt;int&gt; | IMX_sample00002 &lt;int&gt; | IMX_sample00003 &lt;int&gt; | IMX_sample00004 &lt;int&gt; | IMX_sample00005 &lt;int&gt; | IMX_sample00006 &lt;int&gt; | IMX_sample00007 &lt;int&gt; | IMX_sample00008 &lt;int&gt; | IMX_sample00009 &lt;int&gt; | IMX_sample00010 &lt;int&gt; | ⋯ ⋯ | IMX_sample00077 &lt;int&gt; | IMX_sample00078 &lt;int&gt; | IMX_sample00079 &lt;int&gt; | IMX_sample00080 &lt;int&gt; | IMX_sample00081 &lt;int&gt; | IMX_sample00082 &lt;int&gt; | IMX_sample00083 &lt;int&gt; | IMX_sample00084 &lt;int&gt; | IMX_sample00085 &lt;int&gt; | IMX_sample00086 &lt;int&gt; |\n",
       "|---|---|---|---|---|---|---|---|---|---|---|---|---|---|---|---|---|---|---|---|---|---|\n",
       "| 1 |   12 |    1 |  10 |   12 |    4 |   12 |    7 |   14 |   19 |   11 | ⋯ |   2 |    0 |    2 |   3 |   1 |   4 |  10 |    0 |   1 |    4 |\n",
       "| 2 | 2670 | 2432 | 781 | 2381 | 2622 | 3273 | 3969 | 2597 | 1692 | 2571 | ⋯ | 351 | 1327 | 1458 | 557 | 591 | 824 | 643 | 1403 | 393 | 1009 |\n",
       "| 9 |   77 |  129 |  87 |   98 |   81 |   86 |  124 |   74 |   68 |  103 | ⋯ |  59 |  134 |   90 | 141 |  75 |  59 |  82 |   91 |  48 |   25 |\n",
       "| 10 |    0 |    0 |   0 |    0 |    0 |    0 |    9 |    0 |    2 |    2 | ⋯ |   1 |   11 |    1 |   0 |   0 |   0 |   0 |    3 |   0 |    0 |\n",
       "| 12 |    0 |    4 |   0 |    0 |    0 |    1 |    0 |    6 |    5 |    0 | ⋯ |   5 |    0 |    1 |   0 |   0 |   3 |   0 |    0 |   0 |    0 |\n",
       "| 13 |    0 |    0 |   6 |    4 |    1 |    6 |    0 |    0 |    0 |    0 | ⋯ |   1 |   12 |    0 |   0 |  10 |   0 |   0 |    2 |   0 |    4 |\n",
       "\n"
      ],
      "text/plain": [
       "   IMX_sample00001 IMX_sample00002 IMX_sample00003 IMX_sample00004\n",
       "1    12               1             10               12           \n",
       "2  2670            2432            781             2381           \n",
       "9    77             129             87               98           \n",
       "10    0               0              0                0           \n",
       "12    0               4              0                0           \n",
       "13    0               0              6                4           \n",
       "   IMX_sample00005 IMX_sample00006 IMX_sample00007 IMX_sample00008\n",
       "1     4              12               7              14           \n",
       "2  2622            3273            3969            2597           \n",
       "9    81              86             124              74           \n",
       "10    0               0               9               0           \n",
       "12    0               1               0               6           \n",
       "13    1               6               0               0           \n",
       "   IMX_sample00009 IMX_sample00010 ⋯ IMX_sample00077 IMX_sample00078\n",
       "1    19              11            ⋯   2                0           \n",
       "2  1692            2571            ⋯ 351             1327           \n",
       "9    68             103            ⋯  59              134           \n",
       "10    2               2            ⋯   1               11           \n",
       "12    5               0            ⋯   5                0           \n",
       "13    0               0            ⋯   1               12           \n",
       "   IMX_sample00079 IMX_sample00080 IMX_sample00081 IMX_sample00082\n",
       "1     2              3               1               4            \n",
       "2  1458            557             591             824            \n",
       "9    90            141              75              59            \n",
       "10    1              0               0               0            \n",
       "12    1              0               0               3            \n",
       "13    0              0              10               0            \n",
       "   IMX_sample00083 IMX_sample00084 IMX_sample00085 IMX_sample00086\n",
       "1   10                0              1                4           \n",
       "2  643             1403            393             1009           \n",
       "9   82               91             48               25           \n",
       "10   0                3              0                0           \n",
       "12   0                0              0                0           \n",
       "13   0                2              0                4           "
      ]
     },
     "metadata": {},
     "output_type": "display_data"
    },
    {
     "data": {
      "text/html": [
       "<style>\n",
       ".list-inline {list-style: none; margin:0; padding: 0}\n",
       ".list-inline>li {display: inline-block}\n",
       ".list-inline>li:not(:last-child)::after {content: \"\\00b7\"; padding: 0 .5ex}\n",
       "</style>\n",
       "<ol class=list-inline><li>20460</li><li>86</li></ol>\n"
      ],
      "text/latex": [
       "\\begin{enumerate*}\n",
       "\\item 20460\n",
       "\\item 86\n",
       "\\end{enumerate*}\n"
      ],
      "text/markdown": [
       "1. 20460\n",
       "2. 86\n",
       "\n",
       "\n"
      ],
      "text/plain": [
       "[1] 20460    86"
      ]
     },
     "metadata": {},
     "output_type": "display_data"
    }
   ],
   "source": [
    "# loading GSE152641 raw count data from GEO\n",
    "data <- read.csv(file = \"path/GSE152641_Inflammatix_COVID19_counts_entrez.csv\",header=TRUE, row.names=1, sep=\",\", check.names=FALSE)\n",
    "head(data)\n",
    "dim(data)\n",
    "# Geting metadata\n",
    "gse <- getGEO(\"GSE152641\", GSEMatrix = TRUE)\n",
    "metadata2 <- pData(phenoData(gse[[1]]))"
   ]
  },
  {
   "cell_type": "markdown",
   "id": "04d1b134",
   "metadata": {},
   "source": [
    "** PreProcessing and PCA**"
   ]
  },
  {
   "cell_type": "code",
   "execution_count": 4,
   "id": "d17f07ff-e504-4b71-8b29-dd995ae819cb",
   "metadata": {
    "tags": [],
    "vscode": {
     "languageId": "r"
    }
   },
   "outputs": [
    {
     "name": "stdout",
     "output_type": "stream",
     "text": [
      "[1] 20460    86\n",
      "[1] 20460    86\n",
      "[1] 86  2\n",
      "[1] 86\n",
      "[1] 86\n"
     ]
    },
    {
     "name": "stderr",
     "output_type": "stream",
     "text": [
      "Warning message in DESeqDataSet(se, design = design, ignoreRank):\n",
      "\"some variables in design formula are characters, converting to factors\"\n"
     ]
    },
    {
     "data": {
      "image/png": "[encoded data removed]",
      "text/plain": [
       "plot without title"
      ]
     },
     "metadata": {
      "image/png": {
       "height": 420,
       "width": 420
      }
     },
     "output_type": "display_data"
    }
   ],
   "source": [
    "\n",
    "# Combine the data as per your instructions\n",
    "print(dim(data)) \n",
    "odata0 <- cbind(data[, 1:18], data[, 81:86])  # 18 + 6 = 24 columns  -> Healthy\n",
    "odata <- cbind(odata0, data[, 19:80])         # 24 + 62 = 86 columns  -> Severe COVID-19\n",
    "rownames(odata) <- rownames(data)\n",
    "\n",
    "# dimensions of odata\n",
    "print(dim(odata))  # This should print 20460 x 86\n",
    "\n",
    "# Prepare metadata with the correct number of samples\n",
    "metadata2 <- data.frame(\n",
    "  sampleName = colnames(odata),\n",
    "  group = c(rep(\"disease_Healthy_control\", 18), rep(\"disease_COVID19\", 62), rep(\"disease_Healthy_control\", 6))\n",
    ")\n",
    "\n",
    "# Checking if the metadata matches the data dimensions\n",
    "print(dim(metadata2))  # This should print 86 x 2\n",
    "print(length(colnames(odata)))  # This should print 86\n",
    "print(length(metadata2$group))  # This should print 86\n",
    "\n",
    "# Normalizing the counts using DESeq2's varianceStabilizingTransformation\n",
    "dds <- DESeqDataSetFromMatrix(countData = odata, colData = metadata2, design = ~ group)\n",
    "vsd <- varianceStabilizingTransformation(dds)\n",
    "\n",
    "# Performing PCA\n",
    "pca_result <- prcomp(t(assay(vsd)))\n",
    "pc_scores <- as.data.frame(pca_result$x)\n",
    "pc_scores$sampleName <- rownames(pc_scores)\n",
    "pc_scores <- merge(pc_scores, metadata2, by.x = \"sampleName\", by.y = \"sampleName\")\n",
    "\n",
    "label_mapping <- c(  \"disease_COVID19\" = \"Severe COVID-19\",  \"disease_Healthy_control\" = \"Healthy\")\n",
    "\n",
    "#  mapping to the pc_scores dataframe\n",
    "pc_scores$group <- factor(pc_scores$group, levels = names(label_mapping))\n",
    "pc_scores$group <- label_mapping[pc_scores$group]\n",
    "\n",
    "# shapes and colors\n",
    "shape_values <- c(\"Severe COVID-19\" = 17, \"Healthy\" = 19)\n",
    "color_values <- c(\"Severe COVID-19\" = \"#FF66CC\", \"Healthy\" = \"#00CC66\")\n",
    "\n",
    "# Plot PCA \n",
    "pca_plot <- ggplot(pc_scores, aes(PC1, PC2, shape = group, color = group)) +\n",
    "  geom_point(size = 3) +\n",
    "  scale_shape_manual(values = shape_values) +\n",
    "  scale_color_manual(values = color_values) +\n",
    "  theme_bw() +\n",
    "  labs(title = \"PCA of GSE152641 Data\", shape = \"Group\", color = \"Group\")\n",
    "print(pca_plot)\n",
    "\n",
    "# Saving the plot as PNG\n",
    "#ggsave(\"pca_plot.png\", pca_plot, width = 8, height = 6, dpi = 300)\n"
   ]
  },
  {
   "cell_type": "markdown",
   "id": "42d09617",
   "metadata": {},
   "source": [
    "** Differntial Expression Analysis using DESeq2 **"
   ]
  },
  {
   "cell_type": "code",
   "execution_count": 6,
   "id": "5873af34-80b7-471e-b8c7-b67d1cadf4eb",
   "metadata": {
    "tags": [],
    "vscode": {
     "languageId": "r"
    }
   },
   "outputs": [
    {
     "data": {
      "text/plain": [
       "    baseMean        log2FoldChange        lfcSE             stat        \n",
       " Min.   :     0.0   Min.   :-3.5265   Min.   :0.0314   Min.   :-9.3816  \n",
       " 1st Qu.:     6.5   1st Qu.:-0.1228   1st Qu.:0.0954   1st Qu.:-0.9939  \n",
       " Median :    76.7   Median : 0.1803   Median :0.1548   Median : 0.9974  \n",
       " Mean   :   636.0   Mean   : 0.3388   Mean   :0.3023   Mean   : 0.8736  \n",
       " 3rd Qu.:   439.1   3rd Qu.: 0.7118   3rd Qu.:0.3559   3rd Qu.: 2.7340  \n",
       " Max.   :384339.3   Max.   : 4.4012   Max.   :3.2535   Max.   :12.7826  \n",
       "                    NA's   :326       NA's   :326      NA's   :326      \n",
       "     pvalue            padj       \n",
       " Min.   :0.0000   Min.   :0.0000  \n",
       " 1st Qu.:0.0007   1st Qu.:0.0029  \n",
       " Median :0.0371   Median :0.0742  \n",
       " Mean   :0.2014   Mean   :0.2435  \n",
       " 3rd Qu.:0.3189   3rd Qu.:0.4252  \n",
       " Max.   :1.0000   Max.   :1.0000  \n",
       " NA's   :326      NA's   :326     "
      ]
     },
     "metadata": {},
     "output_type": "display_data"
    }
   ],
   "source": [
    "samples <- colnames(odata)\n",
    "condition <- c(as.factor(rep(\"Healthy\", 24)), as.factor(rep(\"Patient\", 62)))\n",
    "colData <- data.frame(row.names=samples, condition=condition)\n",
    "dds <- DESeqDataSetFromMatrix(countData = odata, colData = colData, design = ~ condition)\n",
    "dds <- DESeq(dds)\n",
    "res <- results(dds)\n",
    "summary(as.data.frame(res))\n",
    "fres<-as.data.frame(res)\n",
    "#write.table(fres, file = \"DESeq2 All results.txt\", sep = \"\\t\", row.names = TRUE, quote = FALSE)"
   ]
  },
  {
   "cell_type": "code",
   "execution_count": 7,
   "id": "300968fd-acbe-4114-8604-810fb5214c98",
   "metadata": {
    "tags": [],
    "vscode": {
     "languageId": "r"
    }
   },
   "outputs": [
    {
     "data": {
      "text/html": [
       "2775"
      ],
      "text/latex": [
       "2775"
      ],
      "text/markdown": [
       "2775"
      ],
      "text/plain": [
       "[1] 2775"
      ]
     },
     "metadata": {},
     "output_type": "display_data"
    },
    {
     "data": {
      "text/html": [
       "2625"
      ],
      "text/latex": [
       "2625"
      ],
      "text/markdown": [
       "2625"
      ],
      "text/plain": [
       "[1] 2625"
      ]
     },
     "metadata": {},
     "output_type": "display_data"
    },
    {
     "data": {
      "text/html": [
       "150"
      ],
      "text/latex": [
       "150"
      ],
      "text/markdown": [
       "150"
      ],
      "text/plain": [
       "[1] 150"
      ]
     },
     "metadata": {},
     "output_type": "display_data"
    }
   ],
   "source": [
    "# Subset for genes with adjusted p-value < 0.05 and absolute fold change > 2\n",
    "significant_genes <- subset(fres, padj < 0.05 & abs(log2FoldChange) > log2(2))\n",
    "num_significant_genes <- nrow(significant_genes)\n",
    "num_significant_genes\n",
    "# For genes with fold change > 1\n",
    "upregulated_genes <- subset(fres, padj < 0.05 & log2FoldChange > log2(2))\n",
    "num_upregulated_genes <- nrow(upregulated_genes)\n",
    "# For genes with fold change < -1\n",
    "downregulated_genes <- subset(fres, padj < 0.05 & log2FoldChange < -log2(2))\n",
    "num_downregulated_genes <- nrow(downregulated_genes)\n",
    "num_upregulated_genes\n",
    "num_downregulated_genes\n"
   ]
  },
  {
   "cell_type": "code",
   "execution_count": null,
   "id": "539ecc3e-27b9-4c8e-8cdd-ca1d6385dc2d",
   "metadata": {
    "tags": [],
    "vscode": {
     "languageId": "r"
    }
   },
   "outputs": [],
   "source": [
    "# volcano plot\n",
    "\n",
    "# dataframe for plotting\n",
    "volcano_data <- data.frame(\n",
    "  logFC = fres$log2FoldChange,\n",
    "  minusLog10P = -log10(fres$padj))\n",
    "\n",
    "# Adding a significance column based on FDR and logFC\n",
    "volcano_data$significant <- ifelse(fres$padj < 0.05 & abs(fres$log2FoldChange) > 1, \"yes\", \"no\")\n",
    "\n",
    "volcano_plot <- ggplot(volcano_data, aes(x = logFC, y = minusLog10P, color = significant)) +\n",
    "  geom_point(alpha = 0.5) +\n",
    "  labs(title = \"Volcano Plot\",\n",
    "       x = \"Log2 Fold Change\",\n",
    "       y = \"-Log10 P-value\") +\n",
    "  scale_color_manual(values = c(\"no\" = \"grey\", \"yes\" = \"red\")) +  # change color as per preference\n",
    "  theme_minimal()\n",
    "\n",
    "ggsave(\"volcano_plot.png\", plot = volcano_plot, width = 8, height = 6, units = \"in\", dpi = 300)\n"
   ]
  },
  {
   "cell_type": "markdown",
   "id": "42d09617",
   "metadata": {},
   "source": [
    "** Differntial Expression Analysis using EdgeR **"
   ]
  },
  {
   "cell_type": "code",
   "execution_count": 9,
   "id": "ae374b47-3786-46da-8c30-1988e8636d23",
   "metadata": {
    "tags": [],
    "vscode": {
     "languageId": "r"
    }
   },
   "outputs": [
    {
     "name": "stdout",
     "output_type": "stream",
     "text": [
      "Coefficient:  groupPatient \n",
      "            logFC   logCPM         F       PValue          FDR\n",
      "10721   1.4950018 3.255046 135.97383 1.053474e-19 1.870338e-15\n",
      "990     1.9345817 2.603980 104.69342 9.168526e-17 4.459916e-13\n",
      "57326  -0.9188446 7.200877 104.13976 1.043629e-16 4.459916e-13\n",
      "7259   -0.5455776 5.671108 103.65973 1.168004e-16 4.459916e-13\n",
      "7280   -3.5527662 4.366688 102.81140 1.426133e-16 4.459916e-13\n",
      "8344    2.1891814 5.621926 102.57707 1.507238e-16 4.459916e-13\n",
      "63967   1.2329793 3.616668  99.14571 3.414913e-16 8.661194e-13\n",
      "4907   -1.2345891 3.442075  94.15848 1.152105e-15 2.556809e-12\n",
      "157313  1.8027707 2.251891  93.04708 1.517623e-15 2.993764e-12\n",
      "116447 -1.1300972 3.907566  85.67694 9.862772e-15 1.751037e-11\n",
      "[1] \"nrow of data\"\n"
     ]
    },
    {
     "data": {
      "text/html": [
       "<style>\n",
       ".list-inline {list-style: none; margin:0; padding: 0}\n",
       ".list-inline>li {display: inline-block}\n",
       ".list-inline>li:not(:last-child)::after {content: \"\\00b7\"; padding: 0 .5ex}\n",
       "</style>\n",
       "<ol class=list-inline><li>20460</li><li>86</li></ol>\n"
      ],
      "text/latex": [
       "\\begin{enumerate*}\n",
       "\\item 20460\n",
       "\\item 86\n",
       "\\end{enumerate*}\n"
      ],
      "text/markdown": [
       "1. 20460\n",
       "2. 86\n",
       "\n",
       "\n"
      ],
      "text/plain": [
       "[1] 20460    86"
      ]
     },
     "metadata": {},
     "output_type": "display_data"
    },
    {
     "name": "stdout",
     "output_type": "stream",
     "text": [
      "[1] \"nrow of results after 0.05 FDR cutoff\"\n"
     ]
    },
    {
     "data": {
      "text/html": [
       "<style>\n",
       ".list-inline {list-style: none; margin:0; padding: 0}\n",
       ".list-inline>li {display: inline-block}\n",
       ".list-inline>li:not(:last-child)::after {content: \"\\00b7\"; padding: 0 .5ex}\n",
       "</style>\n",
       "<ol class=list-inline><li>8493</li><li>5</li></ol>\n"
      ],
      "text/latex": [
       "\\begin{enumerate*}\n",
       "\\item 8493\n",
       "\\item 5\n",
       "\\end{enumerate*}\n"
      ],
      "text/markdown": [
       "1. 8493\n",
       "2. 5\n",
       "\n",
       "\n"
      ],
      "text/plain": [
       "[1] 8493    5"
      ]
     },
     "metadata": {},
     "output_type": "display_data"
    },
    {
     "name": "stdout",
     "output_type": "stream",
     "text": [
      "[1] \"nrow of results after foldchange cutoff\"\n"
     ]
    },
    {
     "data": {
      "text/html": [
       "2132"
      ],
      "text/latex": [
       "2132"
      ],
      "text/markdown": [
       "2132"
      ],
      "text/plain": [
       "[1] 2132"
      ]
     },
     "metadata": {},
     "output_type": "display_data"
    },
    {
     "name": "stdout",
     "output_type": "stream",
     "text": [
      "[1] \"nrow of results after foldchange cutoff and 0.01 FDR\"\n"
     ]
    },
    {
     "data": {
      "text/html": [
       "1572"
      ],
      "text/latex": [
       "1572"
      ],
      "text/markdown": [
       "1572"
      ],
      "text/plain": [
       "[1] 1572"
      ]
     },
     "metadata": {},
     "output_type": "display_data"
    },
    {
     "name": "stdout",
     "output_type": "stream",
     "text": [
      "[1] \"Number of significantly upregulated genes (FDR < 0.05): 1951\"\n",
      "[1] \"Number of significantly downregulated genes (FDR < 0.05): 181\"\n"
     ]
    }
   ],
   "source": [
    "\n",
    "#  DGE object from ldata\n",
    "y <- DGEList(counts=odata)\n",
    "# Filter out genes with low counts\n",
    "keep <- rowSums(cpm(y) > 1) >= 2\n",
    "y <- y[keep, , keep.lib.sizes=FALSE]\n",
    "#  TMM normalization\n",
    "y <- calcNormFactors(y, method=\"TMM\")\n",
    "#  design matrix\n",
    "group <- factor(c(rep(\"Healthy\", 24), rep(\"Patient\", 62)))\n",
    "design <- model.matrix(~group)\n",
    "#  dispersions\n",
    "y <- estimateDisp(y, design)\n",
    "# exact test for differential expression\n",
    "fit <- glmQLFit(y, design)\n",
    "qlf <- glmQLFTest(fit, coef=2)\n",
    "results <- topTags(qlf)\n",
    "print(results)\n",
    "# Extracting all the differentially expressed genes\n",
    "all_results <- topTags(qlf, n=Inf)  # Setting n=Inf extracts all results\n",
    "sig_results <- all_results[all_results$table$FDR < 0.05, ]\n",
    "write.csv(sig_results, \"DEG_sig_results_FDR_less_than_0.05.csv\", row.names = TRUE)\n",
    "print(\"nrow of data\")\n",
    "dim(data)\n",
    "print(\"nrow of results after 0.05 FDR cutoff\")\n",
    "dim(sig_results)\n",
    "# Apply Foldchange cutoffs\n",
    "results_df <- sig_results@.Data[[1]]\n",
    "# Apply cutoffs\n",
    "filtered_DEGs <- results_df[results_df$FDR < 0.05 & abs(results_df$logFC) > 1, ]\n",
    "print(\"nrow of results after foldchange cutoff\")\n",
    "nrow(filtered_DEGs)\n",
    "\n",
    "#Apply cutoff 0.01\n",
    "filtered_DEGs0.01 <- results_df[results_df$FDR < 0.01 & abs(results_df$logFC) > 1, ]\n",
    "print(\"nrow of results after foldchange cutoff and 0.01 FDR\")\n",
    "nrow(filtered_DEGs0.01)\n",
    "\n",
    "upregulated_genes_0.05 <- nrow(filtered_DEGs[filtered_DEGs$logFC > 1, ])\n",
    "downregulated_genes_0.05 <- nrow(filtered_DEGs[filtered_DEGs$logFC < -1, ])\n",
    "print(paste(\"Number of significantly upregulated genes (FDR < 0.05):\", upregulated_genes_0.05))\n",
    "print(paste(\"Number of significantly downregulated genes (FDR < 0.05):\", downregulated_genes_0.05))\n",
    "\n",
    "#write results\n",
    "write.table(all_results, file = \"EdgR All results.txt\", sep = \"\\t\", row.names = TRUE, quote = FALSE)"
   ]
  },
  {
   "cell_type": "code",
   "execution_count": 26,
   "id": "f1f04059-1197-4cf5-a545-ac18495a69f3",
   "metadata": {
    "tags": [],
    "vscode": {
     "languageId": "r"
    }
   },
   "outputs": [
    {
     "name": "stdout",
     "output_type": "stream",
     "text": [
      "[1] \"significant_genes\"\n"
     ]
    },
    {
     "data": {
      "text/html": [
       "<style>\n",
       ".list-inline {list-style: none; margin:0; padding: 0}\n",
       ".list-inline>li {display: inline-block}\n",
       ".list-inline>li:not(:last-child)::after {content: \"\\00b7\"; padding: 0 .5ex}\n",
       "</style>\n",
       "<ol class=list-inline><li>2775</li><li>6</li></ol>\n"
      ],
      "text/latex": [
       "\\begin{enumerate*}\n",
       "\\item 2775\n",
       "\\item 6\n",
       "\\end{enumerate*}\n"
      ],
      "text/markdown": [
       "1. 2775\n",
       "2. 6\n",
       "\n",
       "\n"
      ],
      "text/plain": [
       "[1] 2775    6"
      ]
     },
     "metadata": {},
     "output_type": "display_data"
    },
    {
     "name": "stdout",
     "output_type": "stream",
     "text": [
      "[1] \"filtered_DEGs\"\n"
     ]
    },
    {
     "data": {
      "text/html": [
       "<style>\n",
       ".list-inline {list-style: none; margin:0; padding: 0}\n",
       ".list-inline>li {display: inline-block}\n",
       ".list-inline>li:not(:last-child)::after {content: \"\\00b7\"; padding: 0 .5ex}\n",
       "</style>\n",
       "<ol class=list-inline><li>2132</li><li>5</li></ol>\n"
      ],
      "text/latex": [
       "\\begin{enumerate*}\n",
       "\\item 2132\n",
       "\\item 5\n",
       "\\end{enumerate*}\n"
      ],
      "text/markdown": [
       "1. 2132\n",
       "2. 5\n",
       "\n",
       "\n"
      ],
      "text/plain": [
       "[1] 2132    5"
      ]
     },
     "metadata": {},
     "output_type": "display_data"
    },
    {
     "name": "stdout",
     "output_type": "stream",
     "text": [
      "[1] \"length(inr)\"\n"
     ]
    },
    {
     "data": {
      "text/html": [
       "2059"
      ],
      "text/latex": [
       "2059"
      ],
      "text/markdown": [
       "2059"
      ],
      "text/plain": [
       "[1] 2059"
      ]
     },
     "metadata": {},
     "output_type": "display_data"
    },
    {
     "name": "stdout",
     "output_type": "stream",
     "text": [
      "[1] \"significant_genes0.01\"\n"
     ]
    },
    {
     "data": {
      "text/html": [
       "<style>\n",
       ".list-inline {list-style: none; margin:0; padding: 0}\n",
       ".list-inline>li {display: inline-block}\n",
       ".list-inline>li:not(:last-child)::after {content: \"\\00b7\"; padding: 0 .5ex}\n",
       "</style>\n",
       "<ol class=list-inline><li>2083</li><li>6</li></ol>\n"
      ],
      "text/latex": [
       "\\begin{enumerate*}\n",
       "\\item 2083\n",
       "\\item 6\n",
       "\\end{enumerate*}\n"
      ],
      "text/markdown": [
       "1. 2083\n",
       "2. 6\n",
       "\n",
       "\n"
      ],
      "text/plain": [
       "[1] 2083    6"
      ]
     },
     "metadata": {},
     "output_type": "display_data"
    },
    {
     "name": "stdout",
     "output_type": "stream",
     "text": [
      "[1] \"filtered_DEGs0.01\"\n"
     ]
    },
    {
     "data": {
      "text/html": [
       "<style>\n",
       ".list-inline {list-style: none; margin:0; padding: 0}\n",
       ".list-inline>li {display: inline-block}\n",
       ".list-inline>li:not(:last-child)::after {content: \"\\00b7\"; padding: 0 .5ex}\n",
       "</style>\n",
       "<ol class=list-inline><li>1572</li><li>5</li></ol>\n"
      ],
      "text/latex": [
       "\\begin{enumerate*}\n",
       "\\item 1572\n",
       "\\item 5\n",
       "\\end{enumerate*}\n"
      ],
      "text/markdown": [
       "1. 1572\n",
       "2. 5\n",
       "\n",
       "\n"
      ],
      "text/plain": [
       "[1] 1572    5"
      ]
     },
     "metadata": {},
     "output_type": "display_data"
    },
    {
     "name": "stdout",
     "output_type": "stream",
     "text": [
      "[1] \"length of intersect0.01\"\n"
     ]
    },
    {
     "data": {
      "text/html": [
       "1507"
      ],
      "text/latex": [
       "1507"
      ],
      "text/markdown": [
       "1507"
      ],
      "text/plain": [
       "[1] 1507"
      ]
     },
     "metadata": {},
     "output_type": "display_data"
    }
   ],
   "source": [
    "#intersect DESeq2 & EdgeR\n",
    "inr<-intersect(rownames(significant_genes),rownames(filtered_DEGs))\n",
    "inr0.01<-intersect(rownames(significant_genes0.01),rownames(filtered_DEGs0.01))\n",
    "print(\"significant_genes\")\n",
    "dim(significant_genes)\n",
    "print(\"filtered_DEGs\")\n",
    "dim(filtered_DEGs)\n",
    "print(\"length(inr)\")\n",
    "length(inr)\n",
    "write.table(inr, file = \"0.05intersect.txt\", sep = \",\",row.name=F,quote = FALSE)\n",
    "print(\"significant_genes0.01\")\n",
    "dim(significant_genes0.01)\n",
    "print(\"filtered_DEGs0.01\")\n",
    "dim(filtered_DEGs0.01)\n",
    "print(\"length of intersect0.01\")\n",
    "length(inr0.01)\n",
    "write.table(inr0.01, file = \"0.01intersect.txt\", sep = \",\",row.name=F,quote = FALSE)"
   ]
  },
  {
   "cell_type": "code",
   "execution_count": null,
   "id": "c42e83ad-9235-44b3-8617-a8b0c9f91030",
   "metadata": {
    "vscode": {
     "languageId": "r"
    }
   },
   "outputs": [],
   "source": []
  }
 ],
 "metadata": {
  "kernelspec": {
   "display_name": "R",
   "language": "R",
   "name": "ir"
  },
  "language_info": {
   "codemirror_mode": "r",
   "file_extension": ".r",
   "mimetype": "text/x-r-source",
   "name": "R",
   "pygments_lexer": "r",
   "version": "4.3.1"
  }
 },
 "nbformat": 4,
 "nbformat_minor": 5
}
