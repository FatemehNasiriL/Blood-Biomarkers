{
 "cells": [
  {
   "cell_type": "markdown",
   "id": "266dc223",
   "metadata": {},
   "source": [
    "** Differential gene expression analysis** \n",
    "data GSE172114:  46 critical , 23 non-critical COVID19 samples"
   ]
  },
  {
   "cell_type": "code",
   "execution_count": null,
   "id": "08c726a9",
   "metadata": {
    "vscode": {
     "languageId": "r"
    }
   },
   "outputs": [],
   "source": [
    "#Dependencies\n",
    "library(GEOquery)\n",
    "library(edgeR)\n",
    "library(edgeR)\n",
    "library(ggplot2)\n",
    "library(ggfortify)\n",
    "library(pheatmap)"
   ]
  },
  {
   "cell_type": "code",
   "execution_count": 1,
   "id": "d74f365f-f75c-446c-99ac-db135cd8f37a",
   "metadata": {
    "vscode": {
     "languageId": "r"
    }
   },
   "outputs": [
    {
     "data": {
      "text/html": [
       "<style>\n",
       ".list-inline {list-style: none; margin:0; padding: 0}\n",
       ".list-inline>li {display: inline-block}\n",
       ".list-inline>li:not(:last-child)::after {content: \"\\00b7\"; padding: 0 .5ex}\n",
       "</style>\n",
       "<ol class=list-inline><li>15957</li><li>70</li></ol>\n"
      ],
      "text/latex": [
       "\\begin{enumerate*}\n",
       "\\item 15957\n",
       "\\item 70\n",
       "\\end{enumerate*}\n"
      ],
      "text/markdown": [
       "1. 15957\n",
       "2. 70\n",
       "\n",
       "\n"
      ],
      "text/plain": [
       "[1] 15957    70"
      ]
     },
     "metadata": {},
     "output_type": "display_data"
    },
    {
     "name": "stderr",
     "output_type": "stream",
     "text": [
      "Found 1 file(s)\n",
      "\n",
      "GSE172114_series_matrix.txt.gz\n",
      "\n"
     ]
    },
    {
     "data": {
      "text/html": [
       "<table class=\"dataframe\">\n",
       "<caption>A data.frame: 1 × 5</caption>\n",
       "<thead>\n",
       "\t<tr><th></th><th scope=col>data_processing</th><th scope=col>data_processing.1</th><th scope=col>data_processing.2</th><th scope=col>data_processing.3</th><th scope=col>data_processing.4</th></tr>\n",
       "\t<tr><th></th><th scope=col>&lt;chr&gt;</th><th scope=col>&lt;chr&gt;</th><th scope=col>&lt;chr&gt;</th><th scope=col>&lt;chr&gt;</th><th scope=col>&lt;chr&gt;</th></tr>\n",
       "</thead>\n",
       "<tbody>\n",
       "\t<tr><th scope=row>GSM5242147</th><td>Raw sequencing data was trimmed with Skewer v0.2.1 and alignment was performed with  STAR v2.5.3a, using SAMtools v0.1.19 for sorting/indexing</td><td>Quantification of gene expression was performed using RSEM (v1.3.0) with GENCODE annotation v25</td><td>TMM normalization with edgeR</td><td>Genome_build: GRCh38</td><td>Supplementary_files_format_and_content: log2 normalized TMM counts, with samples as columns and genes as rows</td></tr>\n",
       "</tbody>\n",
       "</table>\n"
      ],
      "text/latex": [
       "A data.frame: 1 × 5\n",
       "\\begin{tabular}{r|lllll}\n",
       "  & data\\_processing & data\\_processing.1 & data\\_processing.2 & data\\_processing.3 & data\\_processing.4\\\\\n",
       "  & <chr> & <chr> & <chr> & <chr> & <chr>\\\\\n",
       "\\hline\n",
       "\tGSM5242147 & Raw sequencing data was trimmed with Skewer v0.2.1 and alignment was performed with  STAR v2.5.3a, using SAMtools v0.1.19 for sorting/indexing & Quantification of gene expression was performed using RSEM (v1.3.0) with GENCODE annotation v25 & TMM normalization with edgeR & Genome\\_build: GRCh38 & Supplementary\\_files\\_format\\_and\\_content: log2 normalized TMM counts, with samples as columns and genes as rows\\\\\n",
       "\\end{tabular}\n"
      ],
      "text/markdown": [
       "\n",
       "A data.frame: 1 × 5\n",
       "\n",
       "| <!--/--> | data_processing &lt;chr&gt; | data_processing.1 &lt;chr&gt; | data_processing.2 &lt;chr&gt; | data_processing.3 &lt;chr&gt; | data_processing.4 &lt;chr&gt; |\n",
       "|---|---|---|---|---|---|\n",
       "| GSM5242147 | Raw sequencing data was trimmed with Skewer v0.2.1 and alignment was performed with  STAR v2.5.3a, using SAMtools v0.1.19 for sorting/indexing | Quantification of gene expression was performed using RSEM (v1.3.0) with GENCODE annotation v25 | TMM normalization with edgeR | Genome_build: GRCh38 | Supplementary_files_format_and_content: log2 normalized TMM counts, with samples as columns and genes as rows |\n",
       "\n"
      ],
      "text/plain": [
       "           data_processing                                                                                                                               \n",
       "GSM5242147 Raw sequencing data was trimmed with Skewer v0.2.1 and alignment was performed with  STAR v2.5.3a, using SAMtools v0.1.19 for sorting/indexing\n",
       "           data_processing.1                                                                              \n",
       "GSM5242147 Quantification of gene expression was performed using RSEM (v1.3.0) with GENCODE annotation v25\n",
       "           data_processing.2            data_processing.3   \n",
       "GSM5242147 TMM normalization with edgeR Genome_build: GRCh38\n",
       "           data_processing.4                                                                                            \n",
       "GSM5242147 Supplementary_files_format_and_content: log2 normalized TMM counts, with samples as columns and genes as rows"
      ]
     },
     "metadata": {},
     "output_type": "display_data"
    },
    {
     "data": {
      "text/html": [
       "<table class=\"dataframe\">\n",
       "<caption>A data.frame: 6 × 70</caption>\n",
       "<thead>\n",
       "\t<tr><th></th><th scope=col>X</th><th scope=col>C10</th><th scope=col>C11</th><th scope=col>C12</th><th scope=col>C13</th><th scope=col>C14</th><th scope=col>C15</th><th scope=col>C16</th><th scope=col>C17</th><th scope=col>C18</th><th scope=col>⋯</th><th scope=col>P43</th><th scope=col>P44</th><th scope=col>P46</th><th scope=col>P47</th><th scope=col>P4</th><th scope=col>P5</th><th scope=col>P6</th><th scope=col>P7</th><th scope=col>P8</th><th scope=col>P9</th></tr>\n",
       "\t<tr><th></th><th scope=col>&lt;chr&gt;</th><th scope=col>&lt;dbl&gt;</th><th scope=col>&lt;dbl&gt;</th><th scope=col>&lt;dbl&gt;</th><th scope=col>&lt;dbl&gt;</th><th scope=col>&lt;dbl&gt;</th><th scope=col>&lt;dbl&gt;</th><th scope=col>&lt;dbl&gt;</th><th scope=col>&lt;dbl&gt;</th><th scope=col>&lt;dbl&gt;</th><th scope=col>⋯</th><th scope=col>&lt;dbl&gt;</th><th scope=col>&lt;dbl&gt;</th><th scope=col>&lt;dbl&gt;</th><th scope=col>&lt;dbl&gt;</th><th scope=col>&lt;dbl&gt;</th><th scope=col>&lt;dbl&gt;</th><th scope=col>&lt;dbl&gt;</th><th scope=col>&lt;dbl&gt;</th><th scope=col>&lt;dbl&gt;</th><th scope=col>&lt;dbl&gt;</th></tr>\n",
       "</thead>\n",
       "<tbody>\n",
       "\t<tr><th scope=row>1</th><td>ENSG00000000419.12_DPM1    </td><td>3.463</td><td>3.099</td><td>4.694</td><td>4.171</td><td>4.199</td><td>2.674</td><td>4.098</td><td>4.230</td><td>2.418</td><td>⋯</td><td>3.669</td><td>4.071</td><td>4.543</td><td>3.728</td><td>3.677</td><td>3.926</td><td>4.453</td><td>3.257</td><td>4.378</td><td>4.260</td></tr>\n",
       "\t<tr><th scope=row>2</th><td>ENSG00000000457.13_SCYL3   </td><td>5.275</td><td>5.462</td><td>5.485</td><td>5.167</td><td>5.789</td><td>4.978</td><td>4.879</td><td>5.524</td><td>4.839</td><td>⋯</td><td>5.583</td><td>5.372</td><td>5.634</td><td>5.924</td><td>4.370</td><td>5.478</td><td>4.768</td><td>5.308</td><td>5.591</td><td>5.635</td></tr>\n",
       "\t<tr><th scope=row>3</th><td>ENSG00000000460.16_C1orf112</td><td>3.477</td><td>3.344</td><td>3.405</td><td>3.214</td><td>3.704</td><td>3.639</td><td>3.582</td><td>3.133</td><td>3.384</td><td>⋯</td><td>3.699</td><td>3.485</td><td>3.416</td><td>3.276</td><td>3.060</td><td>3.120</td><td>3.833</td><td>3.538</td><td>3.485</td><td>2.456</td></tr>\n",
       "\t<tr><th scope=row>4</th><td>ENSG00000000938.12_FGR     </td><td>7.918</td><td>8.011</td><td>7.458</td><td>7.567</td><td>8.860</td><td>8.053</td><td>7.395</td><td>9.031</td><td>8.466</td><td>⋯</td><td>8.730</td><td>8.082</td><td>9.232</td><td>8.628</td><td>7.624</td><td>9.557</td><td>9.083</td><td>8.535</td><td>8.670</td><td>9.678</td></tr>\n",
       "\t<tr><th scope=row>5</th><td>ENSG00000000971.15_CFH     </td><td>2.384</td><td>2.596</td><td>3.883</td><td>2.425</td><td>1.927</td><td>1.075</td><td>1.569</td><td>2.430</td><td>2.032</td><td>⋯</td><td>2.506</td><td>2.319</td><td>0.555</td><td>1.460</td><td>3.333</td><td>1.366</td><td>1.771</td><td>2.221</td><td>3.639</td><td>2.300</td></tr>\n",
       "\t<tr><th scope=row>6</th><td>ENSG00000001036.13_FUCA2   </td><td>3.526</td><td>3.883</td><td>4.141</td><td>4.034</td><td>3.800</td><td>3.922</td><td>4.331</td><td>4.481</td><td>4.229</td><td>⋯</td><td>3.882</td><td>4.541</td><td>4.257</td><td>3.499</td><td>3.472</td><td>4.336</td><td>4.595</td><td>3.921</td><td>4.321</td><td>4.605</td></tr>\n",
       "</tbody>\n",
       "</table>\n"
      ],
      "text/latex": [
       "A data.frame: 6 × 70\n",
       "\\begin{tabular}{r|lllllllllllllllllllll}\n",
       "  & X & C10 & C11 & C12 & C13 & C14 & C15 & C16 & C17 & C18 & ⋯ & P43 & P44 & P46 & P47 & P4 & P5 & P6 & P7 & P8 & P9\\\\\n",
       "  & <chr> & <dbl> & <dbl> & <dbl> & <dbl> & <dbl> & <dbl> & <dbl> & <dbl> & <dbl> & ⋯ & <dbl> & <dbl> & <dbl> & <dbl> & <dbl> & <dbl> & <dbl> & <dbl> & <dbl> & <dbl>\\\\\n",
       "\\hline\n",
       "\t1 & ENSG00000000419.12\\_DPM1     & 3.463 & 3.099 & 4.694 & 4.171 & 4.199 & 2.674 & 4.098 & 4.230 & 2.418 & ⋯ & 3.669 & 4.071 & 4.543 & 3.728 & 3.677 & 3.926 & 4.453 & 3.257 & 4.378 & 4.260\\\\\n",
       "\t2 & ENSG00000000457.13\\_SCYL3    & 5.275 & 5.462 & 5.485 & 5.167 & 5.789 & 4.978 & 4.879 & 5.524 & 4.839 & ⋯ & 5.583 & 5.372 & 5.634 & 5.924 & 4.370 & 5.478 & 4.768 & 5.308 & 5.591 & 5.635\\\\\n",
       "\t3 & ENSG00000000460.16\\_C1orf112 & 3.477 & 3.344 & 3.405 & 3.214 & 3.704 & 3.639 & 3.582 & 3.133 & 3.384 & ⋯ & 3.699 & 3.485 & 3.416 & 3.276 & 3.060 & 3.120 & 3.833 & 3.538 & 3.485 & 2.456\\\\\n",
       "\t4 & ENSG00000000938.12\\_FGR      & 7.918 & 8.011 & 7.458 & 7.567 & 8.860 & 8.053 & 7.395 & 9.031 & 8.466 & ⋯ & 8.730 & 8.082 & 9.232 & 8.628 & 7.624 & 9.557 & 9.083 & 8.535 & 8.670 & 9.678\\\\\n",
       "\t5 & ENSG00000000971.15\\_CFH      & 2.384 & 2.596 & 3.883 & 2.425 & 1.927 & 1.075 & 1.569 & 2.430 & 2.032 & ⋯ & 2.506 & 2.319 & 0.555 & 1.460 & 3.333 & 1.366 & 1.771 & 2.221 & 3.639 & 2.300\\\\\n",
       "\t6 & ENSG00000001036.13\\_FUCA2    & 3.526 & 3.883 & 4.141 & 4.034 & 3.800 & 3.922 & 4.331 & 4.481 & 4.229 & ⋯ & 3.882 & 4.541 & 4.257 & 3.499 & 3.472 & 4.336 & 4.595 & 3.921 & 4.321 & 4.605\\\\\n",
       "\\end{tabular}\n"
      ],
      "text/markdown": [
       "\n",
       "A data.frame: 6 × 70\n",
       "\n",
       "| <!--/--> | X &lt;chr&gt; | C10 &lt;dbl&gt; | C11 &lt;dbl&gt; | C12 &lt;dbl&gt; | C13 &lt;dbl&gt; | C14 &lt;dbl&gt; | C15 &lt;dbl&gt; | C16 &lt;dbl&gt; | C17 &lt;dbl&gt; | C18 &lt;dbl&gt; | ⋯ ⋯ | P43 &lt;dbl&gt; | P44 &lt;dbl&gt; | P46 &lt;dbl&gt; | P47 &lt;dbl&gt; | P4 &lt;dbl&gt; | P5 &lt;dbl&gt; | P6 &lt;dbl&gt; | P7 &lt;dbl&gt; | P8 &lt;dbl&gt; | P9 &lt;dbl&gt; |\n",
       "|---|---|---|---|---|---|---|---|---|---|---|---|---|---|---|---|---|---|---|---|---|---|\n",
       "| 1 | ENSG00000000419.12_DPM1     | 3.463 | 3.099 | 4.694 | 4.171 | 4.199 | 2.674 | 4.098 | 4.230 | 2.418 | ⋯ | 3.669 | 4.071 | 4.543 | 3.728 | 3.677 | 3.926 | 4.453 | 3.257 | 4.378 | 4.260 |\n",
       "| 2 | ENSG00000000457.13_SCYL3    | 5.275 | 5.462 | 5.485 | 5.167 | 5.789 | 4.978 | 4.879 | 5.524 | 4.839 | ⋯ | 5.583 | 5.372 | 5.634 | 5.924 | 4.370 | 5.478 | 4.768 | 5.308 | 5.591 | 5.635 |\n",
       "| 3 | ENSG00000000460.16_C1orf112 | 3.477 | 3.344 | 3.405 | 3.214 | 3.704 | 3.639 | 3.582 | 3.133 | 3.384 | ⋯ | 3.699 | 3.485 | 3.416 | 3.276 | 3.060 | 3.120 | 3.833 | 3.538 | 3.485 | 2.456 |\n",
       "| 4 | ENSG00000000938.12_FGR      | 7.918 | 8.011 | 7.458 | 7.567 | 8.860 | 8.053 | 7.395 | 9.031 | 8.466 | ⋯ | 8.730 | 8.082 | 9.232 | 8.628 | 7.624 | 9.557 | 9.083 | 8.535 | 8.670 | 9.678 |\n",
       "| 5 | ENSG00000000971.15_CFH      | 2.384 | 2.596 | 3.883 | 2.425 | 1.927 | 1.075 | 1.569 | 2.430 | 2.032 | ⋯ | 2.506 | 2.319 | 0.555 | 1.460 | 3.333 | 1.366 | 1.771 | 2.221 | 3.639 | 2.300 |\n",
       "| 6 | ENSG00000001036.13_FUCA2    | 3.526 | 3.883 | 4.141 | 4.034 | 3.800 | 3.922 | 4.331 | 4.481 | 4.229 | ⋯ | 3.882 | 4.541 | 4.257 | 3.499 | 3.472 | 4.336 | 4.595 | 3.921 | 4.321 | 4.605 |\n",
       "\n"
      ],
      "text/plain": [
       "  X                           C10   C11   C12   C13   C14   C15   C16   C17  \n",
       "1 ENSG00000000419.12_DPM1     3.463 3.099 4.694 4.171 4.199 2.674 4.098 4.230\n",
       "2 ENSG00000000457.13_SCYL3    5.275 5.462 5.485 5.167 5.789 4.978 4.879 5.524\n",
       "3 ENSG00000000460.16_C1orf112 3.477 3.344 3.405 3.214 3.704 3.639 3.582 3.133\n",
       "4 ENSG00000000938.12_FGR      7.918 8.011 7.458 7.567 8.860 8.053 7.395 9.031\n",
       "5 ENSG00000000971.15_CFH      2.384 2.596 3.883 2.425 1.927 1.075 1.569 2.430\n",
       "6 ENSG00000001036.13_FUCA2    3.526 3.883 4.141 4.034 3.800 3.922 4.331 4.481\n",
       "  C18   ⋯ P43   P44   P46   P47   P4    P5    P6    P7    P8    P9   \n",
       "1 2.418 ⋯ 3.669 4.071 4.543 3.728 3.677 3.926 4.453 3.257 4.378 4.260\n",
       "2 4.839 ⋯ 5.583 5.372 5.634 5.924 4.370 5.478 4.768 5.308 5.591 5.635\n",
       "3 3.384 ⋯ 3.699 3.485 3.416 3.276 3.060 3.120 3.833 3.538 3.485 2.456\n",
       "4 8.466 ⋯ 8.730 8.082 9.232 8.628 7.624 9.557 9.083 8.535 8.670 9.678\n",
       "5 2.032 ⋯ 2.506 2.319 0.555 1.460 3.333 1.366 1.771 2.221 3.639 2.300\n",
       "6 4.229 ⋯ 3.882 4.541 4.257 3.499 3.472 4.336 4.595 3.921 4.321 4.605"
      ]
     },
     "metadata": {},
     "output_type": "display_data"
    }
   ],
   "source": [
    "#data peprocessing\n",
    "data <- read.csv(file = \"path/GSE172114_rsem_gene_count_matrix_TMM_69samples.csv\") # data availble at GEO GSE172114\n",
    "dim(data)\n",
    "# Get metadata\n",
    "gse <- getGEO(\"GSE172114\", GSEMatrix = TRUE)\n",
    "metadata <- pData(phenoData(gse[[1]]))\n",
    "# Inspect metadata - these commands provide output for your manual inspection, so they're left as is\n",
    "#dim(metadata)\n",
    "#colnames(metadata)\n",
    "#metadata[,40:42]\n",
    "#sum(metadata[,41]==\"Critical\") # 46\n",
    "#sum(metadata[,41]==\"Non-critical\") # 23 first\n",
    "metadata[20,c('data_processing','data_processing.1','data_processing.2','data_processing.3','data_processing.4')]\n",
    "head(data)\n",
    "\n",
    "linear_data <- 2^data[,-1]\n",
    "rownames(linear_data)<-data[,1]\n",
    "ldata<-cbind(data[,1],linear_data)\n",
    "#any(linear_data<0)\n"
   ]
  },
  {
   "cell_type": "markdown",
   "id": "a77e2018",
   "metadata": {},
   "source": [
    "** DE Analysis**"
   ]
  },
  {
   "cell_type": "markdown",
   "id": "31dbfade-6979-4550-9751-d5efc8d8e2a5",
   "metadata": {},
   "source": [
    "this data was tmm normalised. edgeR use tmm normalisation for DE analysis and i only remove this step from analysis with edgeR to prevent redundancy. but this data cant be used for DEseq2 because its not raw count."
   ]
  },
  {
   "cell_type": "code",
   "execution_count": null,
   "id": "0687c303-9853-4790-85bc-af1df0beeae3",
   "metadata": {
    "tags": [],
    "vscode": {
     "languageId": "r"
    }
   },
   "outputs": [],
   "source": [
    "#EdgeR DE analysis\n",
    "\n",
    "#  DGE object\n",
    "y <- DGEList(counts=linear_data)\n",
    "# Filtering out genes with low counts\n",
    "keep <- rowSums(cpm(y) > 1) >= 2\n",
    "y <- y[keep, , keep.lib.sizes=FALSE]\n",
    "#  design matrix\n",
    "group <- factor(c(rep(\"Non-critical\",23), rep(\"Critical\",46)))\n",
    "design <- model.matrix(~group)\n",
    "# dispersions\n",
    "y <- estimateDisp(y, design)\n",
    "# exact test for differential expression\n",
    "fit <- glmQLFit(y, design)\n",
    "qlf <- glmQLFTest(fit, coef=2)\n",
    "results <- topTags(qlf)\n",
    "all_results <- topTags(qlf, n=Inf)  # Setting n=Inf for having all results\n",
    "sig_results <- all_results[all_results$table$FDR < 0.05, ]\n",
    "#  cutoffs\n",
    "results_df <- sig_results@.Data[[1]]\n",
    "filtered_DEGs <- results_df[results_df$FDR < 0.05 & abs(results_df$logFC) > 1, ]\n"
   ]
  },
  {
   "cell_type": "code",
   "execution_count": 5,
   "id": "a7df0aaa-112e-43d2-8cd5-b64570f863de",
   "metadata": {
    "tags": [],
    "vscode": {
     "languageId": "r"
    }
   },
   "outputs": [
    {
     "name": "stdout",
     "output_type": "stream",
     "text": [
      "[1] \"Number of significantly upregulated genes: 448\"\n",
      "[1] \"Number of significantly downregulated genes: 333\"\n"
     ]
    }
   ],
   "source": [
    "# Calculate the number of upregulated and downregulated genes\n",
    "upregulated_genes <- nrow(filtered_DEGs[filtered_DEGs$logFC >= 1, ])\n",
    "downregulated_genes <- nrow(filtered_DEGs[filtered_DEGs$logFC <= -1, ])\n",
    "print(paste(\"Number of significantly upregulated genes:\", upregulated_genes))\n",
    "print(paste(\"Number of significantly downregulated genes:\", downregulated_genes))"
   ]
  },
  {
   "cell_type": "code",
   "execution_count": 36,
   "id": "b1951b08-5cd5-4100-afee-ffcfd31f76bf",
   "metadata": {
    "tags": [],
    "vscode": {
     "languageId": "r"
    }
   },
   "outputs": [
    {
     "data": {
      "text/html": [
       "<dl>\n",
       "\t<dt>$table</dt>\n",
       "\t\t<dd><table class=\"dataframe\">\n",
       "<caption>A data.frame: 6 × 5</caption>\n",
       "<thead>\n",
       "\t<tr><th></th><th scope=col>logFC</th><th scope=col>logCPM</th><th scope=col>F</th><th scope=col>PValue</th><th scope=col>FDR</th></tr>\n",
       "\t<tr><th></th><th scope=col>&lt;dbl&gt;</th><th scope=col>&lt;dbl&gt;</th><th scope=col>&lt;dbl&gt;</th><th scope=col>&lt;dbl&gt;</th><th scope=col>&lt;dbl&gt;</th></tr>\n",
       "</thead>\n",
       "<tbody>\n",
       "\t<tr><th scope=row>ENSG00000119714.10_GPR68</th><td>1.6107857</td><td>2.503416</td><td>106.25953</td><td>7.886445e-16</td><td>1.258440e-11</td></tr>\n",
       "\t<tr><th scope=row>ENSG00000134545.13_KLRC1</th><td>1.7860245</td><td>2.786699</td><td> 88.62662</td><td>3.492714e-14</td><td>2.480526e-10</td></tr>\n",
       "\t<tr><th scope=row>ENSG00000007264.14_MATK</th><td>1.5619836</td><td>4.046020</td><td> 87.35693</td><td>4.663519e-14</td><td>2.480526e-10</td></tr>\n",
       "\t<tr><th scope=row>ENSG00000273047.1_RP4-583P15.14</th><td>1.1644053</td><td>2.820845</td><td> 83.10987</td><td>1.247982e-13</td><td>4.691434e-10</td></tr>\n",
       "\t<tr><th scope=row>ENSG00000099622.13_CIRBP</th><td>0.7252374</td><td>6.888404</td><td> 82.41462</td><td>1.470024e-13</td><td>4.691434e-10</td></tr>\n",
       "\t<tr><th scope=row>ENSG00000149823.7_VPS51</th><td>0.9524669</td><td>6.297903</td><td> 79.31469</td><td>3.079226e-13</td><td>7.579722e-10</td></tr>\n",
       "</tbody>\n",
       "</table>\n",
       "</dd>\n",
       "\t<dt>$adjust.method</dt>\n",
       "\t\t<dd>'BH'</dd>\n",
       "\t<dt>$comparison</dt>\n",
       "\t\t<dd>'groupNon-critical'</dd>\n",
       "\t<dt>$test</dt>\n",
       "\t\t<dd>'glm'</dd>\n",
       "</dl>\n"
      ],
      "text/latex": [
       "\\begin{description}\n",
       "\\item[\\$table] A data.frame: 6 × 5\n",
       "\\begin{tabular}{r|lllll}\n",
       "  & logFC & logCPM & F & PValue & FDR\\\\\n",
       "  & <dbl> & <dbl> & <dbl> & <dbl> & <dbl>\\\\\n",
       "\\hline\n",
       "\tENSG00000119714.10\\_GPR68 & 1.6107857 & 2.503416 & 106.25953 & 7.886445e-16 & 1.258440e-11\\\\\n",
       "\tENSG00000134545.13\\_KLRC1 & 1.7860245 & 2.786699 &  88.62662 & 3.492714e-14 & 2.480526e-10\\\\\n",
       "\tENSG00000007264.14\\_MATK & 1.5619836 & 4.046020 &  87.35693 & 4.663519e-14 & 2.480526e-10\\\\\n",
       "\tENSG00000273047.1\\_RP4-583P15.14 & 1.1644053 & 2.820845 &  83.10987 & 1.247982e-13 & 4.691434e-10\\\\\n",
       "\tENSG00000099622.13\\_CIRBP & 0.7252374 & 6.888404 &  82.41462 & 1.470024e-13 & 4.691434e-10\\\\\n",
       "\tENSG00000149823.7\\_VPS51 & 0.9524669 & 6.297903 &  79.31469 & 3.079226e-13 & 7.579722e-10\\\\\n",
       "\\end{tabular}\n",
       "\n",
       "\\item[\\$adjust.method] 'BH'\n",
       "\\item[\\$comparison] 'groupNon-critical'\n",
       "\\item[\\$test] 'glm'\n",
       "\\end{description}\n"
      ],
      "text/markdown": [
       "$table\n",
       ":   \n",
       "A data.frame: 6 × 5\n",
       "\n",
       "| <!--/--> | logFC &lt;dbl&gt; | logCPM &lt;dbl&gt; | F &lt;dbl&gt; | PValue &lt;dbl&gt; | FDR &lt;dbl&gt; |\n",
       "|---|---|---|---|---|---|\n",
       "| ENSG00000119714.10_GPR68 | 1.6107857 | 2.503416 | 106.25953 | 7.886445e-16 | 1.258440e-11 |\n",
       "| ENSG00000134545.13_KLRC1 | 1.7860245 | 2.786699 |  88.62662 | 3.492714e-14 | 2.480526e-10 |\n",
       "| ENSG00000007264.14_MATK | 1.5619836 | 4.046020 |  87.35693 | 4.663519e-14 | 2.480526e-10 |\n",
       "| ENSG00000273047.1_RP4-583P15.14 | 1.1644053 | 2.820845 |  83.10987 | 1.247982e-13 | 4.691434e-10 |\n",
       "| ENSG00000099622.13_CIRBP | 0.7252374 | 6.888404 |  82.41462 | 1.470024e-13 | 4.691434e-10 |\n",
       "| ENSG00000149823.7_VPS51 | 0.9524669 | 6.297903 |  79.31469 | 3.079226e-13 | 7.579722e-10 |\n",
       "\n",
       "\n",
       "$adjust.method\n",
       ":   'BH'\n",
       "$comparison\n",
       ":   'groupNon-critical'\n",
       "$test\n",
       ":   'glm'\n",
       "\n",
       "\n"
      ],
      "text/plain": [
       "Coefficient:  groupNon-critical \n",
       "                                    logFC   logCPM         F       PValue\n",
       "ENSG00000119714.10_GPR68        1.6107857 2.503416 106.25953 7.886445e-16\n",
       "ENSG00000134545.13_KLRC1        1.7860245 2.786699  88.62662 3.492714e-14\n",
       "ENSG00000007264.14_MATK         1.5619836 4.046020  87.35693 4.663519e-14\n",
       "ENSG00000273047.1_RP4-583P15.14 1.1644053 2.820845  83.10987 1.247982e-13\n",
       "ENSG00000099622.13_CIRBP        0.7252374 6.888404  82.41462 1.470024e-13\n",
       "ENSG00000149823.7_VPS51         0.9524669 6.297903  79.31469 3.079226e-13\n",
       "                                         FDR\n",
       "ENSG00000119714.10_GPR68        1.258440e-11\n",
       "ENSG00000134545.13_KLRC1        2.480526e-10\n",
       "ENSG00000007264.14_MATK         2.480526e-10\n",
       "ENSG00000273047.1_RP4-583P15.14 4.691434e-10\n",
       "ENSG00000099622.13_CIRBP        4.691434e-10\n",
       "ENSG00000149823.7_VPS51         7.579722e-10"
      ]
     },
     "metadata": {},
     "output_type": "display_data"
    }
   ],
   "source": [
    "head(all_results)\n",
    "#write.csv(all_results, \"EdgeR all result\", row.names = TRUE)"
   ]
  },
  {
   "cell_type": "markdown",
   "id": "9b305ce5",
   "metadata": {},
   "source": [
    "**Visualisation**"
   ]
  },
  {
   "cell_type": "code",
   "execution_count": null,
   "id": "42555dff-2025-44e0-8d67-4eb55fb9a778",
   "metadata": {
    "tags": [],
    "vscode": {
     "languageId": "r"
    }
   },
   "outputs": [
    {
     "data": {
      "image/png": "[encoded data removed]",
      "text/plain": [
       "plot without title"
      ]
     },
     "metadata": {},
     "output_type": "display_data"
    }
   ],
   "source": [
    "\n",
    "# excluding gene names\n",
    "expr_data <- data[, -1]\n",
    "rownames(expr_data) <- data[, 1]\n",
    "\n",
    "# Perform PCA on the transposed expression data\n",
    "pca_result <- prcomp(t(expr_data), scale. = TRUE)\n",
    "pc_df <- as.data.frame(pca_result$x)\n",
    "pc_df$group <- c(rep(\"Non-critical\", 23), rep(\"Critical\", 46))\n",
    "\n",
    "#  PCA results , coloring by group\n",
    "pca_plot <- ggplot(pc_df, aes(x = PC1, y = PC2, color = group)) +\n",
    "  geom_point(aes(shape = group), size = 3) +\n",
    "  theme_bw() +\n",
    "  labs(title = \"PCA of GSE172114 Data\") +\n",
    "  scale_color_manual(values = c(\"Critical\" = \"#FF66CC\", \"Non-critical\" = \"#00CC66\")) +\n",
    "  scale_shape_manual(values = c(\"Critical\" = 17, \"Non-critical\" = 19))\n",
    "\n",
    "print(pca_plot)\n",
    "ggsave(\"pca_plot.png\", pca_plot, width = 8, height = 6, dpi = 300)\n"
   ]
  },
  {
   "cell_type": "code",
   "execution_count": 40,
   "id": "7bd31620-aba3-4f1f-8e4b-fcc865c700fb",
   "metadata": {
    "tags": [],
    "vscode": {
     "languageId": "r"
    }
   },
   "outputs": [
    {
     "data": {
      "image/png": "[encoded data removed]",
      "text/plain": [
       "plot without title"
      ]
     },
     "metadata": {
      "image/png": {
       "height": 420,
       "width": 420
      }
     },
     "output_type": "display_data"
    }
   ],
   "source": [
    "\n",
    "# dataframe for plotting\n",
    "volcano_data <- data.frame(\n",
    "  logFC = all_results$table$logFC,\n",
    "  minusLog10P = -log10(all_results$table$PValue))\n",
    "\n",
    "# Adding a significance column based on FDR and logFC\n",
    "volcano_data$significant <- ifelse(all_results$table$FDR < 0.05 & abs(all_results$table$logFC) > 1, \"yes\", \"no\")\n",
    "\n",
    "volcano_plot <- ggplot(volcano_data, aes(x = logFC, y = minusLog10P, color = significant)) +\n",
    "  geom_point(alpha = 0.5) +\n",
    "  labs(title = \"Volcano Plot\",\n",
    "       x = \"Log2 Fold Change\",\n",
    "       y = \"-Log10 P-value\") +\n",
    "  scale_color_manual(values = c(\"no\" = \"grey\", \"yes\" = \"red\")) +  # change color as per preference\n",
    "  theme_minimal()\n",
    "\n",
    "print(volcano_plot)\n",
    "ggsave(\"volcano_plot.png\", volcano_plot, width = 8, height = 6, dpi = 300)\n"
   ]
  },
  {
   "cell_type": "code",
   "execution_count": null,
   "id": "2102975b-6766-4f59-9746-9dd75598c6d9",
   "metadata": {
    "tags": [],
    "vscode": {
     "languageId": "r"
    }
   },
   "outputs": [],
   "source": [
    "#Heatmap\n",
    "\n",
    "#  Heatmap for all data:\n",
    "all_data_transposed <- t(data[,-1])\n",
    "annotation <- data.frame(Group = c(rep(\"Non-critical\", 23), rep(\"Critical\", 46)))\n",
    "rownames(annotation) <- colnames(linear_data)\n",
    "pheatmap(all_data_transposed, annotation_row = annotation, show_rownames = FALSE, \n",
    "         main = \"All Data\", clustering_distance_rows = \"euclidean\", \n",
    "         clustering_method = \"complete\")\n",
    "# Heatmap for differentially expressed genes:\n",
    "DEGs_data <- data[rownames(filtered_DEGs),-1 ]\n",
    "DEGs_data_transposed <- t(DEGs_data)\n",
    "pheatmap(DEGs_data_transposed, annotation_row = annotation, show_rownames = FALSE,\n",
    "         main = \"Differentially Expressed Genes\", clustering_distance_rows = \"euclidean\",\n",
    "         clustering_method = \"complete\")"
   ]
  }
 ],
 "metadata": {
  "kernelspec": {
   "display_name": "R",
   "language": "R",
   "name": "ir"
  },
  "language_info": {
   "codemirror_mode": "r",
   "file_extension": ".r",
   "mimetype": "text/x-r-source",
   "name": "R",
   "pygments_lexer": "r",
   "version": "4.3.1"
  }
 },
 "nbformat": 4,
 "nbformat_minor": 5
}
