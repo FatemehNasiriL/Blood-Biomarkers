{
 "cells": [
  {
   "cell_type": "markdown",
   "id": "5c99848a-5b02-42e2-a443-ec59da0b1377",
   "metadata": {},
   "source": [
    " ** Meta Analysis and External Validation**"
   ]
  },
  {
   "cell_type": "markdown",
   "id": "e5f39846-0719-401a-8b02-caa86fe484c8",
   "metadata": {},
   "source": [
    " 1. data GSE171110: 44 severe covid-19 patients and 10 Healthy  \n",
    " 2. data GSE163151: 7 hospitalized COVID-19 vs  20 Healthy patients \n",
    " 3. data GSE152641: 62 COVID-19 patients vs 24 healthy controls  \n",
    " 4. data GSE172114: 46 critical COVID-19 vs 23 non-critical COVID19"
   ]
  },
  {
   "cell_type": "code",
   "execution_count": null,
   "id": "970f1943-cdd2-4978-9980-7ffb4c071803",
   "metadata": {
    "vscode": {
     "languageId": "r"
    }
   },
   "outputs": [],
   "source": [
    "#Dependencies\n",
    "library(metaRNASeq)\n",
    "library(org.Hs.eg.db)\n",
    "library(UpSetR)\n",
    "library(ggvenn)\n",
    "library(ggplot2)"
   ]
  },
  {
   "cell_type": "markdown",
   "id": "95663968",
   "metadata": {},
   "source": [
    "**PreProcessing**\n",
    "\n",
    "Step1 :Data Preparation:  1. different Gene Identifiers converted to ntrezGeneID\n",
    "                          2. all have the same columns and data type in each columns\n",
    "                          3. all have the same unit for example logFC values are in log2 scale in all data\n",
    "                          4. all had the same filtering out genes with low counts \n",
    "                          5. all had the same normalization method before EdgeR analysis: TMM\n",
    "                          6. missing value omiting:"
   ]
  },
  {
   "cell_type": "code",
   "execution_count": null,
   "id": "faf4ca79-d3e4-4092-afe6-fd46eea502e2",
   "metadata": {
    "tags": [],
    "vscode": {
     "languageId": "r"
    }
   },
   "outputs": [],
   "source": [
    "#data GSE171110   #44 severe covid-19 patients and 10 Healthy\n",
    "deseqdata110 <- read.table(file = \"GSE171110/DEseq2_All_result.txt\",header=TRUE, row.names=1, sep=\"\", check.names=FALSE)\n",
    "edgedata110 <- read.table(file = \"GSE171110/edgR_all result_covidvshealthy\",header=TRUE, row.names=1, sep=\",\", check.names=FALSE)\n",
    "#making a column with corresponding Entrz gene ID\n",
    "entrez_ids <- mapIds(org.Hs.eg.db, keys = rownames(deseqdata110), column = \"ENTREZID\", keytype = \"SYMBOL\", multiVals = \"first\")\n",
    "deseqdata110$EntrezGeneID <- entrez_ids[rownames(deseqdata110)]\n",
    "entrez_ids <- mapIds(org.Hs.eg.db, keys = rownames(edgedata110), column = \"ENTREZID\", keytype = \"SYMBOL\", multiVals = \"first\")\n",
    "edgedata110$EntrezGeneID <- entrez_ids[rownames(edgedata110)]\n",
    "deseqdata110$GeneSymbol<-rownames(deseqdata110)\n",
    "edgedata110$GeneSymbol<-rownames(edgedata110)"
   ]
  },
  {
   "cell_type": "code",
   "execution_count": null,
   "id": "a9845fc9-eb64-46b9-9d3b-54ebe8d80a7b",
   "metadata": {
    "vscode": {
     "languageId": "r"
    }
   },
   "outputs": [],
   "source": [
    "#data GSE163151 #hospitalized COVID-19: 7 samples , Healthy: 20 samples\n",
    "deseqdata151 <- read.table(file = \"GSE163151/DEseq All covid_healthy result.txt\",header=TRUE, sep=\",\", check.names=FALSE)\n",
    "edgedata151 <- read.table(file = \"GSE163151/edgR_all_result_healthyvscovid.csv\",header=TRUE, row.names=1, sep=\",\", check.names=FALSE)\n",
    "#making a column with corresponding Entrz gene ID\n",
    "entrez_ids <- mapIds(org.Hs.eg.db, keys = rownames(deseqdata151), column = \"ENTREZID\", keytype = \"SYMBOL\", multiVals = \"first\")\n",
    "deseqdata151$EntrezGeneID <- entrez_ids[rownames(deseqdata151)]\n",
    "entrez_ids <- mapIds(org.Hs.eg.db, keys = rownames(edgedata151), column = \"ENTREZID\", keytype = \"SYMBOL\", multiVals = \"first\")\n",
    "edgedata151$EntrezGeneID <- entrez_ids[rownames(edgedata151)]\n",
    "deseqdata151$GeneSymbol<-rownames(deseqdata151)\n",
    "edgedata151$GeneSymbol<-rownames(edgedata151)\n",
    "\n",
    "# influenza vs healthy\n",
    "inf151 <- read.table(file = \"GSE163151/edgR_all_result_healthyvsinf.csv\",header=TRUE, row.names=1, sep=\",\", check.names=FALSE)\n",
    "entrez_ids <- mapIds(org.Hs.eg.db, keys = rownames(inf151), column = \"ENTREZID\", keytype = \"SYMBOL\", multiVals = \"first\")\n",
    "inf151$EntrezGeneID <- entrez_ids[rownames(inf151)]\n",
    "inf151$GeneSymbol<-rownames(inf151)\n",
    "\n",
    "# bacterial infection vs healthy\n",
    "bac151 <- read.table(file = \"GSE163151/edgR_all_result_healthyvsbac.csv\",header=TRUE, row.names=1, sep=\",\", check.names=FALSE)\n",
    "entrez_ids <- mapIds(org.Hs.eg.db, keys = rownames(bac151), column = \"ENTREZID\", keytype = \"SYMBOL\", multiVals = \"first\")\n",
    "bac151$EntrezGeneID <- entrez_ids[rownames(bac151)]\n",
    "bac151$GeneSymbol<-rownames(bac151)\n"
   ]
  },
  {
   "cell_type": "code",
   "execution_count": null,
   "id": "b18f9eef-95dd-46f3-b3d9-cf29f19d6810",
   "metadata": {
    "tags": [],
    "vscode": {
     "languageId": "r"
    }
   },
   "outputs": [],
   "source": [
    "#GSE152641 #62 COVID-19 patients vs 24 healthy controls\n",
    "deseqdata641 <- read.table(file = \"GSE152641/DESeq2 All results.txt\", header=TRUE, row.names=1, sep=\"\", check.names=FALSE)\n",
    "edgedata641 <- read.table(file = \"GSE152641/EdgR All results.txt\", header=TRUE, row.names=1, sep=\"\", check.names=FALSE)\n",
    "# Create EntrezGeneID\n",
    "deseqdata641$EntrezGeneID <- rownames(deseqdata641)\n",
    "edgedata641$EntrezGeneID <- rownames(edgedata641)\n",
    "# Map Entrez IDs to Gene Symbols\n",
    "gene_symbols_deseq <- mapIds(org.Hs.eg.db, keys = rownames(deseqdata641), column = \"SYMBOL\", keytype = \"ENTREZID\", multiVals = \"first\")\n",
    "gene_symbols_edge <- mapIds(org.Hs.eg.db, keys = rownames(edgedata641), column = \"SYMBOL\", keytype = \"ENTREZID\", multiVals = \"first\")\n",
    "# Assign Gene Symbols to the data frames\n",
    "deseqdata641$GeneSymbol <- gene_symbols_deseq[rownames(deseqdata641)]\n",
    "edgedata641$GeneSymbol <- gene_symbols_edge[rownames(edgedata641)]\n"
   ]
  },
  {
   "cell_type": "code",
   "execution_count": 180,
   "id": "74351b62-3858-447d-834a-c01f064a4d3c",
   "metadata": {
    "tags": [],
    "vscode": {
     "languageId": "r"
    }
   },
   "outputs": [
    {
     "data": {
      "text/html": [
       "<style>\n",
       ".list-inline {list-style: none; margin:0; padding: 0}\n",
       ".list-inline>li {display: inline-block}\n",
       ".list-inline>li:not(:last-child)::after {content: \"\\00b7\"; padding: 0 .5ex}\n",
       "</style>\n",
       "<ol class=list-inline><li>15957</li><li>5</li></ol>\n"
      ],
      "text/latex": [
       "\\begin{enumerate*}\n",
       "\\item 15957\n",
       "\\item 5\n",
       "\\end{enumerate*}\n"
      ],
      "text/markdown": [
       "1. 15957\n",
       "2. 5\n",
       "\n",
       "\n"
      ],
      "text/plain": [
       "[1] 15957     5"
      ]
     },
     "metadata": {},
     "output_type": "display_data"
    },
    {
     "name": "stderr",
     "output_type": "stream",
     "text": [
      "'select()' returned 1:many mapping between keys and columns\n",
      "\n"
     ]
    },
    {
     "data": {
      "text/html": [
       "<table class=\"dataframe\">\n",
       "<caption>A data.frame: 6 × 7</caption>\n",
       "<thead>\n",
       "\t<tr><th></th><th scope=col>logFC</th><th scope=col>logCPM</th><th scope=col>F</th><th scope=col>PValue</th><th scope=col>FDR</th><th scope=col>EntrezGeneID</th><th scope=col>GeneSymbol</th></tr>\n",
       "\t<tr><th></th><th scope=col>&lt;dbl&gt;</th><th scope=col>&lt;dbl&gt;</th><th scope=col>&lt;dbl&gt;</th><th scope=col>&lt;dbl&gt;</th><th scope=col>&lt;dbl&gt;</th><th scope=col>&lt;chr&gt;</th><th scope=col>&lt;chr&gt;</th></tr>\n",
       "</thead>\n",
       "<tbody>\n",
       "\t<tr><th scope=row>ENSG00000119714.10_GPR68</th><td>1.6107857</td><td>2.503416</td><td>106.25953</td><td>7.886445e-16</td><td>1.258440e-11</td><td>8111</td><td>GPR68        </td></tr>\n",
       "\t<tr><th scope=row>ENSG00000134545.13_KLRC1</th><td>1.7860245</td><td>2.786699</td><td> 88.62662</td><td>3.492714e-14</td><td>2.480526e-10</td><td>3821</td><td>KLRC1        </td></tr>\n",
       "\t<tr><th scope=row>ENSG00000007264.14_MATK</th><td>1.5619836</td><td>4.046020</td><td> 87.35693</td><td>4.663519e-14</td><td>2.480526e-10</td><td>4145</td><td>MATK         </td></tr>\n",
       "\t<tr><th scope=row>ENSG00000273047.1_RP4-583P15.14</th><td>1.1644053</td><td>2.820845</td><td> 83.10987</td><td>1.247982e-13</td><td>4.691434e-10</td><td>NA  </td><td>RP4-583P15.14</td></tr>\n",
       "\t<tr><th scope=row>ENSG00000099622.13_CIRBP</th><td>0.7252374</td><td>6.888404</td><td> 82.41462</td><td>1.470024e-13</td><td>4.691434e-10</td><td>1153</td><td>CIRBP        </td></tr>\n",
       "\t<tr><th scope=row>ENSG00000149823.7_VPS51</th><td>0.9524669</td><td>6.297903</td><td> 79.31469</td><td>3.079226e-13</td><td>7.579722e-10</td><td>738 </td><td>VPS51        </td></tr>\n",
       "</tbody>\n",
       "</table>\n"
      ],
      "text/latex": [
       "A data.frame: 6 × 7\n",
       "\\begin{tabular}{r|lllllll}\n",
       "  & logFC & logCPM & F & PValue & FDR & EntrezGeneID & GeneSymbol\\\\\n",
       "  & <dbl> & <dbl> & <dbl> & <dbl> & <dbl> & <chr> & <chr>\\\\\n",
       "\\hline\n",
       "\tENSG00000119714.10\\_GPR68 & 1.6107857 & 2.503416 & 106.25953 & 7.886445e-16 & 1.258440e-11 & 8111 & GPR68        \\\\\n",
       "\tENSG00000134545.13\\_KLRC1 & 1.7860245 & 2.786699 &  88.62662 & 3.492714e-14 & 2.480526e-10 & 3821 & KLRC1        \\\\\n",
       "\tENSG00000007264.14\\_MATK & 1.5619836 & 4.046020 &  87.35693 & 4.663519e-14 & 2.480526e-10 & 4145 & MATK         \\\\\n",
       "\tENSG00000273047.1\\_RP4-583P15.14 & 1.1644053 & 2.820845 &  83.10987 & 1.247982e-13 & 4.691434e-10 & NA   & RP4-583P15.14\\\\\n",
       "\tENSG00000099622.13\\_CIRBP & 0.7252374 & 6.888404 &  82.41462 & 1.470024e-13 & 4.691434e-10 & 1153 & CIRBP        \\\\\n",
       "\tENSG00000149823.7\\_VPS51 & 0.9524669 & 6.297903 &  79.31469 & 3.079226e-13 & 7.579722e-10 & 738  & VPS51        \\\\\n",
       "\\end{tabular}\n"
      ],
      "text/markdown": [
       "\n",
       "A data.frame: 6 × 7\n",
       "\n",
       "| <!--/--> | logFC &lt;dbl&gt; | logCPM &lt;dbl&gt; | F &lt;dbl&gt; | PValue &lt;dbl&gt; | FDR &lt;dbl&gt; | EntrezGeneID &lt;chr&gt; | GeneSymbol &lt;chr&gt; |\n",
       "|---|---|---|---|---|---|---|---|\n",
       "| ENSG00000119714.10_GPR68 | 1.6107857 | 2.503416 | 106.25953 | 7.886445e-16 | 1.258440e-11 | 8111 | GPR68         |\n",
       "| ENSG00000134545.13_KLRC1 | 1.7860245 | 2.786699 |  88.62662 | 3.492714e-14 | 2.480526e-10 | 3821 | KLRC1         |\n",
       "| ENSG00000007264.14_MATK | 1.5619836 | 4.046020 |  87.35693 | 4.663519e-14 | 2.480526e-10 | 4145 | MATK          |\n",
       "| ENSG00000273047.1_RP4-583P15.14 | 1.1644053 | 2.820845 |  83.10987 | 1.247982e-13 | 4.691434e-10 | NA   | RP4-583P15.14 |\n",
       "| ENSG00000099622.13_CIRBP | 0.7252374 | 6.888404 |  82.41462 | 1.470024e-13 | 4.691434e-10 | 1153 | CIRBP         |\n",
       "| ENSG00000149823.7_VPS51 | 0.9524669 | 6.297903 |  79.31469 | 3.079226e-13 | 7.579722e-10 | 738  | VPS51         |\n",
       "\n"
      ],
      "text/plain": [
       "                                logFC     logCPM   F         PValue      \n",
       "ENSG00000119714.10_GPR68        1.6107857 2.503416 106.25953 7.886445e-16\n",
       "ENSG00000134545.13_KLRC1        1.7860245 2.786699  88.62662 3.492714e-14\n",
       "ENSG00000007264.14_MATK         1.5619836 4.046020  87.35693 4.663519e-14\n",
       "ENSG00000273047.1_RP4-583P15.14 1.1644053 2.820845  83.10987 1.247982e-13\n",
       "ENSG00000099622.13_CIRBP        0.7252374 6.888404  82.41462 1.470024e-13\n",
       "ENSG00000149823.7_VPS51         0.9524669 6.297903  79.31469 3.079226e-13\n",
       "                                FDR          EntrezGeneID GeneSymbol   \n",
       "ENSG00000119714.10_GPR68        1.258440e-11 8111         GPR68        \n",
       "ENSG00000134545.13_KLRC1        2.480526e-10 3821         KLRC1        \n",
       "ENSG00000007264.14_MATK         2.480526e-10 4145         MATK         \n",
       "ENSG00000273047.1_RP4-583P15.14 4.691434e-10 NA           RP4-583P15.14\n",
       "ENSG00000099622.13_CIRBP        4.691434e-10 1153         CIRBP        \n",
       "ENSG00000149823.7_VPS51         7.579722e-10 738          VPS51        "
      ]
     },
     "metadata": {},
     "output_type": "display_data"
    }
   ],
   "source": [
    "#data GSE172114 #46 critical , 23 non-critical COVID19\n",
    "#there is no DESeq2 results because of normalization of original data\n",
    "edgedata114 <- read.table(file = \"GSE172114/EdgeR all result\",header=TRUE, row.names=1, sep=\",\", check.names=FALSE)\n",
    "dim(edgedata114)\n",
    "library(org.Hs.eg.db)\n",
    "gene_symbols <- sub(\".*_\", \"\", rownames(edgedata114))\n",
    "entrez_ids <- mapIds(org.Hs.eg.db, keys = gene_symbols, column = \"ENTREZID\", keytype = \"SYMBOL\", multiVals = \"first\")\n",
    "edgedata114$EntrezGeneID <- entrez_ids[gene_symbols]\n",
    "edgedata114$GeneSymbol <- gene_symbols\n",
    "head(edgedata114)\n"
   ]
  },
  {
   "cell_type": "code",
   "execution_count": 181,
   "id": "ab3cb617-da24-48a3-8410-c6d105dcb6ff",
   "metadata": {
    "tags": [],
    "vscode": {
     "languageId": "r"
    }
   },
   "outputs": [
    {
     "data": {
      "text/html": [
       "<table class=\"dataframe\">\n",
       "<caption>A data.frame: 6 × 12</caption>\n",
       "<thead>\n",
       "\t<tr><th></th><th scope=col>pval641</th><th scope=col>FC641</th><th scope=col>baseMean641</th><th scope=col>lfcSE641</th><th scope=col>pval151</th><th scope=col>FC151</th><th scope=col>baseMean151</th><th scope=col>lfcSE151</th><th scope=col>pval110</th><th scope=col>FC110</th><th scope=col>baseMean110</th><th scope=col>lfcSE110</th></tr>\n",
       "\t<tr><th></th><th scope=col>&lt;dbl&gt;</th><th scope=col>&lt;dbl&gt;</th><th scope=col>&lt;dbl&gt;</th><th scope=col>&lt;dbl&gt;</th><th scope=col>&lt;dbl&gt;</th><th scope=col>&lt;dbl&gt;</th><th scope=col>&lt;dbl&gt;</th><th scope=col>&lt;dbl&gt;</th><th scope=col>&lt;dbl&gt;</th><th scope=col>&lt;dbl&gt;</th><th scope=col>&lt;dbl&gt;</th><th scope=col>&lt;dbl&gt;</th></tr>\n",
       "</thead>\n",
       "<tbody>\n",
       "\t<tr><th scope=row>A1BG</th><td>0.021343475</td><td>-0.8539164</td><td>   5.44056</td><td>0.3219830</td><td>0.1677109</td><td>-0.7337442</td><td> 11.763785</td><td>0.4065774</td><td>0.178717429</td><td>-0.1839214</td><td>78.850310</td><td>0.1136161</td></tr>\n",
       "\t<tr><th scope=row>A1BG_AS1</th><td>         NA</td><td>        NA</td><td>        NA</td><td>       NA</td><td>0.1741600</td><td>-1.2812531</td><td>  4.764781</td><td>0.7216433</td><td>         NA</td><td>        NA</td><td>       NA</td><td>       NA</td></tr>\n",
       "\t<tr><th scope=row>A1CF</th><td>0.004961396</td><td> 0.9794048</td><td>  10.68313</td><td>0.3063447</td><td>0.1143338</td><td>-2.7294646</td><td> 17.701652</td><td>1.3111754</td><td>0.274960101</td><td> 0.4352421</td><td> 6.380028</td><td>0.3245492</td></tr>\n",
       "\t<tr><th scope=row>A2M</th><td>0.649366483</td><td>-0.1293646</td><td>1268.09606</td><td>0.2146932</td><td>0.2276078</td><td> 0.7581095</td><td>341.388743</td><td>0.4818206</td><td>0.146841451</td><td> 0.4157708</td><td>41.067909</td><td>0.2396970</td></tr>\n",
       "\t<tr><th scope=row>A2M_AS1</th><td>         NA</td><td>        NA</td><td>        NA</td><td>       NA</td><td>0.2497307</td><td> 0.7140570</td><td> 73.072888</td><td>0.4771452</td><td>         NA</td><td>        NA</td><td>       NA</td><td>       NA</td></tr>\n",
       "\t<tr><th scope=row>A2ML1</th><td>0.010344599</td><td> 0.7072489</td><td>  16.47994</td><td>0.2411158</td><td>0.1223940</td><td>-2.7274589</td><td> 26.988457</td><td>1.3424316</td><td>0.004946548</td><td> 0.7672777</td><td>36.093265</td><td>0.2422568</td></tr>\n",
       "</tbody>\n",
       "</table>\n"
      ],
      "text/latex": [
       "A data.frame: 6 × 12\n",
       "\\begin{tabular}{r|llllllllllll}\n",
       "  & pval641 & FC641 & baseMean641 & lfcSE641 & pval151 & FC151 & baseMean151 & lfcSE151 & pval110 & FC110 & baseMean110 & lfcSE110\\\\\n",
       "  & <dbl> & <dbl> & <dbl> & <dbl> & <dbl> & <dbl> & <dbl> & <dbl> & <dbl> & <dbl> & <dbl> & <dbl>\\\\\n",
       "\\hline\n",
       "\tA1BG & 0.021343475 & -0.8539164 &    5.44056 & 0.3219830 & 0.1677109 & -0.7337442 &  11.763785 & 0.4065774 & 0.178717429 & -0.1839214 & 78.850310 & 0.1136161\\\\\n",
       "\tA1BG\\_AS1 &          NA &         NA &         NA &        NA & 0.1741600 & -1.2812531 &   4.764781 & 0.7216433 &          NA &         NA &        NA &        NA\\\\\n",
       "\tA1CF & 0.004961396 &  0.9794048 &   10.68313 & 0.3063447 & 0.1143338 & -2.7294646 &  17.701652 & 1.3111754 & 0.274960101 &  0.4352421 &  6.380028 & 0.3245492\\\\\n",
       "\tA2M & 0.649366483 & -0.1293646 & 1268.09606 & 0.2146932 & 0.2276078 &  0.7581095 & 341.388743 & 0.4818206 & 0.146841451 &  0.4157708 & 41.067909 & 0.2396970\\\\\n",
       "\tA2M\\_AS1 &          NA &         NA &         NA &        NA & 0.2497307 &  0.7140570 &  73.072888 & 0.4771452 &          NA &         NA &        NA &        NA\\\\\n",
       "\tA2ML1 & 0.010344599 &  0.7072489 &   16.47994 & 0.2411158 & 0.1223940 & -2.7274589 &  26.988457 & 1.3424316 & 0.004946548 &  0.7672777 & 36.093265 & 0.2422568\\\\\n",
       "\\end{tabular}\n"
      ],
      "text/markdown": [
       "\n",
       "A data.frame: 6 × 12\n",
       "\n",
       "| <!--/--> | pval641 &lt;dbl&gt; | FC641 &lt;dbl&gt; | baseMean641 &lt;dbl&gt; | lfcSE641 &lt;dbl&gt; | pval151 &lt;dbl&gt; | FC151 &lt;dbl&gt; | baseMean151 &lt;dbl&gt; | lfcSE151 &lt;dbl&gt; | pval110 &lt;dbl&gt; | FC110 &lt;dbl&gt; | baseMean110 &lt;dbl&gt; | lfcSE110 &lt;dbl&gt; |\n",
       "|---|---|---|---|---|---|---|---|---|---|---|---|---|\n",
       "| A1BG | 0.021343475 | -0.8539164 |    5.44056 | 0.3219830 | 0.1677109 | -0.7337442 |  11.763785 | 0.4065774 | 0.178717429 | -0.1839214 | 78.850310 | 0.1136161 |\n",
       "| A1BG_AS1 |          NA |         NA |         NA |        NA | 0.1741600 | -1.2812531 |   4.764781 | 0.7216433 |          NA |         NA |        NA |        NA |\n",
       "| A1CF | 0.004961396 |  0.9794048 |   10.68313 | 0.3063447 | 0.1143338 | -2.7294646 |  17.701652 | 1.3111754 | 0.274960101 |  0.4352421 |  6.380028 | 0.3245492 |\n",
       "| A2M | 0.649366483 | -0.1293646 | 1268.09606 | 0.2146932 | 0.2276078 |  0.7581095 | 341.388743 | 0.4818206 | 0.146841451 |  0.4157708 | 41.067909 | 0.2396970 |\n",
       "| A2M_AS1 |          NA |         NA |         NA |        NA | 0.2497307 |  0.7140570 |  73.072888 | 0.4771452 |          NA |         NA |        NA |        NA |\n",
       "| A2ML1 | 0.010344599 |  0.7072489 |   16.47994 | 0.2411158 | 0.1223940 | -2.7274589 |  26.988457 | 1.3424316 | 0.004946548 |  0.7672777 | 36.093265 | 0.2422568 |\n",
       "\n"
      ],
      "text/plain": [
       "         pval641     FC641      baseMean641 lfcSE641  pval151   FC151     \n",
       "A1BG     0.021343475 -0.8539164    5.44056  0.3219830 0.1677109 -0.7337442\n",
       "A1BG_AS1          NA         NA         NA         NA 0.1741600 -1.2812531\n",
       "A1CF     0.004961396  0.9794048   10.68313  0.3063447 0.1143338 -2.7294646\n",
       "A2M      0.649366483 -0.1293646 1268.09606  0.2146932 0.2276078  0.7581095\n",
       "A2M_AS1           NA         NA         NA         NA 0.2497307  0.7140570\n",
       "A2ML1    0.010344599  0.7072489   16.47994  0.2411158 0.1223940 -2.7274589\n",
       "         baseMean151 lfcSE151  pval110     FC110      baseMean110 lfcSE110 \n",
       "A1BG      11.763785  0.4065774 0.178717429 -0.1839214 78.850310   0.1136161\n",
       "A1BG_AS1   4.764781  0.7216433          NA         NA        NA          NA\n",
       "A1CF      17.701652  1.3111754 0.274960101  0.4352421  6.380028   0.3245492\n",
       "A2M      341.388743  0.4818206 0.146841451  0.4157708 41.067909   0.2396970\n",
       "A2M_AS1   73.072888  0.4771452          NA         NA        NA          NA\n",
       "A2ML1     26.988457  1.3424316 0.004946548  0.7672777 36.093265   0.2422568"
      ]
     },
     "metadata": {},
     "output_type": "display_data"
    },
    {
     "data": {
      "text/html": [
       "<style>\n",
       ".list-inline {list-style: none; margin:0; padding: 0}\n",
       ".list-inline>li {display: inline-block}\n",
       ".list-inline>li:not(:last-child)::after {content: \"\\00b7\"; padding: 0 .5ex}\n",
       "</style>\n",
       "<ol class=list-inline><li>39663</li><li>12</li></ol>\n"
      ],
      "text/latex": [
       "\\begin{enumerate*}\n",
       "\\item 39663\n",
       "\\item 12\n",
       "\\end{enumerate*}\n"
      ],
      "text/markdown": [
       "1. 39663\n",
       "2. 12\n",
       "\n",
       "\n"
      ],
      "text/plain": [
       "[1] 39663    12"
      ]
     },
     "metadata": {},
     "output_type": "display_data"
    },
    {
     "data": {
      "text/html": [
       "<style>\n",
       ".list-inline {list-style: none; margin:0; padding: 0}\n",
       ".list-inline>li {display: inline-block}\n",
       ".list-inline>li:not(:last-child)::after {content: \"\\00b7\"; padding: 0 .5ex}\n",
       "</style>\n",
       "<ol class=list-inline><li>20420</li><li>8</li></ol>\n"
      ],
      "text/latex": [
       "\\begin{enumerate*}\n",
       "\\item 20420\n",
       "\\item 8\n",
       "\\end{enumerate*}\n"
      ],
      "text/markdown": [
       "1. 20420\n",
       "2. 8\n",
       "\n",
       "\n"
      ],
      "text/plain": [
       "[1] 20420     8"
      ]
     },
     "metadata": {},
     "output_type": "display_data"
    },
    {
     "data": {
      "text/html": [
       "<style>\n",
       ".list-inline {list-style: none; margin:0; padding: 0}\n",
       ".list-inline>li {display: inline-block}\n",
       ".list-inline>li:not(:last-child)::after {content: \"\\00b7\"; padding: 0 .5ex}\n",
       "</style>\n",
       "<ol class=list-inline><li>26485</li><li>8</li></ol>\n"
      ],
      "text/latex": [
       "\\begin{enumerate*}\n",
       "\\item 26485\n",
       "\\item 8\n",
       "\\end{enumerate*}\n"
      ],
      "text/markdown": [
       "1. 26485\n",
       "2. 8\n",
       "\n",
       "\n"
      ],
      "text/plain": [
       "[1] 26485     8"
      ]
     },
     "metadata": {},
     "output_type": "display_data"
    },
    {
     "data": {
      "text/html": [
       "<style>\n",
       ".list-inline {list-style: none; margin:0; padding: 0}\n",
       ".list-inline>li {display: inline-block}\n",
       ".list-inline>li:not(:last-child)::after {content: \"\\00b7\"; padding: 0 .5ex}\n",
       "</style>\n",
       "<ol class=list-inline><li>30185</li><li>8</li></ol>\n"
      ],
      "text/latex": [
       "\\begin{enumerate*}\n",
       "\\item 30185\n",
       "\\item 8\n",
       "\\end{enumerate*}\n"
      ],
      "text/markdown": [
       "1. 30185\n",
       "2. 8\n",
       "\n",
       "\n"
      ],
      "text/plain": [
       "[1] 30185     8"
      ]
     },
     "metadata": {},
     "output_type": "display_data"
    },
    {
     "data": {
      "text/html": [
       "<style>\n",
       ".list-inline {list-style: none; margin:0; padding: 0}\n",
       ".list-inline>li {display: inline-block}\n",
       ".list-inline>li:not(:last-child)::after {content: \"\\00b7\"; padding: 0 .5ex}\n",
       "</style>\n",
       "<ol class=list-inline><li>39663</li><li>13</li></ol>\n"
      ],
      "text/latex": [
       "\\begin{enumerate*}\n",
       "\\item 39663\n",
       "\\item 13\n",
       "\\end{enumerate*}\n"
      ],
      "text/markdown": [
       "1. 39663\n",
       "2. 13\n",
       "\n",
       "\n"
      ],
      "text/plain": [
       "[1] 39663    13"
      ]
     },
     "metadata": {},
     "output_type": "display_data"
    },
    {
     "data": {
      "text/html": [
       "<style>\n",
       ".list-inline {list-style: none; margin:0; padding: 0}\n",
       ".list-inline>li {display: inline-block}\n",
       ".list-inline>li:not(:last-child)::after {content: \"\\00b7\"; padding: 0 .5ex}\n",
       "</style>\n",
       "<ol class=list-inline><li>39663</li><li>12</li></ol>\n"
      ],
      "text/latex": [
       "\\begin{enumerate*}\n",
       "\\item 39663\n",
       "\\item 12\n",
       "\\end{enumerate*}\n"
      ],
      "text/markdown": [
       "1. 39663\n",
       "2. 12\n",
       "\n",
       "\n"
      ],
      "text/plain": [
       "[1] 39663    12"
      ]
     },
     "metadata": {},
     "output_type": "display_data"
    },
    {
     "data": {
      "text/html": [
       "15304"
      ],
      "text/latex": [
       "15304"
      ],
      "text/markdown": [
       "15304"
      ],
      "text/plain": [
       "[1] 15304"
      ]
     },
     "metadata": {},
     "output_type": "display_data"
    },
    {
     "data": {
      "text/html": [
       "16540"
      ],
      "text/latex": [
       "16540"
      ],
      "text/markdown": [
       "16540"
      ],
      "text/plain": [
       "[1] 16540"
      ]
     },
     "metadata": {},
     "output_type": "display_data"
    }
   ],
   "source": [
    "#Merging different datasets together\n",
    "\n",
    "# Removing NAs  \n",
    "MR641<-deseqdata641[!is.na(deseqdata641$GeneSymbol),]\n",
    "MR151<-deseqdata151[!is.na(deseqdata151$GeneSymbol),]\n",
    "MR110<-deseqdata110[!is.na(deseqdata110$GeneSymbol),]\n",
    "# Merging data frames based on GeneSymbol\n",
    "df1 <- MR641[, c(\"GeneSymbol\", \"padj\", \"log2FoldChange\",\"baseMean\",\"lfcSE\")]\n",
    "df2 <- MR151[, c(\"GeneSymbol\", \"padj\", \"log2FoldChange\",\"baseMean\",\"lfcSE\")]\n",
    "df3 <- MR110[, c(\"GeneSymbol\", \"padj\", \"log2FoldChange\",\"baseMean\",\"lfcSE\")]\n",
    "merged_df0 <- merge(merge(df1, df2, by = \"GeneSymbol\", all = TRUE), df3, by = \"GeneSymbol\", all = TRUE)\n",
    "merged_df <- merged_df0[complete.cases(merged_df0$GeneSymbol), ]\n",
    "# Setting GeneSymbol as row names\n",
    "rownames(merged_df) <- merged_df$GeneSymbol\n",
    "merged_df$GeneSymbol <- NULL  # Remove redundant GeneSymbol column\n",
    "colnames(merged_df) <- c(\"pval641\",\"FC641\",\"baseMean641\",\"lfcSE641\",\"pval151\",\"FC151\",\"baseMean151\",\"lfcSE151\",\"pval110\",\"FC110\",\"baseMean110\",\"lfcSE110\")\n",
    "head(merged_df)\n",
    "dim(merged_df)\n",
    "dim(MR641)\n",
    "dim(MR151)\n",
    "dim(MR110)\n",
    "dim(merged_df0)\n",
    "dim(merged_df)\n",
    "na_counts <- rowSums(is.na(merged_df))\n",
    " sum(na_counts <= 0)\n",
    " sum(na_counts <= 1)\n",
    "#write.table(merged_df, file = \"dseqmerged.txt\", row.names = T, col.names = T, quote = F)"
   ]
  },
  {
   "cell_type": "code",
   "execution_count": 183,
   "id": "c45beeae-c0c0-4aff-8f54-93f88a52af1d",
   "metadata": {
    "tags": [],
    "vscode": {
     "languageId": "r"
    }
   },
   "outputs": [
    {
     "data": {
      "text/html": [
       "<table class=\"dataframe\">\n",
       "<caption>A data.frame: 6 × 4</caption>\n",
       "<thead>\n",
       "\t<tr><th></th><th scope=col>MR641_pvalue</th><th scope=col>MR151_pvalue</th><th scope=col>MR110_pvalue</th><th scope=col>MR114_pvalue</th></tr>\n",
       "\t<tr><th></th><th scope=col>&lt;dbl&gt;</th><th scope=col>&lt;dbl&gt;</th><th scope=col>&lt;dbl&gt;</th><th scope=col>&lt;dbl&gt;</th></tr>\n",
       "</thead>\n",
       "<tbody>\n",
       "\t<tr><th scope=row>3</th><td>        NA</td><td>        NA</td><td>       NA</td><td>0.6720760</td></tr>\n",
       "\t<tr><th scope=row>A.1</th><td>        NA</td><td>        NA</td><td>       NA</td><td>0.9211075</td></tr>\n",
       "\t<tr><th scope=row>A1BG</th><td>0.02630700</td><td>0.41789470</td><td>0.3612863</td><td>0.3586577</td></tr>\n",
       "\t<tr><th scope=row>A1BG-AS1</th><td>        NA</td><td>        NA</td><td>       NA</td><td>0.5951423</td></tr>\n",
       "\t<tr><th scope=row>A1BG_AS1</th><td>        NA</td><td>0.26286060</td><td>       NA</td><td>       NA</td></tr>\n",
       "\t<tr><th scope=row>A1CF</th><td>0.01950028</td><td>0.02651242</td><td>       NA</td><td>       NA</td></tr>\n",
       "</tbody>\n",
       "</table>\n"
      ],
      "text/latex": [
       "A data.frame: 6 × 4\n",
       "\\begin{tabular}{r|llll}\n",
       "  & MR641\\_pvalue & MR151\\_pvalue & MR110\\_pvalue & MR114\\_pvalue\\\\\n",
       "  & <dbl> & <dbl> & <dbl> & <dbl>\\\\\n",
       "\\hline\n",
       "\t3 &         NA &         NA &        NA & 0.6720760\\\\\n",
       "\tA.1 &         NA &         NA &        NA & 0.9211075\\\\\n",
       "\tA1BG & 0.02630700 & 0.41789470 & 0.3612863 & 0.3586577\\\\\n",
       "\tA1BG-AS1 &         NA &         NA &        NA & 0.5951423\\\\\n",
       "\tA1BG\\_AS1 &         NA & 0.26286060 &        NA &        NA\\\\\n",
       "\tA1CF & 0.01950028 & 0.02651242 &        NA &        NA\\\\\n",
       "\\end{tabular}\n"
      ],
      "text/markdown": [
       "\n",
       "A data.frame: 6 × 4\n",
       "\n",
       "| <!--/--> | MR641_pvalue &lt;dbl&gt; | MR151_pvalue &lt;dbl&gt; | MR110_pvalue &lt;dbl&gt; | MR114_pvalue &lt;dbl&gt; |\n",
       "|---|---|---|---|---|\n",
       "| 3 |         NA |         NA |        NA | 0.6720760 |\n",
       "| A.1 |         NA |         NA |        NA | 0.9211075 |\n",
       "| A1BG | 0.02630700 | 0.41789470 | 0.3612863 | 0.3586577 |\n",
       "| A1BG-AS1 |         NA |         NA |        NA | 0.5951423 |\n",
       "| A1BG_AS1 |         NA | 0.26286060 |        NA |        NA |\n",
       "| A1CF | 0.01950028 | 0.02651242 |        NA |        NA |\n",
       "\n"
      ],
      "text/plain": [
       "         MR641_pvalue MR151_pvalue MR110_pvalue MR114_pvalue\n",
       "3                NA           NA          NA    0.6720760   \n",
       "A.1              NA           NA          NA    0.9211075   \n",
       "A1BG     0.02630700   0.41789470   0.3612863    0.3586577   \n",
       "A1BG-AS1         NA           NA          NA    0.5951423   \n",
       "A1BG_AS1         NA   0.26286060          NA           NA   \n",
       "A1CF     0.01950028   0.02651242          NA           NA   "
      ]
     },
     "metadata": {},
     "output_type": "display_data"
    },
    {
     "data": {
      "text/html": [
       "<style>\n",
       ".list-inline {list-style: none; margin:0; padding: 0}\n",
       ".list-inline>li {display: inline-block}\n",
       ".list-inline>li:not(:last-child)::after {content: \"\\00b7\"; padding: 0 .5ex}\n",
       "</style>\n",
       "<ol class=list-inline><li>29817</li><li>4</li></ol>\n"
      ],
      "text/latex": [
       "\\begin{enumerate*}\n",
       "\\item 29817\n",
       "\\item 4\n",
       "\\end{enumerate*}\n"
      ],
      "text/markdown": [
       "1. 29817\n",
       "2. 4\n",
       "\n",
       "\n"
      ],
      "text/plain": [
       "[1] 29817     4"
      ]
     },
     "metadata": {},
     "output_type": "display_data"
    },
    {
     "data": {
      "text/html": [
       "<style>\n",
       ".list-inline {list-style: none; margin:0; padding: 0}\n",
       ".list-inline>li {display: inline-block}\n",
       ".list-inline>li:not(:last-child)::after {content: \"\\00b7\"; padding: 0 .5ex}\n",
       "</style>\n",
       "<ol class=list-inline><li>17723</li><li>7</li></ol>\n"
      ],
      "text/latex": [
       "\\begin{enumerate*}\n",
       "\\item 17723\n",
       "\\item 7\n",
       "\\end{enumerate*}\n"
      ],
      "text/markdown": [
       "1. 17723\n",
       "2. 7\n",
       "\n",
       "\n"
      ],
      "text/plain": [
       "[1] 17723     7"
      ]
     },
     "metadata": {},
     "output_type": "display_data"
    },
    {
     "data": {
      "text/html": [
       "<style>\n",
       ".list-inline {list-style: none; margin:0; padding: 0}\n",
       ".list-inline>li {display: inline-block}\n",
       ".list-inline>li:not(:last-child)::after {content: \"\\00b7\"; padding: 0 .5ex}\n",
       "</style>\n",
       "<ol class=list-inline><li>24431</li><li>7</li></ol>\n"
      ],
      "text/latex": [
       "\\begin{enumerate*}\n",
       "\\item 24431\n",
       "\\item 7\n",
       "\\end{enumerate*}\n"
      ],
      "text/markdown": [
       "1. 24431\n",
       "2. 7\n",
       "\n",
       "\n"
      ],
      "text/plain": [
       "[1] 24431     7"
      ]
     },
     "metadata": {},
     "output_type": "display_data"
    },
    {
     "data": {
      "text/html": [
       "<style>\n",
       ".list-inline {list-style: none; margin:0; padding: 0}\n",
       ".list-inline>li {display: inline-block}\n",
       ".list-inline>li:not(:last-child)::after {content: \"\\00b7\"; padding: 0 .5ex}\n",
       "</style>\n",
       "<ol class=list-inline><li>15327</li><li>7</li></ol>\n"
      ],
      "text/latex": [
       "\\begin{enumerate*}\n",
       "\\item 15327\n",
       "\\item 7\n",
       "\\end{enumerate*}\n"
      ],
      "text/markdown": [
       "1. 15327\n",
       "2. 7\n",
       "\n",
       "\n"
      ],
      "text/plain": [
       "[1] 15327     7"
      ]
     },
     "metadata": {},
     "output_type": "display_data"
    },
    {
     "data": {
      "text/html": [
       "<style>\n",
       ".list-inline {list-style: none; margin:0; padding: 0}\n",
       ".list-inline>li {display: inline-block}\n",
       ".list-inline>li:not(:last-child)::after {content: \"\\00b7\"; padding: 0 .5ex}\n",
       "</style>\n",
       "<ol class=list-inline><li>15957</li><li>7</li></ol>\n"
      ],
      "text/latex": [
       "\\begin{enumerate*}\n",
       "\\item 15957\n",
       "\\item 7\n",
       "\\end{enumerate*}\n"
      ],
      "text/markdown": [
       "1. 15957\n",
       "2. 7\n",
       "\n",
       "\n"
      ],
      "text/plain": [
       "[1] 15957     7"
      ]
     },
     "metadata": {},
     "output_type": "display_data"
    },
    {
     "data": {
      "text/html": [
       "<style>\n",
       ".list-inline {list-style: none; margin:0; padding: 0}\n",
       ".list-inline>li {display: inline-block}\n",
       ".list-inline>li:not(:last-child)::after {content: \"\\00b7\"; padding: 0 .5ex}\n",
       "</style>\n",
       "<ol class=list-inline><li>39663</li><li>13</li></ol>\n"
      ],
      "text/latex": [
       "\\begin{enumerate*}\n",
       "\\item 39663\n",
       "\\item 13\n",
       "\\end{enumerate*}\n"
      ],
      "text/markdown": [
       "1. 39663\n",
       "2. 13\n",
       "\n",
       "\n"
      ],
      "text/plain": [
       "[1] 39663    13"
      ]
     },
     "metadata": {},
     "output_type": "display_data"
    },
    {
     "data": {
      "text/html": [
       "<style>\n",
       ".list-inline {list-style: none; margin:0; padding: 0}\n",
       ".list-inline>li {display: inline-block}\n",
       ".list-inline>li:not(:last-child)::after {content: \"\\00b7\"; padding: 0 .5ex}\n",
       "</style>\n",
       "<ol class=list-inline><li>29817</li><li>4</li></ol>\n"
      ],
      "text/latex": [
       "\\begin{enumerate*}\n",
       "\\item 29817\n",
       "\\item 4\n",
       "\\end{enumerate*}\n"
      ],
      "text/markdown": [
       "1. 29817\n",
       "2. 4\n",
       "\n",
       "\n"
      ],
      "text/plain": [
       "[1] 29817     4"
      ]
     },
     "metadata": {},
     "output_type": "display_data"
    },
    {
     "data": {
      "text/html": [
       "11567"
      ],
      "text/latex": [
       "11567"
      ],
      "text/markdown": [
       "11567"
      ],
      "text/plain": [
       "[1] 11567"
      ]
     },
     "metadata": {},
     "output_type": "display_data"
    },
    {
     "data": {
      "text/html": [
       "13439"
      ],
      "text/latex": [
       "13439"
      ],
      "text/markdown": [
       "13439"
      ],
      "text/plain": [
       "[1] 13439"
      ]
     },
     "metadata": {},
     "output_type": "display_data"
    }
   ],
   "source": [
    "# EdgeR data validation:  #edgedata641 #edgedata151 #edgedata110 #edgedata114\n",
    "MR641<-edgedata641[!is.na(edgedata641$GeneSymbol),] #31 NA\n",
    "MR151<-edgedata151[!is.na(edgedata151$GeneSymbol),] #no na\n",
    "MR110<-edgedata110[!is.na(edgedata110$GeneSymbol),]\n",
    "MR114<-edgedata114[!is.na(edgedata114$GeneSymbol),] \n",
    "IN151<-inf151[!is.na(inf151$GeneSymbol),]\n",
    "BA151<-bac151[!is.na(bac151$GeneSymbol),]\n",
    "\n",
    "# Merging data frames based on GeneSymbol\n",
    "e_df1 <- MR641[, c(\"GeneSymbol\", \"FDR\")]\n",
    "e_df2 <- MR151[, c(\"GeneSymbol\", \"FDR\")]\n",
    "e_df3 <- MR110[, c(\"GeneSymbol\", \"FDR\")]\n",
    "e_df4 <- MR114[, c(\"GeneSymbol\", \"FDR\")]\n",
    "merged_df <- Reduce(function(x, y) merge(x, y, by = \"GeneSymbol\", all = TRUE, suffixes = c(\"\", unique(y)[2])),\n",
    "                    list(MR641[, c(\"GeneSymbol\", \"FDR\")],\n",
    "                         MR151[, c(\"GeneSymbol\", \"FDR\")],\n",
    "                         MR110[, c(\"GeneSymbol\", \"FDR\")],\n",
    "                         MR114[, c(\"GeneSymbol\", \"FDR\")]))\n",
    "# Removing rows with NA values in GeneSymbol\n",
    "merged_df <- merged_df[complete.cases(merged_df$GeneSymbol), ]\n",
    "# unique row names\n",
    "merged_df <- merged_df[!duplicated(merged_df$GeneSymbol), ]\n",
    "# Setting GeneSymbol as row names\n",
    "rownames(merged_df) <- merged_df$GeneSymbol\n",
    "merged_df$GeneSymbol <- NULL  # Removing redundant GeneSymbol column\n",
    "colnames(merged_df) <- c(\"MR641_pvalue\", \"MR151_pvalue\", \"MR110_pvalue\", \"MR114_pvalue\")\n",
    "head(merged_df)\n",
    "dim(merged_df)\n",
    "dim(MR641)\n",
    "dim(MR151)\n",
    "dim(MR110)\n",
    "dim(MR114)\n",
    "dim(merged_df0)\n",
    "dim(merged_df)\n",
    "na_counts <- rowSums(is.na(merged_df))\n",
    " sum(na_counts <= 0)\n",
    " sum(na_counts <= 1)"
   ]
  },
  {
   "cell_type": "markdown",
   "id": "947264dd",
   "metadata": {},
   "source": [
    "** External Validation**"
   ]
  },
  {
   "cell_type": "code",
   "execution_count": 184,
   "id": "c6034d3f-b5df-47bf-a915-47a0c7c50f0f",
   "metadata": {
    "tags": [],
    "vscode": {
     "languageId": "r"
    }
   },
   "outputs": [
    {
     "data": {
      "text/html": [
       "<style>\n",
       ".list-inline {list-style: none; margin:0; padding: 0}\n",
       ".list-inline>li {display: inline-block}\n",
       ".list-inline>li:not(:last-child)::after {content: \"\\00b7\"; padding: 0 .5ex}\n",
       "</style>\n",
       "<ol class=list-inline><li>'KIFC1'</li><li>'SPC24'</li><li>'CDC20'</li><li>'DDR2'</li><li>'MCM2'</li><li>'GLDC'</li><li>'RAPGEF5'</li><li>'CHPF'</li><li>'CENPM'</li><li>'DERL3'</li><li>'ITGA8'</li></ol>\n"
      ],
      "text/latex": [
       "\\begin{enumerate*}\n",
       "\\item 'KIFC1'\n",
       "\\item 'SPC24'\n",
       "\\item 'CDC20'\n",
       "\\item 'DDR2'\n",
       "\\item 'MCM2'\n",
       "\\item 'GLDC'\n",
       "\\item 'RAPGEF5'\n",
       "\\item 'CHPF'\n",
       "\\item 'CENPM'\n",
       "\\item 'DERL3'\n",
       "\\item 'ITGA8'\n",
       "\\end{enumerate*}\n"
      ],
      "text/markdown": [
       "1. 'KIFC1'\n",
       "2. 'SPC24'\n",
       "3. 'CDC20'\n",
       "4. 'DDR2'\n",
       "5. 'MCM2'\n",
       "6. 'GLDC'\n",
       "7. 'RAPGEF5'\n",
       "8. 'CHPF'\n",
       "9. 'CENPM'\n",
       "10. 'DERL3'\n",
       "11. 'ITGA8'\n",
       "\n",
       "\n"
      ],
      "text/plain": [
       " [1] \"KIFC1\"   \"SPC24\"   \"CDC20\"   \"DDR2\"    \"MCM2\"    \"GLDC\"    \"RAPGEF5\"\n",
       " [8] \"CHPF\"    \"CENPM\"   \"DERL3\"   \"ITGA8\"  "
      ]
     },
     "metadata": {},
     "output_type": "display_data"
    },
    {
     "data": {
      "image/png": "[encoded data removed]",
      "text/plain": [
       "plot without title"
      ]
     },
     "metadata": {
      "image/png": {
       "height": 420,
       "width": 420
      }
     },
     "output_type": "display_data"
    },
    {
     "data": {
      "image/png": "[encoded data removed]",
      "text/plain": [
       "plot without title"
      ]
     },
     "metadata": {
      "image/png": {
       "height": 420,
       "width": 420
      }
     },
     "output_type": "display_data"
    }
   ],
   "source": [
    "\n",
    "# Filter for upregulated genes\n",
    "sig_MR641_up <- na.omit(MR641[MR641$FDR <= 0.05 & as.numeric(as.character(MR641$logFC)) > 0.6,])\n",
    "sig_MR151_up <- na.omit(MR151[MR151$FDR <= 0.05 & as.numeric(as.character(MR151$logFC)) > 0.6,])\n",
    "sig_MR110_up <- na.omit(MR110[MR110$FDR <= 0.05 & as.numeric(as.character(MR110$logFC)) > 0.6,])\n",
    "sig_MR114_up <- na.omit(MR114[MR114$FDR <= 0.05 & as.numeric(as.character(MR114$logFC)) > 0.6,])\n",
    "\n",
    "# Filter for downregulated genes\n",
    "sig_MR641_down <- na.omit(MR641[MR641$FDR <= 0.05 & as.numeric(as.character(MR641$logFC)) < -0.6,])\n",
    "sig_MR151_down <- na.omit(MR151[MR151$FDR <= 0.05 & as.numeric(as.character(MR151$logFC)) < -0.6,])\n",
    "sig_MR110_down <- na.omit(MR110[MR110$FDR <= 0.05 & as.numeric(as.character(MR110$logFC)) < -0.6,])\n",
    "sig_MR114_down <- na.omit(MR114[MR114$FDR <= 0.05 & as.numeric(as.character(MR114$logFC)) < -0.6,])\n",
    "\n",
    "# Create gene sets for upregulated and downregulated genes\n",
    "gene_sets_up <- list(\n",
    "  set1 = sig_MR641_up$GeneSymbol,\n",
    "  set2 = sig_MR151_up$GeneSymbol,\n",
    "  set3 = sig_MR110_up$GeneSymbol,\n",
    "  set4 = sig_MR114_up$GeneSymbol)\n",
    "\n",
    "gene_sets_down <- list(\n",
    "  set1 = sig_MR641_down$GeneSymbol,\n",
    "  set2 = sig_MR151_down$GeneSymbol,\n",
    "  set3 = sig_MR110_down$GeneSymbol,\n",
    "  set4 = sig_MR114_down$GeneSymbol)\n",
    "\n",
    "# Plot Venn diagram for upregulated genes\n",
    "cv4_up<- Reduce(intersect, list(sig_MR641_up$GeneSymbol, sig_MR151_up$GeneSymbol, sig_MR110_up$GeneSymbol, sig_MR114_up$GeneSymbol))\n",
    "cv4_up\n",
    "venn_plot_up <- ggvenn(gene_sets_up)\n",
    "venn_plot_up + theme_minimal()\n",
    "ggsave(\"venn_upregulated_0.05_f6.png\", plot = venn_plot_up, width = 6, height = 6, dpi = 300)\n",
    "\n",
    "# Plot Venn diagram for downregulated genes\n",
    "venn_plot_down <- ggvenn(gene_sets_down)\n",
    "venn_plot_down + theme_minimal()\n",
    "ggsave(\"venn_downregulated_0.05_f6.png\", plot = venn_plot_down, width = 6, height = 6, dpi = 300)\n"
   ]
  },
  {
   "cell_type": "code",
   "execution_count": 185,
   "id": "b4c52c98-d077-4f73-a4ce-116cfa43f257",
   "metadata": {
    "jp-MarkdownHeadingCollapsed": true,
    "tags": [],
    "vscode": {
     "languageId": "r"
    }
   },
   "outputs": [
    {
     "data": {
      "text/html": [
       "<strong>png:</strong> 2"
      ],
      "text/latex": [
       "\\textbf{png:} 2"
      ],
      "text/markdown": [
       "**png:** 2"
      ],
      "text/plain": [
       "png \n",
       "  2 "
      ]
     },
     "metadata": {},
     "output_type": "display_data"
    }
   ],
   "source": [
    "#EdgeR upset plot for external validation\n",
    "gene_sets_2 <- list(\n",
    "  \"GSE152641: Severe vs Healthy\" = sig_MR641_pvalue_2$GeneSymbol,\n",
    "  \"GSE163151: Severe vs Healthy\" = sig_MR151_pvalue_2$GeneSymbol,\n",
    "  \"GSE171110: Severe vs Healthy\" = sig_MR110_pvalue_2$GeneSymbol,\n",
    "  \"GSE172114: Severe vs Non-Severe\" = sig_MR114_pvalue_2$GeneSymbol,\n",
    "  \"GSE163151: Influenza vs Healthy\" = sig_IN151_pvalue_2$GeneSymbol,\n",
    "  \"GSE163151: Bacterial vs Healthy\" = sig_BA151_pvalue_2$GeneSymbol)\n",
    "\n",
    "png(\"upset_edge6.png\", width = 1000, height = 800)  \n",
    "color_range <- colorRampPalette(c(\"grey\", \"#006400\"))(6)\n",
    "upset(\n",
    "  fromList(gene_sets_2),\n",
    "  sets = c(\"GSE152641: Severe vs Healthy\", \"GSE163151: Severe vs Healthy\", \"GSE171110: Severe vs Healthy\", \"GSE172114: Severe vs Non-Severe\", \"GSE163151: Influenza vs Healthy\", \"GSE163151: Bacterial vs Healthy\"),\n",
    "  main.bar.color = color_range[2],  \n",
    "  matrix.color = color_range[5],   \n",
    "  sets.bar.color =  color_range[1],  \n",
    "  order.by = \"freq\",              \n",
    "  keep.order = TRUE,               \n",
    "  line.size = 1.5,                 \n",
    "  point.size = 4,                \n",
    "  text.scale = 1.5                \n",
    ")\n",
    "dev.off()"
   ]
  },
  {
   "cell_type": "markdown",
   "id": "1e3da597",
   "metadata": {},
   "source": [
    "**Meta-Analysis**"
   ]
  },
  {
   "cell_type": "code",
   "execution_count": null,
   "id": "c5f70999-1d69-4b9e-92f7-b7a8ded8223d",
   "metadata": {
    "tags": [],
    "vscode": {
     "languageId": "r"
    }
   },
   "outputs": [],
   "source": [
    "#Meta-analysis using metaRNASeq #deseq2 \n",
    "aligned_110 <- deseqdata110[match(deseqdata641$GeneSymbol, deseqdata110$GeneSymbol), ]\n",
    "aligned_641 <- deseqdata641\n",
    "aligned_151 <- deseqdata151[match(deseqdata641$GeneSymbol, deseqdata151$GeneSymbol), ]\n",
    "pvalues_110 <- aligned_110$pvalue\n",
    "pvalues_641 <- aligned_641$pvalue\n",
    "pvalues_151 <- aligned_151 $pvalue\n",
    " # Combine p-values\n",
    "pvalues_list <- list(pvalues_110, pvalues_641, pvalues_151)\n",
    "fishcomb <- fishercomb(pvalues_list, BHth = 0.05)\n",
    "DE <- ifelse(fishcomb$adjpval <= 0.05, 1, 0)\n",
    "#hist(fishcomb$rawpval, nclass = 100)\n",
    "##\n",
    "threshold <- 0.05\n",
    "DEGs <- which(fishcomb$adjpval <= threshold)\n",
    "DEGs_symbols <- aligned_110$GeneSymbol[DEGs] \n",
    "DEGs0.05 <- data.frame(GeneSymbol = DEGs_symbols, AdjustedPValue = fishcomb$adjpval[DEGs])\n",
    "threshold <- 0.01\n",
    "DEGs <- which(fishcomb$adjpval <= threshold)\n",
    "DEGs_symbols <- aligned_110$GeneSymbol[DEGs] \n",
    "DEGs0.01 <- data.frame(GeneSymbol = DEGs_symbols, AdjustedPValue = fishcomb$adjpval[DEGs])"
   ]
  },
  {
   "cell_type": "code",
   "execution_count": 188,
   "id": "a9b04d85-ed04-4c0f-a5df-40cf967be21b",
   "metadata": {
    "tags": [],
    "vscode": {
     "languageId": "r"
    }
   },
   "outputs": [
    {
     "data": {
      "text/html": [
       "<table class=\"dataframe\">\n",
       "<caption>A data.frame: 6 × 5</caption>\n",
       "<thead>\n",
       "\t<tr><th></th><th scope=col>GeneSymbol</th><th scope=col>AdjustedPValue</th><th scope=col>Log2FoldChange_110</th><th scope=col>Log2FoldChange_641</th><th scope=col>Log2FoldChange_151</th></tr>\n",
       "\t<tr><th></th><th scope=col>&lt;chr&gt;</th><th scope=col>&lt;dbl&gt;</th><th scope=col>&lt;dbl&gt;</th><th scope=col>&lt;dbl&gt;</th><th scope=col>&lt;dbl&gt;</th></tr>\n",
       "</thead>\n",
       "<tbody>\n",
       "\t<tr><th scope=row>1</th><td>AANAT  </td><td>2.407720e-13</td><td>1.804251</td><td>1.116094</td><td>-1.585752</td></tr>\n",
       "\t<tr><th scope=row>2</th><td>AOC1   </td><td>1.785008e-11</td><td>4.388124</td><td>1.856963</td><td>-2.462022</td></tr>\n",
       "\t<tr><th scope=row>3</th><td>NA     </td><td>          NA</td><td>      NA</td><td>      NA</td><td>       NA</td></tr>\n",
       "\t<tr><th scope=row>4</th><td>ACRV1  </td><td>2.999458e-07</td><td>1.517637</td><td>1.653269</td><td>-2.684987</td></tr>\n",
       "\t<tr><th scope=row>5</th><td>ADARB2 </td><td>5.007140e-08</td><td>2.447301</td><td>2.262584</td><td>-2.140483</td></tr>\n",
       "\t<tr><th scope=row>6</th><td>ADCYAP1</td><td>4.408903e-02</td><td>1.087800</td><td>1.615285</td><td>-2.948123</td></tr>\n",
       "</tbody>\n",
       "</table>\n"
      ],
      "text/latex": [
       "A data.frame: 6 × 5\n",
       "\\begin{tabular}{r|lllll}\n",
       "  & GeneSymbol & AdjustedPValue & Log2FoldChange\\_110 & Log2FoldChange\\_641 & Log2FoldChange\\_151\\\\\n",
       "  & <chr> & <dbl> & <dbl> & <dbl> & <dbl>\\\\\n",
       "\\hline\n",
       "\t1 & AANAT   & 2.407720e-13 & 1.804251 & 1.116094 & -1.585752\\\\\n",
       "\t2 & AOC1    & 1.785008e-11 & 4.388124 & 1.856963 & -2.462022\\\\\n",
       "\t3 & NA      &           NA &       NA &       NA &        NA\\\\\n",
       "\t4 & ACRV1   & 2.999458e-07 & 1.517637 & 1.653269 & -2.684987\\\\\n",
       "\t5 & ADARB2  & 5.007140e-08 & 2.447301 & 2.262584 & -2.140483\\\\\n",
       "\t6 & ADCYAP1 & 4.408903e-02 & 1.087800 & 1.615285 & -2.948123\\\\\n",
       "\\end{tabular}\n"
      ],
      "text/markdown": [
       "\n",
       "A data.frame: 6 × 5\n",
       "\n",
       "| <!--/--> | GeneSymbol &lt;chr&gt; | AdjustedPValue &lt;dbl&gt; | Log2FoldChange_110 &lt;dbl&gt; | Log2FoldChange_641 &lt;dbl&gt; | Log2FoldChange_151 &lt;dbl&gt; |\n",
       "|---|---|---|---|---|---|\n",
       "| 1 | AANAT   | 2.407720e-13 | 1.804251 | 1.116094 | -1.585752 |\n",
       "| 2 | AOC1    | 1.785008e-11 | 4.388124 | 1.856963 | -2.462022 |\n",
       "| 3 | NA      |           NA |       NA |       NA |        NA |\n",
       "| 4 | ACRV1   | 2.999458e-07 | 1.517637 | 1.653269 | -2.684987 |\n",
       "| 5 | ADARB2  | 5.007140e-08 | 2.447301 | 2.262584 | -2.140483 |\n",
       "| 6 | ADCYAP1 | 4.408903e-02 | 1.087800 | 1.615285 | -2.948123 |\n",
       "\n"
      ],
      "text/plain": [
       "  GeneSymbol AdjustedPValue Log2FoldChange_110 Log2FoldChange_641\n",
       "1 AANAT      2.407720e-13   1.804251           1.116094          \n",
       "2 AOC1       1.785008e-11   4.388124           1.856963          \n",
       "3 NA                   NA         NA                 NA          \n",
       "4 ACRV1      2.999458e-07   1.517637           1.653269          \n",
       "5 ADARB2     5.007140e-08   2.447301           2.262584          \n",
       "6 ADCYAP1    4.408903e-02   1.087800           1.615285          \n",
       "  Log2FoldChange_151\n",
       "1 -1.585752         \n",
       "2 -2.462022         \n",
       "3        NA         \n",
       "4 -2.684987         \n",
       "5 -2.140483         \n",
       "6 -2.948123         "
      ]
     },
     "metadata": {},
     "output_type": "display_data"
    },
    {
     "data": {
      "text/html": [
       "<style>\n",
       ".list-inline {list-style: none; margin:0; padding: 0}\n",
       ".list-inline>li {display: inline-block}\n",
       ".list-inline>li:not(:last-child)::after {content: \"\\00b7\"; padding: 0 .5ex}\n",
       "</style>\n",
       "<ol class=list-inline><li>1378</li><li>5</li></ol>\n"
      ],
      "text/latex": [
       "\\begin{enumerate*}\n",
       "\\item 1378\n",
       "\\item 5\n",
       "\\end{enumerate*}\n"
      ],
      "text/markdown": [
       "1. 1378\n",
       "2. 5\n",
       "\n",
       "\n"
      ],
      "text/plain": [
       "[1] 1378    5"
      ]
     },
     "metadata": {},
     "output_type": "display_data"
    },
    {
     "name": "stdout",
     "output_type": "stream",
     "text": [
      "[1] 536\n"
     ]
    },
    {
     "data": {
      "text/html": [
       "842"
      ],
      "text/latex": [
       "842"
      ],
      "text/markdown": [
       "842"
      ],
      "text/plain": [
       "[1] 842"
      ]
     },
     "metadata": {},
     "output_type": "display_data"
    }
   ],
   "source": [
    "#library(metaRNASeq) #deseq2\n",
    "# Align datasets based on GeneSymbol\n",
    "aligned_110 <- deseqdata110[match(deseqdata641$GeneSymbol, deseqdata110$GeneSymbol), ]\n",
    "aligned_641 <- deseqdata641  # Assuming this is the reference\n",
    "aligned_151 <- deseqdata151[match(deseqdata641$GeneSymbol, deseqdata151$GeneSymbol), ]\n",
    "pvalues_110 <- aligned_110$pvalue\n",
    "pvalues_641 <- aligned_641$pvalue\n",
    "pvalues_151 <- aligned_151$pvalue\n",
    "# Combine p-values using Fisher's method\n",
    "pvalues_list <- list(pvalues_110, pvalues_641, pvalues_151)\n",
    "fishcomb <- fishercomb(pvalues_list, BHth = 0.05)\n",
    "# Thresholds for significance in meta-analysis\n",
    "threshold <- 0.05\n",
    "DEGs <- which(fishcomb$adjpval <= threshold)\n",
    "#Filtering DEGs based on log2 fold change > 1 in all datasets\n",
    "log2fc_filter <- (abs(aligned_110$log2FoldChange) > 1) & \n",
    "                 (abs(aligned_641$log2FoldChange) > 1) & \n",
    "                 (abs(aligned_151$log2FoldChange) > 1)\n",
    "# Combining log2 fold change filter with DEGs from meta-analysis\n",
    "DEGs_log2fc <- DEGs[log2fc_filter[DEGs]]\n",
    "# Extracting Gene Symbols and other data for filtered DEGs\n",
    "DEGs_symbols_log2fc <- aligned_110$GeneSymbol[DEGs_log2fc]\n",
    "DEGs_log2fc_data <- data.frame(GeneSymbol = DEGs_symbols_log2fc, \n",
    "                               AdjustedPValue = fishcomb$adjpval[DEGs_log2fc],\n",
    "                               Log2FoldChange_110 = aligned_110$log2FoldChange[DEGs_log2fc],\n",
    "                               Log2FoldChange_641 = aligned_641$log2FoldChange[DEGs_log2fc],\n",
    "                               Log2FoldChange_151 = aligned_151$log2FoldChange[DEGs_log2fc])\n",
    "\n",
    "#  results\n",
    "head(DEGs_log2fc_data)\n",
    "dim(DEGs_log2fc_data)\n",
    "r_deg<- na.omit(DEGs_log2fc_data)\n",
    "#write.table(r_deg, file = \"Meta0.05FC1.txt\", row.names = F, col.names = T, quote = F)\n",
    "num_NAs <- sum(is.na(DEGs_log2fc_data$GeneSymbol))\n",
    "print(num_NAs)\n",
    "length(na.omit(DEGs_log2fc_data$GeneSymbol))"
   ]
  },
  {
   "cell_type": "markdown",
   "id": "0ee0876e",
   "metadata": {},
   "source": [
    "** Jacknife Analysis**"
   ]
  },
  {
   "cell_type": "code",
   "execution_count": 189,
   "id": "647700fa-c7cf-4c96-871c-9b2dc31c972d",
   "metadata": {
    "tags": [],
    "vscode": {
     "languageId": "r"
    }
   },
   "outputs": [
    {
     "data": {
      "text/html": [
       "<style>\n",
       ".dl-inline {width: auto; margin:0; padding: 0}\n",
       ".dl-inline>dt, .dl-inline>dd {float: none; width: auto; display: inline-block}\n",
       ".dl-inline>dt::after {content: \":\\0020\"; padding-right: .5ex}\n",
       ".dl-inline>dt:not(:first-of-type) {padding-left: .5ex}\n",
       "</style><dl class=dl-inline><dt>110</dt><dd>1748</dd><dt>641</dt><dd>1770</dd><dt>151</dt><dd>1366</dd></dl>\n"
      ],
      "text/latex": [
       "\\begin{description*}\n",
       "\\item[110] 1748\n",
       "\\item[641] 1770\n",
       "\\item[151] 1366\n",
       "\\end{description*}\n"
      ],
      "text/markdown": [
       "110\n",
       ":   1748641\n",
       ":   1770151\n",
       ":   1366\n",
       "\n"
      ],
      "text/plain": [
       " 110  641  151 \n",
       "1748 1770 1366 "
      ]
     },
     "metadata": {},
     "output_type": "display_data"
    }
   ],
   "source": [
    "# deseq2_ Function to exclude one dataset and perform meta-analysis\n",
    "perform_meta_analysis <- function(exclude_dataset) {\n",
    "  datasets <- list(\"110\" = deseqdata110, \"641\" = deseqdata641, \"151\" = deseqdata151)\n",
    "  # Removing the dataset to be excluded\n",
    "  datasets <- datasets[names(datasets) != exclude_dataset]\n",
    "  # Aligning datasets\n",
    "  aligned_datasets <- lapply(datasets, function(dataset) {\n",
    "    dataset[match(deseqdata641$GeneSymbol, dataset$GeneSymbol), ]  })\n",
    "\n",
    "  # Combining p-values using Fisher's method\n",
    "  pvalues_list <- lapply(aligned_datasets, function(dataset) dataset$pvalue)\n",
    "  fishcomb <- fishercomb(pvalues_list, BHth = 0.05)\n",
    "  \n",
    "  # cutoffs\n",
    "  threshold <- 0.01\n",
    "  DEGs <- which(fishcomb$adjpval <= threshold)\n",
    "  log2fc_filter <- Reduce(\"&\", lapply(aligned_datasets, function(dataset) abs(dataset$log2FoldChange) > 1))\n",
    "  DEGs_log2fc <- DEGs[log2fc_filter[DEGs]]\n",
    "  return(data.frame(GeneSymbol = datasets[[1]]$GeneSymbol[DEGs_log2fc],\n",
    "                    AdjustedPValue = fishcomb$adjpval[DEGs_log2fc]))\n",
    "}\n",
    "# jackknife analysis\n",
    "jackknife_results <- list()\n",
    "datasets_to_exclude <- c(\"110\", \"641\", \"151\")\n",
    "for (dataset in datasets_to_exclude) {\n",
    "  jackknife_results[[dataset]] <- perform_meta_analysis(dataset)\n",
    "}\n",
    "sapply(jackknife_results, nrow)\n"
   ]
  },
  {
   "cell_type": "markdown",
   "id": "18811980-ead6-47cf-a532-49ab817b396e",
   "metadata": {
    "tags": []
   },
   "source": [
    "    Results:\n",
    "    When excluding dataset \"110\", 1748 DEGs were identified.\n",
    "    When excluding dataset \"641\", 1770 DEGs were identified.\n",
    "    When excluding dataset \"151\", 1366 DEGs were identified.\n",
    "the exclusion of dataset \"151\" results in a notably lower number of DEGs compared to the other two datasets, suggesting that this dataset might have more different information.\n"
   ]
  },
  {
   "cell_type": "code",
   "execution_count": 190,
   "id": "24d6595c-c10b-4aeb-8e6c-b531ca2af165",
   "metadata": {
    "tags": [],
    "vscode": {
     "languageId": "r"
    }
   },
   "outputs": [
    {
     "data": {
      "text/html": [
       "<style>\n",
       ".dl-inline {width: auto; margin:0; padding: 0}\n",
       ".dl-inline>dt, .dl-inline>dd {float: none; width: auto; display: inline-block}\n",
       ".dl-inline>dt::after {content: \":\\0020\"; padding-right: .5ex}\n",
       ".dl-inline>dt:not(:first-of-type) {padding-left: .5ex}\n",
       "</style><dl class=dl-inline><dt>110</dt><dd>1672</dd><dt>641</dt><dd>1086</dd><dt>151</dt><dd>1445</dd><dt>114</dt><dd>1760</dd></dl>\n"
      ],
      "text/latex": [
       "\\begin{description*}\n",
       "\\item[110] 1672\n",
       "\\item[641] 1086\n",
       "\\item[151] 1445\n",
       "\\item[114] 1760\n",
       "\\end{description*}\n"
      ],
      "text/markdown": [
       "110\n",
       ":   1672641\n",
       ":   1086151\n",
       ":   1445114\n",
       ":   1760\n",
       "\n"
      ],
      "text/plain": [
       " 110  641  151  114 \n",
       "1672 1086 1445 1760 "
      ]
     },
     "metadata": {},
     "output_type": "display_data"
    },
    {
     "data": {
      "text/html": [
       "117"
      ],
      "text/latex": [
       "117"
      ],
      "text/markdown": [
       "117"
      ],
      "text/plain": [
       "[1] 117"
      ]
     },
     "metadata": {},
     "output_type": "display_data"
    },
    {
     "data": {
      "text/html": [
       "168"
      ],
      "text/latex": [
       "168"
      ],
      "text/markdown": [
       "168"
      ],
      "text/plain": [
       "[1] 168"
      ]
     },
     "metadata": {},
     "output_type": "display_data"
    },
    {
     "data": {
      "text/html": [
       "194"
      ],
      "text/latex": [
       "194"
      ],
      "text/markdown": [
       "194"
      ],
      "text/plain": [
       "[1] 194"
      ]
     },
     "metadata": {},
     "output_type": "display_data"
    },
    {
     "data": {
      "text/html": [
       "413"
      ],
      "text/latex": [
       "413"
      ],
      "text/markdown": [
       "413"
      ],
      "text/plain": [
       "[1] 413"
      ]
     },
     "metadata": {},
     "output_type": "display_data"
    }
   ],
   "source": [
    "#  EdgeR Function to perform meta-analysis excluding one dataset\n",
    "perform_meta_analysis <- function(exclude_dataset) {\n",
    "  datasets <- list(  \"641\" = edgedata641,\"110\" = edgedata110, \n",
    "                    \"114\" = edgedata114,\"151\" = edgedata151)\n",
    "  # Remove the dataset to be excluded\n",
    "  datasets <- datasets[names(datasets) != exclude_dataset]\n",
    "  # Choosing reference dataset (first in the list)\n",
    "  ref_dataset <- datasets[[1]]\n",
    "  # Aligning datasets based on GeneSymbol of the new reference\n",
    "  aligned_datasets <- lapply(datasets, function(dataset) {\n",
    "    dataset[match(ref_dataset$GeneSymbol, dataset$GeneSymbol), ]  })\n",
    "\n",
    "  # Combine p-values using Fisher's method\n",
    "  pvalues_list <- lapply(aligned_datasets, function(dataset) dataset$FDR)\n",
    "  fishcomb <- fishercomb(pvalues_list, BHth = 0.05)\n",
    "  # cutoff filters\n",
    "  threshold <- 0.05\n",
    "  DEGs <- which(fishcomb$adjpval <= threshold)\n",
    "  log2fc_filter <- Reduce(\"&\", lapply(aligned_datasets, function(dataset) abs(dataset$logFC) > 1))\n",
    "  DEGs_log2fc <- DEGs[log2fc_filter[DEGs]]\n",
    "  return(data.frame(GeneSymbol = ref_dataset$GeneSymbol[DEGs_log2fc],\n",
    "                    AdjustedPValue = fishcomb$adjpval[DEGs_log2fc]))\n",
    "}\n",
    "# jackknife analysis\n",
    "jackknife_results <- list()\n",
    "datasets_to_exclude <- c(\"110\", \"641\", \"151\", \"114\")\n",
    "for (dataset in datasets_to_exclude) {\n",
    "  jackknife_results[[dataset]] <- perform_meta_analysis(dataset)}\n",
    "sapply(jackknife_results, nrow)\n",
    "length(na.omit(jackknife_results[[1]][,1]))\n",
    "length(na.omit(jackknife_results[[2]][,1]))\n",
    "length(na.omit(jackknife_results[[3]][,1]))\n",
    "length(na.omit(jackknife_results[[4]][,1]))"
   ]
  },
  {
   "cell_type": "code",
   "execution_count": 191,
   "id": "751d85fe-af7b-4ff2-b419-a2882c915186",
   "metadata": {
    "tags": [],
    "vscode": {
     "languageId": "r"
    }
   },
   "outputs": [
    {
     "data": {
      "text/html": [
       "580"
      ],
      "text/latex": [
       "580"
      ],
      "text/markdown": [
       "580"
      ],
      "text/plain": [
       "[1] 580"
      ]
     },
     "metadata": {},
     "output_type": "display_data"
    }
   ],
   "source": [
    "# Function to count occurrences of each DEG\n",
    "count_DEGs <- function(jackknife_results) {\n",
    "    # Combine all DEGs into a single vector\n",
    "    all_DEGs <- unlist(lapply(jackknife_results, function(df) df$GeneSymbol))\n",
    "    DEG_counts <- table(all_DEGs)\n",
    "    DEG_counts_df <- as.data.frame(DEG_counts, stringsAsFactors = FALSE)\n",
    "    names(DEG_counts_df) <- c(\"GeneSymbol\", \"Count\")\n",
    "    return(DEG_counts_df)\n",
    "}\n",
    "DEG_counts_df <- count_DEGs(jackknife_results)\n",
    "length(DEG_counts_df[,2])"
   ]
  },
  {
   "cell_type": "code",
   "execution_count": 192,
   "id": "41756247-30f6-4feb-88a9-de60c37a686e",
   "metadata": {
    "tags": [],
    "vscode": {
     "languageId": "r"
    }
   },
   "outputs": [
    {
     "data": {
      "text/html": [
       "<table class=\"dataframe\">\n",
       "<caption>A data.frame: 6 × 9</caption>\n",
       "<thead>\n",
       "\t<tr><th></th><th scope=col>GeneSymbol</th><th scope=col>pvalue_110</th><th scope=col>pvalue_641</th><th scope=col>pvalue_151</th><th scope=col>pvalue_114</th><th scope=col>direction_110</th><th scope=col>direction_641</th><th scope=col>direction_151</th><th scope=col>direction_114</th></tr>\n",
       "\t<tr><th></th><th scope=col>&lt;chr&gt;</th><th scope=col>&lt;dbl&gt;</th><th scope=col>&lt;dbl&gt;</th><th scope=col>&lt;dbl&gt;</th><th scope=col>&lt;dbl&gt;</th><th scope=col>&lt;chr&gt;</th><th scope=col>&lt;chr&gt;</th><th scope=col>&lt;chr&gt;</th><th scope=col>&lt;chr&gt;</th></tr>\n",
       "</thead>\n",
       "<tbody>\n",
       "\t<tr><th scope=row>1</th><td>POLQ  </td><td>1.186459e-09</td><td>1.870338e-15</td><td>0.25991867</td><td>5.260173e-01</td><td>up  </td><td>up  </td><td>up  </td><td>up</td></tr>\n",
       "\t<tr><th scope=row>2</th><td>CDC6  </td><td>6.565456e-10</td><td>4.459916e-13</td><td>0.01062613</td><td>3.307016e-01</td><td>up  </td><td>up  </td><td>up  </td><td>up</td></tr>\n",
       "\t<tr><th scope=row>3</th><td>PBXIP1</td><td>4.377858e-03</td><td>4.459916e-13</td><td>0.09037740</td><td>1.113442e-06</td><td>down</td><td>down</td><td>down</td><td>up</td></tr>\n",
       "\t<tr><th scope=row>4</th><td>TSPYL1</td><td>2.791278e-07</td><td>4.459916e-13</td><td>0.52797908</td><td>1.669998e-06</td><td>down</td><td>down</td><td>down</td><td>up</td></tr>\n",
       "\t<tr><th scope=row>5</th><td>TUBB2A</td><td>3.435324e-01</td><td>4.459916e-13</td><td>0.01999790</td><td>5.542502e-01</td><td>up  </td><td>down</td><td>down</td><td>up</td></tr>\n",
       "\t<tr><th scope=row>6</th><td>H2BC6 </td><td>3.755677e-08</td><td>4.459916e-13</td><td>        NA</td><td>          NA</td><td>up  </td><td>up  </td><td>NA  </td><td>NA</td></tr>\n",
       "</tbody>\n",
       "</table>\n"
      ],
      "text/latex": [
       "A data.frame: 6 × 9\n",
       "\\begin{tabular}{r|lllllllll}\n",
       "  & GeneSymbol & pvalue\\_110 & pvalue\\_641 & pvalue\\_151 & pvalue\\_114 & direction\\_110 & direction\\_641 & direction\\_151 & direction\\_114\\\\\n",
       "  & <chr> & <dbl> & <dbl> & <dbl> & <dbl> & <chr> & <chr> & <chr> & <chr>\\\\\n",
       "\\hline\n",
       "\t1 & POLQ   & 1.186459e-09 & 1.870338e-15 & 0.25991867 & 5.260173e-01 & up   & up   & up   & up\\\\\n",
       "\t2 & CDC6   & 6.565456e-10 & 4.459916e-13 & 0.01062613 & 3.307016e-01 & up   & up   & up   & up\\\\\n",
       "\t3 & PBXIP1 & 4.377858e-03 & 4.459916e-13 & 0.09037740 & 1.113442e-06 & down & down & down & up\\\\\n",
       "\t4 & TSPYL1 & 2.791278e-07 & 4.459916e-13 & 0.52797908 & 1.669998e-06 & down & down & down & up\\\\\n",
       "\t5 & TUBB2A & 3.435324e-01 & 4.459916e-13 & 0.01999790 & 5.542502e-01 & up   & down & down & up\\\\\n",
       "\t6 & H2BC6  & 3.755677e-08 & 4.459916e-13 &         NA &           NA & up   & up   & NA   & NA\\\\\n",
       "\\end{tabular}\n"
      ],
      "text/markdown": [
       "\n",
       "A data.frame: 6 × 9\n",
       "\n",
       "| <!--/--> | GeneSymbol &lt;chr&gt; | pvalue_110 &lt;dbl&gt; | pvalue_641 &lt;dbl&gt; | pvalue_151 &lt;dbl&gt; | pvalue_114 &lt;dbl&gt; | direction_110 &lt;chr&gt; | direction_641 &lt;chr&gt; | direction_151 &lt;chr&gt; | direction_114 &lt;chr&gt; |\n",
       "|---|---|---|---|---|---|---|---|---|---|\n",
       "| 1 | POLQ   | 1.186459e-09 | 1.870338e-15 | 0.25991867 | 5.260173e-01 | up   | up   | up   | up |\n",
       "| 2 | CDC6   | 6.565456e-10 | 4.459916e-13 | 0.01062613 | 3.307016e-01 | up   | up   | up   | up |\n",
       "| 3 | PBXIP1 | 4.377858e-03 | 4.459916e-13 | 0.09037740 | 1.113442e-06 | down | down | down | up |\n",
       "| 4 | TSPYL1 | 2.791278e-07 | 4.459916e-13 | 0.52797908 | 1.669998e-06 | down | down | down | up |\n",
       "| 5 | TUBB2A | 3.435324e-01 | 4.459916e-13 | 0.01999790 | 5.542502e-01 | up   | down | down | up |\n",
       "| 6 | H2BC6  | 3.755677e-08 | 4.459916e-13 |         NA |           NA | up   | up   | NA   | NA |\n",
       "\n"
      ],
      "text/plain": [
       "  GeneSymbol pvalue_110   pvalue_641   pvalue_151 pvalue_114   direction_110\n",
       "1 POLQ       1.186459e-09 1.870338e-15 0.25991867 5.260173e-01 up           \n",
       "2 CDC6       6.565456e-10 4.459916e-13 0.01062613 3.307016e-01 up           \n",
       "3 PBXIP1     4.377858e-03 4.459916e-13 0.09037740 1.113442e-06 down         \n",
       "4 TSPYL1     2.791278e-07 4.459916e-13 0.52797908 1.669998e-06 down         \n",
       "5 TUBB2A     3.435324e-01 4.459916e-13 0.01999790 5.542502e-01 up           \n",
       "6 H2BC6      3.755677e-08 4.459916e-13         NA           NA up           \n",
       "  direction_641 direction_151 direction_114\n",
       "1 up            up            up           \n",
       "2 up            up            up           \n",
       "3 down          down          up           \n",
       "4 down          down          up           \n",
       "5 down          down          up           \n",
       "6 up            NA            NA           "
      ]
     },
     "metadata": {},
     "output_type": "display_data"
    }
   ],
   "source": [
    "# Aligning datasets based on GeneSymbol  #order matter\n",
    "aligned_110 <- edgedata110[match(edgedata641$GeneSymbol, edgedata110$GeneSymbol), ]\n",
    "aligned_641 <- edgedata641  # Assuming this is the reference\n",
    "aligned_151 <- edgedata151[match(edgedata641$GeneSymbol, edgedata151$GeneSymbol), ]\n",
    "aligned_114 <- edgedata114[match(edgedata641$GeneSymbol, edgedata114$GeneSymbol), ]\n",
    "library(dplyr)\n",
    "# gene expression direction\n",
    "get_direction <- function(logFC) {\n",
    "  if (is.na(logFC)) {\n",
    "    return(\"NA\")\n",
    "  } else if (logFC > 0) {\n",
    "    return(\"up\")\n",
    "  } else if (logFC < 0) {\n",
    "    return(\"down\")\n",
    "  } else {\n",
    "    return(\"neutral\")\n",
    "  }\n",
    "}\n",
    "aligned_110$direction <- sapply(aligned_110$logFC, get_direction)\n",
    "aligned_641$direction <- sapply(aligned_641$logFC, get_direction)\n",
    "aligned_151$direction <- sapply(aligned_151$logFC, get_direction)\n",
    "aligned_114$direction <- sapply(aligned_114$logFC, get_direction)\n",
    "combined_data <- data.frame(\n",
    "  GeneSymbol = aligned_641$GeneSymbol,\n",
    "  pvalue_110 = aligned_110$FDR,\n",
    "  pvalue_641 = aligned_641$FDR,\n",
    "  pvalue_151 = aligned_151$FDR,\n",
    "  pvalue_114 = aligned_114$FDR,\n",
    "  direction_110 = aligned_110$direction,\n",
    "  direction_641 = aligned_641$direction,\n",
    "  direction_151 = aligned_151$direction,\n",
    "  direction_114 = aligned_114$direction\n",
    ")\n",
    " \n",
    "head(combined_data)"
   ]
  },
  {
   "cell_type": "markdown",
   "id": "23e4d9fb-c23f-4568-8e17-9e479551750c",
   "metadata": {},
   "source": [
    "**inconsistency code**"
   ]
  },
  {
   "cell_type": "code",
   "execution_count": 193,
   "id": "31ff431e-a0b2-433f-b619-a4fd16087dee",
   "metadata": {
    "tags": [],
    "vscode": {
     "languageId": "r"
    }
   },
   "outputs": [
    {
     "name": "stdout",
     "output_type": "stream",
     "text": [
      "  Dataset Inconsistencies\n",
      "1     110            7867\n",
      "2     641            3259\n",
      "3     151            4852\n",
      "4     114           12579\n"
     ]
    }
   ],
   "source": [
    "library(dplyr)\n",
    "# Function to find the majority direction\n",
    "majority_direction <- function(directions) {\n",
    "  valid_directions <- directions[directions %in% c(\"up\", \"down\")]\n",
    "  if (length(valid_directions) == 0) {\n",
    "    return(NA)\n",
    "  }\n",
    "  # Find which direction is more common\n",
    "  most_common <- sort(table(valid_directions), decreasing = TRUE)\n",
    "  if (length(most_common) == 0) {\n",
    "    return(NA)\n",
    "  } else {\n",
    "    return(names(most_common)[1])\n",
    "  }\n",
    "}\n",
    "#  majority direction for each gene\n",
    "combined_data$majority_direction <- apply(combined_data[, grep(\"direction_\", names(combined_data))], 1, majority_direction)\n",
    "# count inconsistencies for each dataset\n",
    "count_inconsistencies <- function(dataset_direction, majority_direction) {\n",
    "  sum(dataset_direction != majority_direction & !is.na(dataset_direction) & majority_direction != \"NA\", na.rm = TRUE)}\n",
    "dataset_names <- c(\"direction_110\", \"direction_641\", \"direction_151\", \"direction_114\")\n",
    "#  inconsistency counts\n",
    "inconsistency_counts <- data.frame(Dataset = gsub(\"direction_\", \"\", dataset_names), Inconsistencies = integer(length(dataset_names)))\n",
    "for (i in seq_along(dataset_names)) {\n",
    "  dataset_direction <- combined_data[[dataset_names[i]]]\n",
    "  inconsistency_counts$Inconsistencies[i] <- count_inconsistencies(dataset_direction, combined_data$majority_direction)\n",
    "}\n",
    "print(inconsistency_counts)\n"
   ]
  },
  {
   "cell_type": "markdown",
   "id": "744a3668",
   "metadata": {},
   "source": [
    "**META-Analysis and visualisations**"
   ]
  },
  {
   "cell_type": "code",
   "execution_count": 208,
   "id": "a5d2a162-ae54-4d67-a267-ed97d23b5f7d",
   "metadata": {
    "tags": [],
    "vscode": {
     "languageId": "r"
    }
   },
   "outputs": [
    {
     "name": "stdout",
     "output_type": "stream",
     "text": [
      "Exc Set 3 Exc Set 1 Exc Set 2 \n",
      "     2588      1542      1779 \n"
     ]
    },
    {
     "data": {
      "image/png": "[encoded data removed]",
      "text/plain": [
       "plot without title"
      ]
     },
     "metadata": {
      "image/png": {
       "height": 420,
       "width": 420
      }
     },
     "output_type": "display_data"
    }
   ],
   "source": [
    "#without 114\n",
    "#jacknife with all cutoff: (pval,direction, foldchange)\n",
    "library(dplyr)\n",
    "library(ggvenn)\n",
    "# Thresholds and cutoffs\n",
    "threshold <- 0.05\n",
    "fc_cutoff <- 0.6\n",
    "count_threshold <- 2  #it should be max 2 because of jacknife( its betwewn 2 in 3 meta)\n",
    "\n",
    "# Function for combined direction of gene expression\n",
    "get_combined_direction <- function(logFC_values) {\n",
    "  if (all(logFC_values > 0, na.rm = TRUE)) {\n",
    "    return(\"up\")\n",
    "  } else if (all(logFC_values < 0, na.rm = TRUE)) {\n",
    "    return(\"down\")\n",
    "  } else {\n",
    "    return(\"mixed\")\n",
    "  }\n",
    "}\n",
    "# Function for jackknife \n",
    "run_jackknife_analysis <- function(exclude_index) {\n",
    "  # Exclude one dataset\n",
    "  included_datasets <- dataset_list[-exclude_index]\n",
    "  # Create a combined dataset with unique column names\n",
    "  combined_data <- do.call(cbind, lapply(seq_along(included_datasets), function(i) {\n",
    "    dataset <- included_datasets[[i]]\n",
    "    setNames(dataset, paste0(names(dataset), \"_\", i))\n",
    "  }))\n",
    "head(combined_data)\n",
    "  # Ensure GeneSymbol columns are consistent across datasets\n",
    "  gene_symbol_cols <- grep(\"GeneSymbol_\", names(combined_data), value = TRUE)\n",
    "  combined_data$GeneSymbol <- combined_data[, gene_symbol_cols[1]]\n",
    "  combined_data <- combined_data[, !names(combined_data) %in% gene_symbol_cols[-1]]\n",
    "  # Combine p-values using Fisher's method for included datasets\n",
    "  pvalues_list <- lapply(included_datasets, function(dataset) dataset$FDR)\n",
    "  fishcomb <- fishercomb(pvalues_list, BHth = 0.05)\n",
    "  \n",
    "  # Apply the fold change, direction, and p-value criteria\n",
    "  combined_data <- combined_data %>% \n",
    "    filter(fishcomb$adjpval <= threshold) %>%\n",
    "    mutate(direction = apply(select(., starts_with(\"logFC_\")), 1, get_combined_direction)) %>%\n",
    "    mutate(upregulated_count = rowSums(select(., starts_with(\"logFC_\")) > fc_cutoff, na.rm = TRUE),\n",
    "           downregulated_count = rowSums(select(., starts_with(\"logFC_\")) < -fc_cutoff, na.rm = TRUE)) %>%\n",
    "    rowwise() %>%\n",
    "    filter((direction == \"up\" && upregulated_count >= count_threshold) |\n",
    "           (direction == \"down\" && downregulated_count >= count_threshold))\n",
    "  # Return the significant gene symbols\n",
    "  return(combined_data$GeneSymbol)\n",
    "}\n",
    "# List of all datasets (excluding dataset 114)\n",
    "dataset_list <- list(aligned_110, aligned_641, aligned_151)\n",
    "\n",
    "# Running the jackknife analysis\n",
    "jackknife_results <- lapply(seq_along(dataset_list), run_jackknife_analysis)\n",
    "robust_genes <- Reduce(intersect, jackknife_results)\n",
    "names(jackknife_results) <- c(\"Exc Set 3\", \"Exc Set 1\", \"Exc Set 2\")\n",
    "\n",
    "# Counting the number of DEGs for each jackknife iteration\n",
    "non_na_counts <- sapply(jackknife_results, function(gene_list) length(na.omit(gene_list)))\n",
    "print(non_na_counts)\n",
    "# Create Venn diagram\n",
    "venn_plot <- ggvenn(jackknife_results)\n",
    "venn_plot + theme_minimal()\n",
    " ggsave(\"venn_jacknife.png\", plot = venn_plot, width = 6, height = 6, dpi = 300)\n",
    " #write.table(robust_genes, file = \"MetaRobust.txt\", row.names = F, col.names = T, quote = F)"
   ]
  },
  {
   "cell_type": "code",
   "execution_count": 195,
   "id": "7add7ac5-67a3-416b-b33e-da9d55c5159b",
   "metadata": {
    "tags": [],
    "vscode": {
     "languageId": "r"
    }
   },
   "outputs": [],
   "source": []
  },
  {
   "cell_type": "code",
   "execution_count": 197,
   "id": "74caa301-f934-4173-87c2-656001a4dad8",
   "metadata": {
    "vscode": {
     "languageId": "r"
    }
   },
   "outputs": [
    {
     "name": "stdout",
     "output_type": "stream",
     "text": [
      "[1] \"DEGs0.05 up and down\"\n"
     ]
    },
    {
     "data": {
      "text/html": [
       "11263"
      ],
      "text/latex": [
       "11263"
      ],
      "text/markdown": [
       "11263"
      ],
      "text/plain": [
       "[1] 11263"
      ]
     },
     "metadata": {},
     "output_type": "display_data"
    },
    {
     "name": "stdout",
     "output_type": "stream",
     "text": [
      "[1] \"upregulated_DEGs0.05 with same direction\"\n"
     ]
    },
    {
     "data": {
      "text/html": [
       "<style>\n",
       ".list-inline {list-style: none; margin:0; padding: 0}\n",
       ".list-inline>li {display: inline-block}\n",
       ".list-inline>li:not(:last-child)::after {content: \"\\00b7\"; padding: 0 .5ex}\n",
       "</style>\n",
       "<ol class=list-inline><li>1942</li><li>8</li></ol>\n"
      ],
      "text/latex": [
       "\\begin{enumerate*}\n",
       "\\item 1942\n",
       "\\item 8\n",
       "\\end{enumerate*}\n"
      ],
      "text/markdown": [
       "1. 1942\n",
       "2. 8\n",
       "\n",
       "\n"
      ],
      "text/plain": [
       "[1] 1942    8"
      ]
     },
     "metadata": {},
     "output_type": "display_data"
    },
    {
     "name": "stdout",
     "output_type": "stream",
     "text": [
      "[1] \"downregulated_DEGs0.05 with same direction\"\n"
     ]
    },
    {
     "data": {
      "text/html": [
       "<style>\n",
       ".list-inline {list-style: none; margin:0; padding: 0}\n",
       ".list-inline>li {display: inline-block}\n",
       ".list-inline>li:not(:last-child)::after {content: \"\\00b7\"; padding: 0 .5ex}\n",
       "</style>\n",
       "<ol class=list-inline><li>2093</li><li>8</li></ol>\n"
      ],
      "text/latex": [
       "\\begin{enumerate*}\n",
       "\\item 2093\n",
       "\\item 8\n",
       "\\end{enumerate*}\n"
      ],
      "text/markdown": [
       "1. 2093\n",
       "2. 8\n",
       "\n",
       "\n"
      ],
      "text/plain": [
       "[1] 2093    8"
      ]
     },
     "metadata": {},
     "output_type": "display_data"
    },
    {
     "name": "stdout",
     "output_type": "stream",
     "text": [
      "[1] \"upregulated_DEGs0.05 with same direction and fold change cutoff\"\n"
     ]
    },
    {
     "data": {
      "text/html": [
       "<style>\n",
       ".list-inline {list-style: none; margin:0; padding: 0}\n",
       ".list-inline>li {display: inline-block}\n",
       ".list-inline>li:not(:last-child)::after {content: \"\\00b7\"; padding: 0 .5ex}\n",
       "</style>\n",
       "<ol class=list-inline><li>748</li><li>13</li></ol>\n"
      ],
      "text/latex": [
       "\\begin{enumerate*}\n",
       "\\item 748\n",
       "\\item 13\n",
       "\\end{enumerate*}\n"
      ],
      "text/markdown": [
       "1. 748\n",
       "2. 13\n",
       "\n",
       "\n"
      ],
      "text/plain": [
       "[1] 748  13"
      ]
     },
     "metadata": {},
     "output_type": "display_data"
    },
    {
     "name": "stdout",
     "output_type": "stream",
     "text": [
      "[1] \"downregulated_DEGs0.05 with same direction and fold change cutoff\"\n"
     ]
    },
    {
     "data": {
      "text/html": [
       "<style>\n",
       ".list-inline {list-style: none; margin:0; padding: 0}\n",
       ".list-inline>li {display: inline-block}\n",
       ".list-inline>li:not(:last-child)::after {content: \"\\00b7\"; padding: 0 .5ex}\n",
       "</style>\n",
       "<ol class=list-inline><li>97</li><li>13</li></ol>\n"
      ],
      "text/latex": [
       "\\begin{enumerate*}\n",
       "\\item 97\n",
       "\\item 13\n",
       "\\end{enumerate*}\n"
      ],
      "text/markdown": [
       "1. 97\n",
       "2. 13\n",
       "\n",
       "\n"
      ],
      "text/plain": [
       "[1] 97 13"
      ]
     },
     "metadata": {},
     "output_type": "display_data"
    }
   ],
   "source": [
    "#Main Meta with 3 dataset\n",
    "# meta-analysis edgeR\n",
    "# Align datasets based on GeneSymbol  #order matter\n",
    "aligned_110 <- edgedata110[match(edgedata641$GeneSymbol, edgedata110$GeneSymbol), ]\n",
    "aligned_641 <- edgedata641  # Assuming this is the reference\n",
    "aligned_151 <- edgedata151[match(edgedata641$GeneSymbol, edgedata151$GeneSymbol), ]\n",
    "library(dplyr)\n",
    "# gene expression direction\n",
    "get_direction <- function(logFC) {\n",
    "  if (is.na(logFC)) {\n",
    "    return(\"NA\")\n",
    "  } else if (logFC > 0) {\n",
    "    return(\"up\")\n",
    "  } else if (logFC < 0) {\n",
    "    return(\"down\")\n",
    "  } else {\n",
    "    return(\"neutral\")\n",
    "  }\n",
    "}\n",
    "aligned_110$direction <- sapply(aligned_110$logFC, get_direction)\n",
    "aligned_641$direction <- sapply(aligned_641$logFC, get_direction)\n",
    "aligned_151$direction <- sapply(aligned_151$logFC, get_direction)\n",
    "combined_data <- data.frame(\n",
    "  GeneSymbol = aligned_641$GeneSymbol,\n",
    "  pvalue_110 = aligned_110$FDR,\n",
    "  pvalue_641 = aligned_641$FDR,\n",
    "  pvalue_151 = aligned_151$FDR,\n",
    "  direction_110 = aligned_110$direction,\n",
    "  direction_641 = aligned_641$direction,\n",
    "  direction_151 = aligned_151$direction\n",
    ")\n",
    "# Combine p-values using Fisher's method\n",
    "pvalues_list <- list(combined_data$pvalue_110, combined_data$pvalue_641, combined_data$pvalue_151)\n",
    "fishcomb <- fishercomb(pvalues_list, BHth = 0.05)\n",
    "DEGs <- which(fishcomb$adjpval <= threshold)\n",
    "print(\"DEGs0.05 up and down\")\n",
    "length(DEGs)\n",
    "combined_data$combined_pval <- fishcomb$adjpval\n",
    "significant_DEGs <- combined_data %>% \n",
    "  filter(combined_pval <= threshold) %>%\n",
    "  rowwise() %>%\n",
    "  filter(all(c(direction_110, direction_641, direction_151) == \"up\") | all(c(direction_110, direction_641, direction_151) == \"down\"))\n",
    "upregulated_DEGs <- filter(significant_DEGs, direction_110 == \"up\")\n",
    "downregulated_DEGs <- filter(significant_DEGs, direction_110 == \"down\")\n",
    "print(\"upregulated_DEGs0.05 with same direction\")\n",
    "dim(upregulated_DEGs)\n",
    "print(\"downregulated_DEGs0.05 with same direction\")\n",
    "dim(downregulated_DEGs)\n",
    "# fold change cutoff\n",
    "fc_cutoff <- 0.6   #0.6 about 1.5 time \n",
    "combined_data$logFC_110 <- aligned_110$logFC\n",
    "combined_data$logFC_641 <- aligned_641$logFC\n",
    "combined_data$logFC_151 <- aligned_151$logFC\n",
    "combined_data$upregulated_count <- rowSums(select(combined_data, starts_with(\"logFC\")) > fc_cutoff, na.rm = TRUE)\n",
    "combined_data$downregulated_count <- rowSums(select(combined_data, starts_with(\"logFC\")) < -fc_cutoff, na.rm = TRUE)\n",
    "significant_DEGs <- combined_data %>% \n",
    "  filter(combined_pval <= threshold) %>%\n",
    "  rowwise() %>%\n",
    "  filter((all(c(direction_110, direction_641, direction_151) == \"up\") && upregulated_count >= 3) | \n",
    "         (all(c(direction_110, direction_641, direction_151) == \"down\") && downregulated_count >= 3))\n",
    "Fupregulated_DEGs <- filter(significant_DEGs, direction_110 == \"up\")\n",
    "Fdownregulated_DEGs <- filter(significant_DEGs, direction_110 == \"down\")\n",
    "print(\"upregulated_DEGs0.05 with same direction and fold change cutoff\")\n",
    "dim(Fupregulated_DEGs)\n",
    "print(\"downregulated_DEGs0.05 with same direction and fold change cutoff\")\n",
    "dim(Fdownregulated_DEGs)"
   ]
  },
  {
   "cell_type": "code",
   "execution_count": 198,
   "id": "1088dba1-78b2-4c73-9938-825c32254036",
   "metadata": {
    "tags": [],
    "vscode": {
     "languageId": "r"
    }
   },
   "outputs": [
    {
     "data": {
      "text/html": [
       "<style>\n",
       ".list-inline {list-style: none; margin:0; padding: 0}\n",
       ".list-inline>li {display: inline-block}\n",
       ".list-inline>li:not(:last-child)::after {content: \"\\00b7\"; padding: 0 .5ex}\n",
       "</style>\n",
       "<ol class=list-inline><li>2813</li><li>7</li></ol>\n"
      ],
      "text/latex": [
       "\\begin{enumerate*}\n",
       "\\item 2813\n",
       "\\item 7\n",
       "\\end{enumerate*}\n"
      ],
      "text/markdown": [
       "1. 2813\n",
       "2. 7\n",
       "\n",
       "\n"
      ],
      "text/plain": [
       "[1] 2813    7"
      ]
     },
     "metadata": {},
     "output_type": "display_data"
    },
    {
     "data": {
      "text/html": [
       "<style>\n",
       ".list-inline {list-style: none; margin:0; padding: 0}\n",
       ".list-inline>li {display: inline-block}\n",
       ".list-inline>li:not(:last-child)::after {content: \"\\00b7\"; padding: 0 .5ex}\n",
       "</style>\n",
       "<ol class=list-inline><li>800</li><li>7</li></ol>\n"
      ],
      "text/latex": [
       "\\begin{enumerate*}\n",
       "\\item 800\n",
       "\\item 7\n",
       "\\end{enumerate*}\n"
      ],
      "text/markdown": [
       "1. 800\n",
       "2. 7\n",
       "\n",
       "\n"
      ],
      "text/plain": [
       "[1] 800   7"
      ]
     },
     "metadata": {},
     "output_type": "display_data"
    },
    {
     "data": {
      "text/html": [
       "<style>\n",
       ".list-inline {list-style: none; margin:0; padding: 0}\n",
       ".list-inline>li {display: inline-block}\n",
       ".list-inline>li:not(:last-child)::after {content: \"\\00b7\"; padding: 0 .5ex}\n",
       "</style>\n",
       "<ol class=list-inline><li>2813</li><li>7</li></ol>\n"
      ],
      "text/latex": [
       "\\begin{enumerate*}\n",
       "\\item 2813\n",
       "\\item 7\n",
       "\\end{enumerate*}\n"
      ],
      "text/markdown": [
       "1. 2813\n",
       "2. 7\n",
       "\n",
       "\n"
      ],
      "text/plain": [
       "[1] 2813    7"
      ]
     },
     "metadata": {},
     "output_type": "display_data"
    },
    {
     "data": {
      "text/html": [
       "<style>\n",
       ".list-inline {list-style: none; margin:0; padding: 0}\n",
       ".list-inline>li {display: inline-block}\n",
       ".list-inline>li:not(:last-child)::after {content: \"\\00b7\"; padding: 0 .5ex}\n",
       "</style>\n",
       "<ol class=list-inline><li>800</li><li>7</li></ol>\n"
      ],
      "text/latex": [
       "\\begin{enumerate*}\n",
       "\\item 800\n",
       "\\item 7\n",
       "\\end{enumerate*}\n"
      ],
      "text/markdown": [
       "1. 800\n",
       "2. 7\n",
       "\n",
       "\n"
      ],
      "text/plain": [
       "[1] 800   7"
      ]
     },
     "metadata": {},
     "output_type": "display_data"
    }
   ],
   "source": [
    "#upregulated and dowregulated of 114 dataset   f:0.6, f:1,  fdr:0.05\n",
    "up_114 <- edgedata114 %>%\n",
    "  filter(\n",
    "    (FDR < 0.05),\n",
    "    (logFC >= 0.6) )\n",
    "down_114 <- edgedata114 %>%\n",
    "  filter(\n",
    "    (FDR < 0.05),\n",
    "    (logFC <= -0.6) )\n",
    "dim(up_114)\n",
    "dim(down_114)\n",
    "up114<-up_114[,c(\"GeneSymbol\",\"FDR\")]\n",
    "down114<-down_114[,c(\"GeneSymbol\",\"FDR\")]\n",
    "#write.table(up114, file = \"up114.txt\", row.names = F, col.names = T, quote = F)\n",
    "#write.table(down114, file = \"down114.txt\", row.names = F, col.names = T, quote = F)\n",
    "up_114_f1 <- edgedata114 %>%\n",
    "  filter(\n",
    "    (FDR < 0.05),\n",
    "    (logFC >= 0.6) )\n",
    "down_114_f1 <- edgedata114 %>%\n",
    "  filter(\n",
    "    (FDR < 0.05),\n",
    "    (logFC <= -0.6) )\n",
    "dim(up_114_f1)\n",
    "dim(down_114_f1)\n",
    "up114_f1<-up_114_f1[,c(\"GeneSymbol\",\"FDR\")]\n",
    "down114_f1<-down_114_f1[,c(\"GeneSymbol\",\"FDR\")]\n",
    "#write.table(up114_f1, file = \"up114_f1.txt\", row.names = F, col.names = T, quote = F)\n",
    "#write.table(down114_f1, file = \"down114_f1.txt\", row.names = F, col.names = T, quote = F)"
   ]
  },
  {
   "cell_type": "markdown",
   "id": "47ac756a",
   "metadata": {},
   "source": [
    "** Finding common genes  between MataAnalysis and jacknife analysis **"
   ]
  },
  {
   "cell_type": "code",
   "execution_count": 199,
   "id": "112cad0e-c927-4fc2-b3bb-0ab7b99fb737",
   "metadata": {
    "tags": [],
    "vscode": {
     "languageId": "r"
    }
   },
   "outputs": [
    {
     "data": {
      "text/html": [
       "<table class=\"dataframe\">\n",
       "<caption>A rowwise_df: 6 × 2</caption>\n",
       "<thead>\n",
       "\t<tr><th scope=col>GeneSymbol</th><th scope=col>combined_pval</th></tr>\n",
       "\t<tr><th scope=col>&lt;chr&gt;</th><th scope=col>&lt;dbl&gt;</th></tr>\n",
       "</thead>\n",
       "<tbody>\n",
       "\t<tr><td>CDC6  </td><td>0.000000e+00</td></tr>\n",
       "\t<tr><td>CLSPN </td><td>0.000000e+00</td></tr>\n",
       "\t<tr><td>CDCA2 </td><td>0.000000e+00</td></tr>\n",
       "\t<tr><td>RRM2  </td><td>0.000000e+00</td></tr>\n",
       "\t<tr><td>MS4A4A</td><td>1.448148e-12</td></tr>\n",
       "\t<tr><td>EPSTI1</td><td>1.501895e-10</td></tr>\n",
       "</tbody>\n",
       "</table>\n"
      ],
      "text/latex": [
       "A rowwise\\_df: 6 × 2\n",
       "\\begin{tabular}{ll}\n",
       " GeneSymbol & combined\\_pval\\\\\n",
       " <chr> & <dbl>\\\\\n",
       "\\hline\n",
       "\t CDC6   & 0.000000e+00\\\\\n",
       "\t CLSPN  & 0.000000e+00\\\\\n",
       "\t CDCA2  & 0.000000e+00\\\\\n",
       "\t RRM2   & 0.000000e+00\\\\\n",
       "\t MS4A4A & 1.448148e-12\\\\\n",
       "\t EPSTI1 & 1.501895e-10\\\\\n",
       "\\end{tabular}\n"
      ],
      "text/markdown": [
       "\n",
       "A rowwise_df: 6 × 2\n",
       "\n",
       "| GeneSymbol &lt;chr&gt; | combined_pval &lt;dbl&gt; |\n",
       "|---|---|\n",
       "| CDC6   | 0.000000e+00 |\n",
       "| CLSPN  | 0.000000e+00 |\n",
       "| CDCA2  | 0.000000e+00 |\n",
       "| RRM2   | 0.000000e+00 |\n",
       "| MS4A4A | 1.448148e-12 |\n",
       "| EPSTI1 | 1.501895e-10 |\n",
       "\n"
      ],
      "text/plain": [
       "  GeneSymbol combined_pval\n",
       "1 CDC6       0.000000e+00 \n",
       "2 CLSPN      0.000000e+00 \n",
       "3 CDCA2      0.000000e+00 \n",
       "4 RRM2       0.000000e+00 \n",
       "5 MS4A4A     1.448148e-12 \n",
       "6 EPSTI1     1.501895e-10 "
      ]
     },
     "metadata": {},
     "output_type": "display_data"
    },
    {
     "data": {
      "text/html": [
       "<style>\n",
       ".list-inline {list-style: none; margin:0; padding: 0}\n",
       ".list-inline>li {display: inline-block}\n",
       ".list-inline>li:not(:last-child)::after {content: \"\\00b7\"; padding: 0 .5ex}\n",
       "</style>\n",
       "<ol class=list-inline><li>748</li><li>2</li></ol>\n"
      ],
      "text/latex": [
       "\\begin{enumerate*}\n",
       "\\item 748\n",
       "\\item 2\n",
       "\\end{enumerate*}\n"
      ],
      "text/markdown": [
       "1. 748\n",
       "2. 2\n",
       "\n",
       "\n"
      ],
      "text/plain": [
       "[1] 748   2"
      ]
     },
     "metadata": {},
     "output_type": "display_data"
    },
    {
     "data": {
      "text/html": [
       "<style>\n",
       ".list-inline {list-style: none; margin:0; padding: 0}\n",
       ".list-inline>li {display: inline-block}\n",
       ".list-inline>li:not(:last-child)::after {content: \"\\00b7\"; padding: 0 .5ex}\n",
       "</style>\n",
       "<ol class=list-inline><li>97</li><li>2</li></ol>\n"
      ],
      "text/latex": [
       "\\begin{enumerate*}\n",
       "\\item 97\n",
       "\\item 2\n",
       "\\end{enumerate*}\n"
      ],
      "text/markdown": [
       "1. 97\n",
       "2. 2\n",
       "\n",
       "\n"
      ],
      "text/plain": [
       "[1] 97  2"
      ]
     },
     "metadata": {},
     "output_type": "display_data"
    },
    {
     "data": {
      "text/html": [
       "<style>\n",
       ".list-inline {list-style: none; margin:0; padding: 0}\n",
       ".list-inline>li {display: inline-block}\n",
       ".list-inline>li:not(:last-child)::after {content: \"\\00b7\"; padding: 0 .5ex}\n",
       "</style>\n",
       "<ol class=list-inline><li>'CDC6'</li><li>'CLSPN'</li><li>'CDCA2'</li><li>'RRM2'</li><li>'MS4A4A'</li><li>'EPSTI1'</li></ol>\n"
      ],
      "text/latex": [
       "\\begin{enumerate*}\n",
       "\\item 'CDC6'\n",
       "\\item 'CLSPN'\n",
       "\\item 'CDCA2'\n",
       "\\item 'RRM2'\n",
       "\\item 'MS4A4A'\n",
       "\\item 'EPSTI1'\n",
       "\\end{enumerate*}\n"
      ],
      "text/markdown": [
       "1. 'CDC6'\n",
       "2. 'CLSPN'\n",
       "3. 'CDCA2'\n",
       "4. 'RRM2'\n",
       "5. 'MS4A4A'\n",
       "6. 'EPSTI1'\n",
       "\n",
       "\n"
      ],
      "text/plain": [
       "[1] \"CDC6\"   \"CLSPN\"  \"CDCA2\"  \"RRM2\"   \"MS4A4A\" \"EPSTI1\""
      ]
     },
     "metadata": {},
     "output_type": "display_data"
    },
    {
     "data": {
      "text/html": [
       "845"
      ],
      "text/latex": [
       "845"
      ],
      "text/markdown": [
       "845"
      ],
      "text/plain": [
       "[1] 845"
      ]
     },
     "metadata": {},
     "output_type": "display_data"
    },
    {
     "data": {
      "image/png": "[encoded data removed]",
      "text/plain": [
       "plot without title"
      ]
     },
     "metadata": {
      "image/png": {
       "height": 420,
       "width": 420
      }
     },
     "output_type": "display_data"
    }
   ],
   "source": [
    "# robust down regulated and upregulated genes\n",
    "upMeta<-Fupregulated_DEGs[,c(\"GeneSymbol\",\"combined_pval\")]\n",
    "downMeta<-Fdownregulated_DEGs[,c(\"GeneSymbol\",\"combined_pval\")]\n",
    "head(upMeta)\n",
    "#write.table(upMeta, file = \"upMeta.txt\", row.names = F, col.names = T, quote = F)\n",
    "#write.table(downMeta, file = \"downMeta.txt\", row.names = F, col.names = T, quote = F)\n",
    "dim(upMeta)\n",
    "dim(downMeta)\n",
    "# Combine the GeneSymbol columns from both upMeta and downMeta\n",
    "all_significant_genes <- c(upMeta$GeneSymbol, downMeta$GeneSymbol)\n",
    "head(all_significant_genes)\n",
    "length(all_significant_genes)\n",
    "#common genes between Meta results and highly robust genes in jackknife analysis\n",
    "venn_j_M_l <- list(\n",
    "  \"MataAnalysis\" = all_significant_genes,\n",
    "  \"Jackknife\" = robust_genes)\n",
    "\n",
    "# Create Venn diagram for all DEGs\n",
    "venn_j_M  <- ggvenn(venn_j_M_l)\n",
    "venn_j_M"
   ]
  },
  {
   "cell_type": "markdown",
   "id": "ef3886fc",
   "metadata": {},
   "source": [
    "** Severity Markers**"
   ]
  },
  {
   "cell_type": "code",
   "execution_count": 202,
   "id": "f142556f-473b-4e1f-89ef-2dbce5b4b638",
   "metadata": {
    "tags": [],
    "vscode": {
     "languageId": "r"
    }
   },
   "outputs": [
    {
     "data": {
      "text/html": [
       "<style>\n",
       ".list-inline {list-style: none; margin:0; padding: 0}\n",
       ".list-inline>li {display: inline-block}\n",
       ".list-inline>li:not(:last-child)::after {content: \"\\00b7\"; padding: 0 .5ex}\n",
       "</style>\n",
       "<ol class=list-inline><li>3825</li><li>2</li></ol>\n"
      ],
      "text/latex": [
       "\\begin{enumerate*}\n",
       "\\item 3825\n",
       "\\item 2\n",
       "\\end{enumerate*}\n"
      ],
      "text/markdown": [
       "1. 3825\n",
       "2. 2\n",
       "\n",
       "\n"
      ],
      "text/plain": [
       "[1] 3825    2"
      ]
     },
     "metadata": {},
     "output_type": "display_data"
    },
    {
     "data": {
      "text/html": [
       "<style>\n",
       ".list-inline {list-style: none; margin:0; padding: 0}\n",
       ".list-inline>li {display: inline-block}\n",
       ".list-inline>li:not(:last-child)::after {content: \"\\00b7\"; padding: 0 .5ex}\n",
       "</style>\n",
       "<ol class=list-inline><li>992</li><li>2</li></ol>\n"
      ],
      "text/latex": [
       "\\begin{enumerate*}\n",
       "\\item 992\n",
       "\\item 2\n",
       "\\end{enumerate*}\n"
      ],
      "text/markdown": [
       "1. 992\n",
       "2. 2\n",
       "\n",
       "\n"
      ],
      "text/plain": [
       "[1] 992   2"
      ]
     },
     "metadata": {},
     "output_type": "display_data"
    },
    {
     "data": {
      "text/html": [
       "<style>\n",
       ".list-inline {list-style: none; margin:0; padding: 0}\n",
       ".list-inline>li {display: inline-block}\n",
       ".list-inline>li:not(:last-child)::after {content: \"\\00b7\"; padding: 0 .5ex}\n",
       "</style>\n",
       "<ol class=list-inline><li>748</li><li>2</li></ol>\n"
      ],
      "text/latex": [
       "\\begin{enumerate*}\n",
       "\\item 748\n",
       "\\item 2\n",
       "\\end{enumerate*}\n"
      ],
      "text/markdown": [
       "1. 748\n",
       "2. 2\n",
       "\n",
       "\n"
      ],
      "text/plain": [
       "[1] 748   2"
      ]
     },
     "metadata": {},
     "output_type": "display_data"
    },
    {
     "data": {
      "text/html": [
       "<style>\n",
       ".list-inline {list-style: none; margin:0; padding: 0}\n",
       ".list-inline>li {display: inline-block}\n",
       ".list-inline>li:not(:last-child)::after {content: \"\\00b7\"; padding: 0 .5ex}\n",
       "</style>\n",
       "<ol class=list-inline><li>'KIFC1'</li><li>'CD38'</li><li>'TRIP13'</li><li>'ZWINT'</li><li>'SDC1'</li><li>'ORC1'</li><li>'TXNDC5'</li><li>'CAV1'</li><li>'SPC24'</li><li>'CDC20'</li><li>'NT5DC2'</li><li>'RAD51'</li><li>'BHLHA15'</li><li>'CCNE1'</li><li>'DDR2'</li><li>'MCM2'</li><li>'SDF2L1'</li><li>'GLDC'</li><li>'RAPGEF5'</li><li>'CHPF'</li><li>'CENPM'</li><li>'CDCA7'</li><li>'ITM2C'</li><li>'FAM111B'</li><li>'DERL3'</li><li>'KLHL14'</li><li>'ITGA8'</li></ol>\n"
      ],
      "text/latex": [
       "\\begin{enumerate*}\n",
       "\\item 'KIFC1'\n",
       "\\item 'CD38'\n",
       "\\item 'TRIP13'\n",
       "\\item 'ZWINT'\n",
       "\\item 'SDC1'\n",
       "\\item 'ORC1'\n",
       "\\item 'TXNDC5'\n",
       "\\item 'CAV1'\n",
       "\\item 'SPC24'\n",
       "\\item 'CDC20'\n",
       "\\item 'NT5DC2'\n",
       "\\item 'RAD51'\n",
       "\\item 'BHLHA15'\n",
       "\\item 'CCNE1'\n",
       "\\item 'DDR2'\n",
       "\\item 'MCM2'\n",
       "\\item 'SDF2L1'\n",
       "\\item 'GLDC'\n",
       "\\item 'RAPGEF5'\n",
       "\\item 'CHPF'\n",
       "\\item 'CENPM'\n",
       "\\item 'CDCA7'\n",
       "\\item 'ITM2C'\n",
       "\\item 'FAM111B'\n",
       "\\item 'DERL3'\n",
       "\\item 'KLHL14'\n",
       "\\item 'ITGA8'\n",
       "\\end{enumerate*}\n"
      ],
      "text/markdown": [
       "1. 'KIFC1'\n",
       "2. 'CD38'\n",
       "3. 'TRIP13'\n",
       "4. 'ZWINT'\n",
       "5. 'SDC1'\n",
       "6. 'ORC1'\n",
       "7. 'TXNDC5'\n",
       "8. 'CAV1'\n",
       "9. 'SPC24'\n",
       "10. 'CDC20'\n",
       "11. 'NT5DC2'\n",
       "12. 'RAD51'\n",
       "13. 'BHLHA15'\n",
       "14. 'CCNE1'\n",
       "15. 'DDR2'\n",
       "16. 'MCM2'\n",
       "17. 'SDF2L1'\n",
       "18. 'GLDC'\n",
       "19. 'RAPGEF5'\n",
       "20. 'CHPF'\n",
       "21. 'CENPM'\n",
       "22. 'CDCA7'\n",
       "23. 'ITM2C'\n",
       "24. 'FAM111B'\n",
       "25. 'DERL3'\n",
       "26. 'KLHL14'\n",
       "27. 'ITGA8'\n",
       "\n",
       "\n"
      ],
      "text/plain": [
       " [1] \"KIFC1\"   \"CD38\"    \"TRIP13\"  \"ZWINT\"   \"SDC1\"    \"ORC1\"    \"TXNDC5\" \n",
       " [8] \"CAV1\"    \"SPC24\"   \"CDC20\"   \"NT5DC2\"  \"RAD51\"   \"BHLHA15\" \"CCNE1\"  \n",
       "[15] \"DDR2\"    \"MCM2\"    \"SDF2L1\"  \"GLDC\"    \"RAPGEF5\" \"CHPF\"    \"CENPM\"  \n",
       "[22] \"CDCA7\"   \"ITM2C\"   \"FAM111B\" \"DERL3\"   \"KLHL14\"  \"ITGA8\"  "
      ]
     },
     "metadata": {},
     "output_type": "display_data"
    },
    {
     "data": {
      "text/html": [
       "<style>\n",
       ".list-inline {list-style: none; margin:0; padding: 0}\n",
       ".list-inline>li {display: inline-block}\n",
       ".list-inline>li:not(:last-child)::after {content: \"\\00b7\"; padding: 0 .5ex}\n",
       "</style>\n",
       "<ol class=list-inline><li>97</li><li>2</li></ol>\n"
      ],
      "text/latex": [
       "\\begin{enumerate*}\n",
       "\\item 97\n",
       "\\item 2\n",
       "\\end{enumerate*}\n"
      ],
      "text/markdown": [
       "1. 97\n",
       "2. 2\n",
       "\n",
       "\n"
      ],
      "text/plain": [
       "[1] 97  2"
      ]
     },
     "metadata": {},
     "output_type": "display_data"
    },
    {
     "data": {
      "image/png": "[encoded data removed]",
      "text/plain": [
       "plot without title"
      ]
     },
     "metadata": {
      "image/png": {
       "height": 420,
       "width": 420
      }
     },
     "output_type": "display_data"
    },
    {
     "data": {
      "image/png": "[encoded data removed]",
      "text/plain": [
       "plot without title"
      ]
     },
     "metadata": {
      "image/png": {
       "height": 420,
       "width": 420
      }
     },
     "output_type": "display_data"
    }
   ],
   "source": [
    "# venn between up meta and up114, down meta and down 114\n",
    "up_114 <- edgedata114 %>%\n",
    "  filter(\n",
    "    (FDR < 0.05),\n",
    "    (logFC >= 0.5) )\n",
    "down_114 <- edgedata114 %>%\n",
    "  filter(\n",
    "    (FDR < 0.05),\n",
    "    (logFC <= -0.5) )\n",
    "upMeta<-Fupregulated_DEGs[,c(\"GeneSymbol\",\"combined_pval\")]\n",
    "downMeta<-Fdownregulated_DEGs[,c(\"GeneSymbol\",\"combined_pval\")]\n",
    "up114<-up_114[,c(\"GeneSymbol\",\"FDR\")]\n",
    "down114<-down_114[,c(\"GeneSymbol\",\"FDR\")]\n",
    "dim(up114)\n",
    "dim(down114)\n",
    "#up\n",
    "dim(upMeta)\n",
    "venn_sev_up <- list(\n",
    "  \"Severity_Markers\" = up114$GeneSymbol ,\n",
    "  \"u_robust_genes\" = upMeta$GeneSymbol)\n",
    "venn_sev_u  <- ggvenn(venn_sev_up )\n",
    "venn_sev_u \n",
    "robust_sev <- intersect( upMeta$GeneSymbol, up114$GeneSymbol)\n",
    "robust_sev\n",
    "#down\n",
    "dim(downMeta)\n",
    "venn_sev_down <- list(\n",
    "  \"Severity_Markers\" = down114$GeneSymbol ,\n",
    "  \"d_robust_genes\" = downMeta$GeneSymbol)\n",
    "venn_sev_d  <- ggvenn(venn_sev_down)\n",
    "venn_sev_d "
   ]
  },
  {
   "cell_type": "code",
   "execution_count": 125,
   "id": "ac3ac0ca-1e30-452d-822e-82ffdcf017ea",
   "metadata": {
    "vscode": {
     "languageId": "r"
    }
   },
   "outputs": [
    {
     "data": {
      "text/html": [
       "<style>\n",
       ".list-inline {list-style: none; margin:0; padding: 0}\n",
       ".list-inline>li {display: inline-block}\n",
       ".list-inline>li:not(:last-child)::after {content: \"\\00b7\"; padding: 0 .5ex}\n",
       "</style>\n",
       "<ol class=list-inline><li>819</li><li>7</li></ol>\n"
      ],
      "text/latex": [
       "\\begin{enumerate*}\n",
       "\\item 819\n",
       "\\item 7\n",
       "\\end{enumerate*}\n"
      ],
      "text/markdown": [
       "1. 819\n",
       "2. 7\n",
       "\n",
       "\n"
      ],
      "text/plain": [
       "[1] 819   7"
      ]
     },
     "metadata": {},
     "output_type": "display_data"
    },
    {
     "data": {
      "text/html": [
       "<style>\n",
       ".list-inline {list-style: none; margin:0; padding: 0}\n",
       ".list-inline>li {display: inline-block}\n",
       ".list-inline>li:not(:last-child)::after {content: \"\\00b7\"; padding: 0 .5ex}\n",
       "</style>\n",
       "<ol class=list-inline><li>2740</li><li>7</li></ol>\n"
      ],
      "text/latex": [
       "\\begin{enumerate*}\n",
       "\\item 2740\n",
       "\\item 7\n",
       "\\end{enumerate*}\n"
      ],
      "text/markdown": [
       "1. 2740\n",
       "2. 7\n",
       "\n",
       "\n"
      ],
      "text/plain": [
       "[1] 2740    7"
      ]
     },
     "metadata": {},
     "output_type": "display_data"
    },
    {
     "data": {
      "image/png": "[encoded data removed]",
      "text/plain": [
       "plot without title"
      ]
     },
     "metadata": {
      "image/png": {
       "height": 420,
       "width": 420
      }
     },
     "output_type": "display_data"
    },
    {
     "data": {
      "image/png": "[encoded data removed]",
      "text/plain": [
       "plot without title"
      ]
     },
     "metadata": {
      "image/png": {
       "height": 420,
       "width": 420
      }
     },
     "output_type": "display_data"
    }
   ],
   "source": [
    "#Common genes between covid-19 robust markers and bacterial infection markers\n",
    "#bac151\n",
    "up_bac <- bac151 %>%\n",
    "  filter(\n",
    "    (FDR < 0.05),\n",
    "    (logFC >= 0.6) )\n",
    "down_bac <- bac151 %>%\n",
    "  filter(\n",
    "    (FDR < 0.05),\n",
    "    (logFC <= -0.6) )\n",
    "dim(up_bac)\n",
    "dim(down_bac)\n",
    "upbac<-up_bac[,c(\"GeneSymbol\",\"FDR\")]\n",
    "downbac<-down_bac[,c(\"GeneSymbol\",\"FDR\")]\n",
    "\n",
    "venn_bac_upmeta <- list(\n",
    "  \"bac_Markers\" = upbac$GeneSymbol ,\n",
    "  \"u_robust_genes\" = upMeta$GeneSymbol)\n",
    "venn_sev_u  <- ggvenn(venn_bac_upmeta )\n",
    "venn_sev_u \n",
    "robust_sev <- intersect( upMeta$GeneSymbol, bac151$GeneSymbol)\n",
    "#down\n",
    "venn_bac_downmeta <- list(\n",
    "  \"bac_Markers\" = downbac$GeneSymbol ,\n",
    "  \"d_robust_genes\" = downMeta$GeneSymbol)\n",
    "venn_sev_u  <- ggvenn(venn_bac_downmeta)\n",
    "venn_sev_u \n"
   ]
  },
  {
   "cell_type": "code",
   "execution_count": 126,
   "id": "1d003ed2-aec2-42e1-b00e-b0757cf2c471",
   "metadata": {
    "tags": [],
    "vscode": {
     "languageId": "r"
    }
   },
   "outputs": [
    {
     "data": {
      "text/html": [
       "<style>\n",
       ".list-inline {list-style: none; margin:0; padding: 0}\n",
       ".list-inline>li {display: inline-block}\n",
       ".list-inline>li:not(:last-child)::after {content: \"\\00b7\"; padding: 0 .5ex}\n",
       "</style>\n",
       "<ol class=list-inline><li>914</li><li>7</li></ol>\n"
      ],
      "text/latex": [
       "\\begin{enumerate*}\n",
       "\\item 914\n",
       "\\item 7\n",
       "\\end{enumerate*}\n"
      ],
      "text/markdown": [
       "1. 914\n",
       "2. 7\n",
       "\n",
       "\n"
      ],
      "text/plain": [
       "[1] 914   7"
      ]
     },
     "metadata": {},
     "output_type": "display_data"
    },
    {
     "data": {
      "text/html": [
       "<style>\n",
       ".list-inline {list-style: none; margin:0; padding: 0}\n",
       ".list-inline>li {display: inline-block}\n",
       ".list-inline>li:not(:last-child)::after {content: \"\\00b7\"; padding: 0 .5ex}\n",
       "</style>\n",
       "<ol class=list-inline><li>780</li><li>7</li></ol>\n"
      ],
      "text/latex": [
       "\\begin{enumerate*}\n",
       "\\item 780\n",
       "\\item 7\n",
       "\\end{enumerate*}\n"
      ],
      "text/markdown": [
       "1. 780\n",
       "2. 7\n",
       "\n",
       "\n"
      ],
      "text/plain": [
       "[1] 780   7"
      ]
     },
     "metadata": {},
     "output_type": "display_data"
    },
    {
     "data": {
      "image/png": "[encoded data removed]",
      "text/plain": [
       "plot without title"
      ]
     },
     "metadata": {
      "image/png": {
       "height": 420,
       "width": 420
      }
     },
     "output_type": "display_data"
    },
    {
     "data": {
      "image/png": "[encoded data removed]",
      "text/plain": [
       "plot without title"
      ]
     },
     "metadata": {
      "image/png": {
       "height": 420,
       "width": 420
      }
     },
     "output_type": "display_data"
    }
   ],
   "source": [
    "#Common genes between covid-19 robust markers and influenza markers\n",
    "#inf151\n",
    "up_inf <- inf151 %>%\n",
    "  filter(\n",
    "    (FDR < 0.05),\n",
    "    (logFC >= 0.6) )\n",
    "down_inf <- inf151 %>%\n",
    "  filter(\n",
    "    (FDR < 0.05),\n",
    "    (logFC <= -0.6) )\n",
    "dim(up_inf)\n",
    "dim(down_inf)\n",
    "upinf<-up_inf[,c(\"GeneSymbol\",\"FDR\")]\n",
    "downinf<-down_inf[,c(\"GeneSymbol\",\"FDR\")]\n",
    "\n",
    "venn_inf_upmeta <- list(\n",
    "  \"inf_Markers\" = upinf$GeneSymbol ,\n",
    "  \"u_robust_genes\" = upMeta$GeneSymbol)\n",
    "venn_sev_u  <- ggvenn(venn_inf_upmeta )\n",
    "venn_sev_u \n",
    "robust_sev <- intersect( upMeta$GeneSymbol, inf151$GeneSymbol)\n",
    "#down\n",
    "venn_inf_downmeta <- list(\n",
    "  \"inf_Markers\" = downinf$GeneSymbol ,\n",
    "  \"d_robust_genes\" = downMeta$GeneSymbol)\n",
    "venn_sev_u  <- ggvenn(venn_inf_downmeta)\n",
    "venn_sev_u \n",
    "#robust_sev <- intersect( upMeta$GeneSymbol, inf151$GeneSymbol)\n",
    "#robust_sev"
   ]
  },
  {
   "cell_type": "code",
   "execution_count": 138,
   "id": "7de7ac62-bf14-41bd-b910-f65cbcadd6a8",
   "metadata": {
    "vscode": {
     "languageId": "r"
    }
   },
   "outputs": [
    {
     "name": "stdout",
     "output_type": "stream",
     "text": [
      "   Position combined_pval GeneSymbol\n",
      "1        71  9.111061e-11    GALNT14\n",
      "2       510  7.474045e-06     IGFBP2\n",
      "3        34  2.289008e-12       INSC\n",
      "4        44  6.284299e-12      ITGA7\n",
      "5       222  4.107182e-08       MAOB\n",
      "6        37  2.706571e-12       MZB1\n",
      "7       275  1.742757e-07       NRN1\n",
      "8        68  7.754500e-11      PPARG\n",
      "9       124  1.506996e-09      PTGFR\n",
      "10       33  2.132655e-12       SDC1\n",
      "11       64  6.797857e-11     SPATC1\n",
      "12      220  3.696325e-08     ZNF608\n"
     ]
    }
   ],
   "source": [
    "library(dplyr)\n",
    "markers <- c('GALNT14', 'IGFBP2', 'INSC', 'ITGA7', 'MAOB', 'MZB1', 'NRN1', 'PPARG', 'PTGFR', 'SDC1', 'SPATC1', 'ZNF608')\n",
    "sorted_upMeta <- upMeta %>% arrange(combined_pval)\n",
    "marker_positions <- sapply(markers, function(gene) {\n",
    "  position <- which(sorted_upMeta$GeneSymbol == gene)\n",
    "  combined_pval <- if(length(position) > 0) sorted_upMeta$combined_pval[position] else NA\n",
    "  return(c(position, combined_pval))})\n",
    "marker_positions_df <- as.data.frame(t(marker_positions), stringsAsFactors = FALSE)\n",
    "colnames(marker_positions_df) <- c(\"Position\", \"combined_pval\")\n",
    "marker_positions_df$GeneSymbol <- rownames(marker_positions_df)\n",
    "rownames(marker_positions_df) <- NULL\n",
    "print(marker_positions_df)"
   ]
  },
  {
   "cell_type": "code",
   "execution_count": 149,
   "id": "e14b0b2c-bf92-42ed-8002-8da33e2eb996",
   "metadata": {
    "vscode": {
     "languageId": "r"
    }
   },
   "outputs": [
    {
     "name": "stdout",
     "output_type": "stream",
     "text": [
      "\u001b[90m# A tibble: 0 × 14\u001b[39m\n",
      "\u001b[90m# Rowwise: \u001b[39m\n",
      "\u001b[90m# ℹ 14 variables: GeneSymbol <chr>, pvalue_110 <dbl>, pvalue_641 <dbl>,\u001b[39m\n",
      "\u001b[90m#   pvalue_151 <dbl>, direction_110 <chr>, direction_641 <chr>,\u001b[39m\n",
      "\u001b[90m#   direction_151 <chr>, combined_pval <dbl>, logFC_110 <dbl>, logFC_641 <dbl>,\u001b[39m\n",
      "\u001b[90m#   logFC_151 <dbl>, upregulated_count <dbl>, downregulated_count <dbl>,\u001b[39m\n",
      "\u001b[90m#   significant <lgl>\u001b[39m\n"
     ]
    }
   ],
   "source": [
    "# internal control gene in highly robust results\n",
    "control <- c(\"GAPDH\", \"ACTB\", \"B2M\", \"HPRT1\", \"RPLP0\", \"TBP\", \"PPIA\", \"YWHAZ\")\n",
    "\n",
    "# Filter significant DEGs for housekeeping genes\n",
    "significant_controls <- significant_DEGs %>%\n",
    "  filter(GeneSymbol %in% control)\n",
    "significant_controls <- significant_controls %>%\n",
    "  mutate(significant = combined_pval < 0.05)\n",
    "print(significant_controls)"
   ]
  },
  {
   "cell_type": "code",
   "execution_count": 152,
   "id": "f1bc78bd-5399-4972-9e78-dc00dc978d94",
   "metadata": {
    "tags": [],
    "vscode": {
     "languageId": "r"
    }
   },
   "outputs": [
    {
     "data": {
      "text/html": [
       "<table class=\"dataframe\">\n",
       "<caption>A data.frame: 8 × 13</caption>\n",
       "<thead>\n",
       "\t<tr><th scope=col>GeneSymbol</th><th scope=col>logCPM_110</th><th scope=col>F_110</th><th scope=col>PValue_110</th><th scope=col>FDR_110</th><th scope=col>EntrezGeneID_110</th><th scope=col>direction_151</th><th scope=col>combined_pval</th><th scope=col>logFC_110</th><th scope=col>logFC_641</th><th scope=col>logFC_151</th><th scope=col>upregulated_count</th><th scope=col>downregulated_count</th></tr>\n",
       "\t<tr><th scope=col>&lt;chr&gt;</th><th scope=col>&lt;dbl&gt;</th><th scope=col>&lt;dbl&gt;</th><th scope=col>&lt;dbl&gt;</th><th scope=col>&lt;chr&gt;</th><th scope=col>&lt;chr&gt;</th><th scope=col>&lt;chr&gt;</th><th scope=col>&lt;dbl&gt;</th><th scope=col>&lt;dbl&gt;</th><th scope=col>&lt;dbl&gt;</th><th scope=col>&lt;dbl&gt;</th><th scope=col>&lt;dbl&gt;</th><th scope=col>&lt;dbl&gt;</th></tr>\n",
       "</thead>\n",
       "<tbody>\n",
       "\t<tr><td>B2M  </td><td>3.653405e-01</td><td>0.0003603864</td><td>0.1139688</td><td>down</td><td>up  </td><td>down</td><td>3.166642e-03</td><td>-0.13336080</td><td> 0.484173649</td><td>-0.9275324</td><td>0</td><td>1</td></tr>\n",
       "\t<tr><td>GAPDH</td><td>3.777266e-05</td><td>0.0003804340</td><td>0.3892405</td><td>up  </td><td>up  </td><td>down</td><td>9.606119e-06</td><td> 1.00725789</td><td> 0.473494978</td><td>-0.3973895</td><td>1</td><td>0</td></tr>\n",
       "\t<tr><td>RPLP0</td><td>2.208861e-05</td><td>0.0158469092</td><td>0.0618669</td><td>down</td><td>down</td><td>down</td><td>2.731961e-05</td><td>-0.80694994</td><td>-0.310106604</td><td>-0.9537319</td><td>0</td><td>2</td></tr>\n",
       "\t<tr><td>TBP  </td><td>6.041811e-06</td><td>0.0375995183</td><td>0.2219600</td><td>down</td><td>down</td><td>down</td><td>5.136136e-05</td><td>-0.26536408</td><td>-0.143416333</td><td>-0.2861799</td><td>0</td><td>0</td></tr>\n",
       "\t<tr><td>YWHAZ</td><td>5.680370e-01</td><td>0.2371303808</td><td>0.2871639</td><td>up  </td><td>up  </td><td>down</td><td>3.992023e-01</td><td> 0.05440303</td><td> 0.102366828</td><td>-0.4622545</td><td>0</td><td>0</td></tr>\n",
       "\t<tr><td>PPIA </td><td>2.944707e-01</td><td>0.5034549033</td><td>0.0733113</td><td>down</td><td>down</td><td>down</td><td>2.013174e-01</td><td>-0.15676523</td><td>-0.061374728</td><td>-0.7401938</td><td>0</td><td>1</td></tr>\n",
       "\t<tr><td>HPRT1</td><td>4.228190e-01</td><td>0.8582477451</td><td>0.5273915</td><td>down</td><td>down</td><td>down</td><td>7.836167e-01</td><td>-0.10423557</td><td>-0.019999595</td><td>-0.1804651</td><td>0</td><td>0</td></tr>\n",
       "\t<tr><td>ACTB </td><td>3.171639e-01</td><td>0.9760544352</td><td>0.5234929</td><td>up  </td><td>up  </td><td>down</td><td>7.416453e-01</td><td> 0.19846790</td><td> 0.004683669</td><td>-0.3214577</td><td>0</td><td>0</td></tr>\n",
       "</tbody>\n",
       "</table>\n"
      ],
      "text/latex": [
       "A data.frame: 8 × 13\n",
       "\\begin{tabular}{lllllllllllll}\n",
       " GeneSymbol & logCPM\\_110 & F\\_110 & PValue\\_110 & FDR\\_110 & EntrezGeneID\\_110 & direction\\_151 & combined\\_pval & logFC\\_110 & logFC\\_641 & logFC\\_151 & upregulated\\_count & downregulated\\_count\\\\\n",
       " <chr> & <dbl> & <dbl> & <dbl> & <chr> & <chr> & <chr> & <dbl> & <dbl> & <dbl> & <dbl> & <dbl> & <dbl>\\\\\n",
       "\\hline\n",
       "\t B2M   & 3.653405e-01 & 0.0003603864 & 0.1139688 & down & up   & down & 3.166642e-03 & -0.13336080 &  0.484173649 & -0.9275324 & 0 & 1\\\\\n",
       "\t GAPDH & 3.777266e-05 & 0.0003804340 & 0.3892405 & up   & up   & down & 9.606119e-06 &  1.00725789 &  0.473494978 & -0.3973895 & 1 & 0\\\\\n",
       "\t RPLP0 & 2.208861e-05 & 0.0158469092 & 0.0618669 & down & down & down & 2.731961e-05 & -0.80694994 & -0.310106604 & -0.9537319 & 0 & 2\\\\\n",
       "\t TBP   & 6.041811e-06 & 0.0375995183 & 0.2219600 & down & down & down & 5.136136e-05 & -0.26536408 & -0.143416333 & -0.2861799 & 0 & 0\\\\\n",
       "\t YWHAZ & 5.680370e-01 & 0.2371303808 & 0.2871639 & up   & up   & down & 3.992023e-01 &  0.05440303 &  0.102366828 & -0.4622545 & 0 & 0\\\\\n",
       "\t PPIA  & 2.944707e-01 & 0.5034549033 & 0.0733113 & down & down & down & 2.013174e-01 & -0.15676523 & -0.061374728 & -0.7401938 & 0 & 1\\\\\n",
       "\t HPRT1 & 4.228190e-01 & 0.8582477451 & 0.5273915 & down & down & down & 7.836167e-01 & -0.10423557 & -0.019999595 & -0.1804651 & 0 & 0\\\\\n",
       "\t ACTB  & 3.171639e-01 & 0.9760544352 & 0.5234929 & up   & up   & down & 7.416453e-01 &  0.19846790 &  0.004683669 & -0.3214577 & 0 & 0\\\\\n",
       "\\end{tabular}\n"
      ],
      "text/markdown": [
       "\n",
       "A data.frame: 8 × 13\n",
       "\n",
       "| GeneSymbol &lt;chr&gt; | logCPM_110 &lt;dbl&gt; | F_110 &lt;dbl&gt; | PValue_110 &lt;dbl&gt; | FDR_110 &lt;chr&gt; | EntrezGeneID_110 &lt;chr&gt; | direction_151 &lt;chr&gt; | combined_pval &lt;dbl&gt; | logFC_110 &lt;dbl&gt; | logFC_641 &lt;dbl&gt; | logFC_151 &lt;dbl&gt; | upregulated_count &lt;dbl&gt; | downregulated_count &lt;dbl&gt; |\n",
       "|---|---|---|---|---|---|---|---|---|---|---|---|---|\n",
       "| B2M   | 3.653405e-01 | 0.0003603864 | 0.1139688 | down | up   | down | 3.166642e-03 | -0.13336080 |  0.484173649 | -0.9275324 | 0 | 1 |\n",
       "| GAPDH | 3.777266e-05 | 0.0003804340 | 0.3892405 | up   | up   | down | 9.606119e-06 |  1.00725789 |  0.473494978 | -0.3973895 | 1 | 0 |\n",
       "| RPLP0 | 2.208861e-05 | 0.0158469092 | 0.0618669 | down | down | down | 2.731961e-05 | -0.80694994 | -0.310106604 | -0.9537319 | 0 | 2 |\n",
       "| TBP   | 6.041811e-06 | 0.0375995183 | 0.2219600 | down | down | down | 5.136136e-05 | -0.26536408 | -0.143416333 | -0.2861799 | 0 | 0 |\n",
       "| YWHAZ | 5.680370e-01 | 0.2371303808 | 0.2871639 | up   | up   | down | 3.992023e-01 |  0.05440303 |  0.102366828 | -0.4622545 | 0 | 0 |\n",
       "| PPIA  | 2.944707e-01 | 0.5034549033 | 0.0733113 | down | down | down | 2.013174e-01 | -0.15676523 | -0.061374728 | -0.7401938 | 0 | 1 |\n",
       "| HPRT1 | 4.228190e-01 | 0.8582477451 | 0.5273915 | down | down | down | 7.836167e-01 | -0.10423557 | -0.019999595 | -0.1804651 | 0 | 0 |\n",
       "| ACTB  | 3.171639e-01 | 0.9760544352 | 0.5234929 | up   | up   | down | 7.416453e-01 |  0.19846790 |  0.004683669 | -0.3214577 | 0 | 0 |\n",
       "\n"
      ],
      "text/plain": [
       "  GeneSymbol logCPM_110   F_110        PValue_110 FDR_110 EntrezGeneID_110\n",
       "1 B2M        3.653405e-01 0.0003603864 0.1139688  down    up              \n",
       "2 GAPDH      3.777266e-05 0.0003804340 0.3892405  up      up              \n",
       "3 RPLP0      2.208861e-05 0.0158469092 0.0618669  down    down            \n",
       "4 TBP        6.041811e-06 0.0375995183 0.2219600  down    down            \n",
       "5 YWHAZ      5.680370e-01 0.2371303808 0.2871639  up      up              \n",
       "6 PPIA       2.944707e-01 0.5034549033 0.0733113  down    down            \n",
       "7 HPRT1      4.228190e-01 0.8582477451 0.5273915  down    down            \n",
       "8 ACTB       3.171639e-01 0.9760544352 0.5234929  up      up              \n",
       "  direction_151 combined_pval logFC_110   logFC_641    logFC_151 \n",
       "1 down          3.166642e-03  -0.13336080  0.484173649 -0.9275324\n",
       "2 down          9.606119e-06   1.00725789  0.473494978 -0.3973895\n",
       "3 down          2.731961e-05  -0.80694994 -0.310106604 -0.9537319\n",
       "4 down          5.136136e-05  -0.26536408 -0.143416333 -0.2861799\n",
       "5 down          3.992023e-01   0.05440303  0.102366828 -0.4622545\n",
       "6 down          2.013174e-01  -0.15676523 -0.061374728 -0.7401938\n",
       "7 down          7.836167e-01  -0.10423557 -0.019999595 -0.1804651\n",
       "8 down          7.416453e-01   0.19846790  0.004683669 -0.3214577\n",
       "  upregulated_count downregulated_count\n",
       "1 0                 1                  \n",
       "2 1                 0                  \n",
       "3 0                 2                  \n",
       "4 0                 0                  \n",
       "5 0                 0                  \n",
       "6 0                 1                  \n",
       "7 0                 0                  \n",
       "8 0                 0                  "
      ]
     },
     "metadata": {},
     "output_type": "display_data"
    }
   ],
   "source": [
    "#qPCR internal control genes in all metaanalysis results  \n",
    "significant_c <- combined_data %>%\n",
    "  filter(GeneSymbol %in% control)\n",
    "significant_c\n",
    "significant_c[,]"
   ]
  },
  {
   "cell_type": "code",
   "execution_count": 153,
   "id": "b83758b3-f92c-42c1-80b0-bcaf9e5299e3",
   "metadata": {
    "tags": [],
    "vscode": {
     "languageId": "r"
    }
   },
   "outputs": [
    {
     "data": {
      "text/html": [
       "<table class=\"dataframe\">\n",
       "<caption>A data.frame: 8 × 7</caption>\n",
       "<thead>\n",
       "\t<tr><th></th><th scope=col>logFC</th><th scope=col>logCPM</th><th scope=col>F</th><th scope=col>PValue</th><th scope=col>FDR</th><th scope=col>EntrezGeneID</th><th scope=col>GeneSymbol</th></tr>\n",
       "\t<tr><th></th><th scope=col>&lt;dbl&gt;</th><th scope=col>&lt;dbl&gt;</th><th scope=col>&lt;dbl&gt;</th><th scope=col>&lt;dbl&gt;</th><th scope=col>&lt;dbl&gt;</th><th scope=col>&lt;chr&gt;</th><th scope=col>&lt;chr&gt;</th></tr>\n",
       "</thead>\n",
       "<tbody>\n",
       "\t<tr><th scope=row>ENSG00000089157.15_RPLP0</th><td> 0.60797807</td><td> 8.686534</td><td>19.3887056</td><td>3.629092e-05</td><td>0.0002293442</td><td>6175</td><td>RPLP0</td></tr>\n",
       "\t<tr><th scope=row>ENSG00000166710.17_B2M</th><td>-0.52461434</td><td>12.192962</td><td>15.8470639</td><td>1.619202e-04</td><td>0.0007858154</td><td>567 </td><td>B2M  </td></tr>\n",
       "\t<tr><th scope=row>ENSG00000112592.13_TBP</th><td> 0.57900212</td><td> 2.705855</td><td>23.2024520</td><td>4.533849e-04</td><td>0.0018357430</td><td>6908</td><td>TBP  </td></tr>\n",
       "\t<tr><th scope=row>ENSG00000196262.13_PPIA</th><td> 0.33804225</td><td> 7.464244</td><td> 7.2683709</td><td>8.728164e-03</td><td>0.0218402573</td><td>5478</td><td>PPIA </td></tr>\n",
       "\t<tr><th scope=row>ENSG00000164924.17_YWHAZ</th><td>-0.09891179</td><td> 9.299080</td><td> 1.5259531</td><td>2.207290e-01</td><td>0.3104518386</td><td>7534</td><td>YWHAZ</td></tr>\n",
       "\t<tr><th scope=row>ENSG00000111640.14_GAPDH</th><td>-0.10768491</td><td>10.357255</td><td> 1.0497495</td><td>3.089884e-01</td><td>0.4074143193</td><td>2597</td><td>GAPDH</td></tr>\n",
       "\t<tr><th scope=row>ENSG00000075624.13_ACTB</th><td>-0.13530670</td><td>10.111429</td><td> 0.6216795</td><td>4.330074e-01</td><td>0.5321958978</td><td>60  </td><td>ACTB </td></tr>\n",
       "\t<tr><th scope=row>ENSG00000165704.14_HPRT1</th><td>-0.10193174</td><td> 2.533133</td><td> 0.4381526</td><td>6.182871e-01</td><td>0.7014580819</td><td>3251</td><td>HPRT1</td></tr>\n",
       "</tbody>\n",
       "</table>\n"
      ],
      "text/latex": [
       "A data.frame: 8 × 7\n",
       "\\begin{tabular}{r|lllllll}\n",
       "  & logFC & logCPM & F & PValue & FDR & EntrezGeneID & GeneSymbol\\\\\n",
       "  & <dbl> & <dbl> & <dbl> & <dbl> & <dbl> & <chr> & <chr>\\\\\n",
       "\\hline\n",
       "\tENSG00000089157.15\\_RPLP0 &  0.60797807 &  8.686534 & 19.3887056 & 3.629092e-05 & 0.0002293442 & 6175 & RPLP0\\\\\n",
       "\tENSG00000166710.17\\_B2M & -0.52461434 & 12.192962 & 15.8470639 & 1.619202e-04 & 0.0007858154 & 567  & B2M  \\\\\n",
       "\tENSG00000112592.13\\_TBP &  0.57900212 &  2.705855 & 23.2024520 & 4.533849e-04 & 0.0018357430 & 6908 & TBP  \\\\\n",
       "\tENSG00000196262.13\\_PPIA &  0.33804225 &  7.464244 &  7.2683709 & 8.728164e-03 & 0.0218402573 & 5478 & PPIA \\\\\n",
       "\tENSG00000164924.17\\_YWHAZ & -0.09891179 &  9.299080 &  1.5259531 & 2.207290e-01 & 0.3104518386 & 7534 & YWHAZ\\\\\n",
       "\tENSG00000111640.14\\_GAPDH & -0.10768491 & 10.357255 &  1.0497495 & 3.089884e-01 & 0.4074143193 & 2597 & GAPDH\\\\\n",
       "\tENSG00000075624.13\\_ACTB & -0.13530670 & 10.111429 &  0.6216795 & 4.330074e-01 & 0.5321958978 & 60   & ACTB \\\\\n",
       "\tENSG00000165704.14\\_HPRT1 & -0.10193174 &  2.533133 &  0.4381526 & 6.182871e-01 & 0.7014580819 & 3251 & HPRT1\\\\\n",
       "\\end{tabular}\n"
      ],
      "text/markdown": [
       "\n",
       "A data.frame: 8 × 7\n",
       "\n",
       "| <!--/--> | logFC &lt;dbl&gt; | logCPM &lt;dbl&gt; | F &lt;dbl&gt; | PValue &lt;dbl&gt; | FDR &lt;dbl&gt; | EntrezGeneID &lt;chr&gt; | GeneSymbol &lt;chr&gt; |\n",
       "|---|---|---|---|---|---|---|---|\n",
       "| ENSG00000089157.15_RPLP0 |  0.60797807 |  8.686534 | 19.3887056 | 3.629092e-05 | 0.0002293442 | 6175 | RPLP0 |\n",
       "| ENSG00000166710.17_B2M | -0.52461434 | 12.192962 | 15.8470639 | 1.619202e-04 | 0.0007858154 | 567  | B2M   |\n",
       "| ENSG00000112592.13_TBP |  0.57900212 |  2.705855 | 23.2024520 | 4.533849e-04 | 0.0018357430 | 6908 | TBP   |\n",
       "| ENSG00000196262.13_PPIA |  0.33804225 |  7.464244 |  7.2683709 | 8.728164e-03 | 0.0218402573 | 5478 | PPIA  |\n",
       "| ENSG00000164924.17_YWHAZ | -0.09891179 |  9.299080 |  1.5259531 | 2.207290e-01 | 0.3104518386 | 7534 | YWHAZ |\n",
       "| ENSG00000111640.14_GAPDH | -0.10768491 | 10.357255 |  1.0497495 | 3.089884e-01 | 0.4074143193 | 2597 | GAPDH |\n",
       "| ENSG00000075624.13_ACTB | -0.13530670 | 10.111429 |  0.6216795 | 4.330074e-01 | 0.5321958978 | 60   | ACTB  |\n",
       "| ENSG00000165704.14_HPRT1 | -0.10193174 |  2.533133 |  0.4381526 | 6.182871e-01 | 0.7014580819 | 3251 | HPRT1 |\n",
       "\n"
      ],
      "text/plain": [
       "                         logFC       logCPM    F          PValue      \n",
       "ENSG00000089157.15_RPLP0  0.60797807  8.686534 19.3887056 3.629092e-05\n",
       "ENSG00000166710.17_B2M   -0.52461434 12.192962 15.8470639 1.619202e-04\n",
       "ENSG00000112592.13_TBP    0.57900212  2.705855 23.2024520 4.533849e-04\n",
       "ENSG00000196262.13_PPIA   0.33804225  7.464244  7.2683709 8.728164e-03\n",
       "ENSG00000164924.17_YWHAZ -0.09891179  9.299080  1.5259531 2.207290e-01\n",
       "ENSG00000111640.14_GAPDH -0.10768491 10.357255  1.0497495 3.089884e-01\n",
       "ENSG00000075624.13_ACTB  -0.13530670 10.111429  0.6216795 4.330074e-01\n",
       "ENSG00000165704.14_HPRT1 -0.10193174  2.533133  0.4381526 6.182871e-01\n",
       "                         FDR          EntrezGeneID GeneSymbol\n",
       "ENSG00000089157.15_RPLP0 0.0002293442 6175         RPLP0     \n",
       "ENSG00000166710.17_B2M   0.0007858154 567          B2M       \n",
       "ENSG00000112592.13_TBP   0.0018357430 6908         TBP       \n",
       "ENSG00000196262.13_PPIA  0.0218402573 5478         PPIA      \n",
       "ENSG00000164924.17_YWHAZ 0.3104518386 7534         YWHAZ     \n",
       "ENSG00000111640.14_GAPDH 0.4074143193 2597         GAPDH     \n",
       "ENSG00000075624.13_ACTB  0.5321958978 60           ACTB      \n",
       "ENSG00000165704.14_HPRT1 0.7014580819 3251         HPRT1     "
      ]
     },
     "metadata": {},
     "output_type": "display_data"
    }
   ],
   "source": [
    "#Internal control genes in 114 data\n",
    "c114 <- edgedata114 %>%\n",
    "  filter(GeneSymbol %in% control)\n",
    "c114\n"
   ]
  },
  {
   "cell_type": "code",
   "execution_count": 90,
   "id": "1380ac48-6c06-4386-bacd-ecbb05379f2e",
   "metadata": {
    "vscode": {
     "languageId": "r"
    }
   },
   "outputs": [],
   "source": [
    "#saving background genes for pathway enrichment analysis\n",
    "b<-data.frame(combined_data$GeneSymbol)\n",
    "write.table(b, file = \"x_background.txt\", sep = \"\\t\", row.names = F, quote = F)"
   ]
  },
  {
   "cell_type": "code",
   "execution_count": null,
   "id": "2ed9857e-92b6-4a95-b565-5e6c6aedb6f6",
   "metadata": {
    "vscode": {
     "languageId": "r"
    }
   },
   "outputs": [],
   "source": []
  }
 ],
 "metadata": {
  "kernelspec": {
   "display_name": "R",
   "language": "R",
   "name": "ir"
  },
  "language_info": {
   "codemirror_mode": "r",
   "file_extension": ".r",
   "mimetype": "text/x-r-source",
   "name": "R",
   "pygments_lexer": "r",
   "version": "4.3.1"
  }
 },
 "nbformat": 4,
 "nbformat_minor": 5
}
