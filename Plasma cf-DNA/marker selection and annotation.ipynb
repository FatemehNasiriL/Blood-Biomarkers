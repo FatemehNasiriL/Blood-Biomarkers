{
 "cells": [
  {
   "cell_type": "code",
   "execution_count": null,
   "id": "3ffb69d0",
   "metadata": {
    "vscode": {
     "languageId": "r"
    }
   },
   "outputs": [],
   "source": [
    "#Dependencies\n",
    "library(readxl)\n",
    "library(GenomicRanges)\n",
    "library(rtracklayer)"
   ]
  },
  {
   "cell_type": "code",
   "execution_count": 2,
   "id": "59eba5b6-1c61-4d42-81e2-3acb789d3f57",
   "metadata": {
    "tags": [],
    "vscode": {
     "languageId": "r"
    }
   },
   "outputs": [
    {
     "data": {
      "text/html": [
       "<style>\n",
       ".list-inline {list-style: none; margin:0; padding: 0}\n",
       ".list-inline>li {display: inline-block}\n",
       ".list-inline>li:not(:last-child)::after {content: \"\\00b7\"; padding: 0 .5ex}\n",
       "</style>\n",
       "<ol class=list-inline><li>242</li><li>8</li></ol>\n"
      ],
      "text/latex": [
       "\\begin{enumerate*}\n",
       "\\item 242\n",
       "\\item 8\n",
       "\\end{enumerate*}\n"
      ],
      "text/markdown": [
       "1. 242\n",
       "2. 8\n",
       "\n",
       "\n"
      ],
      "text/plain": [
       "[1] 242   8"
      ]
     },
     "metadata": {},
     "output_type": "display_data"
    },
    {
     "data": {
      "text/html": [
       "<table class=\"dataframe\">\n",
       "<caption>A data.frame: 6 × 8</caption>\n",
       "<thead>\n",
       "\t<tr><th></th><th scope=col>DMRnumber</th><th scope=col>chr</th><th scope=col>st</th><th scope=col>end</th><th scope=col>intercept</th><th scope=col>f</th><th scope=col>pval</th><th scope=col>qval</th></tr>\n",
       "\t<tr><th></th><th scope=col>&lt;int&gt;</th><th scope=col>&lt;chr&gt;</th><th scope=col>&lt;int&gt;</th><th scope=col>&lt;int&gt;</th><th scope=col>&lt;dbl&gt;</th><th scope=col>&lt;dbl&gt;</th><th scope=col>&lt;dbl&gt;</th><th scope=col>&lt;dbl&gt;</th></tr>\n",
       "</thead>\n",
       "<tbody>\n",
       "\t<tr><th scope=row>1</th><td> 7478</td><td>chr20</td><td> 60751975</td><td> 60752320</td><td>2.1519394</td><td>38.33832</td><td>2.804548e-07</td><td>0.001854872</td></tr>\n",
       "\t<tr><th scope=row>2</th><td>12381</td><td>chr17</td><td>  5882814</td><td>  5883013</td><td>2.0168519</td><td>36.42646</td><td>4.623939e-07</td><td>0.001854872</td></tr>\n",
       "\t<tr><th scope=row>3</th><td>11235</td><td>chr1 </td><td> 25472270</td><td> 25472754</td><td>0.3109544</td><td>33.73726</td><td>9.559373e-07</td><td>0.002034627</td></tr>\n",
       "\t<tr><th scope=row>4</th><td> 4140</td><td>chr9 </td><td>139414758</td><td>139415013</td><td>0.8740158</td><td>32.83552</td><td>1.227302e-06</td><td>0.002034627</td></tr>\n",
       "\t<tr><th scope=row>5</th><td>12168</td><td>chr17</td><td> 37887321</td><td> 37887546</td><td>0.5769506</td><td>32.71863</td><td>1.268011e-06</td><td>0.002034627</td></tr>\n",
       "\t<tr><th scope=row>6</th><td> 7490</td><td>chr20</td><td> 32716846</td><td> 32717096</td><td>3.2589058</td><td>28.36667</td><td>4.456243e-06</td><td>0.005958671</td></tr>\n",
       "</tbody>\n",
       "</table>\n"
      ],
      "text/latex": [
       "A data.frame: 6 × 8\n",
       "\\begin{tabular}{r|llllllll}\n",
       "  & DMRnumber & chr & st & end & intercept & f & pval & qval\\\\\n",
       "  & <int> & <chr> & <int> & <int> & <dbl> & <dbl> & <dbl> & <dbl>\\\\\n",
       "\\hline\n",
       "\t1 &  7478 & chr20 &  60751975 &  60752320 & 2.1519394 & 38.33832 & 2.804548e-07 & 0.001854872\\\\\n",
       "\t2 & 12381 & chr17 &   5882814 &   5883013 & 2.0168519 & 36.42646 & 4.623939e-07 & 0.001854872\\\\\n",
       "\t3 & 11235 & chr1  &  25472270 &  25472754 & 0.3109544 & 33.73726 & 9.559373e-07 & 0.002034627\\\\\n",
       "\t4 &  4140 & chr9  & 139414758 & 139415013 & 0.8740158 & 32.83552 & 1.227302e-06 & 0.002034627\\\\\n",
       "\t5 & 12168 & chr17 &  37887321 &  37887546 & 0.5769506 & 32.71863 & 1.268011e-06 & 0.002034627\\\\\n",
       "\t6 &  7490 & chr20 &  32716846 &  32717096 & 3.2589058 & 28.36667 & 4.456243e-06 & 0.005958671\\\\\n",
       "\\end{tabular}\n"
      ],
      "text/markdown": [
       "\n",
       "A data.frame: 6 × 8\n",
       "\n",
       "| <!--/--> | DMRnumber &lt;int&gt; | chr &lt;chr&gt; | st &lt;int&gt; | end &lt;int&gt; | intercept &lt;dbl&gt; | f &lt;dbl&gt; | pval &lt;dbl&gt; | qval &lt;dbl&gt; |\n",
       "|---|---|---|---|---|---|---|---|---|\n",
       "| 1 |  7478 | chr20 |  60751975 |  60752320 | 2.1519394 | 38.33832 | 2.804548e-07 | 0.001854872 |\n",
       "| 2 | 12381 | chr17 |   5882814 |   5883013 | 2.0168519 | 36.42646 | 4.623939e-07 | 0.001854872 |\n",
       "| 3 | 11235 | chr1  |  25472270 |  25472754 | 0.3109544 | 33.73726 | 9.559373e-07 | 0.002034627 |\n",
       "| 4 |  4140 | chr9  | 139414758 | 139415013 | 0.8740158 | 32.83552 | 1.227302e-06 | 0.002034627 |\n",
       "| 5 | 12168 | chr17 |  37887321 |  37887546 | 0.5769506 | 32.71863 | 1.268011e-06 | 0.002034627 |\n",
       "| 6 |  7490 | chr20 |  32716846 |  32717096 | 3.2589058 | 28.36667 | 4.456243e-06 | 0.005958671 |\n",
       "\n"
      ],
      "text/plain": [
       "  DMRnumber chr   st        end       intercept f        pval        \n",
       "1  7478     chr20  60751975  60752320 2.1519394 38.33832 2.804548e-07\n",
       "2 12381     chr17   5882814   5883013 2.0168519 36.42646 4.623939e-07\n",
       "3 11235     chr1   25472270  25472754 0.3109544 33.73726 9.559373e-07\n",
       "4  4140     chr9  139414758 139415013 0.8740158 32.83552 1.227302e-06\n",
       "5 12168     chr17  37887321  37887546 0.5769506 32.71863 1.268011e-06\n",
       "6  7490     chr20  32716846  32717096 3.2589058 28.36667 4.456243e-06\n",
       "  qval       \n",
       "1 0.001854872\n",
       "2 0.001854872\n",
       "3 0.002034627\n",
       "4 0.002034627\n",
       "5 0.002034627\n",
       "6 0.005958671"
      ]
     },
     "metadata": {},
     "output_type": "display_data"
    }
   ],
   "source": [
    "### loading significant tDMRs from each scenario\n",
    "resq1 <- read.table(\"resq1.txt\", header = TRUE, sep = \"\\t\")   \n",
    "resq2<- read.table(\"resq2.txt\", header = TRUE, sep = \"\\t\")\n",
    "resq3 <- read.table(\"resq3.txt\", header = TRUE, sep = \"\\t\")\n",
    "resq4<- read.table(\"resq4.txt\", header = TRUE, sep = \"\\t\")\n",
    "resq5 <- read.table(\"resq5.txt\", header = TRUE, sep = \"\\t\")\n",
    "resq6<- read.table(\"resq6.txt\", header = TRUE, sep = \"\\t\")\n",
    "resq7 <- read.table(\"resq7.txt\", header = TRUE, sep = \"\\t\")\n",
    "resq8<- read.table(\"resq8.txt\", header = TRUE, sep = \"\\t\")\n",
    "resq75 <- read.table(\"resq7_0.05.txt\", header = TRUE, sep = \"\\t\")\n",
    "resq85<- read.table(\"resq8_0.05.txt\", header = TRUE, sep = \"\\t\")\n",
    "\n",
    "test<-resq75"
   ]
  },
  {
   "cell_type": "code",
   "execution_count": 3,
   "id": "c0108a8d-4236-454b-842c-10b2b9b131db",
   "metadata": {
    "tags": [],
    "vscode": {
     "languageId": "r"
    }
   },
   "outputs": [
    {
     "name": "stdout",
     "output_type": "stream",
     "text": [
      "No repetitive DMRs found.\n"
     ]
    },
    {
     "data": {
      "text/html": [
       "<style>\n",
       ".list-inline {list-style: none; margin:0; padding: 0}\n",
       ".list-inline>li {display: inline-block}\n",
       ".list-inline>li:not(:last-child)::after {content: \"\\00b7\"; padding: 0 .5ex}\n",
       "</style>\n",
       "<ol class=list-inline><li>2554</li><li>9</li></ol>\n"
      ],
      "text/latex": [
       "\\begin{enumerate*}\n",
       "\\item 2554\n",
       "\\item 9\n",
       "\\end{enumerate*}\n"
      ],
      "text/markdown": [
       "1. 2554\n",
       "2. 9\n",
       "\n",
       "\n"
      ],
      "text/plain": [
       "[1] 2554    9"
      ]
     },
     "metadata": {},
     "output_type": "display_data"
    },
    {
     "data": {
      "text/html": [
       "<style>\n",
       ".list-inline {list-style: none; margin:0; padding: 0}\n",
       ".list-inline>li {display: inline-block}\n",
       ".list-inline>li:not(:last-child)::after {content: \"\\00b7\"; padding: 0 .5ex}\n",
       "</style>\n",
       "<ol class=list-inline><li>2554</li><li>9</li></ol>\n"
      ],
      "text/latex": [
       "\\begin{enumerate*}\n",
       "\\item 2554\n",
       "\\item 9\n",
       "\\end{enumerate*}\n"
      ],
      "text/markdown": [
       "1. 2554\n",
       "2. 9\n",
       "\n",
       "\n"
      ],
      "text/plain": [
       "[1] 2554    9"
      ]
     },
     "metadata": {},
     "output_type": "display_data"
    },
    {
     "data": {
      "text/html": [
       "<table class=\"dataframe\">\n",
       "<caption>A data.frame: 10 × 9</caption>\n",
       "<thead>\n",
       "\t<tr><th></th><th scope=col>DMRnumber</th><th scope=col>chr</th><th scope=col>st</th><th scope=col>end</th><th scope=col>intercept</th><th scope=col>f</th><th scope=col>pval</th><th scope=col>qval</th><th scope=col>Origin</th></tr>\n",
       "\t<tr><th></th><th scope=col>&lt;int&gt;</th><th scope=col>&lt;chr&gt;</th><th scope=col>&lt;int&gt;</th><th scope=col>&lt;int&gt;</th><th scope=col>&lt;dbl&gt;</th><th scope=col>&lt;dbl&gt;</th><th scope=col>&lt;dbl&gt;</th><th scope=col>&lt;dbl&gt;</th><th scope=col>&lt;chr&gt;</th></tr>\n",
       "</thead>\n",
       "<tbody>\n",
       "\t<tr><th scope=row>122</th><td> 7478</td><td>chr20</td><td> 60751975</td><td> 60752320</td><td> 2.1519394</td><td>38.33832</td><td>2.804548e-07</td><td>0.001854872</td><td>resq7</td></tr>\n",
       "\t<tr><th scope=row>123</th><td>12381</td><td>chr17</td><td>  5882814</td><td>  5883013</td><td> 2.0168519</td><td>36.42646</td><td>4.623939e-07</td><td>0.001854872</td><td>resq7</td></tr>\n",
       "\t<tr><th scope=row>124</th><td>11235</td><td>chr1 </td><td> 25472270</td><td> 25472754</td><td> 0.3109544</td><td>33.73726</td><td>9.559373e-07</td><td>0.002034627</td><td>resq7</td></tr>\n",
       "\t<tr><th scope=row>125</th><td> 4140</td><td>chr9 </td><td>139414758</td><td>139415013</td><td> 0.8740158</td><td>32.83552</td><td>1.227302e-06</td><td>0.002034627</td><td>resq7</td></tr>\n",
       "\t<tr><th scope=row>126</th><td>12168</td><td>chr17</td><td> 37887321</td><td> 37887546</td><td> 0.5769506</td><td>32.71863</td><td>1.268011e-06</td><td>0.002034627</td><td>resq7</td></tr>\n",
       "\t<tr><th scope=row>127</th><td> 7490</td><td>chr20</td><td> 32716846</td><td> 32717096</td><td> 3.2589058</td><td>28.36667</td><td>4.456243e-06</td><td>0.005958671</td><td>resq7</td></tr>\n",
       "\t<tr><th scope=row>110</th><td>12707</td><td>chr16</td><td> 10603065</td><td> 10603332</td><td> 6.6582115</td><td>43.26281</td><td>5.645787e-07</td><td>0.006285111</td><td>resq6</td></tr>\n",
       "\t<tr><th scope=row>128</th><td>  514</td><td>chr22</td><td> 49552622</td><td> 49552877</td><td>-1.8083804</td><td>27.12006</td><td>6.490423e-06</td><td>0.006593549</td><td>resq7</td></tr>\n",
       "\t<tr><th scope=row>129</th><td>12528</td><td>chr5 </td><td>150044642</td><td>150044875</td><td> 1.1197275</td><td>26.57706</td><td>7.663729e-06</td><td>0.006593549</td><td>resq7</td></tr>\n",
       "\t<tr><th scope=row>130</th><td>12335</td><td>chr17</td><td>  7969764</td><td>  7970103</td><td> 0.9602762</td><td>26.27649</td><td>8.407455e-06</td><td>0.006593549</td><td>resq7</td></tr>\n",
       "</tbody>\n",
       "</table>\n"
      ],
      "text/latex": [
       "A data.frame: 10 × 9\n",
       "\\begin{tabular}{r|lllllllll}\n",
       "  & DMRnumber & chr & st & end & intercept & f & pval & qval & Origin\\\\\n",
       "  & <int> & <chr> & <int> & <int> & <dbl> & <dbl> & <dbl> & <dbl> & <chr>\\\\\n",
       "\\hline\n",
       "\t122 &  7478 & chr20 &  60751975 &  60752320 &  2.1519394 & 38.33832 & 2.804548e-07 & 0.001854872 & resq7\\\\\n",
       "\t123 & 12381 & chr17 &   5882814 &   5883013 &  2.0168519 & 36.42646 & 4.623939e-07 & 0.001854872 & resq7\\\\\n",
       "\t124 & 11235 & chr1  &  25472270 &  25472754 &  0.3109544 & 33.73726 & 9.559373e-07 & 0.002034627 & resq7\\\\\n",
       "\t125 &  4140 & chr9  & 139414758 & 139415013 &  0.8740158 & 32.83552 & 1.227302e-06 & 0.002034627 & resq7\\\\\n",
       "\t126 & 12168 & chr17 &  37887321 &  37887546 &  0.5769506 & 32.71863 & 1.268011e-06 & 0.002034627 & resq7\\\\\n",
       "\t127 &  7490 & chr20 &  32716846 &  32717096 &  3.2589058 & 28.36667 & 4.456243e-06 & 0.005958671 & resq7\\\\\n",
       "\t110 & 12707 & chr16 &  10603065 &  10603332 &  6.6582115 & 43.26281 & 5.645787e-07 & 0.006285111 & resq6\\\\\n",
       "\t128 &   514 & chr22 &  49552622 &  49552877 & -1.8083804 & 27.12006 & 6.490423e-06 & 0.006593549 & resq7\\\\\n",
       "\t129 & 12528 & chr5  & 150044642 & 150044875 &  1.1197275 & 26.57706 & 7.663729e-06 & 0.006593549 & resq7\\\\\n",
       "\t130 & 12335 & chr17 &   7969764 &   7970103 &  0.9602762 & 26.27649 & 8.407455e-06 & 0.006593549 & resq7\\\\\n",
       "\\end{tabular}\n"
      ],
      "text/markdown": [
       "\n",
       "A data.frame: 10 × 9\n",
       "\n",
       "| <!--/--> | DMRnumber &lt;int&gt; | chr &lt;chr&gt; | st &lt;int&gt; | end &lt;int&gt; | intercept &lt;dbl&gt; | f &lt;dbl&gt; | pval &lt;dbl&gt; | qval &lt;dbl&gt; | Origin &lt;chr&gt; |\n",
       "|---|---|---|---|---|---|---|---|---|---|\n",
       "| 122 |  7478 | chr20 |  60751975 |  60752320 |  2.1519394 | 38.33832 | 2.804548e-07 | 0.001854872 | resq7 |\n",
       "| 123 | 12381 | chr17 |   5882814 |   5883013 |  2.0168519 | 36.42646 | 4.623939e-07 | 0.001854872 | resq7 |\n",
       "| 124 | 11235 | chr1  |  25472270 |  25472754 |  0.3109544 | 33.73726 | 9.559373e-07 | 0.002034627 | resq7 |\n",
       "| 125 |  4140 | chr9  | 139414758 | 139415013 |  0.8740158 | 32.83552 | 1.227302e-06 | 0.002034627 | resq7 |\n",
       "| 126 | 12168 | chr17 |  37887321 |  37887546 |  0.5769506 | 32.71863 | 1.268011e-06 | 0.002034627 | resq7 |\n",
       "| 127 |  7490 | chr20 |  32716846 |  32717096 |  3.2589058 | 28.36667 | 4.456243e-06 | 0.005958671 | resq7 |\n",
       "| 110 | 12707 | chr16 |  10603065 |  10603332 |  6.6582115 | 43.26281 | 5.645787e-07 | 0.006285111 | resq6 |\n",
       "| 128 |   514 | chr22 |  49552622 |  49552877 | -1.8083804 | 27.12006 | 6.490423e-06 | 0.006593549 | resq7 |\n",
       "| 129 | 12528 | chr5  | 150044642 | 150044875 |  1.1197275 | 26.57706 | 7.663729e-06 | 0.006593549 | resq7 |\n",
       "| 130 | 12335 | chr17 |   7969764 |   7970103 |  0.9602762 | 26.27649 | 8.407455e-06 | 0.006593549 | resq7 |\n",
       "\n"
      ],
      "text/plain": [
       "    DMRnumber chr   st        end       intercept  f        pval        \n",
       "122  7478     chr20  60751975  60752320  2.1519394 38.33832 2.804548e-07\n",
       "123 12381     chr17   5882814   5883013  2.0168519 36.42646 4.623939e-07\n",
       "124 11235     chr1   25472270  25472754  0.3109544 33.73726 9.559373e-07\n",
       "125  4140     chr9  139414758 139415013  0.8740158 32.83552 1.227302e-06\n",
       "126 12168     chr17  37887321  37887546  0.5769506 32.71863 1.268011e-06\n",
       "127  7490     chr20  32716846  32717096  3.2589058 28.36667 4.456243e-06\n",
       "110 12707     chr16  10603065  10603332  6.6582115 43.26281 5.645787e-07\n",
       "128   514     chr22  49552622  49552877 -1.8083804 27.12006 6.490423e-06\n",
       "129 12528     chr5  150044642 150044875  1.1197275 26.57706 7.663729e-06\n",
       "130 12335     chr17   7969764   7970103  0.9602762 26.27649 8.407455e-06\n",
       "    qval        Origin\n",
       "122 0.001854872 resq7 \n",
       "123 0.001854872 resq7 \n",
       "124 0.002034627 resq7 \n",
       "125 0.002034627 resq7 \n",
       "126 0.002034627 resq7 \n",
       "127 0.005958671 resq7 \n",
       "110 0.006285111 resq6 \n",
       "128 0.006593549 resq7 \n",
       "129 0.006593549 resq7 \n",
       "130 0.006593549 resq7 "
      ]
     },
     "metadata": {},
     "output_type": "display_data"
    }
   ],
   "source": [
    "# Combining data frames with an added column for origin\n",
    "Alldf <- do.call(rbind, lapply(seq_along(list(resq1, resq2, resq3, resq4, resq5 ,resq6, resq7, resq8)), function(i) {\n",
    "  df <- list(resq1, resq2, resq3, resq4,resq5, resq6, resq7, resq8)[[i]]\n",
    "  df$Origin <- paste0(\"resq\", i)\n",
    "  df}))\n",
    "sorted_df <- Alldf[order(Alldf$qval), ]\n",
    "\n",
    "# Checking for repetitive DMRs (common between scenarios)\n",
    "repetitive_dmrs <- Alldf[duplicated(Alldf), ]\n",
    "if (nrow(repetitive_dmrs) > 0) {\n",
    "  cat(\"Repetitive DMRs found:\\n\")\n",
    "  print(repetitive_dmrs)\n",
    "} else { cat(\"No repetitive DMRs found.\\n\")}\n",
    "\n",
    "#most significant markers from all scenarios\n",
    "dim(Alldf)\n",
    "filtered_df <- Alldf[Alldf$qval < 0.3, ]\n",
    "sorted_df <- filtered_df[order(filtered_df$qval), ]\n",
    "dim(sorted_df)\n",
    "sorted_df[1:10,]"
   ]
  },
  {
   "cell_type": "code",
   "execution_count": 7,
   "id": "a7117089-259c-48c8-ae83-bfd176368d96",
   "metadata": {
    "tags": [],
    "vscode": {
     "languageId": "r"
    }
   },
   "outputs": [
    {
     "name": "stderr",
     "output_type": "stream",
     "text": [
      "\u001b[1m\u001b[22mNew names:\n",
      "\u001b[36m•\u001b[39m `` -> `...15`\n"
     ]
    },
    {
     "data": {
      "text/html": [
       "<style>\n",
       ".list-inline {list-style: none; margin:0; padding: 0}\n",
       ".list-inline>li {display: inline-block}\n",
       ".list-inline>li:not(:last-child)::after {content: \"\\00b7\"; padding: 0 .5ex}\n",
       "</style>\n",
       "<ol class=list-inline><li>695</li><li>16</li></ol>\n"
      ],
      "text/latex": [
       "\\begin{enumerate*}\n",
       "\\item 695\n",
       "\\item 16\n",
       "\\end{enumerate*}\n"
      ],
      "text/markdown": [
       "1. 695\n",
       "2. 16\n",
       "\n",
       "\n"
      ],
      "text/plain": [
       "[1] 695  16"
      ]
     },
     "metadata": {},
     "output_type": "display_data"
    },
    {
     "data": {
      "text/html": [
       "<table class=\"dataframe\">\n",
       "<caption>A data.frame: 6 × 16</caption>\n",
       "<thead>\n",
       "\t<tr><th></th><th scope=col>Type</th><th scope=col>chr</th><th scope=col>start</th><th scope=col>end</th><th scope=col>startCpG</th><th scope=col>endCpG</th><th scope=col>position</th><th scope=col>Number.of.CpGs</th><th scope=col>Length</th><th scope=col>Target.meth.</th><th scope=col>Background.meth.</th><th scope=col>Diff</th><th scope=col>Genomic.class</th><th scope=col>Gene</th><th scope=col>...15</th><th scope=col>p.value</th></tr>\n",
       "\t<tr><th></th><th scope=col>&lt;chr&gt;</th><th scope=col>&lt;chr&gt;</th><th scope=col>&lt;dbl&gt;</th><th scope=col>&lt;dbl&gt;</th><th scope=col>&lt;dbl&gt;</th><th scope=col>&lt;dbl&gt;</th><th scope=col>&lt;chr&gt;</th><th scope=col>&lt;chr&gt;</th><th scope=col>&lt;chr&gt;</th><th scope=col>&lt;dbl&gt;</th><th scope=col>&lt;dbl&gt;</th><th scope=col>&lt;dbl&gt;</th><th scope=col>&lt;chr&gt;</th><th scope=col>&lt;chr&gt;</th><th scope=col>&lt;lgl&gt;</th><th scope=col>&lt;dbl&gt;</th></tr>\n",
       "</thead>\n",
       "<tbody>\n",
       "\t<tr><th scope=row>1</th><td>Ovary-Ep     </td><td>chr1 </td><td> 25473034</td><td> 25473185</td><td>  442230</td><td>  442239</td><td>chr1:25473034-25473185  </td><td>9CpGs </td><td>151bp</td><td>0.0353</td><td>0.663</td><td>0.6277</td><td>Intergenic</td><td>SYF2   </td><td>NA</td><td>NA</td></tr>\n",
       "\t<tr><th scope=row>2</th><td>Liver-Hep    </td><td>chr20</td><td> 61520337</td><td> 61520582</td><td>25750679</td><td>25750693</td><td>chr20:61520337-61520582 </td><td>14CpGs</td><td>245bp</td><td>0.0556</td><td>0.906</td><td>0.8504</td><td>exon      </td><td>DIDO1  </td><td>NA</td><td>NA</td></tr>\n",
       "\t<tr><th scope=row>3</th><td>Liver-Hep    </td><td>chr3 </td><td>186333563</td><td>186333911</td><td> 5941634</td><td> 5941646</td><td>chr3:186333563-186333911</td><td>12CpGs</td><td>348bp</td><td>0.1110</td><td>0.911</td><td>0.8000</td><td>intron    </td><td>AHSG   </td><td>NA</td><td>NA</td></tr>\n",
       "\t<tr><th scope=row>4</th><td>Pancreas-Beta</td><td>chr4 </td><td> 84021657</td><td> 84022070</td><td> 6769954</td><td> 6769959</td><td>chr4:84021657-84022070  </td><td>5CpGs </td><td>413bp</td><td>0.0138</td><td>0.851</td><td>0.8372</td><td>intron    </td><td>PLAC8  </td><td>NA</td><td>NA</td></tr>\n",
       "\t<tr><th scope=row>5</th><td>Kidney-Ep    </td><td>chr16</td><td> 25698111</td><td> 25698424</td><td>21490735</td><td>21490742</td><td>chr16:25698111-25698424 </td><td>7CpGs </td><td>313bp</td><td>0.2620</td><td>0.814</td><td>0.5520</td><td>Intergenic</td><td>HS3ST4 </td><td>NA</td><td>NA</td></tr>\n",
       "\t<tr><th scope=row>6</th><td>Liver-Hep    </td><td>chr21</td><td> 46892633</td><td> 46892991</td><td>26147499</td><td>26147514</td><td>chr21:46892633-46892991 </td><td>15CpGs</td><td>358bp</td><td>0.1180</td><td>0.907</td><td>0.7890</td><td>intron    </td><td>COL18A1</td><td>NA</td><td>NA</td></tr>\n",
       "</tbody>\n",
       "</table>\n"
      ],
      "text/latex": [
       "A data.frame: 6 × 16\n",
       "\\begin{tabular}{r|llllllllllllllll}\n",
       "  & Type & chr & start & end & startCpG & endCpG & position & Number.of.CpGs & Length & Target.meth. & Background.meth. & Diff & Genomic.class & Gene & ...15 & p.value\\\\\n",
       "  & <chr> & <chr> & <dbl> & <dbl> & <dbl> & <dbl> & <chr> & <chr> & <chr> & <dbl> & <dbl> & <dbl> & <chr> & <chr> & <lgl> & <dbl>\\\\\n",
       "\\hline\n",
       "\t1 & Ovary-Ep      & chr1  &  25473034 &  25473185 &   442230 &   442239 & chr1:25473034-25473185   & 9CpGs  & 151bp & 0.0353 & 0.663 & 0.6277 & Intergenic & SYF2    & NA & NA\\\\\n",
       "\t2 & Liver-Hep     & chr20 &  61520337 &  61520582 & 25750679 & 25750693 & chr20:61520337-61520582  & 14CpGs & 245bp & 0.0556 & 0.906 & 0.8504 & exon       & DIDO1   & NA & NA\\\\\n",
       "\t3 & Liver-Hep     & chr3  & 186333563 & 186333911 &  5941634 &  5941646 & chr3:186333563-186333911 & 12CpGs & 348bp & 0.1110 & 0.911 & 0.8000 & intron     & AHSG    & NA & NA\\\\\n",
       "\t4 & Pancreas-Beta & chr4  &  84021657 &  84022070 &  6769954 &  6769959 & chr4:84021657-84022070   & 5CpGs  & 413bp & 0.0138 & 0.851 & 0.8372 & intron     & PLAC8   & NA & NA\\\\\n",
       "\t5 & Kidney-Ep     & chr16 &  25698111 &  25698424 & 21490735 & 21490742 & chr16:25698111-25698424  & 7CpGs  & 313bp & 0.2620 & 0.814 & 0.5520 & Intergenic & HS3ST4  & NA & NA\\\\\n",
       "\t6 & Liver-Hep     & chr21 &  46892633 &  46892991 & 26147499 & 26147514 & chr21:46892633-46892991  & 15CpGs & 358bp & 0.1180 & 0.907 & 0.7890 & intron     & COL18A1 & NA & NA\\\\\n",
       "\\end{tabular}\n"
      ],
      "text/markdown": [
       "\n",
       "A data.frame: 6 × 16\n",
       "\n",
       "| <!--/--> | Type &lt;chr&gt; | chr &lt;chr&gt; | start &lt;dbl&gt; | end &lt;dbl&gt; | startCpG &lt;dbl&gt; | endCpG &lt;dbl&gt; | position &lt;chr&gt; | Number.of.CpGs &lt;chr&gt; | Length &lt;chr&gt; | Target.meth. &lt;dbl&gt; | Background.meth. &lt;dbl&gt; | Diff &lt;dbl&gt; | Genomic.class &lt;chr&gt; | Gene &lt;chr&gt; | ...15 &lt;lgl&gt; | p.value &lt;dbl&gt; |\n",
       "|---|---|---|---|---|---|---|---|---|---|---|---|---|---|---|---|---|\n",
       "| 1 | Ovary-Ep      | chr1  |  25473034 |  25473185 |   442230 |   442239 | chr1:25473034-25473185   | 9CpGs  | 151bp | 0.0353 | 0.663 | 0.6277 | Intergenic | SYF2    | NA | NA |\n",
       "| 2 | Liver-Hep     | chr20 |  61520337 |  61520582 | 25750679 | 25750693 | chr20:61520337-61520582  | 14CpGs | 245bp | 0.0556 | 0.906 | 0.8504 | exon       | DIDO1   | NA | NA |\n",
       "| 3 | Liver-Hep     | chr3  | 186333563 | 186333911 |  5941634 |  5941646 | chr3:186333563-186333911 | 12CpGs | 348bp | 0.1110 | 0.911 | 0.8000 | intron     | AHSG    | NA | NA |\n",
       "| 4 | Pancreas-Beta | chr4  |  84021657 |  84022070 |  6769954 |  6769959 | chr4:84021657-84022070   | 5CpGs  | 413bp | 0.0138 | 0.851 | 0.8372 | intron     | PLAC8   | NA | NA |\n",
       "| 5 | Kidney-Ep     | chr16 |  25698111 |  25698424 | 21490735 | 21490742 | chr16:25698111-25698424  | 7CpGs  | 313bp | 0.2620 | 0.814 | 0.5520 | Intergenic | HS3ST4  | NA | NA |\n",
       "| 6 | Liver-Hep     | chr21 |  46892633 |  46892991 | 26147499 | 26147514 | chr21:46892633-46892991  | 15CpGs | 358bp | 0.1180 | 0.907 | 0.7890 | intron     | COL18A1 | NA | NA |\n",
       "\n"
      ],
      "text/plain": [
       "  Type          chr   start     end       startCpG endCpG  \n",
       "1 Ovary-Ep      chr1   25473034  25473185   442230   442239\n",
       "2 Liver-Hep     chr20  61520337  61520582 25750679 25750693\n",
       "3 Liver-Hep     chr3  186333563 186333911  5941634  5941646\n",
       "4 Pancreas-Beta chr4   84021657  84022070  6769954  6769959\n",
       "5 Kidney-Ep     chr16  25698111  25698424 21490735 21490742\n",
       "6 Liver-Hep     chr21  46892633  46892991 26147499 26147514\n",
       "  position                 Number.of.CpGs Length Target.meth. Background.meth.\n",
       "1 chr1:25473034-25473185   9CpGs          151bp  0.0353       0.663           \n",
       "2 chr20:61520337-61520582  14CpGs         245bp  0.0556       0.906           \n",
       "3 chr3:186333563-186333911 12CpGs         348bp  0.1110       0.911           \n",
       "4 chr4:84021657-84022070   5CpGs          413bp  0.0138       0.851           \n",
       "5 chr16:25698111-25698424  7CpGs          313bp  0.2620       0.814           \n",
       "6 chr21:46892633-46892991  15CpGs         358bp  0.1180       0.907           \n",
       "  Diff   Genomic.class Gene    ...15 p.value\n",
       "1 0.6277 Intergenic    SYF2    NA    NA     \n",
       "2 0.8504 exon          DIDO1   NA    NA     \n",
       "3 0.8000 intron        AHSG    NA    NA     \n",
       "4 0.8372 intron        PLAC8   NA    NA     \n",
       "5 0.5520 Intergenic    HS3ST4  NA    NA     \n",
       "6 0.7890 intron        COL18A1 NA    NA     "
      ]
     },
     "metadata": {},
     "output_type": "display_data"
    }
   ],
   "source": [
    "\n",
    "top1000 <- read_excel(\"C:/Users/Hiam/Desktop/DNA methylation atlas of normal human cell types/S4C_TOP1000.xlsx\", sheet = 1) \n",
    "mine<-sorted_df\n",
    "mine$st<-mine$st - 50\n",
    "mine$end<-mine$end + 50\n",
    "gr1 <- GRanges(seqnames = mine$chr,\n",
    "               ranges = IRanges(start = mine$st, end = mine$end),\n",
    "               beta = mine$qval)\n",
    "atlas<-top1000\n",
    "gr2 <- GRanges(seqnames = atlas$chr,\n",
    "               ranges = IRanges(start = atlas$start, end = atlas$end),\n",
    "               beta = atlas$Diff) \n",
    "overlaps <- findOverlaps(gr1, gr2)\n",
    "common_regions <- pintersect(gr1[queryHits(overlaps)], gr2[subjectHits(overlaps)])\n",
    "overlap_indices <- subjectHits(overlaps)\n",
    "overlapping_rows <- top1000[overlap_indices, ]\n",
    "dim(data.frame(overlapping_rows))\n",
    "head(data.frame(overlapping_rows))"
   ]
  },
  {
   "cell_type": "code",
   "execution_count": 118,
   "id": "7dee7f13-1a5c-4796-a925-e04bdd821826",
   "metadata": {
    "tags": [],
    "vscode": {
     "languageId": "r"
    }
   },
   "outputs": [
    {
     "data": {
      "text/html": [
       "<style>\n",
       ".list-inline {list-style: none; margin:0; padding: 0}\n",
       ".list-inline>li {display: inline-block}\n",
       ".list-inline>li:not(:last-child)::after {content: \"\\00b7\"; padding: 0 .5ex}\n",
       "</style>\n",
       "<ol class=list-inline><li>695</li><li>22</li></ol>\n"
      ],
      "text/latex": [
       "\\begin{enumerate*}\n",
       "\\item 695\n",
       "\\item 22\n",
       "\\end{enumerate*}\n"
      ],
      "text/markdown": [
       "1. 695\n",
       "2. 22\n",
       "\n",
       "\n"
      ],
      "text/plain": [
       "[1] 695  22"
      ]
     },
     "metadata": {},
     "output_type": "display_data"
    },
    {
     "data": {
      "text/html": [
       "<style>\n",
       ".list-inline {list-style: none; margin:0; padding: 0}\n",
       ".list-inline>li {display: inline-block}\n",
       ".list-inline>li:not(:last-child)::after {content: \"\\00b7\"; padding: 0 .5ex}\n",
       "</style>\n",
       "<ol class=list-inline><li>50</li><li>19</li></ol>\n"
      ],
      "text/latex": [
       "\\begin{enumerate*}\n",
       "\\item 50\n",
       "\\item 19\n",
       "\\end{enumerate*}\n"
      ],
      "text/markdown": [
       "1. 50\n",
       "2. 19\n",
       "\n",
       "\n"
      ],
      "text/plain": [
       "[1] 50 19"
      ]
     },
     "metadata": {},
     "output_type": "display_data"
    },
    {
     "data": {
      "text/html": [
       "<style>\n",
       ".list-inline {list-style: none; margin:0; padding: 0}\n",
       ".list-inline>li {display: inline-block}\n",
       ".list-inline>li:not(:last-child)::after {content: \"\\00b7\"; padding: 0 .5ex}\n",
       "</style>\n",
       "<ol class=list-inline><li>36</li><li>19</li></ol>\n"
      ],
      "text/latex": [
       "\\begin{enumerate*}\n",
       "\\item 36\n",
       "\\item 19\n",
       "\\end{enumerate*}\n"
      ],
      "text/markdown": [
       "1. 36\n",
       "2. 19\n",
       "\n",
       "\n"
      ],
      "text/plain": [
       "[1] 36 19"
      ]
     },
     "metadata": {},
     "output_type": "display_data"
    },
    {
     "data": {
      "text/html": [
       "<style>\n",
       ".list-inline {list-style: none; margin:0; padding: 0}\n",
       ".list-inline>li {display: inline-block}\n",
       ".list-inline>li:not(:last-child)::after {content: \"\\00b7\"; padding: 0 .5ex}\n",
       "</style>\n",
       "<ol class=list-inline><li>23</li><li>19</li></ol>\n"
      ],
      "text/latex": [
       "\\begin{enumerate*}\n",
       "\\item 23\n",
       "\\item 19\n",
       "\\end{enumerate*}\n"
      ],
      "text/markdown": [
       "1. 23\n",
       "2. 19\n",
       "\n",
       "\n"
      ],
      "text/plain": [
       "[1] 23 19"
      ]
     },
     "metadata": {},
     "output_type": "display_data"
    }
   ],
   "source": [
    "# all DMR inforamtion in 1 table (covid-19 analysis and atlas DMRs)\n",
    "overlaps <- findOverlaps(gr1, gr2)\n",
    "common_regions <- pintersect(gr1[queryHits(overlaps)], gr2[subjectHits(overlaps)])\n",
    "overlap_indices <- subjectHits(overlaps)\n",
    "overlapping_rows <- top1000[overlap_indices, ]\n",
    "dmr_numbers <- mine$DMRnumber[queryHits(overlaps)]\n",
    "overlapping_rows$DMRnumber <- dmr_numbers\n",
    "for (col_name in c(\"chr\", \"st\", \"end\", \"intercept\", \"f\", \"pval\", \"qval\")) {\n",
    "  overlapping_rows[[col_name]] <- mine[[col_name]][match(overlapping_rows$DMRnumber, mine$DMRnumber)]}\n",
    "dim(overlapping_rows)\n",
    "\n",
    "#best DMRs as biomarkers\n",
    "x<-subset(overlapping_rows, qval < 0.05)[,-c(7,15,16)]\n",
    "dim(x)\n",
    "x1<-subset(x, grepl(\"Pancreas|Liver|Blood|Colon|Breast|Gastric|Kidney\", Type))\n",
    "dim(x1)\n",
    "x2<- x1[x1[, 12] != \"Intergenic\", ]\n",
    "dim(x2)"
   ]
  },
  {
   "cell_type": "code",
   "execution_count": 125,
   "id": "73368fb1-0038-417f-8860-c96f6e74fc49",
   "metadata": {
    "tags": [],
    "vscode": {
     "languageId": "r"
    }
   },
   "outputs": [
    {
     "data": {
      "text/html": [
       "<table class=\"dataframe\">\n",
       "<caption>A data.frame: 5 × 19</caption>\n",
       "<thead>\n",
       "\t<tr><th></th><th scope=col>DMRnumber</th><th scope=col>Type</th><th scope=col>chr</th><th scope=col>start</th><th scope=col>end</th><th scope=col>startCpG</th><th scope=col>endCpG</th><th scope=col>Number of CpGs</th><th scope=col>Length</th><th scope=col>Target meth.</th><th scope=col>Background meth.</th><th scope=col>Diff</th><th scope=col>Genomic class</th><th scope=col>Gene</th><th scope=col>beta_diff</th><th scope=col>mean_mild</th><th scope=col>mean_severe</th><th scope=col>pval</th><th scope=col>qval</th></tr>\n",
       "\t<tr><th></th><th scope=col>&lt;int&gt;</th><th scope=col>&lt;chr&gt;</th><th scope=col>&lt;chr&gt;</th><th scope=col>&lt;dbl&gt;</th><th scope=col>&lt;dbl&gt;</th><th scope=col>&lt;dbl&gt;</th><th scope=col>&lt;dbl&gt;</th><th scope=col>&lt;chr&gt;</th><th scope=col>&lt;chr&gt;</th><th scope=col>&lt;dbl&gt;</th><th scope=col>&lt;dbl&gt;</th><th scope=col>&lt;dbl&gt;</th><th scope=col>&lt;chr&gt;</th><th scope=col>&lt;chr&gt;</th><th scope=col>&lt;dbl&gt;</th><th scope=col>&lt;dbl&gt;</th><th scope=col>&lt;dbl&gt;</th><th scope=col>&lt;dbl&gt;</th><th scope=col>&lt;dbl&gt;</th></tr>\n",
       "</thead>\n",
       "<tbody>\n",
       "\t<tr><th scope=row>4</th><td>3183</td><td>Gastric-Ep:Small-Int-Ep         </td><td>chr10</td><td>104574094</td><td>104574452</td><td>15622048</td><td>15622053</td><td>5CpGs </td><td>73bp </td><td>0.0067</td><td>0.762</td><td>0.7553</td><td>exon  </td><td>WBP1L</td><td>-36.35537</td><td>79.01216</td><td>42.65679</td><td>5.456546e-04</td><td>0.034859393</td></tr>\n",
       "\t<tr><th scope=row>7</th><td>6254</td><td>Liver-Hep                       </td><td>chr12</td><td> 12409218</td><td> 12409700</td><td>17428008</td><td>17428017</td><td>9CpGs </td><td>544bp</td><td>0.1350</td><td>0.917</td><td>0.7820</td><td>intron</td><td>LRP6 </td><td>-26.98481</td><td>83.86566</td><td>56.88085</td><td>8.276977e-04</td><td>0.040154873</td></tr>\n",
       "\t<tr><th scope=row>11</th><td>7821</td><td>Liver-Hep                       </td><td>chr20</td><td> 61520337</td><td> 61520880</td><td>25750679</td><td>25750693</td><td>14CpGs</td><td>245bp</td><td>0.0556</td><td>0.906</td><td>0.8504</td><td>exon  </td><td>DIDO1</td><td>-27.95108</td><td>92.71960</td><td>64.76852</td><td>1.507968e-05</td><td>0.007496507</td></tr>\n",
       "\t<tr><th scope=row>12</th><td>8142</td><td>Colon-Ep:Gastric-Ep:Small-Int-Ep</td><td>chr16</td><td> 70186562</td><td> 70187168</td><td>21874363</td><td>21874374</td><td>11CpGs</td><td>308bp</td><td>0.0196</td><td>0.881</td><td>0.8614</td><td>intron</td><td>PDPR </td><td>-28.43064</td><td>92.30254</td><td>63.87190</td><td>1.395064e-03</td><td>0.048243401</td></tr>\n",
       "\t<tr><th scope=row>13</th><td>8142</td><td>Gastric-Ep:Small-Int-Ep         </td><td>chr16</td><td> 70186562</td><td> 70187168</td><td>21874363</td><td>21874374</td><td>11CpGs</td><td>308bp</td><td>0.0230</td><td>0.844</td><td>0.8210</td><td>intron</td><td>PDPR </td><td>-28.43064</td><td>92.30254</td><td>63.87190</td><td>1.395064e-03</td><td>0.048243401</td></tr>\n",
       "</tbody>\n",
       "</table>\n"
      ],
      "text/latex": [
       "A data.frame: 5 × 19\n",
       "\\begin{tabular}{r|lllllllllllllllllll}\n",
       "  & DMRnumber & Type & chr & start & end & startCpG & endCpG & Number of CpGs & Length & Target meth. & Background meth. & Diff & Genomic class & Gene & beta\\_diff & mean\\_mild & mean\\_severe & pval & qval\\\\\n",
       "  & <int> & <chr> & <chr> & <dbl> & <dbl> & <dbl> & <dbl> & <chr> & <chr> & <dbl> & <dbl> & <dbl> & <chr> & <chr> & <dbl> & <dbl> & <dbl> & <dbl> & <dbl>\\\\\n",
       "\\hline\n",
       "\t4 & 3183 & Gastric-Ep:Small-Int-Ep          & chr10 & 104574094 & 104574452 & 15622048 & 15622053 & 5CpGs  & 73bp  & 0.0067 & 0.762 & 0.7553 & exon   & WBP1L & -36.35537 & 79.01216 & 42.65679 & 5.456546e-04 & 0.034859393\\\\\n",
       "\t7 & 6254 & Liver-Hep                        & chr12 &  12409218 &  12409700 & 17428008 & 17428017 & 9CpGs  & 544bp & 0.1350 & 0.917 & 0.7820 & intron & LRP6  & -26.98481 & 83.86566 & 56.88085 & 8.276977e-04 & 0.040154873\\\\\n",
       "\t11 & 7821 & Liver-Hep                        & chr20 &  61520337 &  61520880 & 25750679 & 25750693 & 14CpGs & 245bp & 0.0556 & 0.906 & 0.8504 & exon   & DIDO1 & -27.95108 & 92.71960 & 64.76852 & 1.507968e-05 & 0.007496507\\\\\n",
       "\t12 & 8142 & Colon-Ep:Gastric-Ep:Small-Int-Ep & chr16 &  70186562 &  70187168 & 21874363 & 21874374 & 11CpGs & 308bp & 0.0196 & 0.881 & 0.8614 & intron & PDPR  & -28.43064 & 92.30254 & 63.87190 & 1.395064e-03 & 0.048243401\\\\\n",
       "\t13 & 8142 & Gastric-Ep:Small-Int-Ep          & chr16 &  70186562 &  70187168 & 21874363 & 21874374 & 11CpGs & 308bp & 0.0230 & 0.844 & 0.8210 & intron & PDPR  & -28.43064 & 92.30254 & 63.87190 & 1.395064e-03 & 0.048243401\\\\\n",
       "\\end{tabular}\n"
      ],
      "text/markdown": [
       "\n",
       "A data.frame: 5 × 19\n",
       "\n",
       "| <!--/--> | DMRnumber &lt;int&gt; | Type &lt;chr&gt; | chr &lt;chr&gt; | start &lt;dbl&gt; | end &lt;dbl&gt; | startCpG &lt;dbl&gt; | endCpG &lt;dbl&gt; | Number of CpGs &lt;chr&gt; | Length &lt;chr&gt; | Target meth. &lt;dbl&gt; | Background meth. &lt;dbl&gt; | Diff &lt;dbl&gt; | Genomic class &lt;chr&gt; | Gene &lt;chr&gt; | beta_diff &lt;dbl&gt; | mean_mild &lt;dbl&gt; | mean_severe &lt;dbl&gt; | pval &lt;dbl&gt; | qval &lt;dbl&gt; |\n",
       "|---|---|---|---|---|---|---|---|---|---|---|---|---|---|---|---|---|---|---|---|\n",
       "| 4 | 3183 | Gastric-Ep:Small-Int-Ep          | chr10 | 104574094 | 104574452 | 15622048 | 15622053 | 5CpGs  | 73bp  | 0.0067 | 0.762 | 0.7553 | exon   | WBP1L | -36.35537 | 79.01216 | 42.65679 | 5.456546e-04 | 0.034859393 |\n",
       "| 7 | 6254 | Liver-Hep                        | chr12 |  12409218 |  12409700 | 17428008 | 17428017 | 9CpGs  | 544bp | 0.1350 | 0.917 | 0.7820 | intron | LRP6  | -26.98481 | 83.86566 | 56.88085 | 8.276977e-04 | 0.040154873 |\n",
       "| 11 | 7821 | Liver-Hep                        | chr20 |  61520337 |  61520880 | 25750679 | 25750693 | 14CpGs | 245bp | 0.0556 | 0.906 | 0.8504 | exon   | DIDO1 | -27.95108 | 92.71960 | 64.76852 | 1.507968e-05 | 0.007496507 |\n",
       "| 12 | 8142 | Colon-Ep:Gastric-Ep:Small-Int-Ep | chr16 |  70186562 |  70187168 | 21874363 | 21874374 | 11CpGs | 308bp | 0.0196 | 0.881 | 0.8614 | intron | PDPR  | -28.43064 | 92.30254 | 63.87190 | 1.395064e-03 | 0.048243401 |\n",
       "| 13 | 8142 | Gastric-Ep:Small-Int-Ep          | chr16 |  70186562 |  70187168 | 21874363 | 21874374 | 11CpGs | 308bp | 0.0230 | 0.844 | 0.8210 | intron | PDPR  | -28.43064 | 92.30254 | 63.87190 | 1.395064e-03 | 0.048243401 |\n",
       "\n"
      ],
      "text/plain": [
       "   DMRnumber Type                             chr   start     end      \n",
       "4  3183      Gastric-Ep:Small-Int-Ep          chr10 104574094 104574452\n",
       "7  6254      Liver-Hep                        chr12  12409218  12409700\n",
       "11 7821      Liver-Hep                        chr20  61520337  61520880\n",
       "12 8142      Colon-Ep:Gastric-Ep:Small-Int-Ep chr16  70186562  70187168\n",
       "13 8142      Gastric-Ep:Small-Int-Ep          chr16  70186562  70187168\n",
       "   startCpG endCpG   Number of CpGs Length Target meth. Background meth. Diff  \n",
       "4  15622048 15622053 5CpGs          73bp   0.0067       0.762            0.7553\n",
       "7  17428008 17428017 9CpGs          544bp  0.1350       0.917            0.7820\n",
       "11 25750679 25750693 14CpGs         245bp  0.0556       0.906            0.8504\n",
       "12 21874363 21874374 11CpGs         308bp  0.0196       0.881            0.8614\n",
       "13 21874363 21874374 11CpGs         308bp  0.0230       0.844            0.8210\n",
       "   Genomic class Gene  beta_diff mean_mild mean_severe pval         qval       \n",
       "4  exon          WBP1L -36.35537 79.01216  42.65679    5.456546e-04 0.034859393\n",
       "7  intron        LRP6  -26.98481 83.86566  56.88085    8.276977e-04 0.040154873\n",
       "11 exon          DIDO1 -27.95108 92.71960  64.76852    1.507968e-05 0.007496507\n",
       "12 intron        PDPR  -28.43064 92.30254  63.87190    1.395064e-03 0.048243401\n",
       "13 intron        PDPR  -28.43064 92.30254  63.87190    1.395064e-03 0.048243401"
      ]
     },
     "metadata": {},
     "output_type": "display_data"
    }
   ],
   "source": [
    "#beta value difference calculation betweeen mild and severe\n",
    "NAdelbed7= read.table(\"NAdelbed7.txt\",sep=\" \",header = T)\n",
    "gname1 <-'abnormal'   # in sen4&5 : Ascending  in sen6: discharged in sen7&8 : abnormal\n",
    "gname2 <-'normal'   # in sen4&5 : Descending in sen6: deceased  in sen7&8: normal\n",
    "# beta difference calculation\n",
    "NAdelbed7 <- read.table(\"NAdelbed7.txt\", sep=\" \", header = TRUE)\n",
    "# Defining column names\n",
    "abnormal_columns <- grep(\"^abnormal\", colnames(NAdelbed7))\n",
    "normal_columns <- grep(\"^normal\", colnames(NAdelbed7))\n",
    "NAdelbed7$mean_severe <- rowMeans(NAdelbed7[, abnormal_columns], na.rm = TRUE)\n",
    "NAdelbed7$mean_mild <- rowMeans(NAdelbed7[, normal_columns], na.rm = TRUE)\n",
    "# beta difference between SEVERE and MILD \n",
    "NAdelbed7$beta_diff <- NAdelbed7$mean_severe - NAdelbed7$mean_mild\n",
    "s_table <- NAdelbed7[, c(\"DMRnumber\", \"mean_severe\", \"mean_mild\", \"beta_diff\")]\n",
    "s_sorted <- summary_table[order(summary_table$beta_diff, decreasing = TRUE), ]\n",
    "\n",
    "# Merging x2 with s_sorted based on `DMRnumber`\n",
    "merged_x2 <- merge(x2, s_sorted, by = \"DMRnumber\", all.x = TRUE)\n",
    "\n",
    "# Replacing columns\n",
    "merged_x2$f <- merged_x2$mean_severe\n",
    "merged_x2$intercept <- merged_x2$mean_mild\n",
    "merged_x2$st <- merged_x2$beta_diff\n",
    "final_x2 <- merged_x2[, !(colnames(merged_x2) %in% c(\"mean_severe\", \"mean_mild\", \"beta_diff\"))]\n",
    "colnames(final_x2)[colnames(final_x2) == \"f\"] <- \"mean_severe\"\n",
    "colnames(final_x2)[colnames(final_x2) == \"intercept\"] <- \"mean_mild\"\n",
    "colnames(final_x2)[colnames(final_x2) == \"st\"] <- \"beta_diff\"\n",
    "\n",
    "subset(final_x2, beta_diff < -25)\n",
    "# saving \"beta_difference_summary\""
   ]
  },
  {
   "cell_type": "code",
   "execution_count": null,
   "id": "d8da9b14-ad9e-4b1e-a666-7ade747442bb",
   "metadata": {
    "vscode": {
     "languageId": "r"
    }
   },
   "outputs": [],
   "source": [
    "intergenic   235\n",
    "intron  362\n",
    "exon  61\n",
    "promoter-TSS  37"
   ]
  }
 ],
 "metadata": {
  "kernelspec": {
   "display_name": "R",
   "language": "R",
   "name": "ir"
  },
  "language_info": {
   "codemirror_mode": "r",
   "file_extension": ".r",
   "mimetype": "text/x-r-source",
   "name": "R",
   "pygments_lexer": "r",
   "version": "4.3.1"
  }
 },
 "nbformat": 4,
 "nbformat_minor": 5
}
