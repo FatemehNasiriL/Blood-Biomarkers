{
 "cells": [
  {
   "cell_type": "markdown",
   "id": "c1253368",
   "metadata": {},
   "source": [
    "**Differential methylation analysis**"
   ]
  },
  {
   "cell_type": "code",
   "execution_count": null,
   "id": "e55ff4a3",
   "metadata": {
    "vscode": {
     "languageId": "r"
    }
   },
   "outputs": [],
   "source": [
    "#dependencies\n",
    "library(remotes)\n",
    "library(methyLImp)\n",
    "library(stringr)\n",
    "library(Biostrings)\n",
    "library(XVector)\n",
    "library(bumphunter)\n",
    "library(foreach)\n",
    "library(iterators)\n",
    "library(parallel)\n",
    "library(locfit)\n",
    "library(minfi)\n",
    "library(readxl)\n",
    "library(GenomicRanges)\n",
    "library(rtracklayer)"
   ]
  },
  {
   "cell_type": "code",
   "execution_count": 9,
   "id": "68b27107-529d-4f06-9438-92a4d9af357c",
   "metadata": {
    "tags": [],
    "vscode": {
     "languageId": "r"
    }
   },
   "outputs": [
    {
     "data": {
      "text/html": [
       "<table class=\"dataframe\">\n",
       "<caption>A data.frame: 6 × 59</caption>\n",
       "<thead>\n",
       "\t<tr><th></th><th scope=col>chr</th><th scope=col>st</th><th scope=col>end</th><th scope=col>above6</th><th scope=col>above6.1</th><th scope=col>above6.2</th><th scope=col>above6.3</th><th scope=col>above6.4</th><th scope=col>above6.5</th><th scope=col>above6.6</th><th scope=col>⋯</th><th scope=col>below6.22</th><th scope=col>below6.23</th><th scope=col>below6.24</th><th scope=col>below6.25</th><th scope=col>below6.26</th><th scope=col>below6.27</th><th scope=col>belowH1</th><th scope=col>belowH2</th><th scope=col>belowH3</th><th scope=col>belowH4</th></tr>\n",
       "\t<tr><th></th><th scope=col>&lt;chr&gt;</th><th scope=col>&lt;int&gt;</th><th scope=col>&lt;int&gt;</th><th scope=col>&lt;dbl&gt;</th><th scope=col>&lt;dbl&gt;</th><th scope=col>&lt;dbl&gt;</th><th scope=col>&lt;dbl&gt;</th><th scope=col>&lt;dbl&gt;</th><th scope=col>&lt;dbl&gt;</th><th scope=col>&lt;dbl&gt;</th><th scope=col>⋯</th><th scope=col>&lt;dbl&gt;</th><th scope=col>&lt;dbl&gt;</th><th scope=col>&lt;dbl&gt;</th><th scope=col>&lt;dbl&gt;</th><th scope=col>&lt;dbl&gt;</th><th scope=col>&lt;dbl&gt;</th><th scope=col>&lt;dbl&gt;</th><th scope=col>&lt;dbl&gt;</th><th scope=col>&lt;dbl&gt;</th><th scope=col>&lt;dbl&gt;</th></tr>\n",
       "</thead>\n",
       "<tbody>\n",
       "\t<tr><th scope=row>1</th><td>chr1</td><td> 836950</td><td> 837233</td><td>80.00000</td><td>57.57576</td><td>100.00000</td><td>100.00000</td><td> 79.48718</td><td>100.00000</td><td> 87.50000</td><td>⋯</td><td>100.00000</td><td> 92.85714</td><td> 75.00000</td><td>90.00000</td><td> 98.21429</td><td> 85.71429</td><td>       NA</td><td>       NA</td><td>       NA</td><td>       NA</td></tr>\n",
       "\t<tr><th scope=row>2</th><td>chr1</td><td> 850702</td><td> 851077</td><td>83.33333</td><td>76.08696</td><td> 66.66667</td><td> 50.00000</td><td> 90.00000</td><td>       NA</td><td>100.00000</td><td>⋯</td><td>100.00000</td><td> 83.33333</td><td> 61.53846</td><td>94.44444</td><td> 87.50000</td><td> 75.00000</td><td>100.00000</td><td> 84.72222</td><td> 86.80556</td><td> 81.94444</td></tr>\n",
       "\t<tr><th scope=row>3</th><td>chr1</td><td> 920168</td><td> 920354</td><td>80.00000</td><td>50.00000</td><td> 57.14286</td><td> 85.71429</td><td> 85.71429</td><td>100.00000</td><td> 80.00000</td><td>⋯</td><td> 56.41026</td><td> 87.50000</td><td>  0.00000</td><td>80.00000</td><td> 85.18519</td><td> 66.66667</td><td> 69.69697</td><td> 87.50000</td><td> 93.05556</td><td> 50.00000</td></tr>\n",
       "\t<tr><th scope=row>4</th><td>chr1</td><td> 986518</td><td> 986840</td><td>90.00000</td><td>90.00000</td><td>       NA</td><td>100.00000</td><td>100.00000</td><td>       NA</td><td> 88.88889</td><td>⋯</td><td>       NA</td><td>100.00000</td><td>       NA</td><td>72.72727</td><td>100.00000</td><td>100.00000</td><td> 94.11765</td><td>100.00000</td><td>100.00000</td><td>100.00000</td></tr>\n",
       "\t<tr><th scope=row>5</th><td>chr1</td><td> 996096</td><td> 996295</td><td>33.33333</td><td>57.14286</td><td>100.00000</td><td> 50.00000</td><td> 72.72727</td><td> 50.00000</td><td> 31.57895</td><td>⋯</td><td> 83.33333</td><td> 40.00000</td><td>100.00000</td><td>53.57143</td><td> 59.09091</td><td> 57.14286</td><td> 50.00000</td><td> 25.00000</td><td> 73.18841</td><td> 35.71429</td></tr>\n",
       "\t<tr><th scope=row>6</th><td>chr1</td><td>1045135</td><td>1045787</td><td>56.52174</td><td>63.15789</td><td> 50.00000</td><td> 87.50000</td><td> 83.33333</td><td> 46.15385</td><td> 83.33333</td><td>⋯</td><td> 71.66667</td><td> 95.23810</td><td> 55.26316</td><td>61.84211</td><td> 60.63063</td><td> 93.33333</td><td> 52.17391</td><td> 85.22727</td><td> 71.35417</td><td> 80.00000</td></tr>\n",
       "</tbody>\n",
       "</table>\n"
      ],
      "text/latex": [
       "A data.frame: 6 × 59\n",
       "\\begin{tabular}{r|lllllllllllllllllllll}\n",
       "  & chr & st & end & above6 & above6.1 & above6.2 & above6.3 & above6.4 & above6.5 & above6.6 & ⋯ & below6.22 & below6.23 & below6.24 & below6.25 & below6.26 & below6.27 & belowH1 & belowH2 & belowH3 & belowH4\\\\\n",
       "  & <chr> & <int> & <int> & <dbl> & <dbl> & <dbl> & <dbl> & <dbl> & <dbl> & <dbl> & ⋯ & <dbl> & <dbl> & <dbl> & <dbl> & <dbl> & <dbl> & <dbl> & <dbl> & <dbl> & <dbl>\\\\\n",
       "\\hline\n",
       "\t1 & chr1 &  836950 &  837233 & 80.00000 & 57.57576 & 100.00000 & 100.00000 &  79.48718 & 100.00000 &  87.50000 & ⋯ & 100.00000 &  92.85714 &  75.00000 & 90.00000 &  98.21429 &  85.71429 &        NA &        NA &        NA &        NA\\\\\n",
       "\t2 & chr1 &  850702 &  851077 & 83.33333 & 76.08696 &  66.66667 &  50.00000 &  90.00000 &        NA & 100.00000 & ⋯ & 100.00000 &  83.33333 &  61.53846 & 94.44444 &  87.50000 &  75.00000 & 100.00000 &  84.72222 &  86.80556 &  81.94444\\\\\n",
       "\t3 & chr1 &  920168 &  920354 & 80.00000 & 50.00000 &  57.14286 &  85.71429 &  85.71429 & 100.00000 &  80.00000 & ⋯ &  56.41026 &  87.50000 &   0.00000 & 80.00000 &  85.18519 &  66.66667 &  69.69697 &  87.50000 &  93.05556 &  50.00000\\\\\n",
       "\t4 & chr1 &  986518 &  986840 & 90.00000 & 90.00000 &        NA & 100.00000 & 100.00000 &        NA &  88.88889 & ⋯ &        NA & 100.00000 &        NA & 72.72727 & 100.00000 & 100.00000 &  94.11765 & 100.00000 & 100.00000 & 100.00000\\\\\n",
       "\t5 & chr1 &  996096 &  996295 & 33.33333 & 57.14286 & 100.00000 &  50.00000 &  72.72727 &  50.00000 &  31.57895 & ⋯ &  83.33333 &  40.00000 & 100.00000 & 53.57143 &  59.09091 &  57.14286 &  50.00000 &  25.00000 &  73.18841 &  35.71429\\\\\n",
       "\t6 & chr1 & 1045135 & 1045787 & 56.52174 & 63.15789 &  50.00000 &  87.50000 &  83.33333 &  46.15385 &  83.33333 & ⋯ &  71.66667 &  95.23810 &  55.26316 & 61.84211 &  60.63063 &  93.33333 &  52.17391 &  85.22727 &  71.35417 &  80.00000\\\\\n",
       "\\end{tabular}\n"
      ],
      "text/markdown": [
       "\n",
       "A data.frame: 6 × 59\n",
       "\n",
       "| <!--/--> | chr &lt;chr&gt; | st &lt;int&gt; | end &lt;int&gt; | above6 &lt;dbl&gt; | above6.1 &lt;dbl&gt; | above6.2 &lt;dbl&gt; | above6.3 &lt;dbl&gt; | above6.4 &lt;dbl&gt; | above6.5 &lt;dbl&gt; | above6.6 &lt;dbl&gt; | ⋯ ⋯ | below6.22 &lt;dbl&gt; | below6.23 &lt;dbl&gt; | below6.24 &lt;dbl&gt; | below6.25 &lt;dbl&gt; | below6.26 &lt;dbl&gt; | below6.27 &lt;dbl&gt; | belowH1 &lt;dbl&gt; | belowH2 &lt;dbl&gt; | belowH3 &lt;dbl&gt; | belowH4 &lt;dbl&gt; |\n",
       "|---|---|---|---|---|---|---|---|---|---|---|---|---|---|---|---|---|---|---|---|---|---|\n",
       "| 1 | chr1 |  836950 |  837233 | 80.00000 | 57.57576 | 100.00000 | 100.00000 |  79.48718 | 100.00000 |  87.50000 | ⋯ | 100.00000 |  92.85714 |  75.00000 | 90.00000 |  98.21429 |  85.71429 |        NA |        NA |        NA |        NA |\n",
       "| 2 | chr1 |  850702 |  851077 | 83.33333 | 76.08696 |  66.66667 |  50.00000 |  90.00000 |        NA | 100.00000 | ⋯ | 100.00000 |  83.33333 |  61.53846 | 94.44444 |  87.50000 |  75.00000 | 100.00000 |  84.72222 |  86.80556 |  81.94444 |\n",
       "| 3 | chr1 |  920168 |  920354 | 80.00000 | 50.00000 |  57.14286 |  85.71429 |  85.71429 | 100.00000 |  80.00000 | ⋯ |  56.41026 |  87.50000 |   0.00000 | 80.00000 |  85.18519 |  66.66667 |  69.69697 |  87.50000 |  93.05556 |  50.00000 |\n",
       "| 4 | chr1 |  986518 |  986840 | 90.00000 | 90.00000 |        NA | 100.00000 | 100.00000 |        NA |  88.88889 | ⋯ |        NA | 100.00000 |        NA | 72.72727 | 100.00000 | 100.00000 |  94.11765 | 100.00000 | 100.00000 | 100.00000 |\n",
       "| 5 | chr1 |  996096 |  996295 | 33.33333 | 57.14286 | 100.00000 |  50.00000 |  72.72727 |  50.00000 |  31.57895 | ⋯ |  83.33333 |  40.00000 | 100.00000 | 53.57143 |  59.09091 |  57.14286 |  50.00000 |  25.00000 |  73.18841 |  35.71429 |\n",
       "| 6 | chr1 | 1045135 | 1045787 | 56.52174 | 63.15789 |  50.00000 |  87.50000 |  83.33333 |  46.15385 |  83.33333 | ⋯ |  71.66667 |  95.23810 |  55.26316 | 61.84211 |  60.63063 |  93.33333 |  52.17391 |  85.22727 |  71.35417 |  80.00000 |\n",
       "\n"
      ],
      "text/plain": [
       "  chr  st      end     above6   above6.1 above6.2  above6.3  above6.4 \n",
       "1 chr1  836950  837233 80.00000 57.57576 100.00000 100.00000  79.48718\n",
       "2 chr1  850702  851077 83.33333 76.08696  66.66667  50.00000  90.00000\n",
       "3 chr1  920168  920354 80.00000 50.00000  57.14286  85.71429  85.71429\n",
       "4 chr1  986518  986840 90.00000 90.00000        NA 100.00000 100.00000\n",
       "5 chr1  996096  996295 33.33333 57.14286 100.00000  50.00000  72.72727\n",
       "6 chr1 1045135 1045787 56.52174 63.15789  50.00000  87.50000  83.33333\n",
       "  above6.5  above6.6  ⋯ below6.22 below6.23 below6.24 below6.25 below6.26\n",
       "1 100.00000  87.50000 ⋯ 100.00000  92.85714  75.00000 90.00000   98.21429\n",
       "2        NA 100.00000 ⋯ 100.00000  83.33333  61.53846 94.44444   87.50000\n",
       "3 100.00000  80.00000 ⋯  56.41026  87.50000   0.00000 80.00000   85.18519\n",
       "4        NA  88.88889 ⋯        NA 100.00000        NA 72.72727  100.00000\n",
       "5  50.00000  31.57895 ⋯  83.33333  40.00000 100.00000 53.57143   59.09091\n",
       "6  46.15385  83.33333 ⋯  71.66667  95.23810  55.26316 61.84211   60.63063\n",
       "  below6.27 belowH1   belowH2   belowH3   belowH4  \n",
       "1  85.71429        NA        NA        NA        NA\n",
       "2  75.00000 100.00000  84.72222  86.80556  81.94444\n",
       "3  66.66667  69.69697  87.50000  93.05556  50.00000\n",
       "4 100.00000  94.11765 100.00000 100.00000 100.00000\n",
       "5  57.14286  50.00000  25.00000  73.18841  35.71429\n",
       "6  93.33333  52.17391  85.22727  71.35417  80.00000"
      ]
     },
     "metadata": {},
     "output_type": "display_data"
    }
   ],
   "source": [
    "# Data loading\n",
    "bedfile <- read.table(\"sen3.bed\", header = TRUE)  # Path to selected scenario (e.g., Scenario3)\n",
    "gname1 <- \"above6\"  # sen1to3: above6, sen4&5: Ascending, sen6: discharged, sen7&8: abnormal\n",
    "gname2 <- \"below6\"  # sen1to3: below6, sen4&5: Descending, sen6: deceased, sen7&8: normal\n",
    "\n",
    "# Defining healthy samples file paths in severe vs mild/healthy analysis\n",
    "healthy_files <- c(\"path to/SWIFTHLY1PE\", \n",
    "                   \"path to/SWIFTHLY2PE\", \n",
    "                   \"path to/SWIFTHLY3PE\", \n",
    "                   \"path to/SWIFTHLY4PE\")\n",
    "healthy_colnames <- paste0(\"belowH\", 1:4)\n",
    "\n",
    "read_and_rename <- function(file, new_colname) {\n",
    "  df <- read.table(file, header = TRUE)\n",
    "  colnames(df) <- c(\"chr\", \"st\", \"end\", new_colname)\n",
    "  return(df)\n",
    "}\n",
    "healthy_list <- mapply(read_and_rename, healthy_files, healthy_colnames, SIMPLIFY = FALSE)\n",
    "for (healthy_df in healthy_list) {\n",
    "  bedfile <- merge(bedfile, healthy_df, by = c(\"chr\", \"st\", \"end\"), all.x = TRUE)\n",
    "}\n",
    "head(bedfile)\n"
   ]
  },
  {
   "cell_type": "markdown",
   "id": "5f02521e",
   "metadata": {},
   "source": [
    "**Data Imputation**"
   ]
  },
  {
   "cell_type": "code",
   "execution_count": null,
   "id": "4ca328d1-cd6a-4d19-a6a5-981db35de134",
   "metadata": {
    "tags": [],
    "vscode": {
     "languageId": "r"
    }
   },
   "outputs": [],
   "source": [
    "\n",
    "#methyLImp NA imputing \n",
    "g1=bedfile[,str_detect(colnames(bedfile),gname1)]   #grouping samples\n",
    "g2=bedfile[,str_detect(colnames(bedfile),gname2)]   #grouping samples\n",
    "rbed<-cbind(rownames(bedfile),bedfile)\n",
    "colnames(rbed)[1]<-\"DMRnumber\"\n",
    "\n",
    "num_NAs_g1 <- apply(g1, 1, function(row) sum(is.na(row)))\n",
    "num_NAs_g2 <- apply(g2, 1, function(row) sum(is.na(row)))\n",
    "# Identify rows with too many NAs in g1\n",
    "rows_to_remove_g1 <- which(num_NAs_g1 > 0.20 * ncol(g1))\n",
    "# Identify rows with too many NAs in g2\n",
    "rows_to_remove_g2 <- which(num_NAs_g2 > 0.20 * ncol(g2))\n",
    "\n",
    "bed.imp1 <- methyLImp(t(g1),min=0,max=100)\n",
    "bed.imp2 <- methyLImp(t(g2),min=0,max=100)\n",
    "bed.imp <-cbind(t(bed.imp1),t(bed.imp2))\n",
    "bed.imp.c <- cbind(rbed[,1:4],bed.imp)   # adding chr number and start & end to imputed data\n",
    "\n",
    "NAdelbed<-bed.imp.c[-c(rows_to_remove_g1,rows_to_remove_g2),]\n",
    "dim(NAdelbed)                 \n",
    "#write.table(NAdelbed,\"path/senx.txt\",sep=\" \",row.names=F)  "
   ]
  },
  {
   "cell_type": "markdown",
   "id": "d03e839d",
   "metadata": {},
   "source": [
    "** DMR finding**"
   ]
  },
  {
   "cell_type": "code",
   "execution_count": null,
   "id": "cf52dbf4-76b5-4e14-986b-9fb0514c784c",
   "metadata": {
    "tags": [],
    "vscode": {
     "languageId": "r"
    }
   },
   "outputs": [],
   "source": [
    "gp1=grepl( gname1 ,colnames(NAdelbed))\n",
    "gp2=grepl( gname2 ,colnames(NAdelbed))\n",
    "a= sum(gp1)   #group1_col_number\n",
    "b= sum(gp2)    #group2_col_number\n",
    "beta <- as.matrix(NAdelbed[, -c(1:4)])  \n",
    "head(beta)\n",
    "group <- c(rep(1,a),rep(2,b))  \n",
    "\n",
    "############################################    minfi\n",
    "####minfi required packages loaded\n",
    "beta_values<- beta/100\n",
    "hist(beta_values)\n",
    "# Convert the beta values into M-values\n",
    "M_values <- log2((beta_values + 0.01) / (1 - beta_values + 0.01))\n",
    "hist(M_values)\n",
    "sample_groups <- c(rep(gname1,a), rep(gname2,b))\n",
    "head(sample_groups)\n",
    "dmp_results <- dmpFinder(M_values, pheno = sample_groups)\n",
    "sig_pval<- dmp_results[dmp_results$p < 0.05, ]\n",
    "sig_qval<- dmp_results[dmp_results$q < 0.05, ]\n",
    "print(\"dimention of siqnificant p values\")\n",
    "dim(sig_pval)\n",
    "print(\"dimention of siqnificant q values\")\n",
    "dim(sig_qval)\n",
    "\n",
    "## saving sig pval\n",
    "ven_p<- dmp_results[dmp_results$p < 0.05, ]\n",
    "R2<-rownames(ven_p[,])\n",
    "resp3<-cbind(rbed[R2,1:4],ven_p)\n",
    "#write.table(resp3, file=\"resp3.txt\", sep=\"\\t\", row.names=FALSE)\n"
   ]
  },
  {
   "cell_type": "code",
   "execution_count": 38,
   "id": "55dafeca-216b-4d6a-95ac-c281d9a6ae38",
   "metadata": {
    "tags": [],
    "vscode": {
     "languageId": "r"
    }
   },
   "outputs": [
    {
     "data": {
      "text/html": [
       "<table class=\"dataframe\">\n",
       "<caption>A data.frame: 6 × 8</caption>\n",
       "<thead>\n",
       "\t<tr><th></th><th scope=col>DMRnumber</th><th scope=col>chr</th><th scope=col>st</th><th scope=col>end</th><th scope=col>intercept</th><th scope=col>f</th><th scope=col>pval</th><th scope=col>qval</th></tr>\n",
       "\t<tr><th></th><th scope=col>&lt;chr&gt;</th><th scope=col>&lt;chr&gt;</th><th scope=col>&lt;int&gt;</th><th scope=col>&lt;int&gt;</th><th scope=col>&lt;dbl&gt;</th><th scope=col>&lt;dbl&gt;</th><th scope=col>&lt;dbl&gt;</th><th scope=col>&lt;dbl&gt;</th></tr>\n",
       "</thead>\n",
       "<tbody>\n",
       "\t<tr><th scope=row>5515</th><td>5515 </td><td>chr17</td><td> 63409972</td><td> 63410243</td><td> 2.5889819</td><td>23.43755</td><td>1.283072e-05</td><td>0.07497569</td></tr>\n",
       "\t<tr><th scope=row>5635</th><td>5635 </td><td>chr17</td><td> 74324852</td><td> 74325036</td><td>-1.8716201</td><td>23.31852</td><td>1.338256e-05</td><td>0.07497569</td></tr>\n",
       "\t<tr><th scope=row>5153</th><td>5153 </td><td>chr17</td><td>  5170246</td><td>  5170469</td><td>-0.4209801</td><td>21.44440</td><td>2.623819e-05</td><td>0.08291916</td></tr>\n",
       "\t<tr><th scope=row>7434</th><td>7434 </td><td>chr2 </td><td> 70205650</td><td> 70205858</td><td>-1.7306388</td><td>21.11444</td><td>2.960081e-05</td><td>0.08291916</td></tr>\n",
       "\t<tr><th scope=row>12949</th><td>12949</td><td>chr9 </td><td> 97682557</td><td> 97683178</td><td> 3.0508403</td><td>19.96124</td><td>4.534294e-05</td><td>0.10161340</td></tr>\n",
       "\t<tr><th scope=row>7869</th><td>7869 </td><td>chr2 </td><td>233247353</td><td>233247515</td><td> 3.2590918</td><td>18.43981</td><td>8.058536e-05</td><td>0.15049298</td></tr>\n",
       "</tbody>\n",
       "</table>\n"
      ],
      "text/latex": [
       "A data.frame: 6 × 8\n",
       "\\begin{tabular}{r|llllllll}\n",
       "  & DMRnumber & chr & st & end & intercept & f & pval & qval\\\\\n",
       "  & <chr> & <chr> & <int> & <int> & <dbl> & <dbl> & <dbl> & <dbl>\\\\\n",
       "\\hline\n",
       "\t5515 & 5515  & chr17 &  63409972 &  63410243 &  2.5889819 & 23.43755 & 1.283072e-05 & 0.07497569\\\\\n",
       "\t5635 & 5635  & chr17 &  74324852 &  74325036 & -1.8716201 & 23.31852 & 1.338256e-05 & 0.07497569\\\\\n",
       "\t5153 & 5153  & chr17 &   5170246 &   5170469 & -0.4209801 & 21.44440 & 2.623819e-05 & 0.08291916\\\\\n",
       "\t7434 & 7434  & chr2  &  70205650 &  70205858 & -1.7306388 & 21.11444 & 2.960081e-05 & 0.08291916\\\\\n",
       "\t12949 & 12949 & chr9  &  97682557 &  97683178 &  3.0508403 & 19.96124 & 4.534294e-05 & 0.10161340\\\\\n",
       "\t7869 & 7869  & chr2  & 233247353 & 233247515 &  3.2590918 & 18.43981 & 8.058536e-05 & 0.15049298\\\\\n",
       "\\end{tabular}\n"
      ],
      "text/markdown": [
       "\n",
       "A data.frame: 6 × 8\n",
       "\n",
       "| <!--/--> | DMRnumber &lt;chr&gt; | chr &lt;chr&gt; | st &lt;int&gt; | end &lt;int&gt; | intercept &lt;dbl&gt; | f &lt;dbl&gt; | pval &lt;dbl&gt; | qval &lt;dbl&gt; |\n",
       "|---|---|---|---|---|---|---|---|---|\n",
       "| 5515 | 5515  | chr17 |  63409972 |  63410243 |  2.5889819 | 23.43755 | 1.283072e-05 | 0.07497569 |\n",
       "| 5635 | 5635  | chr17 |  74324852 |  74325036 | -1.8716201 | 23.31852 | 1.338256e-05 | 0.07497569 |\n",
       "| 5153 | 5153  | chr17 |   5170246 |   5170469 | -0.4209801 | 21.44440 | 2.623819e-05 | 0.08291916 |\n",
       "| 7434 | 7434  | chr2  |  70205650 |  70205858 | -1.7306388 | 21.11444 | 2.960081e-05 | 0.08291916 |\n",
       "| 12949 | 12949 | chr9  |  97682557 |  97683178 |  3.0508403 | 19.96124 | 4.534294e-05 | 0.10161340 |\n",
       "| 7869 | 7869  | chr2  | 233247353 | 233247515 |  3.2590918 | 18.43981 | 8.058536e-05 | 0.15049298 |\n",
       "\n"
      ],
      "text/plain": [
       "      DMRnumber chr   st        end       intercept  f        pval        \n",
       "5515  5515      chr17  63409972  63410243  2.5889819 23.43755 1.283072e-05\n",
       "5635  5635      chr17  74324852  74325036 -1.8716201 23.31852 1.338256e-05\n",
       "5153  5153      chr17   5170246   5170469 -0.4209801 21.44440 2.623819e-05\n",
       "7434  7434      chr2   70205650  70205858 -1.7306388 21.11444 2.960081e-05\n",
       "12949 12949     chr9   97682557  97683178  3.0508403 19.96124 4.534294e-05\n",
       "7869  7869      chr2  233247353 233247515  3.2590918 18.43981 8.058536e-05\n",
       "      qval      \n",
       "5515  0.07497569\n",
       "5635  0.07497569\n",
       "5153  0.08291916\n",
       "7434  0.08291916\n",
       "12949 0.10161340\n",
       "7869  0.15049298"
      ]
     },
     "metadata": {},
     "output_type": "display_data"
    }
   ],
   "source": [
    "head(resq3)"
   ]
  },
  {
   "cell_type": "markdown",
   "id": "091d6ee0",
   "metadata": {},
   "source": [
    "** tissue Specific DMR Investigation**"
   ]
  },
  {
   "cell_type": "code",
   "execution_count": 39,
   "id": "f60da138-6e49-457c-b2db-7ab847cbe962",
   "metadata": {
    "tags": [],
    "vscode": {
     "languageId": "r"
    }
   },
   "outputs": [
    {
     "name": "stderr",
     "output_type": "stream",
     "text": [
      "\u001b[1m\u001b[22mNew names:\n",
      "\u001b[36m•\u001b[39m `` -> `...15`\n"
     ]
    },
    {
     "data": {
      "text/html": [
       "<table class=\"dataframe\">\n",
       "<caption>A data.frame: 6 × 16</caption>\n",
       "<thead>\n",
       "\t<tr><th></th><th scope=col>Type</th><th scope=col>chr</th><th scope=col>start</th><th scope=col>end</th><th scope=col>startCpG</th><th scope=col>endCpG</th><th scope=col>position</th><th scope=col>Number.of.CpGs</th><th scope=col>Length</th><th scope=col>Target.meth.</th><th scope=col>Background.meth.</th><th scope=col>Diff</th><th scope=col>Genomic.class</th><th scope=col>Gene</th><th scope=col>...15</th><th scope=col>p.value</th></tr>\n",
       "\t<tr><th></th><th scope=col>&lt;chr&gt;</th><th scope=col>&lt;chr&gt;</th><th scope=col>&lt;dbl&gt;</th><th scope=col>&lt;dbl&gt;</th><th scope=col>&lt;dbl&gt;</th><th scope=col>&lt;dbl&gt;</th><th scope=col>&lt;chr&gt;</th><th scope=col>&lt;chr&gt;</th><th scope=col>&lt;chr&gt;</th><th scope=col>&lt;dbl&gt;</th><th scope=col>&lt;dbl&gt;</th><th scope=col>&lt;dbl&gt;</th><th scope=col>&lt;chr&gt;</th><th scope=col>&lt;chr&gt;</th><th scope=col>&lt;lgl&gt;</th><th scope=col>&lt;dbl&gt;</th></tr>\n",
       "</thead>\n",
       "<tbody>\n",
       "\t<tr><th scope=row>1</th><td>Blood-Granul   </td><td>chr17</td><td> 74324646</td><td> 74325212</td><td>23170589</td><td>23170603</td><td>chr17:74324646-74325212  </td><td>14CpGs</td><td>566bp</td><td>0.3650</td><td>0.942</td><td>0.5770</td><td>intron    </td><td>PRPSAP1 </td><td>NA</td><td>NA</td></tr>\n",
       "\t<tr><th scope=row>2</th><td>Pancreas-Acinar</td><td>chr10</td><td>116190310</td><td>116190874</td><td>15722673</td><td>15722678</td><td>chr10:116190310-116190874</td><td>5CpGs </td><td>564bp</td><td>0.0421</td><td>0.882</td><td>0.8399</td><td>TTS       </td><td>ABLIM1  </td><td>NA</td><td>NA</td></tr>\n",
       "\t<tr><th scope=row>3</th><td>Pancreas-Delta </td><td>chr20</td><td> 20420912</td><td> 20421185</td><td>25265507</td><td>25265512</td><td>chr20:20420912-20421185  </td><td>5CpGs </td><td>273bp</td><td>0.1420</td><td>0.822</td><td>0.6800</td><td>intron    </td><td>RALGAPA2</td><td>NA</td><td>NA</td></tr>\n",
       "\t<tr><th scope=row>4</th><td>Pancreas-Acinar</td><td>chr1 </td><td>155167099</td><td>155167572</td><td> 1433009</td><td> 1433022</td><td>chr1:155167099-155167572 </td><td>13CpGs</td><td>473bp</td><td>0.0998</td><td>0.910</td><td>0.8102</td><td>exon      </td><td>THBS3   </td><td>NA</td><td>NA</td></tr>\n",
       "\t<tr><th scope=row>5</th><td>Skeletal-Musc  </td><td>chr8 </td><td>139735754</td><td>139735883</td><td>13272296</td><td>13272301</td><td>chr8:139735754-139735883 </td><td>5CpGs </td><td>129bp</td><td>0.3690</td><td>0.806</td><td>0.4370</td><td>intron    </td><td>COL22A1 </td><td>NA</td><td>NA</td></tr>\n",
       "\t<tr><th scope=row>6</th><td>Heart-Cardio   </td><td>chr5 </td><td>  1946637</td><td>  1946709</td><td> 7597414</td><td> 7597419</td><td>chr5:1946637-1946709     </td><td>5CpGs </td><td>72bp </td><td>0.0604</td><td>0.824</td><td>0.7636</td><td>Intergenic</td><td>IRX4    </td><td>NA</td><td>NA</td></tr>\n",
       "</tbody>\n",
       "</table>\n"
      ],
      "text/latex": [
       "A data.frame: 6 × 16\n",
       "\\begin{tabular}{r|llllllllllllllll}\n",
       "  & Type & chr & start & end & startCpG & endCpG & position & Number.of.CpGs & Length & Target.meth. & Background.meth. & Diff & Genomic.class & Gene & ...15 & p.value\\\\\n",
       "  & <chr> & <chr> & <dbl> & <dbl> & <dbl> & <dbl> & <chr> & <chr> & <chr> & <dbl> & <dbl> & <dbl> & <chr> & <chr> & <lgl> & <dbl>\\\\\n",
       "\\hline\n",
       "\t1 & Blood-Granul    & chr17 &  74324646 &  74325212 & 23170589 & 23170603 & chr17:74324646-74325212   & 14CpGs & 566bp & 0.3650 & 0.942 & 0.5770 & intron     & PRPSAP1  & NA & NA\\\\\n",
       "\t2 & Pancreas-Acinar & chr10 & 116190310 & 116190874 & 15722673 & 15722678 & chr10:116190310-116190874 & 5CpGs  & 564bp & 0.0421 & 0.882 & 0.8399 & TTS        & ABLIM1   & NA & NA\\\\\n",
       "\t3 & Pancreas-Delta  & chr20 &  20420912 &  20421185 & 25265507 & 25265512 & chr20:20420912-20421185   & 5CpGs  & 273bp & 0.1420 & 0.822 & 0.6800 & intron     & RALGAPA2 & NA & NA\\\\\n",
       "\t4 & Pancreas-Acinar & chr1  & 155167099 & 155167572 &  1433009 &  1433022 & chr1:155167099-155167572  & 13CpGs & 473bp & 0.0998 & 0.910 & 0.8102 & exon       & THBS3    & NA & NA\\\\\n",
       "\t5 & Skeletal-Musc   & chr8  & 139735754 & 139735883 & 13272296 & 13272301 & chr8:139735754-139735883  & 5CpGs  & 129bp & 0.3690 & 0.806 & 0.4370 & intron     & COL22A1  & NA & NA\\\\\n",
       "\t6 & Heart-Cardio    & chr5  &   1946637 &   1946709 &  7597414 &  7597419 & chr5:1946637-1946709      & 5CpGs  & 72bp  & 0.0604 & 0.824 & 0.7636 & Intergenic & IRX4     & NA & NA\\\\\n",
       "\\end{tabular}\n"
      ],
      "text/markdown": [
       "\n",
       "A data.frame: 6 × 16\n",
       "\n",
       "| <!--/--> | Type &lt;chr&gt; | chr &lt;chr&gt; | start &lt;dbl&gt; | end &lt;dbl&gt; | startCpG &lt;dbl&gt; | endCpG &lt;dbl&gt; | position &lt;chr&gt; | Number.of.CpGs &lt;chr&gt; | Length &lt;chr&gt; | Target.meth. &lt;dbl&gt; | Background.meth. &lt;dbl&gt; | Diff &lt;dbl&gt; | Genomic.class &lt;chr&gt; | Gene &lt;chr&gt; | ...15 &lt;lgl&gt; | p.value &lt;dbl&gt; |\n",
       "|---|---|---|---|---|---|---|---|---|---|---|---|---|---|---|---|---|\n",
       "| 1 | Blood-Granul    | chr17 |  74324646 |  74325212 | 23170589 | 23170603 | chr17:74324646-74325212   | 14CpGs | 566bp | 0.3650 | 0.942 | 0.5770 | intron     | PRPSAP1  | NA | NA |\n",
       "| 2 | Pancreas-Acinar | chr10 | 116190310 | 116190874 | 15722673 | 15722678 | chr10:116190310-116190874 | 5CpGs  | 564bp | 0.0421 | 0.882 | 0.8399 | TTS        | ABLIM1   | NA | NA |\n",
       "| 3 | Pancreas-Delta  | chr20 |  20420912 |  20421185 | 25265507 | 25265512 | chr20:20420912-20421185   | 5CpGs  | 273bp | 0.1420 | 0.822 | 0.6800 | intron     | RALGAPA2 | NA | NA |\n",
       "| 4 | Pancreas-Acinar | chr1  | 155167099 | 155167572 |  1433009 |  1433022 | chr1:155167099-155167572  | 13CpGs | 473bp | 0.0998 | 0.910 | 0.8102 | exon       | THBS3    | NA | NA |\n",
       "| 5 | Skeletal-Musc   | chr8  | 139735754 | 139735883 | 13272296 | 13272301 | chr8:139735754-139735883  | 5CpGs  | 129bp | 0.3690 | 0.806 | 0.4370 | intron     | COL22A1  | NA | NA |\n",
       "| 6 | Heart-Cardio    | chr5  |   1946637 |   1946709 |  7597414 |  7597419 | chr5:1946637-1946709      | 5CpGs  | 72bp  | 0.0604 | 0.824 | 0.7636 | Intergenic | IRX4     | NA | NA |\n",
       "\n"
      ],
      "text/plain": [
       "  Type            chr   start     end       startCpG endCpG  \n",
       "1 Blood-Granul    chr17  74324646  74325212 23170589 23170603\n",
       "2 Pancreas-Acinar chr10 116190310 116190874 15722673 15722678\n",
       "3 Pancreas-Delta  chr20  20420912  20421185 25265507 25265512\n",
       "4 Pancreas-Acinar chr1  155167099 155167572  1433009  1433022\n",
       "5 Skeletal-Musc   chr8  139735754 139735883 13272296 13272301\n",
       "6 Heart-Cardio    chr5    1946637   1946709  7597414  7597419\n",
       "  position                  Number.of.CpGs Length Target.meth. Background.meth.\n",
       "1 chr17:74324646-74325212   14CpGs         566bp  0.3650       0.942           \n",
       "2 chr10:116190310-116190874 5CpGs          564bp  0.0421       0.882           \n",
       "3 chr20:20420912-20421185   5CpGs          273bp  0.1420       0.822           \n",
       "4 chr1:155167099-155167572  13CpGs         473bp  0.0998       0.910           \n",
       "5 chr8:139735754-139735883  5CpGs          129bp  0.3690       0.806           \n",
       "6 chr5:1946637-1946709      5CpGs          72bp   0.0604       0.824           \n",
       "  Diff   Genomic.class Gene     ...15 p.value\n",
       "1 0.5770 intron        PRPSAP1  NA    NA     \n",
       "2 0.8399 TTS           ABLIM1   NA    NA     \n",
       "3 0.6800 intron        RALGAPA2 NA    NA     \n",
       "4 0.8102 exon          THBS3    NA    NA     \n",
       "5 0.4370 intron        COL22A1  NA    NA     \n",
       "6 0.7636 Intergenic    IRX4     NA    NA     "
      ]
     },
     "metadata": {},
     "output_type": "display_data"
    }
   ],
   "source": [
    "\n",
    "top1000 <- read_excel(\"atlas/top1000.xlsx\", sheet = 1) \n",
    "scen_number<-resq3\n",
    "gr1 <- GRanges(seqnames = scen_number$chr,\n",
    "               ranges = IRanges(start = scen_number$st, end = scen_number$end),\n",
    "               beta = scen_number$qval)\n",
    "atlas<-top1000\n",
    "gr2 <- GRanges(seqnames = atlas$chr,\n",
    "               ranges = IRanges(start = atlas$start, end = atlas$end),\n",
    "               beta = atlas$Diff) \n",
    "overlaps <- findOverlaps(gr1, gr2)\n",
    "common_regions <- pintersect(gr1[queryHits(overlaps)], gr2[subjectHits(overlaps)])\n",
    "overlap_indices <- subjectHits(overlaps)\n",
    "overlapping_rows <- top1000[overlap_indices, ]\n",
    "head(data.frame(overlapping_rows))\n"
   ]
  },
  {
   "cell_type": "code",
   "execution_count": 40,
   "id": "a9be111c-96a9-4679-a67d-f7c5a5ce007a",
   "metadata": {
    "tags": [],
    "vscode": {
     "languageId": "r"
    }
   },
   "outputs": [
    {
     "data": {
      "text/html": [
       "<table class=\"dataframe\">\n",
       "<caption>A data.frame: 6 × 12</caption>\n",
       "<thead>\n",
       "\t<tr><th></th><th scope=col>seqnames</th><th scope=col>start</th><th scope=col>end</th><th scope=col>width</th><th scope=col>strand</th><th scope=col>beta</th><th scope=col>seqnames</th><th scope=col>start</th><th scope=col>end</th><th scope=col>width</th><th scope=col>strand</th><th scope=col>beta</th></tr>\n",
       "\t<tr><th></th><th scope=col>&lt;fct&gt;</th><th scope=col>&lt;int&gt;</th><th scope=col>&lt;int&gt;</th><th scope=col>&lt;int&gt;</th><th scope=col>&lt;fct&gt;</th><th scope=col>&lt;dbl&gt;</th><th scope=col>&lt;fct&gt;</th><th scope=col>&lt;int&gt;</th><th scope=col>&lt;int&gt;</th><th scope=col>&lt;int&gt;</th><th scope=col>&lt;fct&gt;</th><th scope=col>&lt;dbl&gt;</th></tr>\n",
       "</thead>\n",
       "<tbody>\n",
       "\t<tr><th scope=row>1</th><td>chr17</td><td> 74324852</td><td> 74325036</td><td>185</td><td>*</td><td>0.07497569</td><td>chr17</td><td> 74324646</td><td> 74325212</td><td>567</td><td>*</td><td>0.5770</td></tr>\n",
       "\t<tr><th scope=row>2</th><td>chr10</td><td>116190791</td><td>116191091</td><td>301</td><td>*</td><td>0.26255766</td><td>chr10</td><td>116190310</td><td>116190874</td><td>565</td><td>*</td><td>0.8399</td></tr>\n",
       "\t<tr><th scope=row>3</th><td>chr20</td><td> 20421132</td><td> 20421486</td><td>355</td><td>*</td><td>0.26255766</td><td>chr20</td><td> 20420912</td><td> 20421185</td><td>274</td><td>*</td><td>0.6800</td></tr>\n",
       "\t<tr><th scope=row>4</th><td>chr1 </td><td>155167066</td><td>155167570</td><td>505</td><td>*</td><td>0.26255766</td><td>chr1 </td><td>155167099</td><td>155167572</td><td>474</td><td>*</td><td>0.8102</td></tr>\n",
       "\t<tr><th scope=row>5</th><td>chr8 </td><td>139735778</td><td>139736078</td><td>301</td><td>*</td><td>0.27563778</td><td>chr8 </td><td>139735754</td><td>139735883</td><td>130</td><td>*</td><td>0.4370</td></tr>\n",
       "\t<tr><th scope=row>6</th><td>chr5 </td><td>  1946409</td><td>  1946893</td><td>485</td><td>*</td><td>0.27626286</td><td>chr5 </td><td>  1946637</td><td>  1946709</td><td> 73</td><td>*</td><td>0.7636</td></tr>\n",
       "</tbody>\n",
       "</table>\n"
      ],
      "text/latex": [
       "A data.frame: 6 × 12\n",
       "\\begin{tabular}{r|llllllllllll}\n",
       "  & seqnames & start & end & width & strand & beta & seqnames & start & end & width & strand & beta\\\\\n",
       "  & <fct> & <int> & <int> & <int> & <fct> & <dbl> & <fct> & <int> & <int> & <int> & <fct> & <dbl>\\\\\n",
       "\\hline\n",
       "\t1 & chr17 &  74324852 &  74325036 & 185 & * & 0.07497569 & chr17 &  74324646 &  74325212 & 567 & * & 0.5770\\\\\n",
       "\t2 & chr10 & 116190791 & 116191091 & 301 & * & 0.26255766 & chr10 & 116190310 & 116190874 & 565 & * & 0.8399\\\\\n",
       "\t3 & chr20 &  20421132 &  20421486 & 355 & * & 0.26255766 & chr20 &  20420912 &  20421185 & 274 & * & 0.6800\\\\\n",
       "\t4 & chr1  & 155167066 & 155167570 & 505 & * & 0.26255766 & chr1  & 155167099 & 155167572 & 474 & * & 0.8102\\\\\n",
       "\t5 & chr8  & 139735778 & 139736078 & 301 & * & 0.27563778 & chr8  & 139735754 & 139735883 & 130 & * & 0.4370\\\\\n",
       "\t6 & chr5  &   1946409 &   1946893 & 485 & * & 0.27626286 & chr5  &   1946637 &   1946709 &  73 & * & 0.7636\\\\\n",
       "\\end{tabular}\n"
      ],
      "text/markdown": [
       "\n",
       "A data.frame: 6 × 12\n",
       "\n",
       "| <!--/--> | seqnames &lt;fct&gt; | start &lt;int&gt; | end &lt;int&gt; | width &lt;int&gt; | strand &lt;fct&gt; | beta &lt;dbl&gt; | seqnames &lt;fct&gt; | start &lt;int&gt; | end &lt;int&gt; | width &lt;int&gt; | strand &lt;fct&gt; | beta &lt;dbl&gt; |\n",
       "|---|---|---|---|---|---|---|---|---|---|---|---|---|\n",
       "| 1 | chr17 |  74324852 |  74325036 | 185 | * | 0.07497569 | chr17 |  74324646 |  74325212 | 567 | * | 0.5770 |\n",
       "| 2 | chr10 | 116190791 | 116191091 | 301 | * | 0.26255766 | chr10 | 116190310 | 116190874 | 565 | * | 0.8399 |\n",
       "| 3 | chr20 |  20421132 |  20421486 | 355 | * | 0.26255766 | chr20 |  20420912 |  20421185 | 274 | * | 0.6800 |\n",
       "| 4 | chr1  | 155167066 | 155167570 | 505 | * | 0.26255766 | chr1  | 155167099 | 155167572 | 474 | * | 0.8102 |\n",
       "| 5 | chr8  | 139735778 | 139736078 | 301 | * | 0.27563778 | chr8  | 139735754 | 139735883 | 130 | * | 0.4370 |\n",
       "| 6 | chr5  |   1946409 |   1946893 | 485 | * | 0.27626286 | chr5  |   1946637 |   1946709 |  73 | * | 0.7636 |\n",
       "\n"
      ],
      "text/plain": [
       "  seqnames start     end       width strand beta       seqnames start    \n",
       "1 chr17     74324852  74325036 185   *      0.07497569 chr17     74324646\n",
       "2 chr10    116190791 116191091 301   *      0.26255766 chr10    116190310\n",
       "3 chr20     20421132  20421486 355   *      0.26255766 chr20     20420912\n",
       "4 chr1     155167066 155167570 505   *      0.26255766 chr1     155167099\n",
       "5 chr8     139735778 139736078 301   *      0.27563778 chr8     139735754\n",
       "6 chr5       1946409   1946893 485   *      0.27626286 chr5       1946637\n",
       "  end       width strand beta  \n",
       "1  74325212 567   *      0.5770\n",
       "2 116190874 565   *      0.8399\n",
       "3  20421185 274   *      0.6800\n",
       "4 155167572 474   *      0.8102\n",
       "5 139735883 130   *      0.4370\n",
       "6   1946709  73   *      0.7636"
      ]
     },
     "metadata": {},
     "output_type": "display_data"
    }
   ],
   "source": [
    "# Getting overlaps and intersected regions\n",
    "overlaps <- findOverlaps(gr1, gr2)\n",
    "# Extracting intersected regions\n",
    "common_regions <- pintersect(gr1[queryHits(overlaps)], gr2[subjectHits(overlaps)])\n",
    "# Adding metadata from gr1 and gr2\n",
    "common_metadata <- cbind(\n",
    "  as.data.frame(gr1[queryHits(overlaps)]),  # Metadata from gr1\n",
    "  as.data.frame(gr2[subjectHits(overlaps)]) # Metadata from gr2\n",
    ")\n",
    "head(common_metadata)"
   ]
  },
  {
   "cell_type": "code",
   "execution_count": 42,
   "id": "bc6c286f-f395-40a8-8e3c-e2751fff38af",
   "metadata": {
    "vscode": {
     "languageId": "r"
    }
   },
   "outputs": [
    {
     "data": {
      "text/html": [
       "<table class=\"dataframe\">\n",
       "<caption>A tibble: 6 × 17</caption>\n",
       "<thead>\n",
       "\t<tr><th scope=col>Type</th><th scope=col>chr</th><th scope=col>start</th><th scope=col>end</th><th scope=col>startCpG</th><th scope=col>endCpG</th><th scope=col>position</th><th scope=col>Number of CpGs</th><th scope=col>Length</th><th scope=col>Target meth.</th><th scope=col>Background meth.</th><th scope=col>Diff</th><th scope=col>Genomic class</th><th scope=col>Gene</th><th scope=col>...15</th><th scope=col>p-value</th><th scope=col>Organ</th></tr>\n",
       "\t<tr><th scope=col>&lt;chr&gt;</th><th scope=col>&lt;chr&gt;</th><th scope=col>&lt;dbl&gt;</th><th scope=col>&lt;dbl&gt;</th><th scope=col>&lt;dbl&gt;</th><th scope=col>&lt;dbl&gt;</th><th scope=col>&lt;chr&gt;</th><th scope=col>&lt;chr&gt;</th><th scope=col>&lt;chr&gt;</th><th scope=col>&lt;dbl&gt;</th><th scope=col>&lt;dbl&gt;</th><th scope=col>&lt;dbl&gt;</th><th scope=col>&lt;chr&gt;</th><th scope=col>&lt;chr&gt;</th><th scope=col>&lt;lgl&gt;</th><th scope=col>&lt;dbl&gt;</th><th scope=col>&lt;chr&gt;</th></tr>\n",
       "</thead>\n",
       "<tbody>\n",
       "\t<tr><td>Blood-Granul   </td><td>chr17</td><td> 74324646</td><td> 74325212</td><td>23170589</td><td>23170603</td><td>chr17:74324646-74325212  </td><td>14CpGs</td><td>566bp</td><td>0.3650</td><td>0.942</td><td>0.5770</td><td>intron    </td><td>PRPSAP1 </td><td>NA</td><td>NA</td><td>Blood   </td></tr>\n",
       "\t<tr><td>Pancreas-Acinar</td><td>chr10</td><td>116190310</td><td>116190874</td><td>15722673</td><td>15722678</td><td>chr10:116190310-116190874</td><td>5CpGs </td><td>564bp</td><td>0.0421</td><td>0.882</td><td>0.8399</td><td>TTS       </td><td>ABLIM1  </td><td>NA</td><td>NA</td><td>Pancreas</td></tr>\n",
       "\t<tr><td>Pancreas-Delta </td><td>chr20</td><td> 20420912</td><td> 20421185</td><td>25265507</td><td>25265512</td><td>chr20:20420912-20421185  </td><td>5CpGs </td><td>273bp</td><td>0.1420</td><td>0.822</td><td>0.6800</td><td>intron    </td><td>RALGAPA2</td><td>NA</td><td>NA</td><td>Pancreas</td></tr>\n",
       "\t<tr><td>Pancreas-Acinar</td><td>chr1 </td><td>155167099</td><td>155167572</td><td> 1433009</td><td> 1433022</td><td>chr1:155167099-155167572 </td><td>13CpGs</td><td>473bp</td><td>0.0998</td><td>0.910</td><td>0.8102</td><td>exon      </td><td>THBS3   </td><td>NA</td><td>NA</td><td>Pancreas</td></tr>\n",
       "\t<tr><td>Skeletal-Musc  </td><td>chr8 </td><td>139735754</td><td>139735883</td><td>13272296</td><td>13272301</td><td>chr8:139735754-139735883 </td><td>5CpGs </td><td>129bp</td><td>0.3690</td><td>0.806</td><td>0.4370</td><td>intron    </td><td>COL22A1 </td><td>NA</td><td>NA</td><td>Skeletal</td></tr>\n",
       "\t<tr><td>Heart-Cardio   </td><td>chr5 </td><td>  1946637</td><td>  1946709</td><td> 7597414</td><td> 7597419</td><td>chr5:1946637-1946709     </td><td>5CpGs </td><td>72bp </td><td>0.0604</td><td>0.824</td><td>0.7636</td><td>Intergenic</td><td>IRX4    </td><td>NA</td><td>NA</td><td>Heart   </td></tr>\n",
       "</tbody>\n",
       "</table>\n"
      ],
      "text/latex": [
       "A tibble: 6 × 17\n",
       "\\begin{tabular}{lllllllllllllllll}\n",
       " Type & chr & start & end & startCpG & endCpG & position & Number of CpGs & Length & Target meth. & Background meth. & Diff & Genomic class & Gene & ...15 & p-value & Organ\\\\\n",
       " <chr> & <chr> & <dbl> & <dbl> & <dbl> & <dbl> & <chr> & <chr> & <chr> & <dbl> & <dbl> & <dbl> & <chr> & <chr> & <lgl> & <dbl> & <chr>\\\\\n",
       "\\hline\n",
       "\t Blood-Granul    & chr17 &  74324646 &  74325212 & 23170589 & 23170603 & chr17:74324646-74325212   & 14CpGs & 566bp & 0.3650 & 0.942 & 0.5770 & intron     & PRPSAP1  & NA & NA & Blood   \\\\\n",
       "\t Pancreas-Acinar & chr10 & 116190310 & 116190874 & 15722673 & 15722678 & chr10:116190310-116190874 & 5CpGs  & 564bp & 0.0421 & 0.882 & 0.8399 & TTS        & ABLIM1   & NA & NA & Pancreas\\\\\n",
       "\t Pancreas-Delta  & chr20 &  20420912 &  20421185 & 25265507 & 25265512 & chr20:20420912-20421185   & 5CpGs  & 273bp & 0.1420 & 0.822 & 0.6800 & intron     & RALGAPA2 & NA & NA & Pancreas\\\\\n",
       "\t Pancreas-Acinar & chr1  & 155167099 & 155167572 &  1433009 &  1433022 & chr1:155167099-155167572  & 13CpGs & 473bp & 0.0998 & 0.910 & 0.8102 & exon       & THBS3    & NA & NA & Pancreas\\\\\n",
       "\t Skeletal-Musc   & chr8  & 139735754 & 139735883 & 13272296 & 13272301 & chr8:139735754-139735883  & 5CpGs  & 129bp & 0.3690 & 0.806 & 0.4370 & intron     & COL22A1  & NA & NA & Skeletal\\\\\n",
       "\t Heart-Cardio    & chr5  &   1946637 &   1946709 &  7597414 &  7597419 & chr5:1946637-1946709      & 5CpGs  & 72bp  & 0.0604 & 0.824 & 0.7636 & Intergenic & IRX4     & NA & NA & Heart   \\\\\n",
       "\\end{tabular}\n"
      ],
      "text/markdown": [
       "\n",
       "A tibble: 6 × 17\n",
       "\n",
       "| Type &lt;chr&gt; | chr &lt;chr&gt; | start &lt;dbl&gt; | end &lt;dbl&gt; | startCpG &lt;dbl&gt; | endCpG &lt;dbl&gt; | position &lt;chr&gt; | Number of CpGs &lt;chr&gt; | Length &lt;chr&gt; | Target meth. &lt;dbl&gt; | Background meth. &lt;dbl&gt; | Diff &lt;dbl&gt; | Genomic class &lt;chr&gt; | Gene &lt;chr&gt; | ...15 &lt;lgl&gt; | p-value &lt;dbl&gt; | Organ &lt;chr&gt; |\n",
       "|---|---|---|---|---|---|---|---|---|---|---|---|---|---|---|---|---|\n",
       "| Blood-Granul    | chr17 |  74324646 |  74325212 | 23170589 | 23170603 | chr17:74324646-74325212   | 14CpGs | 566bp | 0.3650 | 0.942 | 0.5770 | intron     | PRPSAP1  | NA | NA | Blood    |\n",
       "| Pancreas-Acinar | chr10 | 116190310 | 116190874 | 15722673 | 15722678 | chr10:116190310-116190874 | 5CpGs  | 564bp | 0.0421 | 0.882 | 0.8399 | TTS        | ABLIM1   | NA | NA | Pancreas |\n",
       "| Pancreas-Delta  | chr20 |  20420912 |  20421185 | 25265507 | 25265512 | chr20:20420912-20421185   | 5CpGs  | 273bp | 0.1420 | 0.822 | 0.6800 | intron     | RALGAPA2 | NA | NA | Pancreas |\n",
       "| Pancreas-Acinar | chr1  | 155167099 | 155167572 |  1433009 |  1433022 | chr1:155167099-155167572  | 13CpGs | 473bp | 0.0998 | 0.910 | 0.8102 | exon       | THBS3    | NA | NA | Pancreas |\n",
       "| Skeletal-Musc   | chr8  | 139735754 | 139735883 | 13272296 | 13272301 | chr8:139735754-139735883  | 5CpGs  | 129bp | 0.3690 | 0.806 | 0.4370 | intron     | COL22A1  | NA | NA | Skeletal |\n",
       "| Heart-Cardio    | chr5  |   1946637 |   1946709 |  7597414 |  7597419 | chr5:1946637-1946709      | 5CpGs  | 72bp  | 0.0604 | 0.824 | 0.7636 | Intergenic | IRX4     | NA | NA | Heart    |\n",
       "\n"
      ],
      "text/plain": [
       "  Type            chr   start     end       startCpG endCpG  \n",
       "1 Blood-Granul    chr17  74324646  74325212 23170589 23170603\n",
       "2 Pancreas-Acinar chr10 116190310 116190874 15722673 15722678\n",
       "3 Pancreas-Delta  chr20  20420912  20421185 25265507 25265512\n",
       "4 Pancreas-Acinar chr1  155167099 155167572  1433009  1433022\n",
       "5 Skeletal-Musc   chr8  139735754 139735883 13272296 13272301\n",
       "6 Heart-Cardio    chr5    1946637   1946709  7597414  7597419\n",
       "  position                  Number of CpGs Length Target meth. Background meth.\n",
       "1 chr17:74324646-74325212   14CpGs         566bp  0.3650       0.942           \n",
       "2 chr10:116190310-116190874 5CpGs          564bp  0.0421       0.882           \n",
       "3 chr20:20420912-20421185   5CpGs          273bp  0.1420       0.822           \n",
       "4 chr1:155167099-155167572  13CpGs         473bp  0.0998       0.910           \n",
       "5 chr8:139735754-139735883  5CpGs          129bp  0.3690       0.806           \n",
       "6 chr5:1946637-1946709      5CpGs          72bp   0.0604       0.824           \n",
       "  Diff   Genomic class Gene     ...15 p-value Organ   \n",
       "1 0.5770 intron        PRPSAP1  NA    NA      Blood   \n",
       "2 0.8399 TTS           ABLIM1   NA    NA      Pancreas\n",
       "3 0.6800 intron        RALGAPA2 NA    NA      Pancreas\n",
       "4 0.8102 exon          THBS3    NA    NA      Pancreas\n",
       "5 0.4370 intron        COL22A1  NA    NA      Skeletal\n",
       "6 0.7636 Intergenic    IRX4     NA    NA      Heart   "
      ]
     },
     "metadata": {},
     "output_type": "display_data"
    },
    {
     "data": {
      "text/html": [
       "<style>\n",
       ".list-inline {list-style: none; margin:0; padding: 0}\n",
       ".list-inline>li {display: inline-block}\n",
       ".list-inline>li:not(:last-child)::after {content: \"\\00b7\"; padding: 0 .5ex}\n",
       "</style>\n",
       "<ol class=list-inline><li>12</li><li>17</li></ol>\n"
      ],
      "text/latex": [
       "\\begin{enumerate*}\n",
       "\\item 12\n",
       "\\item 17\n",
       "\\end{enumerate*}\n"
      ],
      "text/markdown": [
       "1. 12\n",
       "2. 17\n",
       "\n",
       "\n"
      ],
      "text/plain": [
       "[1] 12 17"
      ]
     },
     "metadata": {},
     "output_type": "display_data"
    }
   ],
   "source": [
    "#Integrating different cell type from each tissue\n",
    "cell_types <- c(\n",
    "  \"Adipocytes\", \"Bladder-Ep\", \"Blood-B\", \"Blood-Granul\", \"Blood-Mono+Macro\", \"Blood-NK\", \"Blood-T\",\n",
    "  \"Bone-Osteob\", \"Breast-Basal-Ep\", \"Breast-Basal-Ep:Breast-Luminal-Ep\", \"Breast-Luminal-Ep\",\n",
    "  \"Colon-Ep\", \"Colon-Ep:Gastric-Ep:Small-Int-Ep\", \"Colon-Ep:Small-Int-Ep\", \"Colon-Fibro\",\n",
    "  \"Colon-Fibro:Heart-Fibro\", \"Dermal-Fibro\", \"Endothel\", \"Epid-Kerat\", \"Eryth-prog\", \"Fallopian-Ep\",\n",
    "  \"Fallopian-Ep:Ovary-Ep\", \"Gallbladder\", \"Gastric-Ep\", \"Gastric-Ep:Small-Int-Ep\", \"Head-Neck-Ep\",\n",
    "  \"Heart-Cardio\", \"Heart-Cardio:Heart-Fibro\", \"Heart-Cardio:Skeletal-Musc:Smooth-Musc\", \"Heart-Fibro\",\n",
    "  \"Kidney-Ep\", \"Liver-Hep\", \"Lung-Ep-Alveo\", \"Lung-Ep-Alveo:Lung-Ep-Bron\", \"Lung-Ep-Bron\", \"Neuron\",\n",
    "  \"Neuron:Oligodend\", \"Oligodend\", \"Ovary-Ep\", \"Pancreas-Acinar\", \"Pancreas-Alpha\",\n",
    "  \"Pancreas-Alpha:Pancreas-Beta:Pancreas-Delta\", \"Pancreas-Beta\", \"Pancreas-Delta\", \"Pancreas-Duct\",\n",
    "  \"Prostate-Ep\", \"Skeletal-Musc\", \"Skeletal-Musc:Smooth-Musc\", \"Small-Int-Ep\", \"Smooth-Musc\",\n",
    "  \"Thyroid-Ep\")\n",
    "overlapping_rows$Organ <- sub(\"-.*\", \"\", overlapping_rows$Type)\n",
    "head(overlapping_rows)\n",
    "dim(overlapping_rows)                          "
   ]
  },
  {
   "cell_type": "markdown",
   "id": "625f0939",
   "metadata": {},
   "source": [
    "** visualisation**"
   ]
  },
  {
   "cell_type": "code",
   "execution_count": 44,
   "id": "a4ec53c5-3762-46bd-9ba7-1e8744bad768",
   "metadata": {
    "vscode": {
     "languageId": "r"
    }
   },
   "outputs": [
    {
     "data": {
      "image/png": "[encoded data removed]",
      "text/plain": [
       "plot without title"
      ]
     },
     "metadata": {
      "image/png": {
       "height": 420,
       "width": 420
      }
     },
     "output_type": "display_data"
    }
   ],
   "source": [
    "library(ggplot2)\n",
    "organ_counts <- table(overlapping_rows$Organ)\n",
    "organ_counts_df <- as.data.frame(organ_counts)\n",
    "colnames(organ_counts_df) <- c(\"Organ\", \"Count\")\n",
    "# Bar plot\n",
    "ggplot(organ_counts_df, aes(x = reorder(Organ, Count), y = Count, fill = Organ)) +\n",
    "  geom_bar(stat = \"identity\", show.legend = FALSE) +\n",
    "  coord_flip() + \n",
    "  labs(\n",
    "    title = \"Differential Methylation Across Tissue Types\",\n",
    "    x = \"Tissue Type\",\n",
    "    y = \"Differential Methylation (Diff)\"\n",
    "  ) +\n",
    "  theme_minimal() +\n",
    "  theme(axis.text.y = element_text(size = 14))  \n"
   ]
  }
 ],
 "metadata": {
  "kernelspec": {
   "display_name": "R",
   "language": "R",
   "name": "ir"
  },
  "language_info": {
   "codemirror_mode": "r",
   "file_extension": ".r",
   "mimetype": "text/x-r-source",
   "name": "R",
   "pygments_lexer": "r",
   "version": "4.3.1"
  }
 },
 "nbformat": 4,
 "nbformat_minor": 5
}
