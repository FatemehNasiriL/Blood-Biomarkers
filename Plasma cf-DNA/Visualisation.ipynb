{
 "cells": [
  {
   "cell_type": "markdown",
   "id": "625f0939",
   "metadata": {},
   "source": [
    "** visualisation**"
   ]
  },
  {
   "cell_type": "code",
   "execution_count": null,
   "id": "4d345d9e",
   "metadata": {
    "vscode": {
     "languageId": "r"
    }
   },
   "outputs": [],
   "source": [
    "#dependencies\n",
    "library(ggplot2)\n",
    "library(dplyr)\n",
    "library(readxl)\n",
    "library(GenomicRanges)\n",
    "library(rtracklayer)"
   ]
  },
  {
   "cell_type": "code",
   "execution_count": 1,
   "id": "acbb4028-4f0a-4a23-8b8c-518bc907374d",
   "metadata": {
    "tags": [],
    "vscode": {
     "languageId": "r"
    }
   },
   "outputs": [
    {
     "data": {
      "text/html": [
       "<style>\n",
       ".list-inline {list-style: none; margin:0; padding: 0}\n",
       ".list-inline>li {display: inline-block}\n",
       ".list-inline>li:not(:last-child)::after {content: \"\\00b7\"; padding: 0 .5ex}\n",
       "</style>\n",
       "<ol class=list-inline><li>2336</li><li>8</li></ol>\n"
      ],
      "text/latex": [
       "\\begin{enumerate*}\n",
       "\\item 2336\n",
       "\\item 8\n",
       "\\end{enumerate*}\n"
      ],
      "text/markdown": [
       "1. 2336\n",
       "2. 8\n",
       "\n",
       "\n"
      ],
      "text/plain": [
       "[1] 2336    8"
      ]
     },
     "metadata": {},
     "output_type": "display_data"
    },
    {
     "data": {
      "text/html": [
       "<table class=\"dataframe\">\n",
       "<caption>A data.frame: 6 × 8</caption>\n",
       "<thead>\n",
       "\t<tr><th></th><th scope=col>DMRnumber</th><th scope=col>chr</th><th scope=col>st</th><th scope=col>end</th><th scope=col>intercept</th><th scope=col>f</th><th scope=col>pval</th><th scope=col>qval</th></tr>\n",
       "\t<tr><th></th><th scope=col>&lt;int&gt;</th><th scope=col>&lt;chr&gt;</th><th scope=col>&lt;int&gt;</th><th scope=col>&lt;int&gt;</th><th scope=col>&lt;dbl&gt;</th><th scope=col>&lt;dbl&gt;</th><th scope=col>&lt;dbl&gt;</th><th scope=col>&lt;dbl&gt;</th></tr>\n",
       "</thead>\n",
       "<tbody>\n",
       "\t<tr><th scope=row>1</th><td> 7478</td><td>chr20</td><td> 60751975</td><td> 60752320</td><td>2.1519394</td><td>38.33832</td><td>2.804548e-07</td><td>0.001854872</td></tr>\n",
       "\t<tr><th scope=row>2</th><td>12381</td><td>chr17</td><td>  5882814</td><td>  5883013</td><td>2.0168519</td><td>36.42646</td><td>4.623939e-07</td><td>0.001854872</td></tr>\n",
       "\t<tr><th scope=row>3</th><td>11235</td><td>chr1 </td><td> 25472270</td><td> 25472754</td><td>0.3109544</td><td>33.73726</td><td>9.559373e-07</td><td>0.002034627</td></tr>\n",
       "\t<tr><th scope=row>4</th><td> 4140</td><td>chr9 </td><td>139414758</td><td>139415013</td><td>0.8740158</td><td>32.83552</td><td>1.227302e-06</td><td>0.002034627</td></tr>\n",
       "\t<tr><th scope=row>5</th><td>12168</td><td>chr17</td><td> 37887321</td><td> 37887546</td><td>0.5769506</td><td>32.71863</td><td>1.268011e-06</td><td>0.002034627</td></tr>\n",
       "\t<tr><th scope=row>6</th><td> 7490</td><td>chr20</td><td> 32716846</td><td> 32717096</td><td>3.2589058</td><td>28.36667</td><td>4.456243e-06</td><td>0.005958671</td></tr>\n",
       "</tbody>\n",
       "</table>\n"
      ],
      "text/latex": [
       "A data.frame: 6 × 8\n",
       "\\begin{tabular}{r|llllllll}\n",
       "  & DMRnumber & chr & st & end & intercept & f & pval & qval\\\\\n",
       "  & <int> & <chr> & <int> & <int> & <dbl> & <dbl> & <dbl> & <dbl>\\\\\n",
       "\\hline\n",
       "\t1 &  7478 & chr20 &  60751975 &  60752320 & 2.1519394 & 38.33832 & 2.804548e-07 & 0.001854872\\\\\n",
       "\t2 & 12381 & chr17 &   5882814 &   5883013 & 2.0168519 & 36.42646 & 4.623939e-07 & 0.001854872\\\\\n",
       "\t3 & 11235 & chr1  &  25472270 &  25472754 & 0.3109544 & 33.73726 & 9.559373e-07 & 0.002034627\\\\\n",
       "\t4 &  4140 & chr9  & 139414758 & 139415013 & 0.8740158 & 32.83552 & 1.227302e-06 & 0.002034627\\\\\n",
       "\t5 & 12168 & chr17 &  37887321 &  37887546 & 0.5769506 & 32.71863 & 1.268011e-06 & 0.002034627\\\\\n",
       "\t6 &  7490 & chr20 &  32716846 &  32717096 & 3.2589058 & 28.36667 & 4.456243e-06 & 0.005958671\\\\\n",
       "\\end{tabular}\n"
      ],
      "text/markdown": [
       "\n",
       "A data.frame: 6 × 8\n",
       "\n",
       "| <!--/--> | DMRnumber &lt;int&gt; | chr &lt;chr&gt; | st &lt;int&gt; | end &lt;int&gt; | intercept &lt;dbl&gt; | f &lt;dbl&gt; | pval &lt;dbl&gt; | qval &lt;dbl&gt; |\n",
       "|---|---|---|---|---|---|---|---|---|\n",
       "| 1 |  7478 | chr20 |  60751975 |  60752320 | 2.1519394 | 38.33832 | 2.804548e-07 | 0.001854872 |\n",
       "| 2 | 12381 | chr17 |   5882814 |   5883013 | 2.0168519 | 36.42646 | 4.623939e-07 | 0.001854872 |\n",
       "| 3 | 11235 | chr1  |  25472270 |  25472754 | 0.3109544 | 33.73726 | 9.559373e-07 | 0.002034627 |\n",
       "| 4 |  4140 | chr9  | 139414758 | 139415013 | 0.8740158 | 32.83552 | 1.227302e-06 | 0.002034627 |\n",
       "| 5 | 12168 | chr17 |  37887321 |  37887546 | 0.5769506 | 32.71863 | 1.268011e-06 | 0.002034627 |\n",
       "| 6 |  7490 | chr20 |  32716846 |  32717096 | 3.2589058 | 28.36667 | 4.456243e-06 | 0.005958671 |\n",
       "\n"
      ],
      "text/plain": [
       "  DMRnumber chr   st        end       intercept f        pval        \n",
       "1  7478     chr20  60751975  60752320 2.1519394 38.33832 2.804548e-07\n",
       "2 12381     chr17   5882814   5883013 2.0168519 36.42646 4.623939e-07\n",
       "3 11235     chr1   25472270  25472754 0.3109544 33.73726 9.559373e-07\n",
       "4  4140     chr9  139414758 139415013 0.8740158 32.83552 1.227302e-06\n",
       "5 12168     chr17  37887321  37887546 0.5769506 32.71863 1.268011e-06\n",
       "6  7490     chr20  32716846  32717096 3.2589058 28.36667 4.456243e-06\n",
       "  qval       \n",
       "1 0.001854872\n",
       "2 0.001854872\n",
       "3 0.002034627\n",
       "4 0.002034627\n",
       "5 0.002034627\n",
       "6 0.005958671"
      ]
     },
     "metadata": {},
     "output_type": "display_data"
    },
    {
     "data": {
      "text/html": [
       "242"
      ],
      "text/latex": [
       "242"
      ],
      "text/markdown": [
       "242"
      ],
      "text/plain": [
       "[1] 242"
      ]
     },
     "metadata": {},
     "output_type": "display_data"
    }
   ],
   "source": [
    "### loading significant tDMRs from each scenario\n",
    "resq1 <- read.table(\"resq1.txt\", header = TRUE, sep = \"\\t\") \n",
    "resq2<- read.table(\"resq2.txt\", header = TRUE, sep = \"\\t\")\n",
    "resq3 <- read.table(\"resq3.txt\", header = TRUE, sep = \"\\t\")\n",
    "resq4<- read.table(\"resq4.txt\", header = TRUE, sep = \"\\t\")\n",
    "resq5 <- read.table(\"resq5.txt\", header = TRUE, sep = \"\\t\")\n",
    "resq6<- read.table(\"resq6.txt\", header = TRUE, sep = \"\\t\")\n",
    "resq7 <- read.table(\"resq7.txt\", header = TRUE, sep = \"\\t\")\n",
    "resq8<- read.table(\"resq8.txt\", header = TRUE, sep = \"\\t\")\n",
    "resq75 <- read.table(\"resq7_0.05.txt\", header = TRUE, sep = \"\\t\")\n",
    "resq85<- read.table(\"resq8_0.05.txt\", header = TRUE, sep = \"\\t\")\n",
    "\n",
    "test<-resq7\n",
    "dim(test)\n",
    "head(test)\n",
    "sum(test[,8]<0.05)"
   ]
  },
  {
   "cell_type": "code",
   "execution_count": 11,
   "id": "5bd9a251-f2b7-4993-97c3-54ce454101dc",
   "metadata": {
    "tags": [],
    "vscode": {
     "languageId": "r"
    }
   },
   "outputs": [
    {
     "name": "stderr",
     "output_type": "stream",
     "text": [
      "\u001b[1m\u001b[22mNew names:\n",
      "\u001b[36m•\u001b[39m `` -> `...15`\n"
     ]
    },
    {
     "data": {
      "text/html": [
       "<style>\n",
       ".list-inline {list-style: none; margin:0; padding: 0}\n",
       ".list-inline>li {display: inline-block}\n",
       ".list-inline>li:not(:last-child)::after {content: \"\\00b7\"; padding: 0 .5ex}\n",
       "</style>\n",
       "<ol class=list-inline><li>19</li><li>16</li></ol>\n"
      ],
      "text/latex": [
       "\\begin{enumerate*}\n",
       "\\item 19\n",
       "\\item 16\n",
       "\\end{enumerate*}\n"
      ],
      "text/markdown": [
       "1. 19\n",
       "2. 16\n",
       "\n",
       "\n"
      ],
      "text/plain": [
       "[1] 19 16"
      ]
     },
     "metadata": {},
     "output_type": "display_data"
    },
    {
     "data": {
      "text/html": [
       "<table class=\"dataframe\">\n",
       "<caption>A data.frame: 6 × 16</caption>\n",
       "<thead>\n",
       "\t<tr><th></th><th scope=col>Type</th><th scope=col>chr</th><th scope=col>start</th><th scope=col>end</th><th scope=col>startCpG</th><th scope=col>endCpG</th><th scope=col>position</th><th scope=col>Number.of.CpGs</th><th scope=col>Length</th><th scope=col>Target.meth.</th><th scope=col>Background.meth.</th><th scope=col>Diff</th><th scope=col>Genomic.class</th><th scope=col>Gene</th><th scope=col>...15</th><th scope=col>p.value</th></tr>\n",
       "\t<tr><th></th><th scope=col>&lt;chr&gt;</th><th scope=col>&lt;chr&gt;</th><th scope=col>&lt;dbl&gt;</th><th scope=col>&lt;dbl&gt;</th><th scope=col>&lt;dbl&gt;</th><th scope=col>&lt;dbl&gt;</th><th scope=col>&lt;chr&gt;</th><th scope=col>&lt;chr&gt;</th><th scope=col>&lt;chr&gt;</th><th scope=col>&lt;dbl&gt;</th><th scope=col>&lt;dbl&gt;</th><th scope=col>&lt;dbl&gt;</th><th scope=col>&lt;chr&gt;</th><th scope=col>&lt;chr&gt;</th><th scope=col>&lt;lgl&gt;</th><th scope=col>&lt;dbl&gt;</th></tr>\n",
       "</thead>\n",
       "<tbody>\n",
       "\t<tr><th scope=row>1</th><td>Colon-Ep:Small-Int-Ep           </td><td>chr5 </td><td>177680703</td><td>177680994</td><td> 8991799</td><td> 8991814</td><td>chr5:177680703-177680994 </td><td>15CpGs</td><td>291bp</td><td>0.0932</td><td>0.927</td><td>0.8338</td><td>intron    </td><td>COL23A1  </td><td>NA</td><td>NA</td></tr>\n",
       "\t<tr><th scope=row>2</th><td>Endothel                        </td><td>chr8 </td><td> 99309382</td><td> 99309625</td><td>12968991</td><td>12969000</td><td>chr8:99309382-99309625   </td><td>9CpGs </td><td>243bp</td><td>0.0970</td><td>0.763</td><td>0.6660</td><td>Intergenic</td><td>NIPAL2   </td><td>NA</td><td>NA</td></tr>\n",
       "\t<tr><th scope=row>3</th><td>Gastric-Ep:Small-Int-Ep         </td><td>chr1 </td><td>  1065900</td><td>  1066249</td><td>   18151</td><td>   18166</td><td>chr1:1065900-1066249     </td><td>15CpGs</td><td>349bp</td><td>0.0139</td><td>0.706</td><td>0.6921</td><td>Intergenic</td><td>LOC254099</td><td>NA</td><td>NA</td></tr>\n",
       "\t<tr><th scope=row>4</th><td>Pancreas-Duct                   </td><td>chr10</td><td>134471997</td><td>134472211</td><td>15952337</td><td>15952352</td><td>chr10:134471997-134472211</td><td>15CpGs</td><td>214bp</td><td>0.1680</td><td>0.922</td><td>0.7540</td><td>intron    </td><td>INPP5A   </td><td>NA</td><td>NA</td></tr>\n",
       "\t<tr><th scope=row>5</th><td>Blood-Granul                    </td><td>chr3 </td><td> 47122329</td><td> 47122886</td><td> 4852006</td><td> 4852018</td><td>chr3:47122329-47122886   </td><td>12CpGs</td><td>557bp</td><td>0.1540</td><td>0.950</td><td>0.7960</td><td>intron    </td><td>SETD2    </td><td>NA</td><td>NA</td></tr>\n",
       "\t<tr><th scope=row>6</th><td>Colon-Ep:Gastric-Ep:Small-Int-Ep</td><td>chr1 </td><td>  6031033</td><td>  6031239</td><td>  132418</td><td>  132424</td><td>chr1:6031033-6031239     </td><td>6CpGs </td><td>206bp</td><td>0.0142</td><td>0.730</td><td>0.7158</td><td>intron    </td><td>NPHP4    </td><td>NA</td><td>NA</td></tr>\n",
       "</tbody>\n",
       "</table>\n"
      ],
      "text/latex": [
       "A data.frame: 6 × 16\n",
       "\\begin{tabular}{r|llllllllllllllll}\n",
       "  & Type & chr & start & end & startCpG & endCpG & position & Number.of.CpGs & Length & Target.meth. & Background.meth. & Diff & Genomic.class & Gene & ...15 & p.value\\\\\n",
       "  & <chr> & <chr> & <dbl> & <dbl> & <dbl> & <dbl> & <chr> & <chr> & <chr> & <dbl> & <dbl> & <dbl> & <chr> & <chr> & <lgl> & <dbl>\\\\\n",
       "\\hline\n",
       "\t1 & Colon-Ep:Small-Int-Ep            & chr5  & 177680703 & 177680994 &  8991799 &  8991814 & chr5:177680703-177680994  & 15CpGs & 291bp & 0.0932 & 0.927 & 0.8338 & intron     & COL23A1   & NA & NA\\\\\n",
       "\t2 & Endothel                         & chr8  &  99309382 &  99309625 & 12968991 & 12969000 & chr8:99309382-99309625    & 9CpGs  & 243bp & 0.0970 & 0.763 & 0.6660 & Intergenic & NIPAL2    & NA & NA\\\\\n",
       "\t3 & Gastric-Ep:Small-Int-Ep          & chr1  &   1065900 &   1066249 &    18151 &    18166 & chr1:1065900-1066249      & 15CpGs & 349bp & 0.0139 & 0.706 & 0.6921 & Intergenic & LOC254099 & NA & NA\\\\\n",
       "\t4 & Pancreas-Duct                    & chr10 & 134471997 & 134472211 & 15952337 & 15952352 & chr10:134471997-134472211 & 15CpGs & 214bp & 0.1680 & 0.922 & 0.7540 & intron     & INPP5A    & NA & NA\\\\\n",
       "\t5 & Blood-Granul                     & chr3  &  47122329 &  47122886 &  4852006 &  4852018 & chr3:47122329-47122886    & 12CpGs & 557bp & 0.1540 & 0.950 & 0.7960 & intron     & SETD2     & NA & NA\\\\\n",
       "\t6 & Colon-Ep:Gastric-Ep:Small-Int-Ep & chr1  &   6031033 &   6031239 &   132418 &   132424 & chr1:6031033-6031239      & 6CpGs  & 206bp & 0.0142 & 0.730 & 0.7158 & intron     & NPHP4     & NA & NA\\\\\n",
       "\\end{tabular}\n"
      ],
      "text/markdown": [
       "\n",
       "A data.frame: 6 × 16\n",
       "\n",
       "| <!--/--> | Type &lt;chr&gt; | chr &lt;chr&gt; | start &lt;dbl&gt; | end &lt;dbl&gt; | startCpG &lt;dbl&gt; | endCpG &lt;dbl&gt; | position &lt;chr&gt; | Number.of.CpGs &lt;chr&gt; | Length &lt;chr&gt; | Target.meth. &lt;dbl&gt; | Background.meth. &lt;dbl&gt; | Diff &lt;dbl&gt; | Genomic.class &lt;chr&gt; | Gene &lt;chr&gt; | ...15 &lt;lgl&gt; | p.value &lt;dbl&gt; |\n",
       "|---|---|---|---|---|---|---|---|---|---|---|---|---|---|---|---|---|\n",
       "| 1 | Colon-Ep:Small-Int-Ep            | chr5  | 177680703 | 177680994 |  8991799 |  8991814 | chr5:177680703-177680994  | 15CpGs | 291bp | 0.0932 | 0.927 | 0.8338 | intron     | COL23A1   | NA | NA |\n",
       "| 2 | Endothel                         | chr8  |  99309382 |  99309625 | 12968991 | 12969000 | chr8:99309382-99309625    | 9CpGs  | 243bp | 0.0970 | 0.763 | 0.6660 | Intergenic | NIPAL2    | NA | NA |\n",
       "| 3 | Gastric-Ep:Small-Int-Ep          | chr1  |   1065900 |   1066249 |    18151 |    18166 | chr1:1065900-1066249      | 15CpGs | 349bp | 0.0139 | 0.706 | 0.6921 | Intergenic | LOC254099 | NA | NA |\n",
       "| 4 | Pancreas-Duct                    | chr10 | 134471997 | 134472211 | 15952337 | 15952352 | chr10:134471997-134472211 | 15CpGs | 214bp | 0.1680 | 0.922 | 0.7540 | intron     | INPP5A    | NA | NA |\n",
       "| 5 | Blood-Granul                     | chr3  |  47122329 |  47122886 |  4852006 |  4852018 | chr3:47122329-47122886    | 12CpGs | 557bp | 0.1540 | 0.950 | 0.7960 | intron     | SETD2     | NA | NA |\n",
       "| 6 | Colon-Ep:Gastric-Ep:Small-Int-Ep | chr1  |   6031033 |   6031239 |   132418 |   132424 | chr1:6031033-6031239      | 6CpGs  | 206bp | 0.0142 | 0.730 | 0.7158 | intron     | NPHP4     | NA | NA |\n",
       "\n"
      ],
      "text/plain": [
       "  Type                             chr   start     end       startCpG endCpG  \n",
       "1 Colon-Ep:Small-Int-Ep            chr5  177680703 177680994  8991799  8991814\n",
       "2 Endothel                         chr8   99309382  99309625 12968991 12969000\n",
       "3 Gastric-Ep:Small-Int-Ep          chr1    1065900   1066249    18151    18166\n",
       "4 Pancreas-Duct                    chr10 134471997 134472211 15952337 15952352\n",
       "5 Blood-Granul                     chr3   47122329  47122886  4852006  4852018\n",
       "6 Colon-Ep:Gastric-Ep:Small-Int-Ep chr1    6031033   6031239   132418   132424\n",
       "  position                  Number.of.CpGs Length Target.meth. Background.meth.\n",
       "1 chr5:177680703-177680994  15CpGs         291bp  0.0932       0.927           \n",
       "2 chr8:99309382-99309625    9CpGs          243bp  0.0970       0.763           \n",
       "3 chr1:1065900-1066249      15CpGs         349bp  0.0139       0.706           \n",
       "4 chr10:134471997-134472211 15CpGs         214bp  0.1680       0.922           \n",
       "5 chr3:47122329-47122886    12CpGs         557bp  0.1540       0.950           \n",
       "6 chr1:6031033-6031239      6CpGs          206bp  0.0142       0.730           \n",
       "  Diff   Genomic.class Gene      ...15 p.value\n",
       "1 0.8338 intron        COL23A1   NA    NA     \n",
       "2 0.6660 Intergenic    NIPAL2    NA    NA     \n",
       "3 0.6921 Intergenic    LOC254099 NA    NA     \n",
       "4 0.7540 intron        INPP5A    NA    NA     \n",
       "5 0.7960 intron        SETD2     NA    NA     \n",
       "6 0.7158 intron        NPHP4     NA    NA     "
      ]
     },
     "metadata": {},
     "output_type": "display_data"
    }
   ],
   "source": [
    "# tissue specific markers\n",
    "top1000 <- read_excel(\"C:/Users/Hiam/Desktop/DNA methylation atlas of normal human cell types/S4C_TOP1000.xlsx\", sheet = 1) \n",
    "mine<-test\n",
    "mine$st<-mine$st - 50\n",
    "mine$end<-mine$end + 50\n",
    "gr1 <- GRanges(seqnames = mine$chr,\n",
    "               ranges = IRanges(start = mine$st, end = mine$end),\n",
    "               beta = mine$qval)\n",
    "atlas<-top1000\n",
    "gr2 <- GRanges(seqnames = atlas$chr,\n",
    "               ranges = IRanges(start = atlas$start, end = atlas$end),\n",
    "               beta = atlas$Diff) \n",
    "overlaps <- findOverlaps(gr1, gr2)\n",
    "common_regions <- pintersect(gr1[queryHits(overlaps)], gr2[subjectHits(overlaps)])\n",
    "overlap_indices <- subjectHits(overlaps)\n",
    "overlapping_rows <- top1000[overlap_indices, ]\n",
    "dim(data.frame(overlapping_rows))\n",
    "head(data.frame(overlapping_rows))"
   ]
  },
  {
   "cell_type": "code",
   "execution_count": null,
   "id": "bc6c286f-f395-40a8-8e3c-e2751fff38af",
   "metadata": {
    "vscode": {
     "languageId": "r"
    }
   },
   "outputs": [
    {
     "data": {
      "text/html": [
       "<table class=\"dataframe\">\n",
       "<caption>A tibble: 6 × 17</caption>\n",
       "<thead>\n",
       "\t<tr><th scope=col>Type</th><th scope=col>chr</th><th scope=col>start</th><th scope=col>end</th><th scope=col>startCpG</th><th scope=col>endCpG</th><th scope=col>position</th><th scope=col>Number of CpGs</th><th scope=col>Length</th><th scope=col>Target meth.</th><th scope=col>Background meth.</th><th scope=col>Diff</th><th scope=col>Genomic class</th><th scope=col>Gene</th><th scope=col>...15</th><th scope=col>p-value</th><th scope=col>Organ</th></tr>\n",
       "\t<tr><th scope=col>&lt;chr&gt;</th><th scope=col>&lt;chr&gt;</th><th scope=col>&lt;dbl&gt;</th><th scope=col>&lt;dbl&gt;</th><th scope=col>&lt;dbl&gt;</th><th scope=col>&lt;dbl&gt;</th><th scope=col>&lt;chr&gt;</th><th scope=col>&lt;chr&gt;</th><th scope=col>&lt;chr&gt;</th><th scope=col>&lt;dbl&gt;</th><th scope=col>&lt;dbl&gt;</th><th scope=col>&lt;dbl&gt;</th><th scope=col>&lt;chr&gt;</th><th scope=col>&lt;chr&gt;</th><th scope=col>&lt;lgl&gt;</th><th scope=col>&lt;dbl&gt;</th><th scope=col>&lt;chr&gt;</th></tr>\n",
       "</thead>\n",
       "<tbody>\n",
       "\t<tr><td>Blood-Granul   </td><td>chr17</td><td> 74324646</td><td> 74325212</td><td>23170589</td><td>23170603</td><td>chr17:74324646-74325212  </td><td>14CpGs</td><td>566bp</td><td>0.3650</td><td>0.942</td><td>0.5770</td><td>intron    </td><td>PRPSAP1 </td><td>NA</td><td>NA</td><td>Blood   </td></tr>\n",
       "\t<tr><td>Pancreas-Acinar</td><td>chr10</td><td>116190310</td><td>116190874</td><td>15722673</td><td>15722678</td><td>chr10:116190310-116190874</td><td>5CpGs </td><td>564bp</td><td>0.0421</td><td>0.882</td><td>0.8399</td><td>TTS       </td><td>ABLIM1  </td><td>NA</td><td>NA</td><td>Pancreas</td></tr>\n",
       "\t<tr><td>Pancreas-Delta </td><td>chr20</td><td> 20420912</td><td> 20421185</td><td>25265507</td><td>25265512</td><td>chr20:20420912-20421185  </td><td>5CpGs </td><td>273bp</td><td>0.1420</td><td>0.822</td><td>0.6800</td><td>intron    </td><td>RALGAPA2</td><td>NA</td><td>NA</td><td>Pancreas</td></tr>\n",
       "\t<tr><td>Pancreas-Acinar</td><td>chr1 </td><td>155167099</td><td>155167572</td><td> 1433009</td><td> 1433022</td><td>chr1:155167099-155167572 </td><td>13CpGs</td><td>473bp</td><td>0.0998</td><td>0.910</td><td>0.8102</td><td>exon      </td><td>THBS3   </td><td>NA</td><td>NA</td><td>Pancreas</td></tr>\n",
       "\t<tr><td>Skeletal-Musc  </td><td>chr8 </td><td>139735754</td><td>139735883</td><td>13272296</td><td>13272301</td><td>chr8:139735754-139735883 </td><td>5CpGs </td><td>129bp</td><td>0.3690</td><td>0.806</td><td>0.4370</td><td>intron    </td><td>COL22A1 </td><td>NA</td><td>NA</td><td>Skeletal</td></tr>\n",
       "\t<tr><td>Heart-Cardio   </td><td>chr5 </td><td>  1946637</td><td>  1946709</td><td> 7597414</td><td> 7597419</td><td>chr5:1946637-1946709     </td><td>5CpGs </td><td>72bp </td><td>0.0604</td><td>0.824</td><td>0.7636</td><td>Intergenic</td><td>IRX4    </td><td>NA</td><td>NA</td><td>Heart   </td></tr>\n",
       "</tbody>\n",
       "</table>\n"
      ],
      "text/latex": [
       "A tibble: 6 × 17\n",
       "\\begin{tabular}{lllllllllllllllll}\n",
       " Type & chr & start & end & startCpG & endCpG & position & Number of CpGs & Length & Target meth. & Background meth. & Diff & Genomic class & Gene & ...15 & p-value & Organ\\\\\n",
       " <chr> & <chr> & <dbl> & <dbl> & <dbl> & <dbl> & <chr> & <chr> & <chr> & <dbl> & <dbl> & <dbl> & <chr> & <chr> & <lgl> & <dbl> & <chr>\\\\\n",
       "\\hline\n",
       "\t Blood-Granul    & chr17 &  74324646 &  74325212 & 23170589 & 23170603 & chr17:74324646-74325212   & 14CpGs & 566bp & 0.3650 & 0.942 & 0.5770 & intron     & PRPSAP1  & NA & NA & Blood   \\\\\n",
       "\t Pancreas-Acinar & chr10 & 116190310 & 116190874 & 15722673 & 15722678 & chr10:116190310-116190874 & 5CpGs  & 564bp & 0.0421 & 0.882 & 0.8399 & TTS        & ABLIM1   & NA & NA & Pancreas\\\\\n",
       "\t Pancreas-Delta  & chr20 &  20420912 &  20421185 & 25265507 & 25265512 & chr20:20420912-20421185   & 5CpGs  & 273bp & 0.1420 & 0.822 & 0.6800 & intron     & RALGAPA2 & NA & NA & Pancreas\\\\\n",
       "\t Pancreas-Acinar & chr1  & 155167099 & 155167572 &  1433009 &  1433022 & chr1:155167099-155167572  & 13CpGs & 473bp & 0.0998 & 0.910 & 0.8102 & exon       & THBS3    & NA & NA & Pancreas\\\\\n",
       "\t Skeletal-Musc   & chr8  & 139735754 & 139735883 & 13272296 & 13272301 & chr8:139735754-139735883  & 5CpGs  & 129bp & 0.3690 & 0.806 & 0.4370 & intron     & COL22A1  & NA & NA & Skeletal\\\\\n",
       "\t Heart-Cardio    & chr5  &   1946637 &   1946709 &  7597414 &  7597419 & chr5:1946637-1946709      & 5CpGs  & 72bp  & 0.0604 & 0.824 & 0.7636 & Intergenic & IRX4     & NA & NA & Heart   \\\\\n",
       "\\end{tabular}\n"
      ],
      "text/markdown": [
       "\n",
       "A tibble: 6 × 17\n",
       "\n",
       "| Type &lt;chr&gt; | chr &lt;chr&gt; | start &lt;dbl&gt; | end &lt;dbl&gt; | startCpG &lt;dbl&gt; | endCpG &lt;dbl&gt; | position &lt;chr&gt; | Number of CpGs &lt;chr&gt; | Length &lt;chr&gt; | Target meth. &lt;dbl&gt; | Background meth. &lt;dbl&gt; | Diff &lt;dbl&gt; | Genomic class &lt;chr&gt; | Gene &lt;chr&gt; | ...15 &lt;lgl&gt; | p-value &lt;dbl&gt; | Organ &lt;chr&gt; |\n",
       "|---|---|---|---|---|---|---|---|---|---|---|---|---|---|---|---|---|\n",
       "| Blood-Granul    | chr17 |  74324646 |  74325212 | 23170589 | 23170603 | chr17:74324646-74325212   | 14CpGs | 566bp | 0.3650 | 0.942 | 0.5770 | intron     | PRPSAP1  | NA | NA | Blood    |\n",
       "| Pancreas-Acinar | chr10 | 116190310 | 116190874 | 15722673 | 15722678 | chr10:116190310-116190874 | 5CpGs  | 564bp | 0.0421 | 0.882 | 0.8399 | TTS        | ABLIM1   | NA | NA | Pancreas |\n",
       "| Pancreas-Delta  | chr20 |  20420912 |  20421185 | 25265507 | 25265512 | chr20:20420912-20421185   | 5CpGs  | 273bp | 0.1420 | 0.822 | 0.6800 | intron     | RALGAPA2 | NA | NA | Pancreas |\n",
       "| Pancreas-Acinar | chr1  | 155167099 | 155167572 |  1433009 |  1433022 | chr1:155167099-155167572  | 13CpGs | 473bp | 0.0998 | 0.910 | 0.8102 | exon       | THBS3    | NA | NA | Pancreas |\n",
       "| Skeletal-Musc   | chr8  | 139735754 | 139735883 | 13272296 | 13272301 | chr8:139735754-139735883  | 5CpGs  | 129bp | 0.3690 | 0.806 | 0.4370 | intron     | COL22A1  | NA | NA | Skeletal |\n",
       "| Heart-Cardio    | chr5  |   1946637 |   1946709 |  7597414 |  7597419 | chr5:1946637-1946709      | 5CpGs  | 72bp  | 0.0604 | 0.824 | 0.7636 | Intergenic | IRX4     | NA | NA | Heart    |\n",
       "\n"
      ],
      "text/plain": [
       "  Type            chr   start     end       startCpG endCpG  \n",
       "1 Blood-Granul    chr17  74324646  74325212 23170589 23170603\n",
       "2 Pancreas-Acinar chr10 116190310 116190874 15722673 15722678\n",
       "3 Pancreas-Delta  chr20  20420912  20421185 25265507 25265512\n",
       "4 Pancreas-Acinar chr1  155167099 155167572  1433009  1433022\n",
       "5 Skeletal-Musc   chr8  139735754 139735883 13272296 13272301\n",
       "6 Heart-Cardio    chr5    1946637   1946709  7597414  7597419\n",
       "  position                  Number of CpGs Length Target meth. Background meth.\n",
       "1 chr17:74324646-74325212   14CpGs         566bp  0.3650       0.942           \n",
       "2 chr10:116190310-116190874 5CpGs          564bp  0.0421       0.882           \n",
       "3 chr20:20420912-20421185   5CpGs          273bp  0.1420       0.822           \n",
       "4 chr1:155167099-155167572  13CpGs         473bp  0.0998       0.910           \n",
       "5 chr8:139735754-139735883  5CpGs          129bp  0.3690       0.806           \n",
       "6 chr5:1946637-1946709      5CpGs          72bp   0.0604       0.824           \n",
       "  Diff   Genomic class Gene     ...15 p-value Organ   \n",
       "1 0.5770 intron        PRPSAP1  NA    NA      Blood   \n",
       "2 0.8399 TTS           ABLIM1   NA    NA      Pancreas\n",
       "3 0.6800 intron        RALGAPA2 NA    NA      Pancreas\n",
       "4 0.8102 exon          THBS3    NA    NA      Pancreas\n",
       "5 0.4370 intron        COL22A1  NA    NA      Skeletal\n",
       "6 0.7636 Intergenic    IRX4     NA    NA      Heart   "
      ]
     },
     "metadata": {},
     "output_type": "display_data"
    },
    {
     "data": {
      "text/html": [
       "<style>\n",
       ".list-inline {list-style: none; margin:0; padding: 0}\n",
       ".list-inline>li {display: inline-block}\n",
       ".list-inline>li:not(:last-child)::after {content: \"\\00b7\"; padding: 0 .5ex}\n",
       "</style>\n",
       "<ol class=list-inline><li>12</li><li>17</li></ol>\n"
      ],
      "text/latex": [
       "\\begin{enumerate*}\n",
       "\\item 12\n",
       "\\item 17\n",
       "\\end{enumerate*}\n"
      ],
      "text/markdown": [
       "1. 12\n",
       "2. 17\n",
       "\n",
       "\n"
      ],
      "text/plain": [
       "[1] 12 17"
      ]
     },
     "metadata": {},
     "output_type": "display_data"
    }
   ],
   "source": [
    "#Integrating different cell type from each tissue\n",
    "cell_types <- c(\n",
    "  \"Adipocytes\", \"Bladder-Ep\", \"Blood-B\", \"Blood-Granul\", \"Blood-Mono+Macro\", \"Blood-NK\", \"Blood-T\",\n",
    "  \"Bone-Osteob\", \"Breast-Basal-Ep\", \"Breast-Basal-Ep:Breast-Luminal-Ep\", \"Breast-Luminal-Ep\",\n",
    "  \"Colon-Ep\", \"Colon-Ep:Gastric-Ep:Small-Int-Ep\", \"Colon-Ep:Small-Int-Ep\", \"Colon-Fibro\",\n",
    "  \"Colon-Fibro:Heart-Fibro\", \"Dermal-Fibro\", \"Endothel\", \"Epid-Kerat\", \"Eryth-prog\", \"Fallopian-Ep\",\n",
    "  \"Fallopian-Ep:Ovary-Ep\", \"Gallbladder\", \"Gastric-Ep\", \"Gastric-Ep:Small-Int-Ep\", \"Head-Neck-Ep\",\n",
    "  \"Heart-Cardio\", \"Heart-Cardio:Heart-Fibro\", \"Heart-Cardio:Skeletal-Musc:Smooth-Musc\", \"Heart-Fibro\",\n",
    "  \"Kidney-Ep\", \"Liver-Hep\", \"Lung-Ep-Alveo\", \"Lung-Ep-Alveo:Lung-Ep-Bron\", \"Lung-Ep-Bron\", \"Neuron\",\n",
    "  \"Neuron:Oligodend\", \"Oligodend\", \"Ovary-Ep\", \"Pancreas-Acinar\", \"Pancreas-Alpha\",\n",
    "  \"Pancreas-Alpha:Pancreas-Beta:Pancreas-Delta\", \"Pancreas-Beta\", \"Pancreas-Delta\", \"Pancreas-Duct\",\n",
    "  \"Prostate-Ep\", \"Skeletal-Musc\", \"Skeletal-Musc:Smooth-Musc\", \"Small-Int-Ep\", \"Smooth-Musc\",\n",
    "  \"Thyroid-Ep\")\n",
    "overlapping_rows$Organ <- sub(\"-.*\", \"\", overlapping_rows$Type)\n",
    "head(overlapping_rows)\n",
    "dim(overlapping_rows)                          "
   ]
  },
  {
   "cell_type": "code",
   "execution_count": 125,
   "id": "564c478c-e4e5-47d1-9910-2d6c8873edcd",
   "metadata": {
    "tags": [],
    "vscode": {
     "languageId": "r"
    }
   },
   "outputs": [
    {
     "data": {
      "image/png": "[encoded data removed]",
      "text/plain": [
       "plot without title"
      ]
     },
     "metadata": {
      "image/png": {
       "height": 420,
       "width": 420
      }
     },
     "output_type": "display_data"
    }
   ],
   "source": [
    "# Calculating percentages of each tissue\n",
    "organ_counts_df <- organ_counts_df %>%\n",
    "  mutate(\n",
    "    Percentage = Count / sum(Count) * 100,\n",
    "    perc_text = paste0(round(Percentage, 1), \"%\")) # label text with percentage\n",
    "\n",
    "# Ranking and combining top 10 organs\n",
    "top_organ_df <- organ_counts_df %>%\n",
    "  arrange(desc(Percentage)) %>%\n",
    "  mutate(Organ = ifelse(row_number() <= 10, as.character(Organ), \"Other organs\")) %>%\n",
    "  group_by(Organ) %>%\n",
    "  summarise( Count = sum(Count), \n",
    "    Percentage = sum(Percentage), \n",
    "    perc_text = paste0(round(Percentage, 1), \"%\") )\n",
    "\n",
    "# Pie chart\n",
    "ggplot(top_organ_df, aes(x = \"\", y = Percentage, fill = Organ)) +\n",
    "  geom_bar(width = 1, stat = \"identity\", show.legend = TRUE) + \n",
    "  coord_polar(theta = \"y\") + # Polar coordinates for a pie chart\n",
    "  geom_text(aes(x = 1.62, label = perc_text), # Moving labels farther from the center\n",
    "            size = 4, position = position_stack(vjust = 0.5), color = \"black\") + \n",
    "  scale_fill_brewer(palette = \"RdBu\", labels = unique(top_organ_df$Organ)) + \n",
    "  labs(\n",
    "    title = \"Tissue Specific DMRs\", \n",
    "    x = \"\", \n",
    "    y = \"\"\n",
    "  ) +\n",
    "  guides( fill = guide_legend(title = \"Organ Type\", nrow = length(unique(top_organ_df$Organ)), byrow = FALSE)\n",
    "  ) +\n",
    "  theme_void() + \n",
    "  theme(plot.title = element_text(size = 15, hjust = 0.5),\n",
    "    legend.position = \"right\", \n",
    "    legend.text = element_text(size = 11), \n",
    "    legend.title = element_text(size = 14),\n",
    "    strip.text = element_text(size = 15) )\n",
    "\n",
    "#ggsave(\"pie_chart_75.png\", plot = last_plot(), width = 8, height = 6, dpi = 300)\n"
   ]
  },
  {
   "cell_type": "code",
   "execution_count": null,
   "id": "a4ec53c5-3762-46bd-9ba7-1e8744bad768",
   "metadata": {
    "vscode": {
     "languageId": "r"
    }
   },
   "outputs": [
    {
     "data": {
      "image/png": "[encoded data removed]",
      "text/plain": [
       "plot without title"
      ]
     },
     "metadata": {},
     "output_type": "display_data"
    }
   ],
   "source": [
    "\n",
    "organ_counts <- table(overlapping_rows$Organ)\n",
    "organ_counts_df <- as.data.frame(organ_counts)\n",
    "colnames(organ_counts_df) <- c(\"Organ\", \"Count\")\n",
    "# Bar plot\n",
    "ggplot(organ_counts_df, aes(x = reorder(Organ, Count), y = Count, fill = Organ)) +\n",
    "  geom_bar(stat = \"identity\", show.legend = FALSE) +\n",
    "  coord_flip() + \n",
    "  labs(\n",
    "    title = \"Differential Methylation Across Tissue Types\",\n",
    "    x = \"Tissue Type\",\n",
    "    y = \"Differential Methylation (Diff)\"\n",
    "  ) +\n",
    "  theme_minimal() +\n",
    "  theme(axis.text.y = element_text(size = 14))  \n"
   ]
  }
 ],
 "metadata": {
  "kernelspec": {
   "display_name": "R",
   "language": "R",
   "name": "ir"
  },
  "language_info": {
   "codemirror_mode": "r",
   "file_extension": ".r",
   "mimetype": "text/x-r-source",
   "name": "R",
   "pygments_lexer": "r",
   "version": "4.3.1"
  }
 },
 "nbformat": 4,
 "nbformat_minor": 5
}
