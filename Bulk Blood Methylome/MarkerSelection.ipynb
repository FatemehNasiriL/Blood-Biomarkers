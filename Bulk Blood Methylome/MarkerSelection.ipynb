{
 "cells": [
  {
   "cell_type": "markdown",
   "id": "4e9bd9b1",
   "metadata": {},
   "source": [
    "**Dependencies**"
   ]
  },
  {
   "cell_type": "code",
   "execution_count": null,
   "id": "c8f98418",
   "metadata": {
    "vscode": {
     "languageId": "r"
    }
   },
   "outputs": [],
   "source": [
    "library(dplyr)\n",
    "library(tidyr)\n",
    "library(ggplot2)\n",
    "library(data.table)\n",
    "library(IlluminaHumanMethylationEPICanno.ilm10b4.hg19)\n",
    "library(TxDb.Hsapiens.UCSC.hg19.knownGene)\n",
    "library(annotatr)\n",
    "library(GenomicRanges)"
   ]
  },
  {
   "cell_type": "code",
   "execution_count": 184,
   "id": "ae81fa30-b49e-4caa-ad6b-e71ce2e15159",
   "metadata": {
    "tags": [],
    "vscode": {
     "languageId": "r"
    }
   },
   "outputs": [
    {
     "data": {
      "text/plain": [
       "GRanges object with 2 ranges and 8 metadata columns:\n",
       "      seqnames            ranges strand |   no.cpgs min_smoothed_fdr\n",
       "         <Rle>         <IRanges>  <Rle> | <integer>        <numeric>\n",
       "  [1]     chr6 29854740-29856938      * |        44      1.39106e-73\n",
       "  [2]     chr6 31695970-31698698      * |        62      1.76047e-71\n",
       "         Stouffer       HMFDR      Fisher   maxdiff     meandiff\n",
       "        <numeric>   <numeric>   <numeric> <numeric>    <numeric>\n",
       "  [1] 2.66387e-54 1.49174e-13 2.59107e-89 -0.106587 -0.000266681\n",
       "  [2] 3.09805e-46 2.33819e-13 1.09677e-87 -0.107095 -0.004390579\n",
       "      overlapping.genes\n",
       "            <character>\n",
       "  [1]     HLA-H, HCG4P7\n",
       "  [2]      DDAH2, CLIC1\n",
       "  -------\n",
       "  seqinfo: 24 sequences from an unspecified genome; no seqlengths"
      ]
     },
     "metadata": {},
     "output_type": "display_data"
    },
    {
     "data": {
      "text/plain": [
       "GRanges object with 2 ranges and 8 metadata columns:\n",
       "      seqnames              ranges strand |   no.cpgs min_smoothed_fdr\n",
       "         <Rle>           <IRanges>  <Rle> | <integer>        <numeric>\n",
       "  [1]     chr3 195959232-195959987      * |         4      4.11101e-25\n",
       "  [2]    chr17   27052676-27054515      * |        17      1.75530e-24\n",
       "         Stouffer       HMFDR      Fisher    maxdiff    meandiff\n",
       "        <numeric>   <numeric>   <numeric>  <numeric>   <numeric>\n",
       "  [1] 2.98459e-14 2.97987e-19 1.36208e-22 -0.0268356 -0.00229087\n",
       "  [2] 4.65368e-19 3.26787e-13 5.90529e-25 -0.1884343 -0.00761063\n",
       "           overlapping.genes\n",
       "                 <character>\n",
       "  [1]         SLC51A, PCYT1A\n",
       "  [2] NEK8, AC010761.14, T..\n",
       "  -------\n",
       "  seqinfo: 24 sequences from an unspecified genome; no seqlengths"
      ]
     },
     "metadata": {},
     "output_type": "display_data"
    }
   ],
   "source": [
    "#DMRcate DMRs\n",
    "#severe vs healthy samples DMRcate results\n",
    "SN_325<-readRDS(\"results_ranges_SN.rds\")\n",
    "#severe vs mild samples DMRcate results\n",
    "SM_325<-readRDS(\"results_ranges.rds\")\n",
    "#mild vs Healthy samples DMRcate results\n",
    "MN_325<-readRDS(\"results_ranges_MN.rds\")"
   ]
  },
  {
   "cell_type": "markdown",
   "id": "c5d862fc",
   "metadata": {},
   "source": [
    "**Finding Common genes related to DMRs and meta-analysis DEGs**"
   ]
  },
  {
   "cell_type": "code",
   "execution_count": 185,
   "id": "3bb2b12f-4c35-4bf6-a586-8db17469b7b3",
   "metadata": {
    "tags": [],
    "vscode": {
     "languageId": "r"
    }
   },
   "outputs": [
    {
     "data": {
      "text/html": [
       "24616"
      ],
      "text/latex": [
       "24616"
      ],
      "text/markdown": [
       "24616"
      ],
      "text/plain": [
       "[1] 24616"
      ]
     },
     "metadata": {},
     "output_type": "display_data"
    },
    {
     "data": {
      "text/html": [
       "845"
      ],
      "text/latex": [
       "845"
      ],
      "text/markdown": [
       "845"
      ],
      "text/plain": [
       "[1] 845"
      ]
     },
     "metadata": {},
     "output_type": "display_data"
    },
    {
     "data": {
      "text/html": [
       "744"
      ],
      "text/latex": [
       "744"
      ],
      "text/markdown": [
       "744"
      ],
      "text/plain": [
       "[1] 744"
      ]
     },
     "metadata": {},
     "output_type": "display_data"
    },
    {
     "data": {
      "text/html": [
       "195"
      ],
      "text/latex": [
       "195"
      ],
      "text/markdown": [
       "195"
      ],
      "text/plain": [
       "[1] 195"
      ]
     },
     "metadata": {},
     "output_type": "display_data"
    },
    {
     "data": {
      "text/html": [
       "<style>\n",
       ".list-inline {list-style: none; margin:0; padding: 0}\n",
       ".list-inline>li {display: inline-block}\n",
       ".list-inline>li:not(:last-child)::after {content: \"\\00b7\"; padding: 0 .5ex}\n",
       "</style>\n",
       "<ol class=list-inline><li>'GSTM5'</li><li>'KAZN'</li><li>'RAB13'</li><li>'SELP'</li><li>'CACNA1E'</li><li>'RGS16'</li></ol>\n"
      ],
      "text/latex": [
       "\\begin{enumerate*}\n",
       "\\item 'GSTM5'\n",
       "\\item 'KAZN'\n",
       "\\item 'RAB13'\n",
       "\\item 'SELP'\n",
       "\\item 'CACNA1E'\n",
       "\\item 'RGS16'\n",
       "\\end{enumerate*}\n"
      ],
      "text/markdown": [
       "1. 'GSTM5'\n",
       "2. 'KAZN'\n",
       "3. 'RAB13'\n",
       "4. 'SELP'\n",
       "5. 'CACNA1E'\n",
       "6. 'RGS16'\n",
       "\n",
       "\n"
      ],
      "text/plain": [
       "[1] \"GSTM5\"   \"KAZN\"    \"RAB13\"   \"SELP\"    \"CACNA1E\" \"RGS16\"  "
      ]
     },
     "metadata": {},
     "output_type": "display_data"
    }
   ],
   "source": [
    "upMeta<-read.table(\"upMeta.txt\", header=T)\n",
    "downMeta<-read.table(\"downMeta.txt\", header=T)\n",
    "Meta<-rbind(upMeta,downMeta)\n",
    "SN_df<-data.frame(SN_325)\n",
    "# Spliting comma-separated genes\n",
    "DMR_genes <- trimws(unlist(strsplit(as.character(SN_df$overlapping.genes), \",\\\\s*\")))\n",
    "DMR_genes <- DMR_genes[DMR_genes != \"\"]  \n",
    "unique_DMR_genes <- unique(DMR_genes)     # unique genes\n",
    "deg_genes <- trimws(Meta$GeneSymbol)\n",
    "unique_deg_genes <- unique(deg_genes)     # unique DEGs\n",
    "common_genes <- intersect(unique_DMR_genes, unique_deg_genes)\n",
    "length(unique_DMR_genes)\n",
    "length(deg_genes)\n",
    "length(common_genes) \n",
    "severityDMR<-read.table(\"Severity_Genes.txt\",header=T)\n",
    "sevcommon<-intersect(severityDMR$Genes, unique_deg_genes)\n",
    "length(sevcommon)\n",
    "head(sevcommon)\n",
    "#write.table(sevcommon,\"Meta_DMR_common.txt\",row.names=F, quote=F)"
   ]
  },
  {
   "cell_type": "code",
   "execution_count": null,
   "id": "5338bb0d-f8a9-43b2-af3a-a6f8b5502aaf",
   "metadata": {
    "tags": [],
    "vscode": {
     "languageId": "r"
    }
   },
   "outputs": [],
   "source": [
    "# DMRs with 195 common genes\n",
    "library(dplyr)\n",
    "SN_df_subset <- SN_df %>%\n",
    "  mutate(genes = strsplit(overlapping.genes, \",\\\\s*\")) %>%\n",
    "  mutate(genes = lapply(genes, trimws)) %>%\n",
    "  filter(sapply(genes, function(x) any(x %in% sevcommon))) %>%\n",
    "  select(-genes)"
   ]
  },
  {
   "cell_type": "code",
   "execution_count": 182,
   "id": "ed99c489-0343-49d4-a729-7a63fd7c6c03",
   "metadata": {
    "tags": [],
    "vscode": {
     "languageId": "r"
    }
   },
   "outputs": [
    {
     "data": {
      "text/html": [
       "<table class=\"dataframe\">\n",
       "<caption>A data.frame: 1 × 13</caption>\n",
       "<thead>\n",
       "\t<tr><th></th><th scope=col>seqnames</th><th scope=col>start</th><th scope=col>end</th><th scope=col>width</th><th scope=col>strand</th><th scope=col>no.cpgs</th><th scope=col>min_smoothed_fdr</th><th scope=col>Stouffer</th><th scope=col>HMFDR</th><th scope=col>Fisher</th><th scope=col>maxdiff</th><th scope=col>meandiff</th><th scope=col>overlapping.genes</th></tr>\n",
       "\t<tr><th></th><th scope=col>&lt;fct&gt;</th><th scope=col>&lt;int&gt;</th><th scope=col>&lt;int&gt;</th><th scope=col>&lt;int&gt;</th><th scope=col>&lt;fct&gt;</th><th scope=col>&lt;int&gt;</th><th scope=col>&lt;dbl&gt;</th><th scope=col>&lt;dbl&gt;</th><th scope=col>&lt;dbl&gt;</th><th scope=col>&lt;dbl&gt;</th><th scope=col>&lt;dbl&gt;</th><th scope=col>&lt;dbl&gt;</th><th scope=col>&lt;chr&gt;</th></tr>\n",
       "</thead>\n",
       "<tbody>\n",
       "\t<tr><th scope=row>203</th><td>chr17</td><td>73727533</td><td>73728061</td><td>529</td><td>*</td><td>5</td><td>7.41979e-14</td><td>0.0009751976</td><td>1.516993e-11</td><td>8.402872e-10</td><td>-0.0721043</td><td>-0.01610515</td><td>ITGB4</td></tr>\n",
       "</tbody>\n",
       "</table>\n"
      ],
      "text/latex": [
       "A data.frame: 1 × 13\n",
       "\\begin{tabular}{r|lllllllllllll}\n",
       "  & seqnames & start & end & width & strand & no.cpgs & min\\_smoothed\\_fdr & Stouffer & HMFDR & Fisher & maxdiff & meandiff & overlapping.genes\\\\\n",
       "  & <fct> & <int> & <int> & <int> & <fct> & <int> & <dbl> & <dbl> & <dbl> & <dbl> & <dbl> & <dbl> & <chr>\\\\\n",
       "\\hline\n",
       "\t203 & chr17 & 73727533 & 73728061 & 529 & * & 5 & 7.41979e-14 & 0.0009751976 & 1.516993e-11 & 8.402872e-10 & -0.0721043 & -0.01610515 & ITGB4\\\\\n",
       "\\end{tabular}\n"
      ],
      "text/markdown": [
       "\n",
       "A data.frame: 1 × 13\n",
       "\n",
       "| <!--/--> | seqnames &lt;fct&gt; | start &lt;int&gt; | end &lt;int&gt; | width &lt;int&gt; | strand &lt;fct&gt; | no.cpgs &lt;int&gt; | min_smoothed_fdr &lt;dbl&gt; | Stouffer &lt;dbl&gt; | HMFDR &lt;dbl&gt; | Fisher &lt;dbl&gt; | maxdiff &lt;dbl&gt; | meandiff &lt;dbl&gt; | overlapping.genes &lt;chr&gt; |\n",
       "|---|---|---|---|---|---|---|---|---|---|---|---|---|---|\n",
       "| 203 | chr17 | 73727533 | 73728061 | 529 | * | 5 | 7.41979e-14 | 0.0009751976 | 1.516993e-11 | 8.402872e-10 | -0.0721043 | -0.01610515 | ITGB4 |\n",
       "\n"
      ],
      "text/plain": [
       "    seqnames start    end      width strand no.cpgs min_smoothed_fdr\n",
       "203 chr17    73727533 73728061 529   *      5       7.41979e-14     \n",
       "    Stouffer     HMFDR        Fisher       maxdiff    meandiff   \n",
       "203 0.0009751976 1.516993e-11 8.402872e-10 -0.0721043 -0.01610515\n",
       "    overlapping.genes\n",
       "203 ITGB4            "
      ]
     },
     "metadata": {},
     "output_type": "display_data"
    }
   ],
   "source": [
    "#sorting based on HFDMR\n",
    "SN_df_subset_sorted <- SN_df_subset[order(SN_df_subset$HMFDR), ]\n",
    "SN_df_subset_sorted[70,] #example"
   ]
  },
  {
   "cell_type": "code",
   "execution_count": 203,
   "id": "81027b0f-1c8f-4ef1-82fc-70301f232ba0",
   "metadata": {
    "tags": [],
    "vscode": {
     "languageId": "r"
    }
   },
   "outputs": [
    {
     "data": {
      "image/png": "[encoded data removed]",
      "text/plain": [
       "plot without title"
      ]
     },
     "metadata": {
      "image/png": {
       "height": 420,
       "width": 420
      }
     },
     "output_type": "display_data"
    }
   ],
   "source": [
    "#loading group mean methylation of all cpgs\n",
    "CpGmean <- fread(\"CpGmean.csv\")\n",
    "\n",
    "# EPIC annotation.\n",
    "epi_anno <- getAnnotation(IlluminaHumanMethylationEPICanno.ilm10b4.hg19)\n",
    "epi_anno_df <- as.data.frame(epi_anno)\n",
    "#  renaming the CpG column to \"Name\" (to matches with annotation) \n",
    "CpGmean_renamed <- CpGmean %>%\n",
    "  rename(Name = CpG)\n",
    "CpGmean_annotated <- inner_join(CpGmean_renamed, epi_anno_df[, c(\"Name\", \"chr\", \"pos\")], by = \"Name\")\n",
    "selected_dmr <- SN_df_subset_sorted[33, ]  #example: selected DMR\n",
    "dmr_chr   <- as.character(selected_dmr$seqnames)\n",
    "dmr_start <- selected_dmr$start\n",
    "dmr_end   <- selected_dmr$end\n",
    "#  CpGs within the DMR region.\n",
    "buffer <- 30  \n",
    "subset_CpGs <- CpGmean_annotated %>%\n",
    "  filter(chr == dmr_chr,\n",
    "         pos >= (dmr_start - buffer),\n",
    "         pos <= (dmr_end + buffer))\n",
    "if(nrow(subset_CpGs) == 0){  stop(\"No CpGs found in the selected DMR region.\")}\n",
    "\n",
    "CpG_long <- subset_CpGs %>%\n",
    "  pivot_longer(\n",
    "    cols = c(\"mean_NEGATIVE\", \"mean_MILD\", \"mean_SEVERE\"),\n",
    "    names_to = \"Group\",\n",
    "    values_to = \"MeanMethylation\"  )\n",
    "CpG_long$Group <- gsub(\"mean_\", \"\", CpG_long$Group)\n",
    "# plotting\n",
    "ggplot(CpG_long, aes(x = pos, y = MeanMethylation, color = Group)) +\n",
    "  geom_line(size = 1) +\n",
    "  geom_point() +\n",
    "  labs(\n",
    "    title = paste(\"CpG Methylation in DMR on\", dmr_chr, \":\", dmr_start, \"-\", dmr_end),\n",
    "    x = \"Genomic Position\",\n",
    "    y = \"Mean Methylation\",\n",
    "    color = \"Group\"\n",
    "  ) +\n",
    "  theme_classic()\n",
    "  #saving plot\n",
    "output_file <- \"DMR_CpG_Methylation.png\"\n",
    "ggsave(output_file, width = 12, height = 4, dpi = 300)"
   ]
  },
  {
   "cell_type": "code",
   "execution_count": 197,
   "id": "06452820-2cad-42d0-bef9-a4edcaebb1ae",
   "metadata": {
    "tags": [],
    "vscode": {
     "languageId": "r"
    }
   },
   "outputs": [],
   "source": [
    "**Annotation**"
   ]
  },
  {
   "cell_type": "code",
   "execution_count": null,
   "id": "8b22c339-e387-457b-8ba7-93c172ce5b01",
   "metadata": {
    "tags": [],
    "vscode": {
     "languageId": "r"
    }
   },
   "outputs": [],
   "source": [
    "#annotation using annotatr\n",
    "df<-SN_df_subset_sorted[55,c(1,2,3,5,9)]\n",
    "colnames(df)<-c(\"chromosome\", \"st\", \"en\", \"rand\", \"HMFDR\")\n",
    "Grange<-makeGRangesFromDataFrame(df, keep.extra.columns=TRUE, ignore.strand=TRUE, seqinfo=NULL,\n",
    "                                 seqnames.field=\"chromosome\",\n",
    "                                 start.field=\"st\", end.field=\"en\" , strand.field=\"rand\", starts.in.df.are.0based=FALSE)\n",
    "####all possible annotations: 'hg19_cpgs' , 'hg19_basicgenes', 'hg19_genes_intergenic',\n",
    "##'hg19_enhancers_fantom','hg19_genes_firstexons', 'hg19_genes_intronexonboundaries','hg19_lncrna_gencode'\n",
    "annots = c('hg19_basicgenes')\n",
    "#BiocManager::install(\"TxDb.Hsapiens.UCSC.hg19.knownGene\")      #Exposes an annotation databases generated from UCSC by exposing these as TxDb objects\n",
    "#BiocManager::install(\"org.Hs.eg.db\")                           #Genome wide annotation for Human\n",
    "annotations = build_annotations(genome = 'hg19', annotations = annots)\n",
    "dm_annotated = annotate_regions(regions = Grange,  annotations = annotations,  ignore.strand = TRUE,  quiet = FALSE)\n",
    "df_dm_annotated = data.frame(dm_annotated)  # Coerce to a data.frame\n",
    "dim(df_dm_annotated)\n",
    "# Filtering rows where \"annot.type\" contains the word \"promoter\"\n",
    "df_promoter <- df_dm_annotated[grepl(\"promoter\", df_dm_annotated$annot.type), ]"
   ]
  },
  {
   "cell_type": "markdown",
   "id": "ac094c00",
   "metadata": {},
   "source": [
    "**Finding CpG position in a selected DMR**"
   ]
  },
  {
   "cell_type": "code",
   "execution_count": 218,
   "id": "d7eed4b1-f083-4ac2-a0f2-acf9e49a2102",
   "metadata": {
    "tags": [],
    "vscode": {
     "languageId": "r"
    }
   },
   "outputs": [
    {
     "data": {
      "text/html": [
       "<table class=\"dataframe\">\n",
       "<caption>A data.frame: 5 × 20</caption>\n",
       "<thead>\n",
       "\t<tr><th></th><th scope=col>Islands_Name</th><th scope=col>Relation_to_Island</th><th scope=col>UCSC_RefGene_Name</th><th scope=col>UCSC_RefGene_Group</th><th scope=col>Phantom4_Enhancers</th><th scope=col>Phantom5_Enhancers</th><th scope=col>DMR</th><th scope=col>X450k_Enhancer</th><th scope=col>HMM_Island</th><th scope=col>Regulatory_Feature_Name</th><th scope=col>Regulatory_Feature_Group</th><th scope=col>GencodeBasicV12_NAME</th><th scope=col>GencodeBasicV12_Accession</th><th scope=col>GencodeBasicV12_Group</th><th scope=col>GencodeCompV12_NAME</th><th scope=col>GencodeCompV12_Group</th><th scope=col>DNase_Hypersensitivity_NAME</th><th scope=col>DNase_Hypersensitivity_Evidence_Count</th><th scope=col>OpenChromatin_NAME</th><th scope=col>OpenChromatin_Evidence_Count</th></tr>\n",
       "\t<tr><th></th><th scope=col>&lt;chr&gt;</th><th scope=col>&lt;chr&gt;</th><th scope=col>&lt;chr&gt;</th><th scope=col>&lt;chr&gt;</th><th scope=col>&lt;chr&gt;</th><th scope=col>&lt;chr&gt;</th><th scope=col>&lt;chr&gt;</th><th scope=col>&lt;chr&gt;</th><th scope=col>&lt;chr&gt;</th><th scope=col>&lt;chr&gt;</th><th scope=col>&lt;chr&gt;</th><th scope=col>&lt;chr&gt;</th><th scope=col>&lt;chr&gt;</th><th scope=col>&lt;chr&gt;</th><th scope=col>&lt;chr&gt;</th><th scope=col>&lt;chr&gt;</th><th scope=col>&lt;chr&gt;</th><th scope=col>&lt;chr&gt;</th><th scope=col>&lt;chr&gt;</th><th scope=col>&lt;chr&gt;</th></tr>\n",
       "</thead>\n",
       "<tbody>\n",
       "\t<tr><th scope=row>cg14601050</th><td>chr17:73726238-73726526</td><td>S_Shore</td><td>ITGB4;ITGB4;ITGB4</td><td>Body;Body;Body</td><td></td><td></td><td></td><td></td><td>17:71239030-71239326</td><td></td><td></td><td>     </td><td>                 </td><td>       </td><td>     </td><td>       </td><td>chr17:73727420-73727950</td><td>3</td><td>                       </td><td> </td></tr>\n",
       "\t<tr><th scope=row>cg24037380</th><td>chr17:73726238-73726526</td><td>S_Shore</td><td>ITGB4;ITGB4;ITGB4</td><td>Body;Body;Body</td><td></td><td></td><td></td><td></td><td>17:71239474-71239672</td><td></td><td></td><td>ITGB4</td><td>ENST00000450894.2</td><td>ExonBnd</td><td>ITGB4</td><td>ExonBnd</td><td>chr17:73727420-73727950</td><td>3</td><td>                       </td><td> </td></tr>\n",
       "\t<tr><th scope=row>cg26314765</th><td>chr17:73726238-73726526</td><td>S_Shore</td><td>ITGB4;ITGB4;ITGB4</td><td>Body;Body;Body</td><td></td><td></td><td></td><td></td><td>17:71239474-71239672</td><td></td><td></td><td>     </td><td>                 </td><td>       </td><td>     </td><td>       </td><td>                       </td><td> </td><td>chr17:73725998-73728869</td><td>6</td></tr>\n",
       "\t<tr><th scope=row>cg27029445</th><td>chr17:73726238-73726526</td><td>S_Shore</td><td>ITGB4;ITGB4;ITGB4</td><td>Body;Body;Body</td><td></td><td></td><td></td><td></td><td>17:71239030-71239326</td><td></td><td></td><td>     </td><td>                 </td><td>       </td><td>     </td><td>       </td><td>chr17:73727420-73727950</td><td>3</td><td>                       </td><td> </td></tr>\n",
       "\t<tr><th scope=row>cg20942310</th><td>chr17:73726238-73726526</td><td>S_Shore</td><td>ITGB4;ITGB4;ITGB4</td><td>Body;Body;Body</td><td></td><td></td><td></td><td></td><td>17:71239474-71239672</td><td></td><td></td><td>ITGB4</td><td>ENST00000450894.2</td><td>ExonBnd</td><td>ITGB4</td><td>ExonBnd</td><td>chr17:73728005-73728230</td><td>3</td><td>                       </td><td> </td></tr>\n",
       "</tbody>\n",
       "</table>\n"
      ],
      "text/latex": [
       "A data.frame: 5 × 20\n",
       "\\begin{tabular}{r|llllllllllllllllllll}\n",
       "  & Islands\\_Name & Relation\\_to\\_Island & UCSC\\_RefGene\\_Name & UCSC\\_RefGene\\_Group & Phantom4\\_Enhancers & Phantom5\\_Enhancers & DMR & X450k\\_Enhancer & HMM\\_Island & Regulatory\\_Feature\\_Name & Regulatory\\_Feature\\_Group & GencodeBasicV12\\_NAME & GencodeBasicV12\\_Accession & GencodeBasicV12\\_Group & GencodeCompV12\\_NAME & GencodeCompV12\\_Group & DNase\\_Hypersensitivity\\_NAME & DNase\\_Hypersensitivity\\_Evidence\\_Count & OpenChromatin\\_NAME & OpenChromatin\\_Evidence\\_Count\\\\\n",
       "  & <chr> & <chr> & <chr> & <chr> & <chr> & <chr> & <chr> & <chr> & <chr> & <chr> & <chr> & <chr> & <chr> & <chr> & <chr> & <chr> & <chr> & <chr> & <chr> & <chr>\\\\\n",
       "\\hline\n",
       "\tcg14601050 & chr17:73726238-73726526 & S\\_Shore & ITGB4;ITGB4;ITGB4 & Body;Body;Body &  &  &  &  & 17:71239030-71239326 &  &  &       &                   &         &       &         & chr17:73727420-73727950 & 3 &                         &  \\\\\n",
       "\tcg24037380 & chr17:73726238-73726526 & S\\_Shore & ITGB4;ITGB4;ITGB4 & Body;Body;Body &  &  &  &  & 17:71239474-71239672 &  &  & ITGB4 & ENST00000450894.2 & ExonBnd & ITGB4 & ExonBnd & chr17:73727420-73727950 & 3 &                         &  \\\\\n",
       "\tcg26314765 & chr17:73726238-73726526 & S\\_Shore & ITGB4;ITGB4;ITGB4 & Body;Body;Body &  &  &  &  & 17:71239474-71239672 &  &  &       &                   &         &       &         &                         &   & chr17:73725998-73728869 & 6\\\\\n",
       "\tcg27029445 & chr17:73726238-73726526 & S\\_Shore & ITGB4;ITGB4;ITGB4 & Body;Body;Body &  &  &  &  & 17:71239030-71239326 &  &  &       &                   &         &       &         & chr17:73727420-73727950 & 3 &                         &  \\\\\n",
       "\tcg20942310 & chr17:73726238-73726526 & S\\_Shore & ITGB4;ITGB4;ITGB4 & Body;Body;Body &  &  &  &  & 17:71239474-71239672 &  &  & ITGB4 & ENST00000450894.2 & ExonBnd & ITGB4 & ExonBnd & chr17:73728005-73728230 & 3 &                         &  \\\\\n",
       "\\end{tabular}\n"
      ],
      "text/markdown": [
       "\n",
       "A data.frame: 5 × 20\n",
       "\n",
       "| <!--/--> | Islands_Name &lt;chr&gt; | Relation_to_Island &lt;chr&gt; | UCSC_RefGene_Name &lt;chr&gt; | UCSC_RefGene_Group &lt;chr&gt; | Phantom4_Enhancers &lt;chr&gt; | Phantom5_Enhancers &lt;chr&gt; | DMR &lt;chr&gt; | X450k_Enhancer &lt;chr&gt; | HMM_Island &lt;chr&gt; | Regulatory_Feature_Name &lt;chr&gt; | Regulatory_Feature_Group &lt;chr&gt; | GencodeBasicV12_NAME &lt;chr&gt; | GencodeBasicV12_Accession &lt;chr&gt; | GencodeBasicV12_Group &lt;chr&gt; | GencodeCompV12_NAME &lt;chr&gt; | GencodeCompV12_Group &lt;chr&gt; | DNase_Hypersensitivity_NAME &lt;chr&gt; | DNase_Hypersensitivity_Evidence_Count &lt;chr&gt; | OpenChromatin_NAME &lt;chr&gt; | OpenChromatin_Evidence_Count &lt;chr&gt; |\n",
       "|---|---|---|---|---|---|---|---|---|---|---|---|---|---|---|---|---|---|---|---|---|\n",
       "| cg14601050 | chr17:73726238-73726526 | S_Shore | ITGB4;ITGB4;ITGB4 | Body;Body;Body | <!----> | <!----> | <!----> | <!----> | 17:71239030-71239326 | <!----> | <!----> | <!----> | <!----> | <!----> | <!----> | <!----> | chr17:73727420-73727950 | 3 | <!----> | <!----> |\n",
       "| cg24037380 | chr17:73726238-73726526 | S_Shore | ITGB4;ITGB4;ITGB4 | Body;Body;Body | <!----> | <!----> | <!----> | <!----> | 17:71239474-71239672 | <!----> | <!----> | ITGB4 | ENST00000450894.2 | ExonBnd | ITGB4 | ExonBnd | chr17:73727420-73727950 | 3 | <!----> | <!----> |\n",
       "| cg26314765 | chr17:73726238-73726526 | S_Shore | ITGB4;ITGB4;ITGB4 | Body;Body;Body | <!----> | <!----> | <!----> | <!----> | 17:71239474-71239672 | <!----> | <!----> | <!----> | <!----> | <!----> | <!----> | <!----> | <!----> | <!----> | chr17:73725998-73728869 | 6 |\n",
       "| cg27029445 | chr17:73726238-73726526 | S_Shore | ITGB4;ITGB4;ITGB4 | Body;Body;Body | <!----> | <!----> | <!----> | <!----> | 17:71239030-71239326 | <!----> | <!----> | <!----> | <!----> | <!----> | <!----> | <!----> | chr17:73727420-73727950 | 3 | <!----> | <!----> |\n",
       "| cg20942310 | chr17:73726238-73726526 | S_Shore | ITGB4;ITGB4;ITGB4 | Body;Body;Body | <!----> | <!----> | <!----> | <!----> | 17:71239474-71239672 | <!----> | <!----> | ITGB4 | ENST00000450894.2 | ExonBnd | ITGB4 | ExonBnd | chr17:73728005-73728230 | 3 | <!----> | <!----> |\n",
       "\n"
      ],
      "text/plain": [
       "           Islands_Name            Relation_to_Island UCSC_RefGene_Name\n",
       "cg14601050 chr17:73726238-73726526 S_Shore            ITGB4;ITGB4;ITGB4\n",
       "cg24037380 chr17:73726238-73726526 S_Shore            ITGB4;ITGB4;ITGB4\n",
       "cg26314765 chr17:73726238-73726526 S_Shore            ITGB4;ITGB4;ITGB4\n",
       "cg27029445 chr17:73726238-73726526 S_Shore            ITGB4;ITGB4;ITGB4\n",
       "cg20942310 chr17:73726238-73726526 S_Shore            ITGB4;ITGB4;ITGB4\n",
       "           UCSC_RefGene_Group Phantom4_Enhancers Phantom5_Enhancers DMR\n",
       "cg14601050 Body;Body;Body                                              \n",
       "cg24037380 Body;Body;Body                                              \n",
       "cg26314765 Body;Body;Body                                              \n",
       "cg27029445 Body;Body;Body                                              \n",
       "cg20942310 Body;Body;Body                                              \n",
       "           X450k_Enhancer HMM_Island           Regulatory_Feature_Name\n",
       "cg14601050                17:71239030-71239326                        \n",
       "cg24037380                17:71239474-71239672                        \n",
       "cg26314765                17:71239474-71239672                        \n",
       "cg27029445                17:71239030-71239326                        \n",
       "cg20942310                17:71239474-71239672                        \n",
       "           Regulatory_Feature_Group GencodeBasicV12_NAME\n",
       "cg14601050                                              \n",
       "cg24037380                          ITGB4               \n",
       "cg26314765                                              \n",
       "cg27029445                                              \n",
       "cg20942310                          ITGB4               \n",
       "           GencodeBasicV12_Accession GencodeBasicV12_Group GencodeCompV12_NAME\n",
       "cg14601050                                                                    \n",
       "cg24037380 ENST00000450894.2         ExonBnd               ITGB4              \n",
       "cg26314765                                                                    \n",
       "cg27029445                                                                    \n",
       "cg20942310 ENST00000450894.2         ExonBnd               ITGB4              \n",
       "           GencodeCompV12_Group DNase_Hypersensitivity_NAME\n",
       "cg14601050                      chr17:73727420-73727950    \n",
       "cg24037380 ExonBnd              chr17:73727420-73727950    \n",
       "cg26314765                                                 \n",
       "cg27029445                      chr17:73727420-73727950    \n",
       "cg20942310 ExonBnd              chr17:73728005-73728230    \n",
       "           DNase_Hypersensitivity_Evidence_Count OpenChromatin_NAME     \n",
       "cg14601050 3                                                            \n",
       "cg24037380 3                                                            \n",
       "cg26314765                                       chr17:73725998-73728869\n",
       "cg27029445 3                                                            \n",
       "cg20942310 3                                                            \n",
       "           OpenChromatin_Evidence_Count\n",
       "cg14601050                             \n",
       "cg24037380                             \n",
       "cg26314765 6                           \n",
       "cg27029445                             \n",
       "cg20942310                             "
      ]
     },
     "metadata": {},
     "output_type": "display_data"
    },
    {
     "name": "stdout",
     "output_type": "stream",
     "text": [
      "[1] 73727533 73727879 73727957 73727713 73728061\n"
     ]
    },
    {
     "data": {
      "text/html": [
       "<style>\n",
       ".list-inline {list-style: none; margin:0; padding: 0}\n",
       ".list-inline>li {display: inline-block}\n",
       ".list-inline>li:not(:last-child)::after {content: \"\\00b7\"; padding: 0 .5ex}\n",
       "</style>\n",
       "<ol class=list-inline><li>5</li><li>46</li></ol>\n"
      ],
      "text/latex": [
       "\\begin{enumerate*}\n",
       "\\item 5\n",
       "\\item 46\n",
       "\\end{enumerate*}\n"
      ],
      "text/markdown": [
       "1. 5\n",
       "2. 46\n",
       "\n",
       "\n"
      ],
      "text/plain": [
       "[1]  5 46"
      ]
     },
     "metadata": {},
     "output_type": "display_data"
    }
   ],
   "source": [
    "#Finding CpG position in a selected DMR to design primers\n",
    "\n",
    "# selected DMR (row 55 in this case)\n",
    "selected_dmr <- SN_df_subset_sorted[55, ]\n",
    "dmr_chr   <- as.character(selected_dmr$seqnames)\n",
    "dmr_start <- selected_dmr$start\n",
    "dmr_end   <- selected_dmr$end\n",
    "# EPIC annot dataframe\n",
    "epi_anno_df <- as.data.frame(getAnnotation(IlluminaHumanMethylationEPICanno.ilm10b4.hg19))\n",
    "\n",
    "#  Filtering the annotation to find CpGs within DMR region\n",
    "cpgs_in_dmr <- epi_anno_df %>%\n",
    "  filter(chr == dmr_chr,\n",
    "         pos >= dmr_start,\n",
    "         pos <= dmr_end)\n",
    "\n",
    "#  CpG names and positions within the DMR\n",
    "cpgs_in_dmr[,-c(1:17,20:21,23,36,42:46)]\n",
    "\n",
    "# Optionally, if you just want a vector of positions:\n",
    "cpg_positions <- cpgs_in_dmr$pos\n",
    "print(cpg_positions)\n",
    "dim(cpgs_in_dmr)"
   ]
  },
  {
   "cell_type": "code",
   "execution_count": null,
   "id": "adf76fc1-c20c-4810-81bb-95982debd998",
   "metadata": {
    "tags": [],
    "vscode": {
     "languageId": "r"
    }
   },
   "outputs": [],
   "source": [
    "#downloading DMR sequence to design primers\n",
    "#chr20: 25387840-25388641 \n",
    "library(BSgenome.Hsapiens.UCSC.hg19) \n",
    "seq <- getSeq(Hsapiens, \"chr20\", start=25387840, end=25388641)\n",
    "writeXStringSet(seq, \"DMR_chr20.fasta\")"
   ]
  }
 ],
 "metadata": {
  "kernelspec": {
   "display_name": "R",
   "language": "R",
   "name": "ir"
  },
  "language_info": {
   "codemirror_mode": "r",
   "file_extension": ".r",
   "mimetype": "text/x-r-source",
   "name": "R",
   "pygments_lexer": "r",
   "version": "4.3.1"
  }
 },
 "nbformat": 4,
 "nbformat_minor": 5
}
