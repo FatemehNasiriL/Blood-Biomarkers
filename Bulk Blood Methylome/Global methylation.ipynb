{
 "cells": [
  {
   "cell_type": "markdown",
   "id": "04abd421",
   "metadata": {},
   "source": [
    "**Loading data and metadata**"
   ]
  },
  {
   "cell_type": "code",
   "execution_count": null,
   "id": "3ae5cd59",
   "metadata": {
    "vscode": {
     "languageId": "r"
    }
   },
   "outputs": [],
   "source": [
    "#  Illumina Infinium MethylationEPIC Beadchip data from 473 positive and 101 negative SARS-CoV-2 individuals \n",
    "GSE179325<-fread(\"path\",header=T)  # check folder's readme to find data address\n",
    "GSE179325 <- as.data.frame(GSE179325)\n",
    "rownames(GSE179325) <- GSE179325$ID\n",
    "\n",
    "# metadata list\n",
    "metaGSE179325_list <- readLines(\"path\") # check folder's readme to find data address\n",
    "length(metaGSE179325_list)\n",
    "# Severity inf: element 42 in list\n",
    "metadata_string <- metaGSE179325_list[[42]]\n",
    "metadata_split <- strsplit(metadata_string, \"\\t\")[[1]]\n",
    "disease_states <- metadata_split[-1]\n",
    "disease_states <- gsub(\"disease state: \", \"\", disease_states)\n",
    "disease_states <- trimws(disease_states)\n",
    "table(disease_states)  # Check distribution of NEGATIVE, MILD, SEVERE\n",
    "sample_info<-cbind(colnames(GSE179325[, -1]),disease_states)\n",
    "colnames(sample_info)<- c(\"Sample_Name\",\"Group\")\n",
    "sample_info<- as.data.frame(sample_info)"
   ]
  },
  {
   "cell_type": "markdown",
   "id": "b571c2b4",
   "metadata": {},
   "source": [
    "**Global methylation changes**"
   ]
  },
  {
   "cell_type": "code",
   "execution_count": null,
   "id": "d78a75b7-6eb4-4827-8506-a8855bfb6e25",
   "metadata": {
    "vscode": {
     "languageId": "r"
    }
   },
   "outputs": [],
   "source": [
    "\n",
    "# mean methylation per sample\n",
    "mean_methylation_per_sample <- colMeans(GSE179325[, -1], na.rm = TRUE) \n",
    "sample_info$Mean_Methylation <- mean_methylation_per_sample[match(sample_info$Sample_Name, names(mean_methylation_per_sample))]\n",
    "\n",
    "#  mean methylation per group\n",
    "mean_methylation_per_group <- aggregate(Mean_Methylation ~ Group, data = sample_info, FUN = mean, na.rm=TRUE)\n",
    "print(mean_methylation_per_group)\n",
    "\n",
    "#  standard deviation per group \n",
    "sd_methylation_per_group <- aggregate(Mean_Methylation ~ Group, data = sample_info, FUN = sd, na.rm=TRUE)\n",
    "print(sd_methylation_per_group)\n",
    "\n",
    "# statistical testing \n",
    "kruskal.test(Mean_Methylation ~ Group, data = sample_info) \n",
    "pairwise.wilcox.test(sample_info$Mean_Methylation, sample_info$Group, p.adjust.method = \"bonferroni\") # Pairwise comparisons"
   ]
  },
  {
   "cell_type": "markdown",
   "id": "a486dad9",
   "metadata": {},
   "source": [
    "**Visualisation**"
   ]
  },
  {
   "cell_type": "code",
   "execution_count": null,
   "id": "4daaac76-fc7d-41d8-b00b-fb949cae3f73",
   "metadata": {
    "vscode": {
     "languageId": "r"
    }
   },
   "outputs": [],
   "source": [
    "#  violin plot of global methylation\n",
    "library(ggplot2)\n",
    "\n",
    "ggplot(sample_info, aes(x = Group, y = Mean_Methylation, fill = Group)) + \n",
    "  geom_violin(trim = FALSE) + \n",
    "  geom_boxplot(width = 0.1, fill = \"white\") + \n",
    "  scale_fill_manual(values = c(\"lightblue\", \"lightgreen\", \"lightcoral\")) + \n",
    "  labs(title = \"Mean Methylation per Group (Violin Plot)\", x = \"Group\", y = \"Mean Methylation\") +\n",
    "  theme_bw() +  \n",
    "  theme(legend.position = \"none\",\n",
    "        axis.text = element_text(size = 12), \n",
    "        axis.title = element_text(size = 14), \n",
    "        title = element_text(size = 16))  "
   ]
  }
 ],
 "metadata": {
  "kernelspec": {
   "display_name": "R",
   "language": "R",
   "name": "ir"
  },
  "language_info": {
   "codemirror_mode": "r",
   "file_extension": ".r",
   "mimetype": "text/x-r-source",
   "name": "R",
   "pygments_lexer": "r",
   "version": "4.3.1"
  }
 },
 "nbformat": 4,
 "nbformat_minor": 5
}
