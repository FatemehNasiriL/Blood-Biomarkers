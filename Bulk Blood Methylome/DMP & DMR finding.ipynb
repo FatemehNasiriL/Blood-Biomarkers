{
 "cells": [
  {
   "cell_type": "markdown",
   "id": "d9bc1db4",
   "metadata": {},
   "source": [
    "**Dependencies**"
   ]
  },
  {
   "cell_type": "code",
   "execution_count": null,
   "id": "e3b45fc3",
   "metadata": {
    "vscode": {
     "languageId": "r"
    }
   },
   "outputs": [],
   "source": [
    "library(data.table)\n",
    "library(limma)\n",
    "library(DMRcate)\n",
    "library(minfi)\n",
    "library(GenomicRanges)\n",
    "library(RColorBrewer)\n",
    "library(IlluminaHumanMethylationEPICanno.ilm10b4.hg19)"
   ]
  },
  {
   "cell_type": "markdown",
   "id": "caec289a",
   "metadata": {},
   "source": [
    "**Loading data and metadata**"
   ]
  },
  {
   "cell_type": "code",
   "execution_count": 3,
   "id": "025a74b5-fda6-4569-ae8f-067275fade58",
   "metadata": {
    "tags": [],
    "vscode": {
     "languageId": "r"
    }
   },
   "outputs": [],
   "source": [
    "#  Illumina Infinium MethylationEPIC Beadchip data from 473 positive and 101 negative SARS-CoV-2 individuals \n",
    "GSE179325<-fread(\"path\",header=T)  # check folder's readme to find data address\n",
    "GSE179325 <- as.data.frame(GSE179325)\n",
    "rownames(GSE179325) <- GSE179325$ID\n",
    "\n",
    "# Converting beta values to M-values \n",
    "beta_values <- GSE179325[, -1] \n",
    "m_values <- log2(beta_values / (1 - beta_values))"
   ]
  },
  {
   "cell_type": "code",
   "execution_count": 15,
   "id": "d8484fdc-f4ac-4cee-b001-caa4b6f49315",
   "metadata": {
    "scrolled": true,
    "tags": [],
    "vscode": {
     "languageId": "r"
    }
   },
   "outputs": [
    {
     "data": {
      "text/html": [
       "69"
      ],
      "text/latex": [
       "69"
      ],
      "text/markdown": [
       "69"
      ],
      "text/plain": [
       "[1] 69"
      ]
     },
     "metadata": {},
     "output_type": "display_data"
    },
    {
     "data": {
      "text/html": [
       "<style>\n",
       ".list-inline {list-style: none; margin:0; padding: 0}\n",
       ".list-inline>li {display: inline-block}\n",
       ".list-inline>li:not(:last-child)::after {content: \"\\00b7\"; padding: 0 .5ex}\n",
       "</style>\n",
       "<ol class=list-inline><li>'\"SEVERE\"'</li><li>'\"MILD\"'</li><li>'\"MILD\"'</li><li>'\"SEVERE\"'</li><li>'\"MILD\"'</li><li>'\"SEVERE\"'</li></ol>\n"
      ],
      "text/latex": [
       "\\begin{enumerate*}\n",
       "\\item '\"SEVERE\"'\n",
       "\\item '\"MILD\"'\n",
       "\\item '\"MILD\"'\n",
       "\\item '\"SEVERE\"'\n",
       "\\item '\"MILD\"'\n",
       "\\item '\"SEVERE\"'\n",
       "\\end{enumerate*}\n"
      ],
      "text/markdown": [
       "1. '\"SEVERE\"'\n",
       "2. '\"MILD\"'\n",
       "3. '\"MILD\"'\n",
       "4. '\"SEVERE\"'\n",
       "5. '\"MILD\"'\n",
       "6. '\"SEVERE\"'\n",
       "\n",
       "\n"
      ],
      "text/plain": [
       "[1] \"\\\"SEVERE\\\"\" \"\\\"MILD\\\"\"   \"\\\"MILD\\\"\"   \"\\\"SEVERE\\\"\" \"\\\"MILD\\\"\"  \n",
       "[6] \"\\\"SEVERE\\\"\""
      ]
     },
     "metadata": {},
     "output_type": "display_data"
    },
    {
     "data": {
      "text/html": [
       "574"
      ],
      "text/latex": [
       "574"
      ],
      "text/markdown": [
       "574"
      ],
      "text/plain": [
       "[1] 574"
      ]
     },
     "metadata": {},
     "output_type": "display_data"
    },
    {
     "data": {
      "text/plain": [
       "disease_states\n",
       "    \"MILD\" \"NEGATIVE\"   \"SEVERE\" \n",
       "       360        101        113 "
      ]
     },
     "metadata": {},
     "output_type": "display_data"
    }
   ],
   "source": [
    "# metadata list\n",
    "metaGSE179325_list <- readLines(\"path\") # check folder's readme to find data address\n",
    "length(metaGSE179325_list)\n",
    "# Severity inf: element 42 in list\n",
    "metadata_string <- metaGSE179325_list[[42]]\n",
    "metadata_split <- strsplit(metadata_string, \"\\t\")[[1]]\n",
    "disease_states <- metadata_split[-1]\n",
    "disease_states <- gsub(\"disease state: \", \"\", disease_states)\n",
    "disease_states <- trimws(disease_states)\n",
    "head(disease_states)\n",
    "length(disease_states)  \n",
    "table(disease_states)  "
   ]
  },
  {
   "cell_type": "code",
   "execution_count": 16,
   "id": "ba9f00c6-e92b-4771-9d1c-16251a3cd769",
   "metadata": {
    "tags": [],
    "vscode": {
     "languageId": "r"
    }
   },
   "outputs": [
    {
     "data": {
      "text/html": [
       "<table class=\"dataframe\">\n",
       "<caption>A data.frame: 6 × 2</caption>\n",
       "<thead>\n",
       "\t<tr><th></th><th scope=col>Sample_Name</th><th scope=col>Group</th></tr>\n",
       "\t<tr><th></th><th scope=col>&lt;chr&gt;</th><th scope=col>&lt;chr&gt;</th></tr>\n",
       "</thead>\n",
       "<tbody>\n",
       "\t<tr><th scope=row>1</th><td>100120</td><td>\"SEVERE\"</td></tr>\n",
       "\t<tr><th scope=row>2</th><td>100165</td><td>\"MILD\"  </td></tr>\n",
       "\t<tr><th scope=row>3</th><td>101417</td><td>\"MILD\"  </td></tr>\n",
       "\t<tr><th scope=row>4</th><td>101573</td><td>\"SEVERE\"</td></tr>\n",
       "\t<tr><th scope=row>5</th><td>103811</td><td>\"MILD\"  </td></tr>\n",
       "\t<tr><th scope=row>6</th><td>104111</td><td>\"SEVERE\"</td></tr>\n",
       "</tbody>\n",
       "</table>\n"
      ],
      "text/latex": [
       "A data.frame: 6 × 2\n",
       "\\begin{tabular}{r|ll}\n",
       "  & Sample\\_Name & Group\\\\\n",
       "  & <chr> & <chr>\\\\\n",
       "\\hline\n",
       "\t1 & 100120 & \"SEVERE\"\\\\\n",
       "\t2 & 100165 & \"MILD\"  \\\\\n",
       "\t3 & 101417 & \"MILD\"  \\\\\n",
       "\t4 & 101573 & \"SEVERE\"\\\\\n",
       "\t5 & 103811 & \"MILD\"  \\\\\n",
       "\t6 & 104111 & \"SEVERE\"\\\\\n",
       "\\end{tabular}\n"
      ],
      "text/markdown": [
       "\n",
       "A data.frame: 6 × 2\n",
       "\n",
       "| <!--/--> | Sample_Name &lt;chr&gt; | Group &lt;chr&gt; |\n",
       "|---|---|---|\n",
       "| 1 | 100120 | \"SEVERE\" |\n",
       "| 2 | 100165 | \"MILD\"   |\n",
       "| 3 | 101417 | \"MILD\"   |\n",
       "| 4 | 101573 | \"SEVERE\" |\n",
       "| 5 | 103811 | \"MILD\"   |\n",
       "| 6 | 104111 | \"SEVERE\" |\n",
       "\n"
      ],
      "text/plain": [
       "  Sample_Name Group   \n",
       "1 100120      \"SEVERE\"\n",
       "2 100165      \"MILD\"  \n",
       "3 101417      \"MILD\"  \n",
       "4 101573      \"SEVERE\"\n",
       "5 103811      \"MILD\"  \n",
       "6 104111      \"SEVERE\""
      ]
     },
     "metadata": {},
     "output_type": "display_data"
    }
   ],
   "source": [
    "sample_info<-cbind(colnames(GSE179325[, -1]),disease_states)\n",
    "colnames(sample_info)<- c(\"Sample_Name\",\"Group\")\n",
    "sample_info<- as.data.frame(sample_info)"
   ]
  },
  {
   "cell_type": "markdown",
   "id": "fa1a7604",
   "metadata": {},
   "source": [
    "**Data distribution visualisation**"
   ]
  },
  {
   "cell_type": "code",
   "execution_count": 23,
   "id": "5a6b5ff7-7f91-48a8-b8f2-df40b225f598",
   "metadata": {
    "jupyter": {
     "source_hidden": true
    },
    "vscode": {
     "languageId": "r"
    }
   },
   "outputs": [
    {
     "data": {
      "text/html": [
       "<strong>png:</strong> 2"
      ],
      "text/latex": [
       "\\textbf{png:} 2"
      ],
      "text/markdown": [
       "**png:** 2"
      ],
      "text/plain": [
       "png \n",
       "  2 "
      ]
     },
     "metadata": {},
     "output_type": "display_data"
    }
   ],
   "source": [
    "#beta value distribution plot\n",
    "pdf(\"beta_values_325.pdf\", width = 7, height = 7)  \n",
    "beta_values <- as.matrix(GSE179325[, -1])\n",
    "unique_groups <- unique(sample_info$Group)\n",
    "num_groups <- length(unique_groups)\n",
    "colors <- brewer.pal(max(3, num_groups), \"Dark2\") \n",
    "par(mfrow = c(1, 1))\n",
    "plot(NULL, xlim = range(beta_values, na.rm = TRUE), ylim = c(0, 6), \n",
    "     main = \"Beta-Values Distribution\", xlab = \"Beta-Value\", ylab = \"Density\")\n",
    "for (i in seq_along(unique_groups)) { group <- unique_groups[i]\n",
    "  group_beta_values <- beta_values[, sample_info$Group == group]  \n",
    "  density_curve <- density(as.vector(group_beta_values), na.rm = TRUE)  \n",
    "  lines(density_curve, col = colors[i], lwd = 2) }\n",
    "legend(\"topright\", legend = unique_groups, col = colors[1:num_groups], \n",
    "       lwd = 2, box.lwd = 0, cex = 0.8)\n",
    "grid()\n",
    "dev.off()\n",
    "\n",
    "#M value distribution plot\n",
    "pdf(\"m_values_325.pdf\", width = 7, height = 7)\n",
    "m_values[m_values == Inf | m_values == -Inf] <- NA\n",
    "plot(NULL, xlim = range(m_values, na.rm = TRUE), ylim = c(0, 0.4), \n",
    "     main = \"M-Values Distribution\", xlab = \"M-Value\", ylab = \"Density\")\n",
    "for (i in seq_along(unique_groups)) {\n",
    "  group <- unique_groups[i]\n",
    "  group_m_values <- m_values[, sample_info$Group == group]\n",
    "  density_curve <- density(as.vector(group_m_values), na.rm = TRUE)\n",
    "  lines(density_curve, col = colors[i], lwd = 2)}\n",
    "legend(\"topright\", legend = unique_groups, col = colors[1:num_groups], \n",
    "       lwd = 2, box.lwd = 0, cex = 0.8)\n",
    "grid()\n",
    "dev.off()"
   ]
  },
  {
   "cell_type": "markdown",
   "id": "11ff62d6",
   "metadata": {},
   "source": [
    "**Making design matrix**"
   ]
  },
  {
   "cell_type": "code",
   "execution_count": 17,
   "id": "0dddf287-89b9-4e13-9da6-27c177b7fc2b",
   "metadata": {
    "tags": [],
    "vscode": {
     "languageId": "r"
    }
   },
   "outputs": [
    {
     "name": "stdout",
     "output_type": "stream",
     "text": [
      "  NEGATIVE MILD SEVERE\n",
      "1        0    0      1\n",
      "2        0    1      0\n",
      "3        0    1      0\n",
      "4        0    0      1\n",
      "5        0    1      0\n",
      "6        0    0      1\n",
      "[1] 574   3\n"
     ]
    },
    {
     "data": {
      "text/html": [
       "<table class=\"dataframe\">\n",
       "<caption>A matrix: 3 × 2 of type dbl</caption>\n",
       "<thead>\n",
       "\t<tr><th></th><th scope=col>SEVEREvsNEGATIVE</th><th scope=col>SEVEREvsMILD</th></tr>\n",
       "</thead>\n",
       "<tbody>\n",
       "\t<tr><th scope=row>NEGATIVE</th><td>-1</td><td> 0</td></tr>\n",
       "\t<tr><th scope=row>MILD</th><td> 0</td><td>-1</td></tr>\n",
       "\t<tr><th scope=row>SEVERE</th><td> 1</td><td> 1</td></tr>\n",
       "</tbody>\n",
       "</table>\n"
      ],
      "text/latex": [
       "A matrix: 3 × 2 of type dbl\n",
       "\\begin{tabular}{r|ll}\n",
       "  & SEVEREvsNEGATIVE & SEVEREvsMILD\\\\\n",
       "\\hline\n",
       "\tNEGATIVE & -1 &  0\\\\\n",
       "\tMILD &  0 & -1\\\\\n",
       "\tSEVERE &  1 &  1\\\\\n",
       "\\end{tabular}\n"
      ],
      "text/markdown": [
       "\n",
       "A matrix: 3 × 2 of type dbl\n",
       "\n",
       "| <!--/--> | SEVEREvsNEGATIVE | SEVEREvsMILD |\n",
       "|---|---|---|\n",
       "| NEGATIVE | -1 |  0 |\n",
       "| MILD |  0 | -1 |\n",
       "| SEVERE |  1 |  1 |\n",
       "\n"
      ],
      "text/plain": [
       "          Contrasts\n",
       "Levels     SEVEREvsNEGATIVE SEVEREvsMILD\n",
       "  NEGATIVE -1                0          \n",
       "  MILD      0               -1          \n",
       "  SEVERE    1                1          "
      ]
     },
     "metadata": {},
     "output_type": "display_data"
    }
   ],
   "source": [
    "disease_states_clean <- gsub('^\"|\"$', '', disease_states)\n",
    "disease_states_factor <- factor(disease_states_clean, levels = c(\"NEGATIVE\", \"MILD\", \"SEVERE\"))\n",
    "design <- model.matrix(~ 0 + disease_states_factor)\n",
    "colnames(design) <- levels(disease_states_factor)\n",
    "print(head(design))\n",
    "print(dim(design)) # Should be 574 x 3\n",
    "\n",
    "# contrasts\n",
    "contrast_matrix <- makeContrasts(\n",
    "    SEVEREvsNEGATIVE = SEVERE - NEGATIVE,\n",
    "    SEVEREvsMILD = SEVERE - MILD,\n",
    "    levels = design)\n",
    "contrast_matrix"
   ]
  },
  {
   "cell_type": "markdown",
   "id": "18a2613f",
   "metadata": {},
   "source": [
    "**Finding DMPs**"
   ]
  },
  {
   "cell_type": "code",
   "execution_count": 18,
   "id": "9393be38-4323-4218-b1f1-5175fe52bdd9",
   "metadata": {
    "vscode": {
     "languageId": "r"
    }
   },
   "outputs": [],
   "source": [
    "# DMP with limma _ Fitting linear model\n",
    "fit <- lmFit(m_values, design)\n",
    "fit <- contrasts.fit(fit, contrast_matrix)\n",
    "fit <- eBayes(fit)\n",
    "\n",
    "# DMPs for each contrast\n",
    "contrasts <- colnames(contrast_matrix)\n",
    "dmp_list <- list()\n",
    "\n",
    "for (contrast in contrasts) {\n",
    "  dmp <- topTable(fit, coef = contrast, number = Inf, adjust.method = \"fdr\")\n",
    "  dmp_list[[contrast]] <- dmp\n",
    "  write.csv(dmp, file = paste0(\"DMPs_\", contrast, \".csv\"))\n",
    "}\n"
   ]
  },
  {
   "cell_type": "markdown",
   "id": "2e0d59f4",
   "metadata": {},
   "source": [
    "**Finding DMRs**"
   ]
  },
  {
   "cell_type": "code",
   "execution_count": null,
   "id": "fbc3d00a-8140-4ef9-8b8d-2fed578407c0",
   "metadata": {
    "vscode": {
     "languageId": "r"
    }
   },
   "outputs": [],
   "source": [
    "\n",
    "# DMRs with DMRcate\n",
    "m_values <- as.matrix(m_values)\n",
    "my_annotation <- cpg.annotate(\n",
    "  object = m_values,\n",
    "  datatype = \"array\",\n",
    "    what = \"M\", \n",
    "  analysis.type = \"differential\",\n",
    "  design = design,\n",
    "  contrasts = TRUE,\n",
    "  coef = colnames(contrast_matrix),\n",
    "    arraytype = \"EPICv1\",\n",
    "    anno = anno)\n",
    "\n",
    "# DMRs for each contrast\n",
    "dmr_results <- list()\n",
    "for (contrast in contrasts) {\n",
    "  dmrcoutput <- dmrcate(\n",
    "    my_annotation,\n",
    "    lambda = 500,  # Bandwidth for smoothing\n",
    "    C = 2,          # Scaling factor\n",
    "    cutoff = 0.05   # FDR cutoff\n",
    "  )\n",
    "  dmr_results[[contrast]] <- dmrcoutput\n",
    "  write.csv(dmrcoutput$results, file = paste0(\"DMRs_\", contrast, \".csv\"))\n",
    "}"
   ]
  },
  {
   "cell_type": "markdown",
   "id": "baf1aa10",
   "metadata": {},
   "source": [
    "**Extracting DMPs within Each DMR**"
   ]
  },
  {
   "cell_type": "code",
   "execution_count": null,
   "id": "6ddd8288-6e5b-45aa-84fc-9c66a1609264",
   "metadata": {
    "vscode": {
     "languageId": "r"
    }
   },
   "outputs": [],
   "source": [
    "# Extract DMPs within Each DMR\n",
    "anno <- getAnnotation(IlluminaHumanMethylationEPICanno.ilm10b4.hg19)\n",
    "for (contrast in contrasts) {\n",
    "  dmrs <- dmr_results[[contrast]]$results\n",
    "  dmr_granges <- extractRanges(dmrs, genome = \"hg19\")\n",
    "  dmps <- dmp_list[[contrast]]\n",
    "  # Add genomic coordinates to DMPs\n",
    "  dmps_anno <- merge(dmps, anno, by.x = \"row.names\", by.y = \"Name\")\n",
    "  dmps_granges <- GRanges(\n",
    "    seqnames = dmps_anno$chr,\n",
    "    ranges = IRanges(start = dmps_anno$pos, end = dmps_anno$pos),\n",
    "    probe = dmps_anno$Row.names\n",
    "  )\n",
    "  \n",
    "  # Find overlaps between DMRs and DMPs\n",
    "  overlaps <- findOverlaps(dmr_granges, dmps_granges)\n",
    "  \n",
    "  # Save DMPs in each DMR to a folder\n",
    "  dir.create(paste0(\"DMR_DMPs_\", contrast), showWarnings = FALSE)\n",
    "  for (i in 1:length(dmr_granges)) {\n",
    "    dmr_name <- paste0(\"DMR_\", i, \"_\", contrast)\n",
    "    overlapping_dmps <- dmps_granges[subjectHits(overlaps[queryHits(overlaps) == i])]\n",
    "    dmps_in_dmr <- dmps[dmps$Row.names %in% overlapping_dmps$probe, ]\n",
    "    write.csv(\n",
    "      dmps_in_dmr,\n",
    "      file = paste0(\"DMR_DMPs_\", contrast, \"/\", dmr_name, \".csv\")\n",
    "    )\n",
    "  }\n",
    "}"
   ]
  },
  {
   "cell_type": "code",
   "execution_count": 10,
   "id": "dd9903b6-069a-438c-8a9f-d570aff10a67",
   "metadata": {
    "vscode": {
     "languageId": "r"
    }
   },
   "outputs": [
    {
     "data": {
      "text/html": [
       "<table class=\"dataframe\">\n",
       "<caption>A data.frame: 6 × 13</caption>\n",
       "<thead>\n",
       "\t<tr><th></th><th scope=col>seqnames</th><th scope=col>start</th><th scope=col>end</th><th scope=col>width</th><th scope=col>strand</th><th scope=col>no.cpgs</th><th scope=col>min_smoothed_fdr</th><th scope=col>Stouffer</th><th scope=col>HMFDR</th><th scope=col>Fisher</th><th scope=col>maxdiff</th><th scope=col>meandiff</th><th scope=col>overlapping.genes</th></tr>\n",
       "\t<tr><th></th><th scope=col>&lt;fct&gt;</th><th scope=col>&lt;int&gt;</th><th scope=col>&lt;int&gt;</th><th scope=col>&lt;int&gt;</th><th scope=col>&lt;fct&gt;</th><th scope=col>&lt;int&gt;</th><th scope=col>&lt;dbl&gt;</th><th scope=col>&lt;dbl&gt;</th><th scope=col>&lt;dbl&gt;</th><th scope=col>&lt;dbl&gt;</th><th scope=col>&lt;dbl&gt;</th><th scope=col>&lt;dbl&gt;</th><th scope=col>&lt;chr&gt;</th></tr>\n",
       "</thead>\n",
       "<tbody>\n",
       "\t<tr><th scope=row>1</th><td>chr6 </td><td>33215649</td><td>33217620</td><td>1972</td><td>*</td><td>42</td><td>1.157070e-61</td><td>2.416668e-52</td><td>6.529396e-10</td><td> 3.321647e-79</td><td>-0.09887968</td><td>-0.0044655459</td><td>HCG25           </td></tr>\n",
       "\t<tr><th scope=row>2</th><td>chr6 </td><td>31695415</td><td>31698899</td><td>3485</td><td>*</td><td>68</td><td>2.694147e-58</td><td>5.883650e-82</td><td>5.433656e-10</td><td>8.094708e-110</td><td>-0.11498157</td><td>-0.0027726130</td><td>DDAH2, CLIC1    </td></tr>\n",
       "\t<tr><th scope=row>3</th><td>chr6 </td><td>33385056</td><td>33387205</td><td>2150</td><td>*</td><td>56</td><td>1.351952e-57</td><td>3.763078e-47</td><td>5.831644e-10</td><td> 1.540231e-69</td><td> 0.07737654</td><td> 0.0033838782</td><td>CUTA            </td></tr>\n",
       "\t<tr><th scope=row>4</th><td>chr17</td><td> 3539439</td><td> 3540594</td><td>1156</td><td>*</td><td>19</td><td>1.430323e-55</td><td>1.305430e-29</td><td>2.304661e-11</td><td> 1.893678e-41</td><td>-0.12629947</td><td>-0.0051858657</td><td>SHPK, SHPK, CTNS</td></tr>\n",
       "\t<tr><th scope=row>5</th><td>chr6 </td><td>29854631</td><td>29856938</td><td>2308</td><td>*</td><td>45</td><td>6.466200e-54</td><td>3.763759e-70</td><td>8.291570e-10</td><td> 1.778023e-86</td><td>-0.11848446</td><td> 0.0004962253</td><td>HCG4P7, HLA-H   </td></tr>\n",
       "\t<tr><th scope=row>6</th><td>chr6 </td><td>32804435</td><td>32807374</td><td>2940</td><td>*</td><td>42</td><td>5.859055e-53</td><td>1.470068e-70</td><td>1.861365e-11</td><td> 1.612606e-90</td><td> 0.07981323</td><td> 0.0048094082</td><td>TAP2, TAP2      </td></tr>\n",
       "</tbody>\n",
       "</table>\n"
      ],
      "text/latex": [
       "A data.frame: 6 × 13\n",
       "\\begin{tabular}{r|lllllllllllll}\n",
       "  & seqnames & start & end & width & strand & no.cpgs & min\\_smoothed\\_fdr & Stouffer & HMFDR & Fisher & maxdiff & meandiff & overlapping.genes\\\\\n",
       "  & <fct> & <int> & <int> & <int> & <fct> & <int> & <dbl> & <dbl> & <dbl> & <dbl> & <dbl> & <dbl> & <chr>\\\\\n",
       "\\hline\n",
       "\t1 & chr6  & 33215649 & 33217620 & 1972 & * & 42 & 1.157070e-61 & 2.416668e-52 & 6.529396e-10 &  3.321647e-79 & -0.09887968 & -0.0044655459 & HCG25           \\\\\n",
       "\t2 & chr6  & 31695415 & 31698899 & 3485 & * & 68 & 2.694147e-58 & 5.883650e-82 & 5.433656e-10 & 8.094708e-110 & -0.11498157 & -0.0027726130 & DDAH2, CLIC1    \\\\\n",
       "\t3 & chr6  & 33385056 & 33387205 & 2150 & * & 56 & 1.351952e-57 & 3.763078e-47 & 5.831644e-10 &  1.540231e-69 &  0.07737654 &  0.0033838782 & CUTA            \\\\\n",
       "\t4 & chr17 &  3539439 &  3540594 & 1156 & * & 19 & 1.430323e-55 & 1.305430e-29 & 2.304661e-11 &  1.893678e-41 & -0.12629947 & -0.0051858657 & SHPK, SHPK, CTNS\\\\\n",
       "\t5 & chr6  & 29854631 & 29856938 & 2308 & * & 45 & 6.466200e-54 & 3.763759e-70 & 8.291570e-10 &  1.778023e-86 & -0.11848446 &  0.0004962253 & HCG4P7, HLA-H   \\\\\n",
       "\t6 & chr6  & 32804435 & 32807374 & 2940 & * & 42 & 5.859055e-53 & 1.470068e-70 & 1.861365e-11 &  1.612606e-90 &  0.07981323 &  0.0048094082 & TAP2, TAP2      \\\\\n",
       "\\end{tabular}\n"
      ],
      "text/markdown": [
       "\n",
       "A data.frame: 6 × 13\n",
       "\n",
       "| <!--/--> | seqnames &lt;fct&gt; | start &lt;int&gt; | end &lt;int&gt; | width &lt;int&gt; | strand &lt;fct&gt; | no.cpgs &lt;int&gt; | min_smoothed_fdr &lt;dbl&gt; | Stouffer &lt;dbl&gt; | HMFDR &lt;dbl&gt; | Fisher &lt;dbl&gt; | maxdiff &lt;dbl&gt; | meandiff &lt;dbl&gt; | overlapping.genes &lt;chr&gt; |\n",
       "|---|---|---|---|---|---|---|---|---|---|---|---|---|---|\n",
       "| 1 | chr6  | 33215649 | 33217620 | 1972 | * | 42 | 1.157070e-61 | 2.416668e-52 | 6.529396e-10 |  3.321647e-79 | -0.09887968 | -0.0044655459 | HCG25            |\n",
       "| 2 | chr6  | 31695415 | 31698899 | 3485 | * | 68 | 2.694147e-58 | 5.883650e-82 | 5.433656e-10 | 8.094708e-110 | -0.11498157 | -0.0027726130 | DDAH2, CLIC1     |\n",
       "| 3 | chr6  | 33385056 | 33387205 | 2150 | * | 56 | 1.351952e-57 | 3.763078e-47 | 5.831644e-10 |  1.540231e-69 |  0.07737654 |  0.0033838782 | CUTA             |\n",
       "| 4 | chr17 |  3539439 |  3540594 | 1156 | * | 19 | 1.430323e-55 | 1.305430e-29 | 2.304661e-11 |  1.893678e-41 | -0.12629947 | -0.0051858657 | SHPK, SHPK, CTNS |\n",
       "| 5 | chr6  | 29854631 | 29856938 | 2308 | * | 45 | 6.466200e-54 | 3.763759e-70 | 8.291570e-10 |  1.778023e-86 | -0.11848446 |  0.0004962253 | HCG4P7, HLA-H    |\n",
       "| 6 | chr6  | 32804435 | 32807374 | 2940 | * | 42 | 5.859055e-53 | 1.470068e-70 | 1.861365e-11 |  1.612606e-90 |  0.07981323 |  0.0048094082 | TAP2, TAP2       |\n",
       "\n"
      ],
      "text/plain": [
       "  seqnames start    end      width strand no.cpgs min_smoothed_fdr Stouffer    \n",
       "1 chr6     33215649 33217620 1972  *      42      1.157070e-61     2.416668e-52\n",
       "2 chr6     31695415 31698899 3485  *      68      2.694147e-58     5.883650e-82\n",
       "3 chr6     33385056 33387205 2150  *      56      1.351952e-57     3.763078e-47\n",
       "4 chr17     3539439  3540594 1156  *      19      1.430323e-55     1.305430e-29\n",
       "5 chr6     29854631 29856938 2308  *      45      6.466200e-54     3.763759e-70\n",
       "6 chr6     32804435 32807374 2940  *      42      5.859055e-53     1.470068e-70\n",
       "  HMFDR        Fisher        maxdiff     meandiff      overlapping.genes\n",
       "1 6.529396e-10  3.321647e-79 -0.09887968 -0.0044655459 HCG25            \n",
       "2 5.433656e-10 8.094708e-110 -0.11498157 -0.0027726130 DDAH2, CLIC1     \n",
       "3 5.831644e-10  1.540231e-69  0.07737654  0.0033838782 CUTA             \n",
       "4 2.304661e-11  1.893678e-41 -0.12629947 -0.0051858657 SHPK, SHPK, CTNS \n",
       "5 8.291570e-10  1.778023e-86 -0.11848446  0.0004962253 HCG4P7, HLA-H    \n",
       "6 1.861365e-11  1.612606e-90  0.07981323  0.0048094082 TAP2, TAP2       "
      ]
     },
     "metadata": {},
     "output_type": "display_data"
    }
   ],
   "source": [
    "# results uploaded\n",
    "#severe vs healthy samples DMRcate results\n",
    "SN_325<-data.frame(readRDS(\"path\"))\n",
    "#severe vs mild samples DMRcate results\n",
    "SM_325<-data.frame(readRDS(\"path\"))\n",
    "head(SN_325)"
   ]
  },
  {
   "cell_type": "code",
   "execution_count": null,
   "id": "0c9688d2-4420-4616-af9d-5cc0a6e0045f",
   "metadata": {
    "vscode": {
     "languageId": "r"
    }
   },
   "outputs": [],
   "source": [
    "#SEVEREvsNEGATIVE\n",
    "library(IlluminaHumanMethylationEPICanno.ilm10b4.hg19)\n",
    "# Load annotation data\n",
    "anno <- getAnnotation(IlluminaHumanMethylationEPICanno.ilm10b4.hg19)\n",
    "m_values <- as.matrix(m_values)\n",
    "annot <- cpg.annotate(\n",
    "    object = m_values, \n",
    "    datatype = \"array\", \n",
    "    what = \"M\", \n",
    "    analysis.type = \"differential\", \n",
    "    design = design, \n",
    "    contrasts = TRUE, \n",
    "    cont.matrix = contrast_matrix, \n",
    "    coef = \"SEVEREvsNEGATIVE\", \n",
    "    arraytype = \"EPICv1\",\n",
    "    anno = anno)\n",
    "\n",
    "# Run DMRcate\n",
    "dmrs_SN <- dmrcate(annot, lambda=500, C=2)\n",
    "results_ranges_SN <- extractRanges(dmrs_SN)\n",
    "results_ranges_SN\n",
    "#saveRDS(results_ranges_SN, file = \"results_ranges_SN.rds\")"
   ]
  },
  {
   "cell_type": "code",
   "execution_count": 43,
   "id": "86504c93-2664-4a88-ac63-8671e1e01956",
   "metadata": {
    "vscode": {
     "languageId": "r"
    }
   },
   "outputs": [
    {
     "name": "stderr",
     "output_type": "stream",
     "text": [
      "Your contrast returned 247961 individually significant probes. We recommend the default setting of pcutoff in dmrcate().\n",
      "\n",
      "Warning message in S4Vectors:::normarg_mcols(mcols, Class, ans_len):\n",
      "\"You supplied metadata columns of length 768067 to set on an object of\n",
      "  length 865859. However please note that the latter is not a multiple of\n",
      "  the former.\"\n",
      "Fitting chr1...\n",
      "\n",
      "Fitting chr2...\n",
      "\n",
      "Fitting chr3...\n",
      "\n",
      "Fitting chr4...\n",
      "\n",
      "Fitting chr5...\n",
      "\n",
      "Fitting chr6...\n",
      "\n",
      "Fitting chr7...\n",
      "\n",
      "Fitting chr8...\n",
      "\n",
      "Fitting chr9...\n",
      "\n",
      "Fitting chr10...\n",
      "\n",
      "Fitting chr11...\n",
      "\n",
      "Fitting chr12...\n",
      "\n",
      "Fitting chr13...\n",
      "\n",
      "Fitting chr14...\n",
      "\n",
      "Fitting chr15...\n",
      "\n",
      "Fitting chr16...\n",
      "\n",
      "Fitting chr17...\n",
      "\n",
      "Fitting chr18...\n",
      "\n",
      "Fitting chr19...\n",
      "\n",
      "Fitting chr20...\n",
      "\n",
      "Fitting chr21...\n",
      "\n",
      "Fitting chr22...\n",
      "\n",
      "Fitting chrX...\n",
      "\n",
      "Fitting chrY...\n",
      "\n",
      "Demarcating regions...\n",
      "\n",
      "Done!\n",
      "\n",
      "DMRcatedata not installed.\n",
      "  Full functionality, documentation, and loading of data might not be possible without installing\n",
      "\n",
      "loading from cache\n",
      "\n"
     ]
    },
    {
     "data": {
      "text/plain": [
       "GRanges object with 44061 ranges and 8 metadata columns:\n",
       "          seqnames              ranges strand |   no.cpgs min_smoothed_fdr\n",
       "             <Rle>           <IRanges>  <Rle> | <integer>        <numeric>\n",
       "      [1]     chr6   29854740-29856938      * |        44      1.39106e-73\n",
       "      [2]     chr6   31695970-31698698      * |        62      1.76047e-71\n",
       "      [3]     chr6   33215649-33217620      * |        42      1.28692e-62\n",
       "      [4]     chr6   32805142-32807374      * |        38      1.23415e-61\n",
       "      [5]     chr6   32935354-32942808      * |       126      1.38635e-60\n",
       "      ...      ...                 ...    ... .       ...              ...\n",
       "  [44057]     chrX   16860753-16860764      * |         2      3.21186e-05\n",
       "  [44058]     chr7     6120483-6120572      * |         4      3.22971e-05\n",
       "  [44059]     chr3 100401270-100401284      * |         2      3.25085e-05\n",
       "  [44060]     chr9 129885080-129885084      * |         2      3.25276e-05\n",
       "  [44061]     chr7   54406974-54407004      * |         2      3.25389e-05\n",
       "             Stouffer       HMFDR       Fisher     maxdiff     meandiff\n",
       "            <numeric>   <numeric>    <numeric>   <numeric>    <numeric>\n",
       "      [1] 2.66387e-54 1.49174e-13  2.59107e-89  -0.1065872 -0.000266681\n",
       "      [2] 3.09805e-46 2.33819e-13  1.09677e-87  -0.1070945 -0.004390579\n",
       "      [3] 1.03034e-46 9.25024e-14  1.32947e-81  -0.0917135 -0.005536615\n",
       "      [4] 1.79811e-53 9.71807e-15  2.55647e-84   0.0715987  0.002215014\n",
       "      [5] 1.34781e-52 5.20560e-12 8.66501e-104  -0.0586581  0.001330388\n",
       "      ...         ...         ...          ...         ...          ...\n",
       "  [44057] 2.90178e-03 1.42186e-05  5.70694e-05  0.00780116   0.00441078\n",
       "  [44058] 8.15457e-05 4.12941e-04  3.31632e-05 -0.01979497  -0.00316384\n",
       "  [44059] 4.99230e-05 4.41050e-04  6.42936e-05  0.00823004   0.00748877\n",
       "  [44060] 1.41277e-04 1.86787e-06  4.48845e-06 -0.07144880  -0.03506295\n",
       "  [44061] 1.52140e-03 1.95777e-05  6.32059e-05 -0.01188106  -0.00575357\n",
       "               overlapping.genes\n",
       "                     <character>\n",
       "      [1]          HLA-H, HCG4P7\n",
       "      [2]           DDAH2, CLIC1\n",
       "      [3]                  HCG25\n",
       "      [4]             TAP2, TAP2\n",
       "      [5] BRD2, BRD2-IT1, HLA-..\n",
       "      ...                    ...\n",
       "  [44057]           TXLNG, RBBP7\n",
       "  [44058]                   <NA>\n",
       "  [44059]                 GPR128\n",
       "  [44060]       RALGPS1, ANGPTL2\n",
       "  [44061]           RP11-436F9.1\n",
       "  -------\n",
       "  seqinfo: 24 sequences from an unspecified genome; no seqlengths"
      ]
     },
     "metadata": {},
     "output_type": "display_data"
    }
   ],
   "source": [
    "#SEVEREvsMILD\n",
    "# Load annotation data\n",
    "anno <- getAnnotation(IlluminaHumanMethylationEPICanno.ilm10b4.hg19)\n",
    "\n",
    "m_values <- as.matrix(m_values)\n",
    "annot <- cpg.annotate(\n",
    "    object = m_values, \n",
    "    datatype = \"array\", \n",
    "    what = \"M\", \n",
    "    analysis.type = \"differential\", \n",
    "    design = design, \n",
    "    contrasts = TRUE, \n",
    "    cont.matrix = contrast_matrix, \n",
    "    coef = \"SEVEREvsMILD\",  # or \"SEVEREvsNEGATIVE\"\n",
    "    arraytype = \"EPICv1\",\n",
    "    anno = anno)\n",
    "\n",
    "# Run DMRcate\n",
    "dmrs <- dmrcate(annot, lambda=500, C=2)\n",
    "# Extract and view results\n",
    "results_ranges <- extractRanges(dmrs)\n",
    "results_ranges\n",
    "#saveRDS(results_ranges, file = \"results_ranges.rds\")"
   ]
  }
 ],
 "metadata": {
  "kernelspec": {
   "display_name": "R",
   "language": "R",
   "name": "ir"
  },
  "language_info": {
   "codemirror_mode": "r",
   "file_extension": ".r",
   "mimetype": "text/x-r-source",
   "name": "R",
   "pygments_lexer": "r",
   "version": "4.3.1"
  }
 },
 "nbformat": 4,
 "nbformat_minor": 5
}
